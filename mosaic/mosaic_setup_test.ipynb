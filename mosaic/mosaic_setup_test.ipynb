{
 "cells": [
  {
   "cell_type": "code",
   "execution_count": 17,
   "id": "c435f75e",
   "metadata": {},
   "outputs": [],
   "source": [
    "# install.packages(c(\"doParallel\", \"foreach\", \"ff\", \"combinat\", \"LaF\", \"maps\", \"bit\"))\n",
    "# install.packages(\"mosaic-master.tar.gz\")"
   ]
  },
  {
   "cell_type": "code",
   "execution_count": 1,
   "id": "b9d6f3e9",
   "metadata": {},
   "outputs": [
    {
     "name": "stderr",
     "output_type": "stream",
     "text": [
      "Loading required package: MOSAIC\n",
      "\n"
     ]
    }
   ],
   "source": [
    "require(MOSAIC)"
   ]
  },
  {
   "cell_type": "code",
   "execution_count": null,
   "id": "e247a7f5",
   "metadata": {},
   "outputs": [],
   "source": []
  }
 ],
 "metadata": {
  "kernelspec": {
   "display_name": "R",
   "language": "R",
   "name": "ir"
  },
  "language_info": {
   "codemirror_mode": "r",
   "file_extension": ".r",
   "mimetype": "text/x-r-source",
   "name": "R",
   "pygments_lexer": "r",
   "version": "4.2.2"
  }
 },
 "nbformat": 4,
 "nbformat_minor": 5
}
