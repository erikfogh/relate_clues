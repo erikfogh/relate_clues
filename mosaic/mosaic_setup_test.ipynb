{
 "cells": [
  {
   "cell_type": "code",
   "execution_count": 6,
   "id": "c435f75e",
   "metadata": {},
   "outputs": [
    {
     "name": "stderr",
     "output_type": "stream",
     "text": [
      "inferring 'repos = NULL' from 'pkgs'\n",
      "\n",
      "Warning message in install.packages(\"mosaic-master.tar.gz\"):\n",
      "“installation of package ‘mosaic-master.tar.gz’ had non-zero exit status”\n"
     ]
    }
   ],
   "source": [
    "install.packages(\"mosaic-master.tar.gz\")"
   ]
  },
  {
   "cell_type": "code",
   "execution_count": 7,
   "id": "e60a56a8",
   "metadata": {},
   "outputs": [
    {
     "name": "stderr",
     "output_type": "stream",
     "text": [
      "Loading required package: MOSAIC\n",
      "\n",
      "Warning message in library(package, lib.loc = lib.loc, character.only = TRUE, logical.return = TRUE, :\n",
      "“there is no package called ‘MOSAIC’”\n",
      "Warning message:\n",
      "“vignette ‘MOSAIC’ not found”\n"
     ]
    }
   ],
   "source": [
    "require(\"MOSAIC\")\n",
    "vignette(\"MOSAIC\")"
   ]
  }
 ],
 "metadata": {
  "kernelspec": {
   "display_name": "R",
   "language": "R",
   "name": "ir"
  },
  "language_info": {
   "codemirror_mode": "r",
   "file_extension": ".r",
   "mimetype": "text/x-r-source",
   "name": "R",
   "pygments_lexer": "r",
   "version": "4.2.2"
  }
 },
 "nbformat": 4,
 "nbformat_minor": 5
}
