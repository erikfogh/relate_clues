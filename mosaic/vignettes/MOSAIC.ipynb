{
 "cells": [
  {
   "cell_type": "markdown",
   "id": "10ff8e96",
   "metadata": {},
   "source": [
    "---\n",
    "title: \"MOSAIC\"\n",
    "author: \"Michael Salter-Townshend\"\n",
    "date: \"`r Sys.Date()`\"\n",
    "output: pdf_document\n",
    "fig_caption: yes\n",
    "urlcolor: blue\n",
    "header-includes: \n",
    "- \\usepackage{float}\n",
    "vignette: >\n",
    "  %\\VignetteIndexEntry{MOSAIC}\n",
    "  %\\VignetteEngine{knitr::rmarkdown}\n",
    "  %\\VignetteEncoding{UTF-8}\n",
    "---"
   ]
  },
  {
   "cell_type": "code",
   "execution_count": null,
   "id": "e3691330",
   "metadata": {
    "attributes": {
     "": "",
     "classes": [],
     "id": ""
    }
   },
   "outputs": [],
   "source": [
    "knitr::opts_chunk$set(\n",
    "  collapse = TRUE,\n",
    "  comment = \"#>\"\n",
    ")"
   ]
  },
  {
   "cell_type": "code",
   "execution_count": null,
   "id": "2f4b3d10",
   "metadata": {
    "attributes": {
     "classes": [],
     "id": "",
     "include": "FALSE"
    }
   },
   "outputs": [],
   "source": [
    "knitr::opts_chunk$set(fig.pos = \"H\")"
   ]
  },
  {
   "cell_type": "markdown",
   "id": "ff770c52",
   "metadata": {},
   "source": [
    "# MOSAIC Organises Segments of Ancestry In Chromosomes\n",
    "## Reference \n",
    "_Fine-Scale Inference of Ancestry Segments Without Prior Knowledge of Admixing Groups_ Salter-Townshend, M. and Myers, S.R. \n",
    "    **Genetics** (2019): [10.1534/genetics.119.302139](https://doi.org/10.1534/genetics.119.302139)\n",
    "\n",
    "For a result browser on $95$ human populations see <https://maths.ucd.ie/~mst/MOSAIC/HGDP_browser/>. \n",
    "\n",
    "## Overview \n",
    "MOSAIC is a tool for modelling multiway admixture using dense genotype data. \n",
    "Given a set of potentially admixed haplotypes (targets) and multiple labelled sets of potentially related haplotypes (panels), \n",
    "MOSAIC will infer the most recent admixture events occurring in the targets in terms of the panels.\n",
    "\n",
    "**It is not necessary that any of the panels are good direct surrogates for the unseen mixing populations** as MOSAIC will infer parameters controlling:\n",
    "\n",
    "* Recombination rates before and after admixture ($\\rho$ and $\\Pi$ respectively). \n",
    "\n",
    "* The stochastic relationship between panels and ancestral populations ($\\mu$). \n",
    "   \n",
    "* Timings (from coancestry curves) and ancestry proportions ($\\alpha$) of the admixture events.\n",
    "\n",
    "* Mutation / error rates for the haplotypes ($\\theta$).\n",
    "\n",
    "Phasing improvements in light of the admixture model are performed and **local ancestry along the genome** is estimated.\n",
    "\n",
    "**Please read the README.txt packaged with MOSAIC for additional information.**\n",
    "\n",
    "## Inputs / Data\n",
    "The `example_data` folder packaged with MOSAIC contains example human data for chromosomes 18 to 22.\n",
    "\n",
    "**Examination of the files** in the `example_data` folder should make the format of each of the below clear.\n",
    "\n",
    "\n",
    "As inputs MOSAIC requires:\n",
    "\n",
    "- Phased haplotypes for reference panels and target (admixed) individuals (MOSAIC attempts to detect and correct phasing errors in targets): \n",
    "these should be named `pop.genofile.chr` where pop is the population (panel) name and chr is the chromosome index.  \n",
    "All entries should be $0,1,?$ indicating ref, alt, or missing entries respectively. The rows are \\#snps and the columns are \\#haps. \n",
    "**Note that there should be no spaces in these files.**\n",
    "\n",
    "- A population names file: `sample.names` format unimportant apart from first column should have all the population names.\n",
    "\n",
    "- SNP files: `snpfile.chr` with \\#snps rows and 6 columns comprising rsID, chr, distance, position, allele ?, allele ?. \n",
    "\n",
    "- Recombination rates files: `rates.chr` 3 rows of \\#sites, position, cumulative recombination rate (in centiMorgans). \n",
    "\n",
    "\n",
    "## Outputs / Results\n",
    "- A folder called `MOSAIC_RESULTS` is required to hold log-files (foo.out) and results (foo.RData).  \n",
    "\n",
    "- A folder called `MOSAIC_PLOTS` is required to hold the plots created by default by a MOSAIC run.\n",
    "\n",
    "- A folder called `FREQS` is required to hold the frequencies used to compute $F_{st}$ statistics if required.\n",
    "\n",
    "The above will be created on Linux systems as required if not present. \n",
    "\n",
    "## Parameters Inferred\n",
    "There are 4 sets of parameters inferred via EM:\n",
    "\n",
    "1. $\\Pi$: prob. of switching between latent ancestries, including switch to same anc; dimension $A\\times A$ where $A$ is the number of mixing groups.\n",
    "1. $\\rho$: prob. of switching haps within each ancestry; scalar.\n",
    "1. $\\mu$: copying matrix; $\\mu_{ia}$ is  the probability of a donor from group i given ancestry a; dimension $K\\times A$ where K is \\#donorpops. \n",
    "1. $\\theta$: prob. of a difference b/w copied and copying haps at a locus; scalar.\n",
    "\n",
    "See reference for details. \n",
    "\n",
    "# Simple Simulation Study\n",
    "The following demonstrates MOSAIC via a quick and simple simulation that takes about 5 minutes to run, \n",
    "involving 2-way admixture between English and Mandenkan genomes $30$ generations ago in approximately equal proportions\n",
    "on chromosomes $18$ to $22$. \n",
    "When the seed is set in *R* as below, identical results and plots should be obtained."
   ]
  },
  {
   "cell_type": "code",
   "execution_count": 1,
   "id": "b3258f6a",
   "metadata": {},
   "outputs": [
    {
     "name": "stderr",
     "output_type": "stream",
     "text": [
      "Loading required package: MOSAIC\n",
      "\n"
     ]
    }
   ],
   "source": [
    "require(MOSAIC)\n",
    "set.seed(123)"
   ]
  },
  {
   "cell_type": "markdown",
   "id": "e8bc98a8",
   "metadata": {},
   "source": [
    "To run the simulation and output default results and plots, run either:"
   ]
  },
  {
   "cell_type": "code",
   "execution_count": 2,
   "id": "d75a5f6a",
   "metadata": {
    "attributes": {
     "classes": [],
     "echo": "T",
     "eval": "F,",
     "id": ""
    }
   },
   "outputs": [],
   "source": [
    "# Rscript mosaic.R simulated example_data/ -c 18:22 -n 3 -p \"English Mandenka\" --gens 30"
   ]
  },
  {
   "cell_type": "markdown",
   "id": "addaf5cf",
   "metadata": {},
   "source": [
    "or equivalently in an interactive *R* session:"
   ]
  },
  {
   "cell_type": "code",
   "execution_count": 3,
   "id": "4d1b58b7",
   "metadata": {
    "attributes": {
     "classes": [],
     "echo": "T",
     "eval": "T,",
     "id": ""
    }
   },
   "outputs": [
    {
     "name": "stdout",
     "output_type": "stream",
     "text": [
      "using 32 cores\n",
      "Admixing 3 individuals from English and Mandenka genomes 30 generations ago\n",
      "creating admixed Chr 18\n",
      "mapping chr 18 to a grid...\n",
      "Finding number at each location on chr 18 ...\n",
      "Mapping true ancestry array for chr 18 to the grid\n",
      "creating admixed Chr 19\n",
      "mapping chr 19 to a grid...\n",
      "Finding number at each location on chr 19 ...\n",
      "Mapping true ancestry array for chr 19 to the grid\n",
      "creating admixed Chr 20\n",
      "mapping chr 20 to a grid...\n",
      "Finding number at each location on chr 20 ...\n",
      "Mapping true ancestry array for chr 20 to the grid\n",
      "creating admixed Chr 21\n",
      "mapping chr 21 to a grid...\n",
      "Finding number at each location on chr 21 ...\n",
      "Mapping true ancestry array for chr 21 to the grid\n",
      "creating admixed Chr 22\n",
      "mapping chr 22 to a grid...\n",
      "Finding number at each location on chr 22 ...\n",
      "Mapping true ancestry array for chr 22 to the grid\n",
      "\n",
      "Fitting model to 3 simulated 2-way admixed target individuals using 3 panels\n",
      "EM inference is  on  and re-phasing is  on \n",
      "Initialise parameters of MOSAIC based on ancestry unaware copying probabilities\n",
      "\n",
      "Fitting no-ancestry model\n",
      "2 %:  -70739.72 ( NaN ) \n",
      "4 %:  -70330.05 ( 409.6689 ) \n",
      "6 %:  -70112.55 ( 217.5004 ) \n",
      "8 %:  -70003.39 ( 109.161 ) \n",
      "10 %:  -69951.01 ( 52.37735 ) \n",
      "12 %:  -69926.59 ( 24.41881 ) \n",
      "14 %:  -69915.35 ( 11.24038 ) \n",
      "16 %:  -69910.17 ( 5.187935 ) \n",
      "18 %:  -69907.73 ( 2.437576 ) \n",
      "20 %:  -69906.54 ( 1.183465 ) \n",
      "22 %:  -69905.94 ( 0.6016791 ) \n",
      "24 %:  -69905.62 ( 0.3232508 ) \n",
      "26 %:  -69905.44 ( 0.1839838 ) \n",
      "28 %:  -69905.32 ( 0.1104629 ) \n",
      "30 %:  -69905.26 ( 0.06933981 ) \n",
      "32 %:  -69905.21 ( 0.04504064 ) \n",
      "34 %:  -69905.18 ( 0.02999608 ) \n",
      "36 %:  -69905.16 ( 0.02033609 ) \n",
      "38 %:  -69905.15 ( 0.01396591 ) \n",
      "40 %:  -69905.14 ( 0.009685168 ) \n",
      "EM iterations have converged\n",
      "\n",
      "Initialising copying matrix Mu; 30 gridpoints per 0.5 cM width window\n",
      "Fitting mixture model of switch counts in windows\n",
      "EM converged in mixture model for initialising copying matrix Mu\n",
      "thinning to at most 100 donors at each gridpoint\n",
      "######################## round  1 of  5 #######################\n",
      "10 %:  -69966.13 ( NaN ) \n",
      "20 %:  -69610.56 ( 355.5737 ) \n",
      "30 %:  -69428.91 ( 181.6457 ) \n",
      "40 %:  -69331.17 ( 97.74584 ) \n",
      "50 %:  -69276.45 ( 54.71852 ) \n",
      "60 %:  -69244.63 ( 31.81959 ) \n",
      "70 %:  -69225.44 ( 19.1825 ) \n",
      "80 %:  -69213.51 ( 11.93255 ) \n",
      "90 %:  -69205.9 ( 7.616496 ) \n",
      "100 %:  -69200.93 ( 4.962176 ) \n",
      "thinning to at most 100 donors at each gridpoint: log-likelihood -69200.93 -> -69188.04\n",
      "re-phasing... 1264  phase flips made after an average of  4.133333 hunts/ind/chromosome: log-likelihood -69188.04 ->  -67550.36 \n",
      "######################## round  2 of  5 #######################\n",
      "10 %:  -67510.36 ( 40.00323 ) \n",
      "20 %:  -67500.91 ( 9.449373 ) \n",
      "30 %:  -67497.68 ( 3.231248 ) \n",
      "40 %:  -67496.26 ( 1.416351 ) \n",
      "50 %:  -67495.54 ( 0.7275688 ) \n",
      "60 %:  -67495.12 ( 0.4104172 ) \n",
      "70 %:  -67494.88 ( 0.2437752 ) \n",
      "80 %:  -67494.73 ( 0.1490075 ) \n",
      "90 %:  -67494.64 ( 0.09268921 ) \n",
      "100 %:  -67494.58 ( 0.0583771 ) \n",
      "thinning to at most 100 donors at each gridpoint: log-likelihood -67494.58 -> -67464.01\n",
      "re-phasing... 36  phase flips made after an average of  1.733333 hunts/ind/chromosome: log-likelihood -67464.01 ->  -67451.53 \n",
      "######################## round  3 of  5 #######################\n",
      "10 %:  -67450.08 ( 1.450651 ) \n",
      "20 %:  -67449.45 ( 0.6300403 ) \n",
      "30 %:  -67449.14 ( 0.3165053 ) \n",
      "40 %:  -67448.96 ( 0.1749287 ) \n",
      "50 %:  -67448.86 ( 0.1028006 ) \n",
      "60 %:  -67448.8 ( 0.0629838 ) \n",
      "70 %:  -67448.76 ( 0.03981518 ) \n",
      "80 %:  -67448.73 ( 0.02582572 ) \n",
      "90 %:  -67448.71 ( 0.01713126 ) \n",
      "100 %:  -67448.7 ( 0.01159279 ) \n",
      "thinning to at most 100 donors at each gridpoint: log-likelihood -67448.7 -> -67446.19\n",
      "re-phasing... 17  phase flips made after an average of  1.066667 hunts/ind/chromosome: log-likelihood -67446.19 ->  -67445.43 \n",
      "######################## round  4 of  5 #######################\n",
      "10 %:  -67445.05 ( 0.3809628 ) \n",
      "20 %:  -67444.85 ( 0.2073859 ) \n",
      "30 %:  -67444.73 ( 0.1203078 ) \n",
      "40 %:  -67444.65 ( 0.07311457 ) \n",
      "50 %:  -67444.61 ( 0.0459981 ) \n",
      "60 %:  -67444.58 ( 0.02974981 ) \n",
      "70 %:  -67444.56 ( 0.01969171 ) \n",
      "80 %:  -67444.54 ( 0.01329617 ) \n",
      "90 %:  -67444.54 ( 0.00913493 ) \n",
      "EM iterations have converged\n",
      "thinning to at most 100 donors at each gridpoint: log-likelihood -67444.54 -> -67442.12\n",
      "re-phasing... 21  phase flips made after an average of  1.266667 hunts/ind/chromosome: log-likelihood -67442.12 ->  -67434.52 \n",
      "######################## round  5 of  5 #######################\n",
      "10 %:  -67434.4 ( 0.1183866 ) \n",
      "20 %:  -67434.33 ( 0.06858499 ) \n",
      "30 %:  -67434.29 ( 0.0418794 ) \n",
      "40 %:  -67434.27 ( 0.0266389 ) \n",
      "50 %:  -67434.25 ( 0.01745227 ) \n",
      "60 %:  -67434.24 ( 0.01169983 ) \n",
      "70 %:  -67434.23 ( 0.007992161 ) \n",
      "EM iterations have converged\n",
      "thinning to at most 100 donors at each gridpoint: log-likelihood -67434.23 -> -67433.28\n",
      "re-phasing... 17  phase flips made after an average of  1.2 hunts/ind/chromosome: log-likelihood -67433.28 ->  -67430.17 \n",
      "run one final round of EM\n",
      "0 %:  -67430.11 ( 0.06277652 ) \n",
      "1 %:  -67430.07 ( 0.03778051 ) \n",
      "2 %:  -67430.04 ( 0.02395546 ) \n",
      "2 %:  -67430.03 ( 0.01585512 ) \n",
      "2 %:  -67430.02 ( 0.01073836 ) \n",
      "3 %:  -67430.01 ( 0.007397868 ) \n",
      "EM iterations have converged\n",
      "saving localanc results to file\n",
      "calculating ancestry aware re-phased coancestry curves\n",
      "calculating Fst values\n",
      "Saving frequencies of simulated data\n",
      "Saving SNP frequencies of French  \n",
      "Saving SNP frequencies of Moroccan  \n",
      "Saving SNP frequencies of Yoruba  \n",
      "saving final results to file\n",
      "Expected r-squared (genomewide): 0.9291033 \n",
      "Actual r-squared (genomewide): 0.880224 \n",
      "Fst between mixing groups:\n",
      "anc1xanc2 \n",
      " 0.159513 \n",
      "Rst between mixing groups:\n",
      "anc1xanc2 \n",
      "0.2471248 \n",
      "saving plots to MOSAIC_PLOTS/ folder\n"
     ]
    }
   ],
   "source": [
    "mosaic.result=run_mosaic(\"simulated\",\"../example_data/\",chrnos=18:22,A=2,NUMI=3,\n",
    "                         pops=c(\"English\",\"Mandenka\"),gens=30)"
   ]
  },
  {
   "cell_type": "markdown",
   "id": "7f712403",
   "metadata": {},
   "source": [
    "Once this has completed, MOSAIC will have done:\n",
    "\n",
    "* Simulated 2-way admixture using English and Mandenkan chromosomes $30$ generations ago.\n",
    "\n",
    "* Read in these simulated chromosomes, along with all available reference panels in the `example_data` folder.\n",
    "\n",
    "* Inferred the model parameters $(\\mu, \\theta, \\Pi, \\rho)$ via EM.\n",
    "\n",
    "* Corrected phasing errors that scramble local ancestry. \n",
    "\n",
    "* Estimated 2-way local ancestry along each chromosome for each admixed individual. \n",
    "\n",
    "* Estimated $F_{st}$ between each ancestral group and each ancestral group and each reference panel and $R_{st}$ (see paper). \n",
    "\n",
    "* Saved key plots to `MOSAIC_PLOTS` as PDFs.\n",
    "\n",
    "* Saved all results to `MOSAIC_RESULTS`.\n",
    "\n",
    "## Loading Results\n",
    "The results can be loaded in an *R* session using:"
   ]
  },
  {
   "cell_type": "code",
   "execution_count": 4,
   "id": "a80ef438",
   "metadata": {
    "attributes": {
     "classes": [],
     "echo": "T",
     "eval": "F,",
     "id": ""
    }
   },
   "outputs": [],
   "source": [
    "load(\"MOSAIC_RESULTS/simulated_2way_1-3_18-22_148_60_0.99_100.RData\") # model parameters, etc\n",
    "load(\"MOSAIC_RESULTS/localanc_simulated_2way_1-3_18-22_148_60_0.99_100.RData\") # local ancestry "
   ]
  },
  {
   "cell_type": "markdown",
   "id": "66de3656",
   "metadata": {},
   "source": [
    "If MOSAIC has been run within *R* using the ``run_mosaic()`` command above then you can alternatively use"
   ]
  },
  {
   "cell_type": "code",
   "execution_count": 6,
   "id": "b574397f",
   "metadata": {
    "attributes": {
     "classes": [],
     "id": "",
     "message": "F"
    }
   },
   "outputs": [
    {
     "name": "stderr",
     "output_type": "stream",
     "text": [
      "The following objects are masked _by_ .GlobalEnv:\n",
      "\n",
      "    A, acoancs, all_Fst, alpha, chrnos, dr, final.flips, g.loc,\n",
      "    g.true_anc, GpcM, kLL, lambda, localanc, logfile, Mu, NL, NUMA, PI,\n",
      "    rho, target, theta\n",
      "\n",
      "\n"
     ]
    }
   ],
   "source": [
    "attach(mosaic.result)"
   ]
  },
  {
   "cell_type": "markdown",
   "id": "afaa7347",
   "metadata": {},
   "source": [
    "to attach the results for further use while in the same session (or after quitting *R* and saving the workspace).\n",
    "\n",
    "## Plots\n",
    "After loading (or attaching) the results in *R*,  \n",
    "each of the plots can be created within *R* by running:"
   ]
  },
  {
   "cell_type": "code",
   "execution_count": 7,
   "id": "830671f3",
   "metadata": {
    "attributes": {
     "classes": [],
     "echo": "T",
     "eval": "F,",
     "id": ""
    }
   },
   "outputs": [
    {
     "ename": "ERROR",
     "evalue": "Error in karyogram(t.A, t.chrnos, t.localanc, t.g.loc, t.GpcM, ind, dist = \"genetic\", : argument \"t.localanc\" is missing, with no default\n",
     "output_type": "error",
     "traceback": [
      "Error in karyogram(t.A, t.chrnos, t.localanc, t.g.loc, t.GpcM, ind, dist = \"genetic\", : argument \"t.localanc\" is missing, with no default\nTraceback:\n",
      "1. plot_all_mosaic(pathout = \"MOSAIC_PLOTS/\", target)",
      "2. karyogram(t.A, t.chrnos, t.localanc, t.g.loc, t.GpcM, ind, dist = \"genetic\", \n .     g.true_anc = g.true_anc)"
     ]
    }
   ],
   "source": [
    "plot_all_mosaic(pathout=\"MOSAIC_PLOTS/\",target)"
   ]
  },
  {
   "cell_type": "markdown",
   "id": "0e0eb585",
   "metadata": {},
   "source": [
    "to output default plots to the folder `MOSAIC_PLOTS/`. \n",
    "Note that this is already run automatically by default within ``run_mosaic()``\n",
    "\n",
    "### Or you can generate each plot individually:"
   ]
  },
  {
   "cell_type": "code",
   "execution_count": null,
   "id": "e397c7eb",
   "metadata": {
    "attributes": {
     "classes": [],
     "fig.height": "3",
     "id": ""
    }
   },
   "outputs": [],
   "source": [
    "ord.Mu=plot_Mu(Mu,alpha,NL)\n",
    "```  \n",
    "\n",
    "Inferred Copying Matrix $\\mu$. One ancestry (that generated from English segments) mostly copies haplotypes in the French panel and the other (Mandenkan) mostly copies haplotypes from the Yoruban panel, as expected.\n",
    "\\\n",
    "\n",
    "-----------\n",
    "\n",
    "```{r, fig.height=3}\n",
    "ord.Fst=plot_Fst(all_Fst$panels,ord=T)\n",
    "```  \n",
    "\n",
    "$1-F_{st}$ estimates between each ancestral group and each donor panel; closer population pairs are larger.\n",
    "\\\n",
    " \n",
    "-----------\n",
    "\n",
    "This can be flipped to show the actual $F_{st}$ values by including the `reverse=FALSE` argument:\n",
    "```{r,fig.height=3}\n",
    "tmp=plot_Fst(all_Fst$panels,reverse=FALSE)\n",
    "```  \n",
    "\n",
    "Raw unordered $F_{st}$ values; closer population pairs are smaller.\n",
    "In this case we have also not reordered the panels in order of closeness under $F_{st}$. \n",
    "\\\n",
    " \n",
    "-----------\n",
    " \n",
    "Plot co-ancestry curves used to infer event timings:\n",
    "```{r, fig.height=2.2}\n",
    "fitcc=plot_coanccurves(acoancs,dr)\n",
    "```  \n",
    "\n",
    "Inferred Coancestry Curves. `dr` is the gap in genetic distance between successive gridpoints. These coancestry curves are somewhat rough at longer distances as we have only used short chromosomes in the analysis. The black lines are empirical coancestry curves across all target individuals, the light grey are per individual, and the green is the fitted single-event coancestry curve.\n",
    "\\\n",
    " \n",
    "-----------\n",
    " \n",
    "\n",
    "Look at the $2^{nd}$ individuals first chromosome:\n",
    "```{r, fig.height=2.5}\n",
    "chr=1\n",
    "ind=2\n",
    "dipplot(chr,ind,g.loc[[chr]],ind,localanc,xlab=paste(\"Position on Chromosome\",chrnos[chr]),ylab=\"\")\n",
    "mp=axTicks(1,axp=round(c(min(g.loc[[chr]]),max(g.loc[[chr]]),5)))\n",
    "axis(1,at=mp,labels=signif(mp,3))\n",
    "```  \n",
    "\n",
    "Local ancestry estimates. The second and third line add details to the axes, etc. \n",
    "\\\n",
    " \n",
    "-----------\n",
    "\n",
    "You can cycle quickly through all individuals and all chromosomes using:\n",
    "```{r, eval=FALSE, echo=T}\n",
    "plot_localanc(chrnos,g.loc,localanc,g.true_anc)\n",
    "```  \n",
    "and hit return to display each new plot. \n",
    "\n",
    "When any such second set of local ancestries is provided, both are plotted and the Pearson correlation $r^2$\n",
    "between them over chromosomal positions is reported for each individual on each chromosome. Here we have supplied the true local ancestry\n",
    "`g.true_anc`, known as this is simulated data. \n",
    "\n",
    "Alternatively, create a karyogram (local ancestry of entire genome) for a given individual using:\n",
    "```{r, eval=TRUE, echo=T}\n",
    "ind=2\n",
    "karyogram(A, chrnos, localanc, g.loc, GpcM, ind, dist = \"genetic\", g.true_anc = g.true_anc)\n",
    "```  \n",
    "\n",
    "The karyogram can also be plotted using physical distances by setting dist=\"physical\". \n",
    "\n",
    "\n",
    "## Accuracy of estimated local ancestry\n",
    "The object `localanc` is a list; each entry represents one chromosome, each of which is an array of dimension $A\\times 2N \\times G$\n",
    "where $A$ is the number of modelled ancestries (A-way admixture), $N$ is the number of target individuals, and $G$ is the number\n",
    "of gridpoints (evenly spaced positions on genetic distance) on that chromosome. The $a,h,g$ entry of `localanc[[chr]]`\n",
    "is therefore the inferred probability that haplotype $(h+1)\\%\\%2+1$ of individual $(h+h\\%\\%2)/2$ is of ancestry $a$\n",
    "at the $g^{th}$ point of chromosome `chr`. \n",
    "\n",
    "The expected number of alleles on each diploid individual can be quickly found using\n",
    "```{r}\n",
    "dip_localanc=dip(localanc)"
   ]
  },
  {
   "cell_type": "markdown",
   "id": "f0bf97ec",
   "metadata": {},
   "source": [
    "Plots of the mean (across individuals) local ancestry can be made using"
   ]
  },
  {
   "cell_type": "code",
   "execution_count": 8,
   "id": "11e36af5",
   "metadata": {},
   "outputs": [
    {
     "data": {
      "image/png": "[encoded data removed]",
      "text/plain": [
       "Plot with title “”"
      ]
     },
     "metadata": {
      "image/png": {
       "height": 420,
       "width": 420
      }
     },
     "output_type": "display_data"
    }
   ],
   "source": [
    "chr=1\n",
    "m_localanc=plot_mean_localanc(chr,chrnos,g.loc,localanc,ret=TRUE)"
   ]
  },
  {
   "cell_type": "markdown",
   "id": "51211158",
   "metadata": {},
   "source": [
    "which will plot the mean for each ancestry with a different colour on chromosome `chr`. \n",
    "Here the non-default setting `ret=TRUE` has been used to also return mean values in the form of\n",
    "a list. Each element represents the mean local ancestry for an ancestry across all gridpoints on that chromosome. \n",
    "\n",
    "Expected accuracy of local ancestry $\\mathbf{E}[r^2]$ is calculated using"
   ]
  },
  {
   "cell_type": "code",
   "execution_count": 9,
   "id": "a3ddac91",
   "metadata": {},
   "outputs": [
    {
     "ename": "ERROR",
     "evalue": "Error in parse(text = x, srcfile = src): <text>:1:1: unexpected SPECIAL\n1: %%\n    ^\n",
     "output_type": "error",
     "traceback": [
      "Error in parse(text = x, srcfile = src): <text>:1:1: unexpected SPECIAL\n1: %%\n    ^\nTraceback:\n"
     ]
    }
   ],
   "source": [
    "%%R\n",
    "dip_expected_fr2(localanc)\n",
    "``` \n",
    "and accuracy of local ancestry estimation in the presence of a known truth given by `g.true_anc` is provided by\n",
    "```{r}\n",
    "dip_fr2(localanc,g.true_anc)"
   ]
  },
  {
   "cell_type": "markdown",
   "id": "ebd486e9",
   "metadata": {},
   "source": [
    "which calculates $r^2$ across all target individuals and all chromosomes analysed. \n",
    "\n",
    "\n",
    "## Local ancestry at SNP positions\n",
    "The above calculations and plots show local ancestry along evenly spaced gridpoints on recombination distances. You can get \n",
    "local ancestry estimates at the SNP positions using:"
   ]
  },
  {
   "cell_type": "code",
   "execution_count": 11,
   "id": "eee8978f",
   "metadata": {},
   "outputs": [],
   "source": [
    "local_pos=grid_to_pos(localanc,\"../example_data/\",g.loc,chrnos)"
   ]
  },
  {
   "cell_type": "markdown",
   "id": "8ea07271",
   "metadata": {},
   "source": [
    "where the SNP positions you'd like to map back are read from the relevant `snpfile`s to and this is for the first chromosome for which local ancestry has been estimated.\n",
    "Naturally, local ancestry estimation accuracy will be slightly different at the SNP positions (typically higher as these are where we have genotype information)"
   ]
  },
  {
   "cell_type": "code",
   "execution_count": 12,
   "id": "d1a6d824",
   "metadata": {},
   "outputs": [
    {
     "data": {
      "text/html": [
       "0.890673004061269"
      ],
      "text/latex": [
       "0.890673004061269"
      ],
      "text/markdown": [
       "0.890673004061269"
      ],
      "text/plain": [
       "[1] 0.890673"
      ]
     },
     "metadata": {},
     "output_type": "display_data"
    }
   ],
   "source": [
    "true_anc_pos=grid_to_pos(g.true_anc,\"../example_data/\",g.loc,chrnos)\n",
    "dip_fr2(local_pos,true_anc_pos)"
   ]
  },
  {
   "cell_type": "markdown",
   "id": "0305e31c",
   "metadata": {},
   "source": [
    "## Other Options\n",
    "\n",
    "* Starting values for any or all of the 4 sets of parameters can be set using init.PI, init.rho, init.Mu, and init.theta. \n",
    "These could for example be final estimates from a previous MOSAIC run. You can either supply these as arguments to\n",
    "run_mosaic() in R:"
   ]
  },
  {
   "cell_type": "code",
   "execution_count": null,
   "id": "a0408267",
   "metadata": {
    "attributes": {
     "classes": [],
     "echo": "T",
     "eval": "F,",
     "id": ""
    }
   },
   "outputs": [],
   "source": [
    "# run MOSAIC on chromosomes 18 to 21 only to estimate parameters\n",
    "mosaic.result=run_mosaic(\"Moroccan\",\"example_data/\",18:21,A=2,NUMI=4) \n",
    "load(\"MOSAIC_RESULTS/Moroccan_2way_1-4_18-21_162_60_0.99_100.RData\") # load the results. \n",
    "# Note that you could also use attach(mosaic.result) for this, if still in the same R session \n",
    "# or read parameters from the log file using paras=extract_paras(extract_log(EMlogfile)) \n",
    "# then run MOSAIC on chromosome 22 using the parameter estimates from the previous run \n",
    "mosaic.result22=run_mosaic(\"Moroccan\",\"example_data/\",22,A=2,NUMI=4,EM=F, # don't update via EM here\n",
    "\t\t\t   init.PI=PI,init.rho=rho,init.Mu=Mu,init.theta=theta) "
   ]
  },
  {
   "cell_type": "markdown",
   "id": "ee377b66",
   "metadata": {},
   "source": [
    "On the command line the parameters can be provided as strings containing values separated by spaces. \n",
    "For example:"
   ]
  },
  {
   "cell_type": "code",
   "execution_count": null,
   "id": "fe9526df",
   "metadata": {
    "attributes": {
     "classes": [],
     "echo": "T",
     "eval": "F,",
     "id": ""
    }
   },
   "outputs": [],
   "source": [
    "Rscript mosaic.R Moroccan example_data/ -a 2 -n 2 -c 22:22 --init.rho \"0.09 0.09\"  "
   ]
  },
  {
   "cell_type": "markdown",
   "id": "f239a680",
   "metadata": {},
   "source": [
    "Or (more usefully) you can extract values from the log file of a previous run and use that directly:"
   ]
  },
  {
   "cell_type": "code",
   "execution_count": null,
   "id": "f3e836d3",
   "metadata": {
    "attributes": {
     "classes": [],
     "echo": "T",
     "eval": "F,",
     "id": ""
    }
   },
   "outputs": [],
   "source": [
    "logfile=MOSAIC_RESULTS/Moroccan_2way_1-4_18-21_162_60_2021_11_10_10:29:37_EMlog.out \n",
    "PI_command='cat\\(unlist\\(MOSAIC::extract_paras\\(MOSAIC::extract_log\\(\\\"$logfile\\\"\\)\\)\\$PI\\)\\)'\n",
    "PI=`eval Rscript -e $PI_command | cut -d \" \" -f 1-`\n",
    "Mu_command='cat\\(c\\(MOSAIC::extract_paras\\(MOSAIC::extract_log\\(\\\"$logfile\\\"\\)\\)\\$Mu\\)\\)'\n",
    "Mu=`eval Rscript -e $Mu_command | cut -d \" \" -f 1-`\n",
    "rho_command='cat\\(c\\(MOSAIC::extract_paras\\(MOSAIC::extract_log\\(\\\"$logfile\\\"\\)\\)\\$rho\\)\\)'\n",
    "rho=`eval Rscript -e $rho_command | cut -d \" \" -f 1-`\n",
    "theta_command='cat\\(c\\(MOSAIC::extract_paras\\(MOSAIC::extract_log\\(\\\"$logfile\\\"\\)\\)\\$theta\\)\\)'\n",
    "theta=`eval Rscript -e $theta_command | cut -d \" \" -f 1-`\n",
    "Rscript mosaic.R Moroccan example_data/ -c 22:22 -a 2 -n 4 --noEM --init.PI \"$PI\" \n",
    "  --init.Mu \"$Mu\" --init.rho \"$rho\" --init.theta \"$theta\""
   ]
  },
  {
   "cell_type": "markdown",
   "id": "05068015",
   "metadata": {},
   "source": [
    "* MOSAIC will use any additional groups found in the data folder as donor panels but these can also be specified manually as follows:"
   ]
  },
  {
   "cell_type": "code",
   "execution_count": null,
   "id": "4f4627c8",
   "metadata": {
    "attributes": {
     "classes": [],
     "echo": "T",
     "eval": "FALSE,",
     "id": ""
    }
   },
   "outputs": [],
   "source": [
    "mosaic.result=run_mosaic(\"simulated\",\"../example_data/\",18:22,A=2,NUMI=3,\n",
    "\t\t\t pops=c(\"English\",\"Mandenka\", \"French\", \"Yoruba\"))"
   ]
  },
  {
   "cell_type": "markdown",
   "id": "83046d0c",
   "metadata": {},
   "source": [
    "so that only `French` and `Yoruba` are used here. When the first argument (the target) is `simulated` then the first\n",
    "$A$ populations are used to simulate admixed chromosomes (and haplotypes not used for the simulated targets aren't used\n",
    "for inference) but when the target is not `simulated` then all specified `pops` are used as reference panels. \n",
    "\n",
    "* To create a version of the copying matrix $\\mu$ plot that uses bar colour densities rather than bar lengths \n",
    "to represent copying proportions, use:"
   ]
  },
  {
   "cell_type": "code",
   "execution_count": null,
   "id": "35e15220",
   "metadata": {
    "attributes": {
     "classes": [],
     "echo": "T",
     "eval": "FALSE,",
     "id": ""
    }
   },
   "outputs": [],
   "source": [
    "ord.Mu=plot_Mu(Mu,alpha,NL,showgradient=TRUE)"
   ]
  },
  {
   "cell_type": "markdown",
   "id": "e1622138",
   "metadata": {},
   "source": [
    "* For help use"
   ]
  },
  {
   "cell_type": "code",
   "execution_count": null,
   "id": "005f4551",
   "metadata": {
    "attributes": {
     "classes": [],
     "echo": "T",
     "eval": "F,",
     "id": ""
    }
   },
   "outputs": [],
   "source": [
    "Rscript mosaic.R --help"
   ]
  },
  {
   "cell_type": "markdown",
   "id": "f0ff69bc",
   "metadata": {},
   "source": [
    "on the command line to list all arguments to MOSAIC or"
   ]
  },
  {
   "cell_type": "code",
   "execution_count": 15,
   "id": "70d092b4",
   "metadata": {
    "attributes": {
     "classes": [],
     "echo": "T",
     "eval": "F,",
     "id": ""
    }
   },
   "outputs": [],
   "source": [
    "?run_mosaic"
   ]
  },
  {
   "cell_type": "markdown",
   "id": "58b8857a",
   "metadata": {},
   "source": [
    "within R for help on the main function. \n",
    "\n",
    "\n",
    "## email <michael.salter-townshend@ucd.ie> for help"
   ]
  }
 ],
 "metadata": {
  "kernelspec": {
   "display_name": "R",
   "language": "R",
   "name": "ir"
  },
  "language_info": {
   "codemirror_mode": "r",
   "file_extension": ".r",
   "mimetype": "text/x-r-source",
   "name": "R",
   "pygments_lexer": "r",
   "version": "4.2.2"
  }
 },
 "nbformat": 4,
 "nbformat_minor": 5
}
