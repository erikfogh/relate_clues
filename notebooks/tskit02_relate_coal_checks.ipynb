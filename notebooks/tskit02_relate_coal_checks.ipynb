{
 "cells": [
  {
   "cell_type": "code",
   "execution_count": 2,
   "id": "8ef6b167",
   "metadata": {},
   "outputs": [],
   "source": [
    "%run ../scripts/notebook_settings_lean.py\n",
    "import tskit"
   ]
  },
  {
   "cell_type": "code",
   "execution_count": null,
   "id": "c3e962b7",
   "metadata": {},
   "outputs": [],
   "source": [
    "ts = tskit.load(\"../steps/All_Samples_relate/chromX_tskit.trees\")"
   ]
  },
  {
   "cell_type": "code",
   "execution_count": null,
   "id": "5e71f513",
   "metadata": {},
   "outputs": [],
   "source": [
    "ts"
   ]
  },
  {
   "cell_type": "code",
   "execution_count": null,
   "id": "3a629770",
   "metadata": {},
   "outputs": [],
   "source": [
    "# Version which counts number of samples, and notes both the first coalescence and when 50 % has coalesced.\n",
    "def coalescence_ordering(tree, IDs, sample_counts):\n",
    "    df_list = []\n",
    "    for i in IDs:\n",
    "        pop_list = []\n",
    "        gen_list = []\n",
    "        coal_counts = {}\n",
    "        for p in sample_counts.index:\n",
    "            coal_counts[p] = 0\n",
    "        current_node = i\n",
    "        while tree.depth(current_node) > 0:\n",
    "            # Find parent node\n",
    "            parent_node = tree.parent(current_node)\n",
    "            # Determine children, and then pick alternate\n",
    "            # cannot find a method for this, so I use an explicit if/else\n",
    "            children = tree.children(parent_node)\n",
    "            if current_node == children[0]:\n",
    "                alt_node = children[1]\n",
    "            else:\n",
    "                alt_node = children[0]\n",
    "            # Determine which populations are present under the alternate node\n",
    "            alt_samples = pd.Series([x for x in tree.samples(alt_node)])\n",
    "            alt_sample_counts = alt_samples.map(i_mapping).value_counts()\n",
    "            for p in alt_sample_counts.index:\n",
    "                coal_counts[p] += alt_sample_counts[p]\n",
    "            # If pop is not already added to list, add pop and note coal time\n",
    "            for p in alt_sample_counts.index:\n",
    "                if p  not in pop_list and coal_counts[p] > sample_counts[p]/2:\n",
    "                    pop_list.append(p)\n",
    "                    gen_list.append(tree.time(current_node))\n",
    "            current_node = parent_node\n",
    "        d = {\"ID\": i, \"sites\": tree.num_sites, \"span\": tree.span, \"start\": tree.interval[0]}\n",
    "        for i in range(len(pop_list)):\n",
    "            d[\"coal_{}\".format(i)] = pop_list[i]\n",
    "        for i in range(len(gen_list)):\n",
    "            d[\"coal_date_{}\".format(i)] = gen_list[i]\n",
    "        df_list.append(pd.DataFrame(d, index=[i]))\n",
    "    return pd.concat(df_list)"
   ]
  },
  {
   "cell_type": "markdown",
   "id": "09765f36",
   "metadata": {},
   "source": [
    "Trying a couple of things shown in the tutorial (https://tskit.dev/tutorials/getting_started.html )"
   ]
  },
  {
   "cell_type": "code",
   "execution_count": null,
   "id": "2e872c6d",
   "metadata": {},
   "outputs": [],
   "source": [
    "ts_subset = ts.keep_intervals([[10000000, 11000000]]) #([[67000000, 69000000]]) #([[67000000, 72000000]])"
   ]
  },
  {
   "cell_type": "code",
   "execution_count": null,
   "id": "5e44e232",
   "metadata": {},
   "outputs": [],
   "source": [
    "ts_subset"
   ]
  },
  {
   "cell_type": "code",
   "execution_count": null,
   "id": "0e66d706",
   "metadata": {},
   "outputs": [],
   "source": [
    "# Setup based on poplabels\n",
    "poplabels = pd.read_csv(\"../data/pops/all_females_8cluster.sample\", sep=\" \",\n",
    "                        names=[\"ID\", \"POP\", \"GROUP\", \"SEX\"], header=0)\n",
    "\n",
    "i_mapping = {}\n",
    "for i, row in poplabels.iterrows():\n",
    "    i_mapping[i*2] = row.GROUP\n",
    "    i_mapping[i*2+1] = row.GROUP\n",
    "poplabel_counts = poplabels[\"GROUP\"].value_counts().to_dict()\n",
    "highest_ID = poplabels.index.max()*2+1"
   ]
  },
  {
   "cell_type": "code",
   "execution_count": null,
   "id": "619093b1",
   "metadata": {},
   "outputs": [],
   "source": [
    "poplabels.POP.value_counts()"
   ]
  },
  {
   "cell_type": "code",
   "execution_count": null,
   "id": "eccff3b7",
   "metadata": {},
   "outputs": [],
   "source": [
    "c = 0\n",
    "ID_list = list(i_mapping.keys())\n",
    "sample_counts = poplabels[\"GROUP\"].value_counts()*2\n",
    "df_list = []\n",
    "for tree in ts_subset.trees():\n",
    "    df = coalescence_ordering(tree, ID_list, sample_counts)\n",
    "    if c % 1000 == 0:\n",
    "        print(c)\n",
    "    c += 1\n",
    "    df_list.append(df)\n",
    "test_df = pd.concat(df_list)"
   ]
  },
  {
   "cell_type": "code",
   "execution_count": null,
   "id": "9fccc4f2",
   "metadata": {},
   "outputs": [],
   "source": [
    "test_df"
   ]
  },
  {
   "cell_type": "code",
   "execution_count": null,
   "id": "8231368b",
   "metadata": {},
   "outputs": [],
   "source": [
    "g = sns.histplot(data=test_df, x=\"sites\")\n",
    "g.set(xlim=(0,30))"
   ]
  },
  {
   "cell_type": "code",
   "execution_count": null,
   "id": "1b4c33b4",
   "metadata": {},
   "outputs": [],
   "source": [
    "first_coal_l = []\n",
    "ID_l = []\n",
    "for ID in test_df.ID.unique():\n",
    "    ID_df = test_df.loc[(test_df.ID == ID) & (test_df.coal_date_0 != test_df.coal_date_1)]\n",
    "    first_coal_l.append(ID_df.coal_0.value_counts().index[0])\n",
    "    ID_l.append(ID)"
   ]
  },
  {
   "cell_type": "code",
   "execution_count": null,
   "id": "3b1beb27",
   "metadata": {},
   "outputs": [],
   "source": [
    "poplabels"
   ]
  },
  {
   "cell_type": "code",
   "execution_count": null,
   "id": "f48e02af",
   "metadata": {},
   "outputs": [],
   "source": [
    "check_df = pd.DataFrame({\"first_coal\": first_coal_l, \"PDGP_ID\": ID_l, \"POP\": pd.Series(ID_l).map(i_mapping)})"
   ]
  },
  {
   "cell_type": "code",
   "execution_count": null,
   "id": "9507df96",
   "metadata": {},
   "outputs": [],
   "source": [
    "for c in check_df.POP.unique():\n",
    "    sub_df = check_df.loc[check_df.POP == c]\n",
    "    print(c)\n",
    "    print(sub_df[\"first_coal\"].value_counts())"
   ]
  },
  {
   "cell_type": "markdown",
   "id": "38621f2f",
   "metadata": {},
   "source": [
    "Doing the check with the full chromosome, which I thought had been calculated incorrectly. It was calculated incorrectly in regards to index IDs, which I have fixed now."
   ]
  },
  {
   "cell_type": "code",
   "execution_count": null,
   "id": "b605749b",
   "metadata": {},
   "outputs": [],
   "source": [
    "# Setup based on poplabels\n",
    "poplabels = pd.read_csv(\"../data/pops/all_females_8cluster.sample\", sep=\" \",\n",
    "                        names=[\"ID\", \"POP\", \"GROUP\", \"SEX\"], header=0)\n",
    "\n",
    "i_mapping = {}\n",
    "for i, row in poplabels.iterrows():\n",
    "    i_mapping[i*2] = row.GROUP\n",
    "    i_mapping[i*2+1] = row.GROUP\n",
    "poplabel_counts = poplabels[\"GROUP\"].value_counts().to_dict()\n",
    "highest_ID = poplabels.index.max()*2+1"
   ]
  },
  {
   "cell_type": "code",
   "execution_count": null,
   "id": "6aea542b",
   "metadata": {},
   "outputs": [],
   "source": [
    "df_l = []\n",
    "for ID in poplabels.ID:\n",
    "    df = (pd.read_csv(\"../steps/relate_coal_ordering/{}.txt\".format(ID)))\n",
    "    df[\"PDGP_ID\"] = ID\n",
    "    df_l.append(df)\n",
    "coal_df = pd.concat(df_l)"
   ]
  },
  {
   "cell_type": "code",
   "execution_count": null,
   "id": "cbe8ab8d",
   "metadata": {},
   "outputs": [],
   "source": [
    "ID_list = poplabels.ID\n",
    "ID_t1 = poplabels.loc[poplabels.ID == \"PD_0792\"].index.values[0]*2\n",
    "ID_t1"
   ]
  },
  {
   "cell_type": "code",
   "execution_count": null,
   "id": "eb4b18cc",
   "metadata": {},
   "outputs": [],
   "source": [
    "df_l[95]"
   ]
  },
  {
   "cell_type": "code",
   "execution_count": null,
   "id": "a2bfea30",
   "metadata": {},
   "outputs": [],
   "source": [
    "coal_df"
   ]
  },
  {
   "cell_type": "markdown",
   "id": "e35bdc2e",
   "metadata": {},
   "source": [
    "Percentage of first coals which are order informative (only coals with that group)"
   ]
  },
  {
   "cell_type": "code",
   "execution_count": null,
   "id": "0994e337",
   "metadata": {},
   "outputs": [],
   "source": [
    "len(coal_df.loc[(coal_df.ID == ID) & (coal_df.coal_date_0 != coal_df.coal_date_1)])/len(coal_df)"
   ]
  },
  {
   "cell_type": "code",
   "execution_count": null,
   "id": "a4c8493b",
   "metadata": {},
   "outputs": [],
   "source": [
    "len(coal_df.PDGP_ID.unique())"
   ]
  },
  {
   "cell_type": "code",
   "execution_count": null,
   "id": "0998dea8",
   "metadata": {},
   "outputs": [],
   "source": [
    "first_coal_l = []\n",
    "ID_l = []\n",
    "for ID in coal_df.PDGP_ID.unique():\n",
    "    print(ID)\n",
    "    ID_df = coal_df.loc[(coal_df.PDGP_ID == ID) & (coal_df.coal_date_0 != coal_df.coal_date_1)]\n",
    "    first_coal_l.append(ID_df.coal_0.value_counts().index[0])\n",
    "    ID_l.append(ID)\n",
    "first_coal_df = pd.DataFrame({\"first_coal\": first_coal_l, \"PDGP_ID\": ID_l,\n",
    "                              \"POP\": pd.Series(ID_l).map(dict(zip(poplabels.ID, poplabels.POP)))})"
   ]
  },
  {
   "cell_type": "code",
   "execution_count": null,
   "id": "403332ca",
   "metadata": {},
   "outputs": [],
   "source": [
    "first_coal_df = pd.DataFrame({\"first_coal\": first_coal_l, \"PDGP_ID\": ID_l,\n",
    "                              \"POP\": pd.Series(ID_l).map(dict(zip(poplabels.ID, poplabels.POP)))})"
   ]
  },
  {
   "cell_type": "code",
   "execution_count": null,
   "id": "1ff4c7f3",
   "metadata": {},
   "outputs": [],
   "source": [
    "first_coal_df"
   ]
  },
  {
   "cell_type": "code",
   "execution_count": null,
   "id": "6033e466",
   "metadata": {},
   "outputs": [],
   "source": [
    "for c in first_coal_df.POP.unique():\n",
    "    sub_df = first_coal_df.loc[first_coal_df.POP == c]\n",
    "    print(c)\n",
    "    print(sub_df[\"first_coal\"].value_counts())"
   ]
  },
  {
   "cell_type": "code",
   "execution_count": null,
   "id": "54fe3c98",
   "metadata": {},
   "outputs": [],
   "source": [
    "poplabels.POP.value_counts()"
   ]
  },
  {
   "cell_type": "markdown",
   "id": "9271afa2",
   "metadata": {},
   "source": [
    "Checking coal times and spans of trees"
   ]
  },
  {
   "cell_type": "code",
   "execution_count": null,
   "id": "27bdc5bc",
   "metadata": {},
   "outputs": [],
   "source": [
    "tree_stats_df = coal_df.loc[(coal_df.PDGP_ID == \"Sci_16098\")]\n",
    "sns.jointplot(data=tree_stats_df, x=\"sites\", y=\"span\")"
   ]
  },
  {
   "cell_type": "code",
   "execution_count": null,
   "id": "9d6fe707",
   "metadata": {},
   "outputs": [],
   "source": [
    "tree_stats_df = coal_df.loc[(coal_df.PDGP_ID == \"Sci_16098\") & (coal_df.span < 50000)]\n",
    "sns.jointplot(data=tree_stats_df, x=\"sites\", y=\"span\")"
   ]
  },
  {
   "cell_type": "code",
   "execution_count": null,
   "id": "db0d1145",
   "metadata": {},
   "outputs": [],
   "source": [
    "eastern_ids = poplabels.loc[poplabels[\"POP\"] == \"Eastern Yellow\"].ID"
   ]
  },
  {
   "cell_type": "code",
   "execution_count": null,
   "id": "bee5c2d5",
   "metadata": {},
   "outputs": [],
   "source": [
    "eastern_ids[5:6]"
   ]
  },
  {
   "cell_type": "code",
   "execution_count": null,
   "id": "338b0870",
   "metadata": {},
   "outputs": [],
   "source": [
    "eastern_yellow_coals = coal_df.loc[(coal_df.PDGP_ID == \"PD_0224\") & (coal_df.sites > 9)]# coal_df.loc[(coal_df.PDGP_ID.isin(eastern_ids)) & (coal_df.sites > 9)]\n",
    "eastern_yellow_coals"
   ]
  },
  {
   "cell_type": "code",
   "execution_count": null,
   "id": "fa74b5b1",
   "metadata": {},
   "outputs": [],
   "source": [
    "coal_type_l, coal_date_l, start_pos, haplo_l  = [], [], [], []\n",
    "for coal_type in [\"Kindae\", \"Hamadryas\", \"Eastern Yellow\"]:\n",
    "    for coal in range(0, 8):\n",
    "        print(coal)\n",
    "        coal_timings = eastern_yellow_coals.loc[eastern_yellow_coals[\"coal_{}\".format(coal)] == coal_type]\n",
    "        coal_type_l.extend(list(coal_timings[\"coal_{}\".format(coal)]))\n",
    "        coal_date_l.extend(list(coal_timings[\"coal_date_{}\".format(coal)]))\n",
    "        start_pos.extend(list(coal_timings.start))\n",
    "        haplo_l.extend(list(coal_timings.ID))"
   ]
  },
  {
   "cell_type": "code",
   "execution_count": null,
   "id": "7fe80792",
   "metadata": {},
   "outputs": [],
   "source": [
    "sub_coal_df = pd.DataFrame({\"coal_type\": coal_type_l, \"coal_date\": coal_date_l, \"start\": start_pos, \"haplotype\": haplo_l})"
   ]
  },
  {
   "cell_type": "code",
   "execution_count": null,
   "id": "42530485",
   "metadata": {},
   "outputs": [],
   "source": [
    "g = sns.histplot(sub_coal_df, x=\"coal_date\", hue=\"coal_type\")\n",
    "g.set(xlim= (-10, 70000))"
   ]
  },
  {
   "cell_type": "code",
   "execution_count": null,
   "id": "0e95db46",
   "metadata": {},
   "outputs": [],
   "source": [
    "g = sns.histplot(sub_coal_df.loc[sub_coal_df.coal_type.isin([\"Kindae\", \"Hamadryas\"])],\n",
    "                 x=\"coal_date\", hue=\"coal_type\")\n",
    "g.set(xlim= (-10, 70000))"
   ]
  },
  {
   "cell_type": "code",
   "execution_count": null,
   "id": "ed9932cf",
   "metadata": {},
   "outputs": [],
   "source": [
    "hamadryas_coal = sub_coal_df.loc[sub_coal_df.coal_type == \"Hamadryas\"]"
   ]
  },
  {
   "cell_type": "code",
   "execution_count": null,
   "id": "e0410642",
   "metadata": {},
   "outputs": [],
   "source": [
    "len(hamadryas_coal.loc[hamadryas_coal.coal_date > 10000])/len(hamadryas_coal)"
   ]
  },
  {
   "cell_type": "code",
   "execution_count": null,
   "id": "c0e9c40e",
   "metadata": {},
   "outputs": [],
   "source": [
    "hamadryas_coal.coal_date.mean()"
   ]
  },
  {
   "cell_type": "code",
   "execution_count": null,
   "id": "b535cd02",
   "metadata": {},
   "outputs": [],
   "source": [
    "sub_coal_df"
   ]
  },
  {
   "cell_type": "code",
   "execution_count": null,
   "id": "cc540872",
   "metadata": {},
   "outputs": [],
   "source": [
    "coal_type_l, coal_date_l, start_pos, haplo_l  = [], [], [], []\n",
    "df_l = []\n",
    "for coal_type in [\"Kindae\", \"Hamadryas\"]:\n",
    "    for coal in range(0, 8):\n",
    "        print(coal)\n",
    "        coal_timings = eastern_yellow_coals.loc[eastern_yellow_coals[\"coal_{}\".format(coal)] == coal_type]\n",
    "        coal_type_l.extend(list(coal_timings[\"coal_{}\".format(coal)]))\n",
    "        coal_date_l.extend(list(coal_timings[\"coal_date_{}\".format(coal)]))\n",
    "        start_pos.extend(list(coal_timings.start))\n",
    "        haplo_l.extend(list(coal_timings.ID))\n",
    "    df_l.append(pd.DataFrame({\"coal_date_{}\".format(coal_type): coal_date_l,\n",
    "                                \"start\": start_pos, \"haplotype\": haplo_l}))\n",
    "coal_comp_df = df_l[0]\n",
    "for d in df_l[1:]:\n",
    "    coal_comp_df = coal_comp_df.merge(d, how=\"left\", on=[\"start\", \"haplotype\"])"
   ]
  },
  {
   "cell_type": "code",
   "execution_count": null,
   "id": "923c5eb7",
   "metadata": {},
   "outputs": [],
   "source": [
    "coal_comp_df"
   ]
  },
  {
   "cell_type": "code",
   "execution_count": null,
   "id": "831a30b0",
   "metadata": {},
   "outputs": [],
   "source": [
    "coal_comp_df.loc[coal_comp_df.coal_date_Kindae > coal_comp_df.coal_date_Hamadryas]"
   ]
  },
  {
   "cell_type": "code",
   "execution_count": null,
   "id": "8540873a",
   "metadata": {},
   "outputs": [],
   "source": [
    "coal_comp_df.loc[coal_comp_df.coal_date_Kindae < coal_comp_df.coal_date_Hamadryas]"
   ]
  },
  {
   "cell_type": "code",
   "execution_count": null,
   "id": "89706702",
   "metadata": {},
   "outputs": [],
   "source": [
    "coal_comp_df.loc[coal_comp_df.coal_date_Kindae == coal_comp_df.coal_date_Hamadryas]"
   ]
  },
  {
   "cell_type": "code",
   "execution_count": null,
   "id": "13fdd6dd",
   "metadata": {},
   "outputs": [],
   "source": [
    "g = sns.histplot(coal_comp_df.loc[coal_comp_df.coal_date_Kindae == coal_comp_df.coal_date_Hamadryas],\n",
    "                 x=\"coal_date_Kindae\")\n",
    "g.set(xlim= (-10, 70000))"
   ]
  }
 ],
 "metadata": {
  "kernelspec": {
   "display_name": "Python 3 (ipykernel)",
   "language": "python",
   "name": "python3"
  },
  "language_info": {
   "codemirror_mode": {
    "name": "ipython",
    "version": 3
   },
   "file_extension": ".py",
   "mimetype": "text/x-python",
   "name": "python",
   "nbconvert_exporter": "python",
   "pygments_lexer": "ipython3",
   "version": "3.8.16"
  }
 },
 "nbformat": 4,
 "nbformat_minor": 5
}
