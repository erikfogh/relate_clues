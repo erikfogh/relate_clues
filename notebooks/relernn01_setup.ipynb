{
 "cells": [
  {
   "cell_type": "markdown",
   "id": "7a409b4a",
   "metadata": {},
   "source": [
    "Generating supporting files for ReLERNN"
   ]
  },
  {
   "cell_type": "code",
   "execution_count": 1,
   "id": "af34a99f",
   "metadata": {},
   "outputs": [
    {
     "name": "stderr",
     "output_type": "stream",
     "text": [
      "/faststorage/project/baboondiversity/people/eriks/second_analysis_baboons/scripts/notebook_settings_lean.py:7: DeprecationWarning: `set_matplotlib_formats` is deprecated since IPython 7.23, directly use `matplotlib_inline.backend_inline.set_matplotlib_formats()`\n",
      "  set_matplotlib_formats('retina', 'png')\n"
     ]
    }
   ],
   "source": [
    "%run ../scripts/notebook_settings_lean.py\n",
    "import glob"
   ]
  },
  {
   "cell_type": "code",
   "execution_count": 2,
   "id": "571fe0db",
   "metadata": {},
   "outputs": [],
   "source": [
    "relernn_dir = \"/home/eriks/baboondiversity/data/PG_panu3_phased_chromosomes_4_7_2021/relernn_input/\""
   ]
  },
  {
   "cell_type": "code",
   "execution_count": 3,
   "id": "1762b7a6",
   "metadata": {},
   "outputs": [],
   "source": [
    "chrom_lengths = pd.read_csv(\"/home/eriks/baboondiversity/data/callability_panu3_26_04_2021/genome_lengths\",\n",
    "            sep=\"\\t\", names=[\"chrom\", \"length\"])"
   ]
  },
  {
   "cell_type": "code",
   "execution_count": 4,
   "id": "392b26cd",
   "metadata": {},
   "outputs": [],
   "source": [
    "chrom_lengths[\"start\"] = 0\n",
    "chrom_lengths = chrom_lengths[[\"chrom\", \"start\", \"length\"]]"
   ]
  },
  {
   "cell_type": "code",
   "execution_count": 5,
   "id": "c53d93d6",
   "metadata": {},
   "outputs": [
    {
     "data": {
      "text/html": [
       "<div>\n",
       "<style scoped>\n",
       "    .dataframe tbody tr th:only-of-type {\n",
       "        vertical-align: middle;\n",
       "    }\n",
       "\n",
       "    .dataframe tbody tr th {\n",
       "        vertical-align: top;\n",
       "    }\n",
       "\n",
       "    .dataframe thead th {\n",
       "        text-align: right;\n",
       "    }\n",
       "</style>\n",
       "<table border=\"1\" class=\"dataframe\">\n",
       "  <thead>\n",
       "    <tr style=\"text-align: right;\">\n",
       "      <th></th>\n",
       "      <th>chrom</th>\n",
       "      <th>start</th>\n",
       "      <th>length</th>\n",
       "    </tr>\n",
       "  </thead>\n",
       "  <tbody>\n",
       "    <tr>\n",
       "      <th>0</th>\n",
       "      <td>chr1</td>\n",
       "      <td>0</td>\n",
       "      <td>217458864</td>\n",
       "    </tr>\n",
       "    <tr>\n",
       "      <th>1</th>\n",
       "      <td>chr2</td>\n",
       "      <td>0</td>\n",
       "      <td>188283584</td>\n",
       "    </tr>\n",
       "    <tr>\n",
       "      <th>2</th>\n",
       "      <td>chr3</td>\n",
       "      <td>0</td>\n",
       "      <td>181338541</td>\n",
       "    </tr>\n",
       "    <tr>\n",
       "      <th>3</th>\n",
       "      <td>chr4</td>\n",
       "      <td>0</td>\n",
       "      <td>166074386</td>\n",
       "    </tr>\n",
       "    <tr>\n",
       "      <th>4</th>\n",
       "      <td>chr5</td>\n",
       "      <td>0</td>\n",
       "      <td>183742232</td>\n",
       "    </tr>\n",
       "    <tr>\n",
       "      <th>5</th>\n",
       "      <td>chr6</td>\n",
       "      <td>0</td>\n",
       "      <td>175400206</td>\n",
       "    </tr>\n",
       "    <tr>\n",
       "      <th>6</th>\n",
       "      <td>chr7</td>\n",
       "      <td>0</td>\n",
       "      <td>162899863</td>\n",
       "    </tr>\n",
       "    <tr>\n",
       "      <th>7</th>\n",
       "      <td>chr8</td>\n",
       "      <td>0</td>\n",
       "      <td>140346614</td>\n",
       "    </tr>\n",
       "    <tr>\n",
       "      <th>8</th>\n",
       "      <td>chr9</td>\n",
       "      <td>0</td>\n",
       "      <td>125784921</td>\n",
       "    </tr>\n",
       "    <tr>\n",
       "      <th>9</th>\n",
       "      <td>chr10</td>\n",
       "      <td>0</td>\n",
       "      <td>91330067</td>\n",
       "    </tr>\n",
       "    <tr>\n",
       "      <th>10</th>\n",
       "      <td>chr11</td>\n",
       "      <td>0</td>\n",
       "      <td>132960392</td>\n",
       "    </tr>\n",
       "    <tr>\n",
       "      <th>11</th>\n",
       "      <td>chr12</td>\n",
       "      <td>0</td>\n",
       "      <td>128289686</td>\n",
       "    </tr>\n",
       "    <tr>\n",
       "      <th>12</th>\n",
       "      <td>chr13</td>\n",
       "      <td>0</td>\n",
       "      <td>104990034</td>\n",
       "    </tr>\n",
       "    <tr>\n",
       "      <th>13</th>\n",
       "      <td>chr14</td>\n",
       "      <td>0</td>\n",
       "      <td>124513186</td>\n",
       "    </tr>\n",
       "    <tr>\n",
       "      <th>14</th>\n",
       "      <td>chr15</td>\n",
       "      <td>0</td>\n",
       "      <td>108049171</td>\n",
       "    </tr>\n",
       "    <tr>\n",
       "      <th>15</th>\n",
       "      <td>chr16</td>\n",
       "      <td>0</td>\n",
       "      <td>74961506</td>\n",
       "    </tr>\n",
       "    <tr>\n",
       "      <th>16</th>\n",
       "      <td>chr17</td>\n",
       "      <td>0</td>\n",
       "      <td>91399201</td>\n",
       "    </tr>\n",
       "    <tr>\n",
       "      <th>17</th>\n",
       "      <td>chr18</td>\n",
       "      <td>0</td>\n",
       "      <td>72530122</td>\n",
       "    </tr>\n",
       "    <tr>\n",
       "      <th>18</th>\n",
       "      <td>chr19</td>\n",
       "      <td>0</td>\n",
       "      <td>51387494</td>\n",
       "    </tr>\n",
       "    <tr>\n",
       "      <th>19</th>\n",
       "      <td>chr20</td>\n",
       "      <td>0</td>\n",
       "      <td>72050622</td>\n",
       "    </tr>\n",
       "  </tbody>\n",
       "</table>\n",
       "</div>"
      ],
      "text/plain": [
       "    chrom  start     length\n",
       "0    chr1      0  217458864\n",
       "1    chr2      0  188283584\n",
       "2    chr3      0  181338541\n",
       "3    chr4      0  166074386\n",
       "4    chr5      0  183742232\n",
       "5    chr6      0  175400206\n",
       "6    chr7      0  162899863\n",
       "7    chr8      0  140346614\n",
       "8    chr9      0  125784921\n",
       "9   chr10      0   91330067\n",
       "10  chr11      0  132960392\n",
       "11  chr12      0  128289686\n",
       "12  chr13      0  104990034\n",
       "13  chr14      0  124513186\n",
       "14  chr15      0  108049171\n",
       "15  chr16      0   74961506\n",
       "16  chr17      0   91399201\n",
       "17  chr18      0   72530122\n",
       "18  chr19      0   51387494\n",
       "19  chr20      0   72050622"
      ]
     },
     "execution_count": 5,
     "metadata": {},
     "output_type": "execute_result"
    }
   ],
   "source": [
    "chrom_lengths.iloc[:-1]"
   ]
  },
  {
   "cell_type": "code",
   "execution_count": 6,
   "id": "8527853b",
   "metadata": {},
   "outputs": [],
   "source": [
    "chrom_lengths.iloc[:-1].to_csv(relernn_dir + \"autosome_sizes.bed\", sep=\"\\t\", index=False, header=False)\n",
    "chrom_lengths.iloc[-1:].to_csv(relernn_dir + \"chrX_sizes.bed\", sep=\"\\t\", index=False, header=False)"
   ]
  },
  {
   "cell_type": "markdown",
   "id": "9e72688e",
   "metadata": {},
   "source": [
    "Creating sample ID lists to filter pops for."
   ]
  },
  {
   "cell_type": "code",
   "execution_count": 7,
   "id": "33a5d509",
   "metadata": {},
   "outputs": [],
   "source": [
    "meta_data_samples = pd.read_csv(\"../data/Papio_metadata_with_clustering.txt\", sep =\" \")\n",
    "meta_data_samples_Sci = meta_data_samples.copy()\n",
    "for i, row in meta_data_samples_Sci.iterrows():\n",
    "    if row.PGDP_ID[0] != \"P\":\n",
    "        meta_data_samples_Sci.at[i, \"PGDP_ID\"] = \"Sci_\"+str(row.PGDP_ID)"
   ]
  },
  {
   "cell_type": "code",
   "execution_count": 8,
   "id": "ec865e54",
   "metadata": {},
   "outputs": [
    {
     "name": "stdout",
     "output_type": "stream",
     "text": [
      "Mikumi, Tanzania 38\n",
      "Aberdare, Kenya 2\n",
      "Chunga, Zambia 27\n",
      "captive 2\n",
      "Awash, Ethiopia 2\n",
      "Serengeti, Tanzania 14\n",
      "Arusha, Tanzania 4\n",
      "Ngorongoro, Tanzania 6\n",
      "Ruaha, Tanzania 6\n",
      "Gombe, Tanzania 17\n",
      "Udzungwa, Tanzania 5\n",
      "Mahale, Tanzania 7\n",
      "Katavi, Tanzania 2\n",
      "Selous, Tanzania 3\n",
      "Lake Manyara, Tanzania 19\n",
      "Tarangire, Tanzania 7\n",
      "Niokolo-Koba, Senegal 12\n",
      "Issa Valley, Tanzania 1\n",
      "Dendro Park, Zambia 4\n",
      "Filoha, Ethiopia 24\n",
      "Gog Woreda, Gambella region, Ethiopia 25\n"
     ]
    }
   ],
   "source": [
    "for o in meta_data_samples_Sci.Origin.unique():\n",
    "    pop_subset = meta_data_samples_Sci.loc[meta_data_samples_Sci.Origin == o]\n",
    "    print(o, len(pop_subset))"
   ]
  },
  {
   "cell_type": "code",
   "execution_count": 9,
   "id": "f0350ba6",
   "metadata": {},
   "outputs": [],
   "source": [
    "for o in [\"Dendro Park, Zambia\", \"Arusha, Tanzania\", \"Ngorongoro, Tanzania\"]:\n",
    "    pop_subset = meta_data_samples_Sci.loc[meta_data_samples_Sci.Origin == o]\n",
    "    short_origin = o.replace(\" \", \",\").split(\",\")[0]\n",
    "    pop_subset[[\"PGDP_ID\"]].to_csv(relernn_dir + short_origin + \".sample_list.txt\",\n",
    "                                          header=False, index=False, sep=\"\\t\")"
   ]
  },
  {
   "cell_type": "markdown",
   "id": "317232a5",
   "metadata": {},
   "source": [
    "Checking access mask"
   ]
  },
  {
   "cell_type": "code",
   "execution_count": 10,
   "id": "43c81810",
   "metadata": {},
   "outputs": [],
   "source": [
    "mask = pd.read_csv(relernn_dir + \"autosomes.sorted.bed\", sep=\"\\t\", names=[\"chrom\", \"start\", \"end\"])"
   ]
  },
  {
   "cell_type": "code",
   "execution_count": 11,
   "id": "f73cb380",
   "metadata": {},
   "outputs": [],
   "source": [
    "fixed_mask = mask.loc[~((mask.start == 0) & (mask.end > 50000))]"
   ]
  },
  {
   "cell_type": "code",
   "execution_count": 16,
   "id": "3f3a2f6a",
   "metadata": {},
   "outputs": [
    {
     "data": {
      "text/html": [
       "<div>\n",
       "<style scoped>\n",
       "    .dataframe tbody tr th:only-of-type {\n",
       "        vertical-align: middle;\n",
       "    }\n",
       "\n",
       "    .dataframe tbody tr th {\n",
       "        vertical-align: top;\n",
       "    }\n",
       "\n",
       "    .dataframe thead th {\n",
       "        text-align: right;\n",
       "    }\n",
       "</style>\n",
       "<table border=\"1\" class=\"dataframe\">\n",
       "  <thead>\n",
       "    <tr style=\"text-align: right;\">\n",
       "      <th></th>\n",
       "      <th>chrom</th>\n",
       "      <th>start</th>\n",
       "      <th>end</th>\n",
       "    </tr>\n",
       "  </thead>\n",
       "  <tbody>\n",
       "    <tr>\n",
       "      <th>0</th>\n",
       "      <td>chr1</td>\n",
       "      <td>0</td>\n",
       "      <td>73</td>\n",
       "    </tr>\n",
       "    <tr>\n",
       "      <th>1</th>\n",
       "      <td>chr1</td>\n",
       "      <td>74</td>\n",
       "      <td>75</td>\n",
       "    </tr>\n",
       "    <tr>\n",
       "      <th>2</th>\n",
       "      <td>chr1</td>\n",
       "      <td>76</td>\n",
       "      <td>77</td>\n",
       "    </tr>\n",
       "    <tr>\n",
       "      <th>3</th>\n",
       "      <td>chr1</td>\n",
       "      <td>80</td>\n",
       "      <td>81</td>\n",
       "    </tr>\n",
       "    <tr>\n",
       "      <th>4</th>\n",
       "      <td>chr1</td>\n",
       "      <td>82</td>\n",
       "      <td>89</td>\n",
       "    </tr>\n",
       "    <tr>\n",
       "      <th>...</th>\n",
       "      <td>...</td>\n",
       "      <td>...</td>\n",
       "      <td>...</td>\n",
       "    </tr>\n",
       "    <tr>\n",
       "      <th>16005255</th>\n",
       "      <td>chr20</td>\n",
       "      <td>72047499</td>\n",
       "      <td>72048329</td>\n",
       "    </tr>\n",
       "    <tr>\n",
       "      <th>16005256</th>\n",
       "      <td>chr20</td>\n",
       "      <td>72048358</td>\n",
       "      <td>72048359</td>\n",
       "    </tr>\n",
       "    <tr>\n",
       "      <th>16005257</th>\n",
       "      <td>chr20</td>\n",
       "      <td>72048403</td>\n",
       "      <td>72048774</td>\n",
       "    </tr>\n",
       "    <tr>\n",
       "      <th>16005258</th>\n",
       "      <td>chr20</td>\n",
       "      <td>72048781</td>\n",
       "      <td>72048782</td>\n",
       "    </tr>\n",
       "    <tr>\n",
       "      <th>16005259</th>\n",
       "      <td>chr20</td>\n",
       "      <td>72048825</td>\n",
       "      <td>72050622</td>\n",
       "    </tr>\n",
       "  </tbody>\n",
       "</table>\n",
       "<p>16005249 rows × 3 columns</p>\n",
       "</div>"
      ],
      "text/plain": [
       "          chrom     start       end\n",
       "0          chr1         0        73\n",
       "1          chr1        74        75\n",
       "2          chr1        76        77\n",
       "3          chr1        80        81\n",
       "4          chr1        82        89\n",
       "...         ...       ...       ...\n",
       "16005255  chr20  72047499  72048329\n",
       "16005256  chr20  72048358  72048359\n",
       "16005257  chr20  72048403  72048774\n",
       "16005258  chr20  72048781  72048782\n",
       "16005259  chr20  72048825  72050622\n",
       "\n",
       "[16005249 rows x 3 columns]"
      ]
     },
     "execution_count": 16,
     "metadata": {},
     "output_type": "execute_result"
    }
   ],
   "source": [
    "fixed_mask"
   ]
  },
  {
   "cell_type": "code",
   "execution_count": 18,
   "id": "af4da9fc",
   "metadata": {},
   "outputs": [
    {
     "name": "stdout",
     "output_type": "stream",
     "text": [
      "0.07090549778646871\n",
      "0.06313863241524019\n",
      "0.07328484571848408\n",
      "0.06682795744311829\n",
      "0.06862417454469585\n",
      "0.06869392160234977\n",
      "0.07012727199162838\n",
      "0.06637806737539105\n",
      "0.0728331577995744\n",
      "0.08386837162837076\n",
      "0.071320826129935\n",
      "0.06295321355763549\n",
      "0.06552101888070633\n",
      "0.07457287294857269\n",
      "0.07551994082397911\n",
      "0.09234629037468911\n",
      "0.07374916767598438\n",
      "0.0630869337294097\n",
      "0.1559295341391818\n",
      "0.07627420621018373\n"
     ]
    }
   ],
   "source": [
    "for chrom in fixed_mask.chrom.unique():\n",
    "    chr_subset = fixed_mask.loc[fixed_mask.chrom == chrom]\n",
    "    print(sum(chr_subset.end-chr_subset.start)/chr_subset.end.max())"
   ]
  },
  {
   "cell_type": "code",
   "execution_count": 19,
   "id": "0876947c",
   "metadata": {},
   "outputs": [],
   "source": [
    "fixed_mask.to_csv(relernn_dir + \"autosomes.sorted.bed\", sep=\"\\t\", header=False, index=False)"
   ]
  }
 ],
 "metadata": {
  "kernelspec": {
   "display_name": "Python 3 (ipykernel)",
   "language": "python",
   "name": "python3"
  },
  "language_info": {
   "codemirror_mode": {
    "name": "ipython",
    "version": 3
   },
   "file_extension": ".py",
   "mimetype": "text/x-python",
   "name": "python",
   "nbconvert_exporter": "python",
   "pygments_lexer": "ipython3",
   "version": "3.7.12"
  }
 },
 "nbformat": 4,
 "nbformat_minor": 5
}
