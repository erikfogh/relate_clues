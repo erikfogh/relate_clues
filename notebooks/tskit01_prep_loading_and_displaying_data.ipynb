{
 "cells": [
  {
   "cell_type": "markdown",
   "metadata": {},
   "source": [
    "Small test of conversion from Relate format into tskit"
   ]
  },
  {
   "cell_type": "code",
   "execution_count": 1,
   "metadata": {},
   "outputs": [],
   "source": [
    "%run ../scripts/notebook_settings_lean.py\n",
    "import tskit"
   ]
  },
  {
   "cell_type": "markdown",
   "metadata": {},
   "source": [
    "Setting up a haploid dataframe for relate runs"
   ]
  },
  {
   "cell_type": "code",
   "execution_count": 2,
   "metadata": {},
   "outputs": [
    {
     "data": {
      "text/html": [
       "<div>\n",
       "<style scoped>\n",
       "    .dataframe tbody tr th:only-of-type {\n",
       "        vertical-align: middle;\n",
       "    }\n",
       "\n",
       "    .dataframe tbody tr th {\n",
       "        vertical-align: top;\n",
       "    }\n",
       "\n",
       "    .dataframe thead th {\n",
       "        text-align: right;\n",
       "    }\n",
       "</style>\n",
       "<table border=\"1\" class=\"dataframe\">\n",
       "  <thead>\n",
       "    <tr style=\"text-align: right;\">\n",
       "      <th></th>\n",
       "      <th>PGDP_ID</th>\n",
       "      <th>Provider_ID</th>\n",
       "      <th>Provider</th>\n",
       "      <th>Genus</th>\n",
       "      <th>Species</th>\n",
       "      <th>Origin</th>\n",
       "      <th>Sex</th>\n",
       "      <th>address</th>\n",
       "      <th>longitude</th>\n",
       "      <th>latitude</th>\n",
       "      <th>callset_index</th>\n",
       "      <th>C_origin</th>\n",
       "    </tr>\n",
       "  </thead>\n",
       "  <tbody>\n",
       "    <tr>\n",
       "      <th>0</th>\n",
       "      <td>Sci_16066</td>\n",
       "      <td>16066_3130</td>\n",
       "      <td>Rogers</td>\n",
       "      <td>Papio</td>\n",
       "      <td>cynocephalus</td>\n",
       "      <td>Mikumi, Tanzania</td>\n",
       "      <td>F</td>\n",
       "      <td>Mikumi, Kilosa, Morogoro, Coastal Zone, Tanzania</td>\n",
       "      <td>36.977032</td>\n",
       "      <td>-7.404852</td>\n",
       "      <td>0</td>\n",
       "      <td>Cynocephalus, Central Tanzania</td>\n",
       "    </tr>\n",
       "    <tr>\n",
       "      <th>1</th>\n",
       "      <td>Sci_16098</td>\n",
       "      <td>16098_5026</td>\n",
       "      <td>Rogers</td>\n",
       "      <td>Papio</td>\n",
       "      <td>cynocephalus</td>\n",
       "      <td>Mikumi, Tanzania</td>\n",
       "      <td>F</td>\n",
       "      <td>Mikumi, Kilosa, Morogoro, Coastal Zone, Tanzania</td>\n",
       "      <td>36.977032</td>\n",
       "      <td>-7.404852</td>\n",
       "      <td>1</td>\n",
       "      <td>Cynocephalus, Central Tanzania</td>\n",
       "    </tr>\n",
       "    <tr>\n",
       "      <th>2</th>\n",
       "      <td>Sci_30877</td>\n",
       "      <td>30877_3426</td>\n",
       "      <td>James Else</td>\n",
       "      <td>Papio</td>\n",
       "      <td>anubis</td>\n",
       "      <td>Aberdare, Kenya</td>\n",
       "      <td>M</td>\n",
       "      <td>Aberdare National Park, Nyeri, Central Kenya, ...</td>\n",
       "      <td>36.712451</td>\n",
       "      <td>-0.410251</td>\n",
       "      <td>2</td>\n",
       "      <td>Anubis, Kenya</td>\n",
       "    </tr>\n",
       "    <tr>\n",
       "      <th>3</th>\n",
       "      <td>Sci_30977</td>\n",
       "      <td>30977_3373</td>\n",
       "      <td>James Else</td>\n",
       "      <td>Papio</td>\n",
       "      <td>anubis</td>\n",
       "      <td>Aberdare, Kenya</td>\n",
       "      <td>F</td>\n",
       "      <td>Aberdare National Park, Nyeri, Central Kenya, ...</td>\n",
       "      <td>36.712451</td>\n",
       "      <td>-0.410251</td>\n",
       "      <td>3</td>\n",
       "      <td>Anubis, Kenya</td>\n",
       "    </tr>\n",
       "    <tr>\n",
       "      <th>4</th>\n",
       "      <td>Sci_34449</td>\n",
       "      <td>34449_BZ11022</td>\n",
       "      <td>Rogers/Jolly/Phillips-Conroy</td>\n",
       "      <td>Papio</td>\n",
       "      <td>kindae</td>\n",
       "      <td>Chunga, Zambia</td>\n",
       "      <td>F</td>\n",
       "      <td>Chunga, Mumbwa District, Central Province, Zambia</td>\n",
       "      <td>26.005210</td>\n",
       "      <td>-15.053557</td>\n",
       "      <td>4</td>\n",
       "      <td>Kindae, Zambia</td>\n",
       "    </tr>\n",
       "    <tr>\n",
       "      <th>...</th>\n",
       "      <td>...</td>\n",
       "      <td>...</td>\n",
       "      <td>...</td>\n",
       "      <td>...</td>\n",
       "      <td>...</td>\n",
       "      <td>...</td>\n",
       "      <td>...</td>\n",
       "      <td>...</td>\n",
       "      <td>...</td>\n",
       "      <td>...</td>\n",
       "      <td>...</td>\n",
       "      <td>...</td>\n",
       "    </tr>\n",
       "    <tr>\n",
       "      <th>222</th>\n",
       "      <td>PD_0790</td>\n",
       "      <td>34418_BZ11065</td>\n",
       "      <td>Rogers/Jolly/Phillips-Conroy</td>\n",
       "      <td>Papio</td>\n",
       "      <td>kindae</td>\n",
       "      <td>Chunga, Zambia</td>\n",
       "      <td>F</td>\n",
       "      <td>Chunga, Mumbwa District, Central Province, Zambia</td>\n",
       "      <td>26.005210</td>\n",
       "      <td>-15.053557</td>\n",
       "      <td>222</td>\n",
       "      <td>Kindae, Zambia</td>\n",
       "    </tr>\n",
       "    <tr>\n",
       "      <th>223</th>\n",
       "      <td>PD_0791</td>\n",
       "      <td>34419_BZ11066</td>\n",
       "      <td>Rogers/Jolly/Phillips-Conroy</td>\n",
       "      <td>Papio</td>\n",
       "      <td>kindae</td>\n",
       "      <td>Chunga, Zambia</td>\n",
       "      <td>F</td>\n",
       "      <td>Chunga, Mumbwa District, Central Province, Zambia</td>\n",
       "      <td>26.005210</td>\n",
       "      <td>-15.053557</td>\n",
       "      <td>223</td>\n",
       "      <td>Kindae, Zambia</td>\n",
       "    </tr>\n",
       "    <tr>\n",
       "      <th>224</th>\n",
       "      <td>PD_0792</td>\n",
       "      <td>34420_BZ11067</td>\n",
       "      <td>Rogers/Jolly/Phillips-Conroy</td>\n",
       "      <td>Papio</td>\n",
       "      <td>kindae</td>\n",
       "      <td>Chunga, Zambia</td>\n",
       "      <td>F</td>\n",
       "      <td>Chunga, Mumbwa District, Central Province, Zambia</td>\n",
       "      <td>26.005210</td>\n",
       "      <td>-15.053557</td>\n",
       "      <td>224</td>\n",
       "      <td>Kindae, Zambia</td>\n",
       "    </tr>\n",
       "    <tr>\n",
       "      <th>225</th>\n",
       "      <td>PD_0793</td>\n",
       "      <td>34422_BZ11070</td>\n",
       "      <td>Rogers/Jolly/Phillips-Conroy</td>\n",
       "      <td>Papio</td>\n",
       "      <td>kindae</td>\n",
       "      <td>Chunga, Zambia</td>\n",
       "      <td>M</td>\n",
       "      <td>Chunga, Mumbwa District, Central Province, Zambia</td>\n",
       "      <td>26.005210</td>\n",
       "      <td>-15.053557</td>\n",
       "      <td>225</td>\n",
       "      <td>Kindae, Zambia</td>\n",
       "    </tr>\n",
       "    <tr>\n",
       "      <th>226</th>\n",
       "      <td>PD_0794_BAB</td>\n",
       "      <td>34423_BZ11071</td>\n",
       "      <td>Rogers/Jolly/Phillips-Conroy</td>\n",
       "      <td>Papio</td>\n",
       "      <td>kindae</td>\n",
       "      <td>Chunga, Zambia</td>\n",
       "      <td>M</td>\n",
       "      <td>Chunga, Mumbwa District, Central Province, Zambia</td>\n",
       "      <td>26.005210</td>\n",
       "      <td>-15.053557</td>\n",
       "      <td>226</td>\n",
       "      <td>Kindae, Zambia</td>\n",
       "    </tr>\n",
       "  </tbody>\n",
       "</table>\n",
       "<p>227 rows × 12 columns</p>\n",
       "</div>"
      ],
      "text/plain": [
       "         PGDP_ID    Provider_ID                      Provider  Genus  \\\n",
       "0      Sci_16066     16066_3130                        Rogers  Papio   \n",
       "1      Sci_16098     16098_5026                        Rogers  Papio   \n",
       "2      Sci_30877     30877_3426                    James Else  Papio   \n",
       "3      Sci_30977     30977_3373                    James Else  Papio   \n",
       "4      Sci_34449  34449_BZ11022  Rogers/Jolly/Phillips-Conroy  Papio   \n",
       "..           ...            ...                           ...    ...   \n",
       "222      PD_0790  34418_BZ11065  Rogers/Jolly/Phillips-Conroy  Papio   \n",
       "223      PD_0791  34419_BZ11066  Rogers/Jolly/Phillips-Conroy  Papio   \n",
       "224      PD_0792  34420_BZ11067  Rogers/Jolly/Phillips-Conroy  Papio   \n",
       "225      PD_0793  34422_BZ11070  Rogers/Jolly/Phillips-Conroy  Papio   \n",
       "226  PD_0794_BAB  34423_BZ11071  Rogers/Jolly/Phillips-Conroy  Papio   \n",
       "\n",
       "          Species            Origin Sex  \\\n",
       "0    cynocephalus  Mikumi, Tanzania   F   \n",
       "1    cynocephalus  Mikumi, Tanzania   F   \n",
       "2          anubis   Aberdare, Kenya   M   \n",
       "3          anubis   Aberdare, Kenya   F   \n",
       "4          kindae    Chunga, Zambia   F   \n",
       "..            ...               ...  ..   \n",
       "222        kindae    Chunga, Zambia   F   \n",
       "223        kindae    Chunga, Zambia   F   \n",
       "224        kindae    Chunga, Zambia   F   \n",
       "225        kindae    Chunga, Zambia   M   \n",
       "226        kindae    Chunga, Zambia   M   \n",
       "\n",
       "                                               address  longitude   latitude  \\\n",
       "0     Mikumi, Kilosa, Morogoro, Coastal Zone, Tanzania  36.977032  -7.404852   \n",
       "1     Mikumi, Kilosa, Morogoro, Coastal Zone, Tanzania  36.977032  -7.404852   \n",
       "2    Aberdare National Park, Nyeri, Central Kenya, ...  36.712451  -0.410251   \n",
       "3    Aberdare National Park, Nyeri, Central Kenya, ...  36.712451  -0.410251   \n",
       "4    Chunga, Mumbwa District, Central Province, Zambia  26.005210 -15.053557   \n",
       "..                                                 ...        ...        ...   \n",
       "222  Chunga, Mumbwa District, Central Province, Zambia  26.005210 -15.053557   \n",
       "223  Chunga, Mumbwa District, Central Province, Zambia  26.005210 -15.053557   \n",
       "224  Chunga, Mumbwa District, Central Province, Zambia  26.005210 -15.053557   \n",
       "225  Chunga, Mumbwa District, Central Province, Zambia  26.005210 -15.053557   \n",
       "226  Chunga, Mumbwa District, Central Province, Zambia  26.005210 -15.053557   \n",
       "\n",
       "     callset_index                        C_origin  \n",
       "0                0  Cynocephalus, Central Tanzania  \n",
       "1                1  Cynocephalus, Central Tanzania  \n",
       "2                2                   Anubis, Kenya  \n",
       "3                3                   Anubis, Kenya  \n",
       "4                4                  Kindae, Zambia  \n",
       "..             ...                             ...  \n",
       "222            222                  Kindae, Zambia  \n",
       "223            223                  Kindae, Zambia  \n",
       "224            224                  Kindae, Zambia  \n",
       "225            225                  Kindae, Zambia  \n",
       "226            226                  Kindae, Zambia  \n",
       "\n",
       "[227 rows x 12 columns]"
      ]
     },
     "execution_count": 2,
     "metadata": {},
     "output_type": "execute_result"
    }
   ],
   "source": [
    "meta_data_samples = pd.read_csv(\"../data/Papio_metadata_with_clustering_sci.txt\", sep =\" \")\n",
    "meta_data_samples"
   ]
  },
  {
   "cell_type": "code",
   "execution_count": 3,
   "metadata": {},
   "outputs": [
    {
     "data": {
      "text/plain": [
       "0      Sci_16066\n",
       "1      Sci_16098\n",
       "59       PD_0268\n",
       "60       PD_0269\n",
       "61       PD_0270\n",
       "         ...    \n",
       "203    PD_0771_b\n",
       "204    PD_0772_b\n",
       "205    PD_0773_b\n",
       "206    PD_0774_b\n",
       "207    PD_0775_b\n",
       "Name: PGDP_ID, Length: 114, dtype: object"
      ]
     },
     "execution_count": 3,
     "metadata": {},
     "output_type": "execute_result"
    }
   ],
   "source": [
    "mikumi_IDs = meta_data_samples.loc[meta_data_samples.Origin == \"Mikumi, Tanzania\"].PGDP_ID\n",
    "pd.concat([mikumi_IDs, mikumi_IDs+\"_a\", mikumi_IDs+\"_b\"])"
   ]
  },
  {
   "cell_type": "code",
   "execution_count": 20,
   "metadata": {},
   "outputs": [],
   "source": [
    "df_d = {}\n",
    "for c in meta_data_samples.columns:\n",
    "    df_d[c] = []\n",
    "for i, row in meta_data_samples.iterrows():\n",
    "    ID = row.PGDP_ID\n",
    "    if row.Sex == \"F\":\n",
    "        for r in row.index:\n",
    "            if r == \"PGDP_ID\":\n",
    "                df_d[r].append(ID + \"_a\")\n",
    "                df_d[r].append(ID + \"_b\")\n",
    "            else:\n",
    "                df_d[r].append(row[r])\n",
    "                df_d[r].append(row[r])\n",
    "    else:\n",
    "        for r in row.index:\n",
    "            df_d[r].append(row[r])\n",
    "haploid_meta_data = pd.DataFrame(df_d)"
   ]
  },
  {
   "cell_type": "code",
   "execution_count": 21,
   "metadata": {},
   "outputs": [],
   "source": [
    "haploid_meta_data.to_csv(\"../data/haploid_metadata.txt\", sep =\" \", index=False)"
   ]
  },
  {
   "cell_type": "markdown",
   "metadata": {},
   "source": [
    "Poplabels for Relate"
   ]
  },
  {
   "cell_type": "code",
   "execution_count": 6,
   "metadata": {},
   "outputs": [],
   "source": [
    "#8 Cluster version\n",
    "id_list = []\n",
    "pop_list = []\n",
    "group_list = []\n",
    "sex_list = []\n",
    "for i, row in meta_data_samples.iterrows():\n",
    "    if row.PGDP_ID[0] != \"P\" and row.PGDP_ID[0] != \"S\":\n",
    "        id_list.append(\"Sci_\"+row.PGDP_ID)\n",
    "    else:\n",
    "        id_list.append(row.PGDP_ID)\n",
    "    pop_list.append(row.C_origin)\n",
    "    group_list.append(row.C_origin)\n",
    "    if row.Sex == \"F\":\n",
    "        sex_list.append(\"female\")\n",
    "    else:\n",
    "        sex_list.append(\"male\")"
   ]
  },
  {
   "cell_type": "code",
   "execution_count": 7,
   "metadata": {},
   "outputs": [],
   "source": [
    "df_relate_pop = pd.DataFrame({\"ID\": id_list, \"POP\": pop_list, \"GROUP\": group_list, \"SEX\": sex_list})"
   ]
  },
  {
   "cell_type": "code",
   "execution_count": 8,
   "metadata": {},
   "outputs": [],
   "source": [
    "relate_map = {\"Cynocephalus, Central Tanzania\": \"Eastern_Yellow\", \"Anubis, Kenya\": \"Kenyan_Olive\",\n",
    "              \"Kindae, Zambia\": \"Kindae\", \"Gelada, Captive\": \"Gelada\", \"Hamadryas, Ethiopia\": \"Hamadryas\",\n",
    "              \"Anubis, Tanzania\": \"Tanzanian_Olive\", \"Cynocephalus, Western Tanzania\": \"Western_Yellow\",\n",
    "              \"Papio, Senegal\": \"Papio\", \"Ursinus, Zambia\": \"Chacma\", \"Anubis, Ethiopia\": \"Ethiopian_Olive\"}"
   ]
  },
  {
   "cell_type": "code",
   "execution_count": 9,
   "metadata": {},
   "outputs": [],
   "source": [
    "df_relate_pop[\"POP\"] = df_relate_pop[\"POP\"].map(relate_map)\n",
    "df_relate_pop[\"GROUP\"] = df_relate_pop[\"GROUP\"].map(relate_map)"
   ]
  },
  {
   "cell_type": "code",
   "execution_count": 10,
   "metadata": {},
   "outputs": [
    {
     "data": {
      "text/html": [
       "<div>\n",
       "<style scoped>\n",
       "    .dataframe tbody tr th:only-of-type {\n",
       "        vertical-align: middle;\n",
       "    }\n",
       "\n",
       "    .dataframe tbody tr th {\n",
       "        vertical-align: top;\n",
       "    }\n",
       "\n",
       "    .dataframe thead th {\n",
       "        text-align: right;\n",
       "    }\n",
       "</style>\n",
       "<table border=\"1\" class=\"dataframe\">\n",
       "  <thead>\n",
       "    <tr style=\"text-align: right;\">\n",
       "      <th></th>\n",
       "      <th>ID</th>\n",
       "      <th>POP</th>\n",
       "      <th>GROUP</th>\n",
       "      <th>SEX</th>\n",
       "    </tr>\n",
       "  </thead>\n",
       "  <tbody>\n",
       "    <tr>\n",
       "      <th>6</th>\n",
       "      <td>Sci_38168</td>\n",
       "      <td>Gelada</td>\n",
       "      <td>Gelada</td>\n",
       "      <td>male</td>\n",
       "    </tr>\n",
       "    <tr>\n",
       "      <th>9</th>\n",
       "      <td>PD_0067</td>\n",
       "      <td>Gelada</td>\n",
       "      <td>Gelada</td>\n",
       "      <td>male</td>\n",
       "    </tr>\n",
       "  </tbody>\n",
       "</table>\n",
       "</div>"
      ],
      "text/plain": [
       "          ID     POP   GROUP   SEX\n",
       "6  Sci_38168  Gelada  Gelada  male\n",
       "9    PD_0067  Gelada  Gelada  male"
      ]
     },
     "execution_count": 10,
     "metadata": {},
     "output_type": "execute_result"
    }
   ],
   "source": [
    "df_relate_pop.loc[df_relate_pop.GROUP == \"Gelada\"]"
   ]
  },
  {
   "cell_type": "code",
   "execution_count": 11,
   "metadata": {},
   "outputs": [],
   "source": [
    "df_relate_pop_aut = df_relate_pop\n",
    "df_relate_pop_aut.to_csv(\"/home/eriks/baboondiversity/people/eriks/second_analysis_baboons/data/pops/all_inds_8cluster.sample\",\n",
    "                         sep=\" \", index=False)"
   ]
  },
  {
   "cell_type": "code",
   "execution_count": 12,
   "metadata": {},
   "outputs": [
    {
     "data": {
      "text/plain": [
       "25"
      ]
     },
     "execution_count": 12,
     "metadata": {},
     "output_type": "execute_result"
    }
   ],
   "source": [
    "len(df_relate_pop_aut.loc[df_relate_pop_aut.GROUP == \"Ethiopian_Olive\"])"
   ]
  },
  {
   "cell_type": "code",
   "execution_count": 13,
   "metadata": {},
   "outputs": [],
   "source": [
    "df_relate_pop_xfem = df_relate_pop.loc[(df_relate_pop.SEX == \"female\")\n",
    "                  & (df_relate_pop.POP != \"Kenyan_Olive\")]\n",
    "df_relate_pop_xfem.to_csv(\"/home/eriks/baboondiversity/people/eriks/second_analysis_baboons/data/pops/all_females_8cluster.sample\",\n",
    "                          sep=\" \", index=False)"
   ]
  },
  {
   "cell_type": "code",
   "execution_count": 14,
   "metadata": {},
   "outputs": [],
   "source": [
    "sample_map = {}\n",
    "for i, row in df_relate_pop_aut.iterrows():\n",
    "    ID = row.ID\n",
    "    if row.SEX == \"female\":\n",
    "        for r in row.index:\n",
    "            if r == \"ID\":\n",
    "                sample_map[ID + \"_1\"] = ID + \"_a\"\n",
    "                sample_map[ID + \"_2\"] = ID + \"_b\"\n",
    "    else:\n",
    "        for r in row.index:\n",
    "            if r == \"ID\":\n",
    "                sample_map[ID ] = ID"
   ]
  },
  {
   "cell_type": "code",
   "execution_count": 15,
   "metadata": {},
   "outputs": [],
   "source": [
    "df_d = {}\n",
    "for c in df_relate_pop_aut.columns:\n",
    "    df_d[c] = []\n",
    "for i, row in df_relate_pop_aut.iterrows():\n",
    "    ID = row.ID\n",
    "    if row.SEX == \"female\":\n",
    "        for r in row.index:\n",
    "            if r == \"ID\":\n",
    "                df_d[r].append(ID + \"_1\")\n",
    "                df_d[r].append(ID + \"_2\")\n",
    "            else:\n",
    "                df_d[r].append(row[r])\n",
    "                df_d[r].append(row[r])\n",
    "    else:\n",
    "        for r in row.index:\n",
    "            df_d[r].append(row[r])\n",
    "haploid_poplabels = pd.DataFrame(df_d)"
   ]
  },
  {
   "cell_type": "code",
   "execution_count": 17,
   "metadata": {},
   "outputs": [],
   "source": [
    "haploid_poplabels_s = haploid_poplabels.sort_values(by=\"ID\")"
   ]
  },
  {
   "cell_type": "code",
   "execution_count": 18,
   "metadata": {},
   "outputs": [],
   "source": [
    "haploid_poplabels_s.SEX = 1 # haploid poplabel\n",
    "haploid_poplabels_s.ID = haploid_poplabels.ID.map(sample_map)"
   ]
  },
  {
   "cell_type": "code",
   "execution_count": 19,
   "metadata": {},
   "outputs": [
    {
     "data": {
      "text/html": [
       "<div>\n",
       "<style scoped>\n",
       "    .dataframe tbody tr th:only-of-type {\n",
       "        vertical-align: middle;\n",
       "    }\n",
       "\n",
       "    .dataframe tbody tr th {\n",
       "        vertical-align: top;\n",
       "    }\n",
       "\n",
       "    .dataframe thead th {\n",
       "        text-align: right;\n",
       "    }\n",
       "</style>\n",
       "<table border=\"1\" class=\"dataframe\">\n",
       "  <thead>\n",
       "    <tr style=\"text-align: right;\">\n",
       "      <th></th>\n",
       "      <th>ID</th>\n",
       "      <th>POP</th>\n",
       "      <th>GROUP</th>\n",
       "      <th>SEX</th>\n",
       "    </tr>\n",
       "  </thead>\n",
       "  <tbody>\n",
       "    <tr>\n",
       "      <th>0</th>\n",
       "      <td>Sci_16066_1</td>\n",
       "      <td>Eastern_Yellow</td>\n",
       "      <td>Eastern_Yellow</td>\n",
       "      <td>female</td>\n",
       "    </tr>\n",
       "    <tr>\n",
       "      <th>1</th>\n",
       "      <td>Sci_16066_2</td>\n",
       "      <td>Eastern_Yellow</td>\n",
       "      <td>Eastern_Yellow</td>\n",
       "      <td>female</td>\n",
       "    </tr>\n",
       "    <tr>\n",
       "      <th>2</th>\n",
       "      <td>Sci_16098_1</td>\n",
       "      <td>Eastern_Yellow</td>\n",
       "      <td>Eastern_Yellow</td>\n",
       "      <td>female</td>\n",
       "    </tr>\n",
       "    <tr>\n",
       "      <th>3</th>\n",
       "      <td>Sci_16098_2</td>\n",
       "      <td>Eastern_Yellow</td>\n",
       "      <td>Eastern_Yellow</td>\n",
       "      <td>female</td>\n",
       "    </tr>\n",
       "    <tr>\n",
       "      <th>4</th>\n",
       "      <td>Sci_30877</td>\n",
       "      <td>Kenyan_Olive</td>\n",
       "      <td>Kenyan_Olive</td>\n",
       "      <td>male</td>\n",
       "    </tr>\n",
       "    <tr>\n",
       "      <th>...</th>\n",
       "      <td>...</td>\n",
       "      <td>...</td>\n",
       "      <td>...</td>\n",
       "      <td>...</td>\n",
       "    </tr>\n",
       "    <tr>\n",
       "      <th>321</th>\n",
       "      <td>PD_0791_2</td>\n",
       "      <td>Kindae</td>\n",
       "      <td>Kindae</td>\n",
       "      <td>female</td>\n",
       "    </tr>\n",
       "    <tr>\n",
       "      <th>322</th>\n",
       "      <td>PD_0792_1</td>\n",
       "      <td>Kindae</td>\n",
       "      <td>Kindae</td>\n",
       "      <td>female</td>\n",
       "    </tr>\n",
       "    <tr>\n",
       "      <th>323</th>\n",
       "      <td>PD_0792_2</td>\n",
       "      <td>Kindae</td>\n",
       "      <td>Kindae</td>\n",
       "      <td>female</td>\n",
       "    </tr>\n",
       "    <tr>\n",
       "      <th>324</th>\n",
       "      <td>PD_0793</td>\n",
       "      <td>Kindae</td>\n",
       "      <td>Kindae</td>\n",
       "      <td>male</td>\n",
       "    </tr>\n",
       "    <tr>\n",
       "      <th>325</th>\n",
       "      <td>PD_0794_BAB</td>\n",
       "      <td>Kindae</td>\n",
       "      <td>Kindae</td>\n",
       "      <td>male</td>\n",
       "    </tr>\n",
       "  </tbody>\n",
       "</table>\n",
       "<p>326 rows × 4 columns</p>\n",
       "</div>"
      ],
      "text/plain": [
       "              ID             POP           GROUP     SEX\n",
       "0    Sci_16066_1  Eastern_Yellow  Eastern_Yellow  female\n",
       "1    Sci_16066_2  Eastern_Yellow  Eastern_Yellow  female\n",
       "2    Sci_16098_1  Eastern_Yellow  Eastern_Yellow  female\n",
       "3    Sci_16098_2  Eastern_Yellow  Eastern_Yellow  female\n",
       "4      Sci_30877    Kenyan_Olive    Kenyan_Olive    male\n",
       "..           ...             ...             ...     ...\n",
       "321    PD_0791_2          Kindae          Kindae  female\n",
       "322    PD_0792_1          Kindae          Kindae  female\n",
       "323    PD_0792_2          Kindae          Kindae  female\n",
       "324      PD_0793          Kindae          Kindae    male\n",
       "325  PD_0794_BAB          Kindae          Kindae    male\n",
       "\n",
       "[326 rows x 4 columns]"
      ]
     },
     "execution_count": 19,
     "metadata": {},
     "output_type": "execute_result"
    }
   ],
   "source": [
    "haploid_poplabels"
   ]
  },
  {
   "cell_type": "code",
   "execution_count": 18,
   "metadata": {},
   "outputs": [],
   "source": [
    "pd.DataFrame({\"ID_old\": sample_map.keys(), \"ID_new\": sample_map.values()}).sort_values(by=\"ID_old\").to_csv(\n",
    "    \"/home/eriks/baboondiversity/people/eriks/second_analysis_baboons/data/pops/hapX_reheader.txt\",\n",
    "    sep=\" \", index=False, header=False)"
   ]
  },
  {
   "cell_type": "code",
   "execution_count": 42,
   "metadata": {},
   "outputs": [
    {
     "data": {
      "text/html": [
       "<div>\n",
       "<style scoped>\n",
       "    .dataframe tbody tr th:only-of-type {\n",
       "        vertical-align: middle;\n",
       "    }\n",
       "\n",
       "    .dataframe tbody tr th {\n",
       "        vertical-align: top;\n",
       "    }\n",
       "\n",
       "    .dataframe thead th {\n",
       "        text-align: right;\n",
       "    }\n",
       "</style>\n",
       "<table border=\"1\" class=\"dataframe\">\n",
       "  <thead>\n",
       "    <tr style=\"text-align: right;\">\n",
       "      <th></th>\n",
       "      <th>ID</th>\n",
       "      <th>POP</th>\n",
       "      <th>GROUP</th>\n",
       "      <th>SEX</th>\n",
       "    </tr>\n",
       "  </thead>\n",
       "  <tbody>\n",
       "    <tr>\n",
       "      <th>15</th>\n",
       "      <td>PD_0067</td>\n",
       "      <td>Gelada</td>\n",
       "      <td>Gelada</td>\n",
       "      <td>1</td>\n",
       "    </tr>\n",
       "    <tr>\n",
       "      <th>16</th>\n",
       "      <td>PD_0199_a</td>\n",
       "      <td>Tanzanian_Olive</td>\n",
       "      <td>Tanzanian_Olive</td>\n",
       "      <td>1</td>\n",
       "    </tr>\n",
       "    <tr>\n",
       "      <th>17</th>\n",
       "      <td>PD_0199_b</td>\n",
       "      <td>Tanzanian_Olive</td>\n",
       "      <td>Tanzanian_Olive</td>\n",
       "      <td>1</td>\n",
       "    </tr>\n",
       "    <tr>\n",
       "      <th>18</th>\n",
       "      <td>PD_0200_a</td>\n",
       "      <td>Tanzanian_Olive</td>\n",
       "      <td>Tanzanian_Olive</td>\n",
       "      <td>1</td>\n",
       "    </tr>\n",
       "    <tr>\n",
       "      <th>19</th>\n",
       "      <td>PD_0200_b</td>\n",
       "      <td>Tanzanian_Olive</td>\n",
       "      <td>Tanzanian_Olive</td>\n",
       "      <td>1</td>\n",
       "    </tr>\n",
       "    <tr>\n",
       "      <th>...</th>\n",
       "      <td>...</td>\n",
       "      <td>...</td>\n",
       "      <td>...</td>\n",
       "      <td>...</td>\n",
       "    </tr>\n",
       "    <tr>\n",
       "      <th>10</th>\n",
       "      <td>Sci_34474_b</td>\n",
       "      <td>Kindae</td>\n",
       "      <td>Kindae</td>\n",
       "      <td>1</td>\n",
       "    </tr>\n",
       "    <tr>\n",
       "      <th>11</th>\n",
       "      <td>Sci_38168</td>\n",
       "      <td>Gelada</td>\n",
       "      <td>Gelada</td>\n",
       "      <td>1</td>\n",
       "    </tr>\n",
       "    <tr>\n",
       "      <th>12</th>\n",
       "      <td>Sci_97074_a</td>\n",
       "      <td>Hamadryas</td>\n",
       "      <td>Hamadryas</td>\n",
       "      <td>1</td>\n",
       "    </tr>\n",
       "    <tr>\n",
       "      <th>13</th>\n",
       "      <td>Sci_97074_b</td>\n",
       "      <td>Hamadryas</td>\n",
       "      <td>Hamadryas</td>\n",
       "      <td>1</td>\n",
       "    </tr>\n",
       "    <tr>\n",
       "      <th>14</th>\n",
       "      <td>Sci_97124</td>\n",
       "      <td>Hamadryas</td>\n",
       "      <td>Hamadryas</td>\n",
       "      <td>1</td>\n",
       "    </tr>\n",
       "  </tbody>\n",
       "</table>\n",
       "<p>326 rows × 4 columns</p>\n",
       "</div>"
      ],
      "text/plain": [
       "             ID              POP            GROUP  SEX\n",
       "15      PD_0067           Gelada           Gelada    1\n",
       "16    PD_0199_a  Tanzanian_Olive  Tanzanian_Olive    1\n",
       "17    PD_0199_b  Tanzanian_Olive  Tanzanian_Olive    1\n",
       "18    PD_0200_a  Tanzanian_Olive  Tanzanian_Olive    1\n",
       "19    PD_0200_b  Tanzanian_Olive  Tanzanian_Olive    1\n",
       "..          ...              ...              ...  ...\n",
       "10  Sci_34474_b           Kindae           Kindae    1\n",
       "11    Sci_38168           Gelada           Gelada    1\n",
       "12  Sci_97074_a        Hamadryas        Hamadryas    1\n",
       "13  Sci_97074_b        Hamadryas        Hamadryas    1\n",
       "14    Sci_97124        Hamadryas        Hamadryas    1\n",
       "\n",
       "[326 rows x 4 columns]"
      ]
     },
     "execution_count": 42,
     "metadata": {},
     "output_type": "execute_result"
    }
   ],
   "source": [
    "haploid_poplabels_s.loc[~haploid_poplabels_s.GROUP.isin([\"Gelada\"]) &\n",
    "                       ~haploid_poplabels_s.ID.isin([\"Sci_30977_a\", \"Sci_30977_b\"])].to_csv(\"/home/eriks/baboondiversity/people/eriks/second_analysis_baboons/data/pops/haploid_x_8cluster.sample\",\n",
    "                         sep=\" \", index=False)\n",
    "haploid_poplabels_s"
   ]
  },
  {
   "cell_type": "markdown",
   "metadata": {},
   "source": [
    "Check of error in hapX: Conclusion: Have to remove \"Sci_30977_a\", \"Sci_30977_b\" (Kenyan Olive), which is ok."
   ]
  },
  {
   "cell_type": "code",
   "execution_count": 26,
   "metadata": {},
   "outputs": [],
   "source": [
    "sample_check = pd.read_csv(\"../steps/haps_sample/chromhapX.sample\", sep=\"\\t\")\n",
    "poplabel_check = pd.read_csv(\"../data/pops/haploid_x_8cluster.sample\", sep=\" \")"
   ]
  },
  {
   "cell_type": "code",
   "execution_count": 38,
   "metadata": {},
   "outputs": [
    {
     "data": {
      "text/html": [
       "<div>\n",
       "<style scoped>\n",
       "    .dataframe tbody tr th:only-of-type {\n",
       "        vertical-align: middle;\n",
       "    }\n",
       "\n",
       "    .dataframe tbody tr th {\n",
       "        vertical-align: top;\n",
       "    }\n",
       "\n",
       "    .dataframe thead th {\n",
       "        text-align: right;\n",
       "    }\n",
       "</style>\n",
       "<table border=\"1\" class=\"dataframe\">\n",
       "  <thead>\n",
       "    <tr style=\"text-align: right;\">\n",
       "      <th></th>\n",
       "      <th>ID</th>\n",
       "      <th>POP</th>\n",
       "      <th>GROUP</th>\n",
       "      <th>SEX</th>\n",
       "    </tr>\n",
       "  </thead>\n",
       "  <tbody>\n",
       "    <tr>\n",
       "      <th>315</th>\n",
       "      <td>Sci_30977_a</td>\n",
       "      <td>Kenyan_Olive</td>\n",
       "      <td>Kenyan_Olive</td>\n",
       "      <td>1</td>\n",
       "    </tr>\n",
       "    <tr>\n",
       "      <th>316</th>\n",
       "      <td>Sci_30977_b</td>\n",
       "      <td>Kenyan_Olive</td>\n",
       "      <td>Kenyan_Olive</td>\n",
       "      <td>1</td>\n",
       "    </tr>\n",
       "  </tbody>\n",
       "</table>\n",
       "</div>"
      ],
      "text/plain": [
       "              ID           POP         GROUP  SEX\n",
       "315  Sci_30977_a  Kenyan_Olive  Kenyan_Olive    1\n",
       "316  Sci_30977_b  Kenyan_Olive  Kenyan_Olive    1"
      ]
     },
     "execution_count": 38,
     "metadata": {},
     "output_type": "execute_result"
    }
   ],
   "source": [
    "poplabel_check.loc[~poplabel_check.ID.isin(list(sample_check.ID_1))]"
   ]
  },
  {
   "cell_type": "code",
   "execution_count": 40,
   "metadata": {},
   "outputs": [
    {
     "data": {
      "text/html": [
       "<div>\n",
       "<style scoped>\n",
       "    .dataframe tbody tr th:only-of-type {\n",
       "        vertical-align: middle;\n",
       "    }\n",
       "\n",
       "    .dataframe tbody tr th {\n",
       "        vertical-align: top;\n",
       "    }\n",
       "\n",
       "    .dataframe thead th {\n",
       "        text-align: right;\n",
       "    }\n",
       "</style>\n",
       "<table border=\"1\" class=\"dataframe\">\n",
       "  <thead>\n",
       "    <tr style=\"text-align: right;\">\n",
       "      <th></th>\n",
       "      <th>ID</th>\n",
       "      <th>POP</th>\n",
       "      <th>GROUP</th>\n",
       "      <th>SEX</th>\n",
       "    </tr>\n",
       "  </thead>\n",
       "  <tbody>\n",
       "    <tr>\n",
       "      <th>314</th>\n",
       "      <td>Sci_30877</td>\n",
       "      <td>Kenyan_Olive</td>\n",
       "      <td>Kenyan_Olive</td>\n",
       "      <td>1</td>\n",
       "    </tr>\n",
       "    <tr>\n",
       "      <th>315</th>\n",
       "      <td>Sci_30977_a</td>\n",
       "      <td>Kenyan_Olive</td>\n",
       "      <td>Kenyan_Olive</td>\n",
       "      <td>1</td>\n",
       "    </tr>\n",
       "    <tr>\n",
       "      <th>316</th>\n",
       "      <td>Sci_30977_b</td>\n",
       "      <td>Kenyan_Olive</td>\n",
       "      <td>Kenyan_Olive</td>\n",
       "      <td>1</td>\n",
       "    </tr>\n",
       "  </tbody>\n",
       "</table>\n",
       "</div>"
      ],
      "text/plain": [
       "              ID           POP         GROUP  SEX\n",
       "314    Sci_30877  Kenyan_Olive  Kenyan_Olive    1\n",
       "315  Sci_30977_a  Kenyan_Olive  Kenyan_Olive    1\n",
       "316  Sci_30977_b  Kenyan_Olive  Kenyan_Olive    1"
      ]
     },
     "execution_count": 40,
     "metadata": {},
     "output_type": "execute_result"
    }
   ],
   "source": [
    "poplabel_check.loc[poplabel_check.POP == \"Kenyan_Olive\"]"
   ]
  },
  {
   "cell_type": "markdown",
   "metadata": {},
   "source": [
    "Tests of tskit in the converted relate dataset"
   ]
  },
  {
   "cell_type": "code",
   "execution_count": 2,
   "metadata": {},
   "outputs": [],
   "source": [
    "ts = tskit.load(\"../steps/all_individuals_relate/chromX_tskit.trees\")"
   ]
  },
  {
   "cell_type": "code",
   "execution_count": 3,
   "metadata": {},
   "outputs": [
    {
     "data": {
      "text/plain": [
       "0.0013148482961617984"
      ]
     },
     "execution_count": 3,
     "metadata": {},
     "output_type": "execute_result"
    }
   ],
   "source": [
    "ts.diversity()"
   ]
  },
  {
   "cell_type": "code",
   "execution_count": 4,
   "metadata": {},
   "outputs": [],
   "source": [
    "first_tree = ts.first()"
   ]
  },
  {
   "cell_type": "code",
   "execution_count": 5,
   "metadata": {
    "slideshow": {
     "slide_type": "fragment"
    }
   },
   "outputs": [
    {
     "data": {
      "text/html": [
       "\n",
       "            <div>\n",
       "              <style>\n",
       "                .tskit-table thead tr th {text-align: left;padding: 0.5em 0.5em;}\n",
       "                .tskit-table tbody tr td {padding: 0.5em 0.5em;}\n",
       "                .tskit-table tbody tr td:first-of-type {text-align: left;}\n",
       "                .tskit-details-label {vertical-align: top; padding-right:5px;}\n",
       "                .tskit-table-set {display: inline-flex;flex-wrap: wrap;margin: -12px 0 0 -12px;width: calc(100% + 12px);}\n",
       "                .tskit-table-set-table {margin: 12px 0 0 12px;}\n",
       "                details {display: inline-block;}\n",
       "                summary {cursor: pointer; outline: 0; display: list-item;}\n",
       "              </style>\n",
       "              <div class=\"tskit-table-set\">\n",
       "                <div class=\"tskit-table-set-table\">\n",
       "                  <table class=\"tskit-table\">\n",
       "                    <thead>\n",
       "                      <tr>\n",
       "                        <th style=\"padding:0;line-height:21px;\">\n",
       "                          <img style=\"height: 32px;display: inline-block;padding: 3px 5px 3px 0;\" src=\"https://raw.githubusercontent.com/tskit-dev/administrative/main/tskit_logo.svg\"/>\n",
       "                          <a target=\"_blank\" href=\"https://tskit.dev/tskit/docs/latest/python-api.html#the-treesequence-class\"> Tree Sequence </a>\n",
       "                        </th>\n",
       "                      </tr>\n",
       "                    </thead>\n",
       "                    <tbody>\n",
       "                      <tr><td>Trees</td><td>119733</td></tr>\n",
       "                      <tr><td>Sequence Length</td><td>143672781.0</td></tr>\n",
       "                      <tr><td>Time Units</td><td>unknown</td></tr>\n",
       "                      <tr><td>Sample Nodes</td><td>196</td></tr>\n",
       "                      <tr><td>Total Size</td><td>2.4 GiB</td></tr>\n",
       "                      <tr>\n",
       "                        <td>Metadata</td><td style=\"text-align: left;\">No Metadata</td></tr>\n",
       "                    </tbody>\n",
       "                  </table>\n",
       "                </div>\n",
       "                <div class=\"tskit-table-set-table\">\n",
       "                  <table class=\"tskit-table\">\n",
       "                    <thead>\n",
       "                      <tr>\n",
       "                        <th style=\"line-height:21px;\">Table</th>\n",
       "                        <th>Rows</th>\n",
       "                        <th>Size</th>\n",
       "                        <th>Has Metadata</th>\n",
       "                      </tr>\n",
       "                    </thead>\n",
       "                    <tbody>\n",
       "                    \n",
       "                  <tr>\n",
       "                    <td>Edges</td>\n",
       "                      <td>46695870</td>\n",
       "                      <td>1.4 GiB</td>\n",
       "                      <td style=\"text-align: center;\">\n",
       "                        \n",
       "                      </td>\n",
       "                    </tr>\n",
       "                \n",
       "                  <tr>\n",
       "                    <td>Individuals</td>\n",
       "                      <td>196</td>\n",
       "                      <td>5.4 KiB</td>\n",
       "                      <td style=\"text-align: center;\">\n",
       "                        \n",
       "                      </td>\n",
       "                    </tr>\n",
       "                \n",
       "                  <tr>\n",
       "                    <td>Migrations</td>\n",
       "                      <td>0</td>\n",
       "                      <td>8 Bytes</td>\n",
       "                      <td style=\"text-align: center;\">\n",
       "                        \n",
       "                      </td>\n",
       "                    </tr>\n",
       "                \n",
       "                  <tr>\n",
       "                    <td>Mutations</td>\n",
       "                      <td>1607942</td>\n",
       "                      <td>56.7 MiB</td>\n",
       "                      <td style=\"text-align: center;\">\n",
       "                        \n",
       "                      </td>\n",
       "                    </tr>\n",
       "                \n",
       "                  <tr>\n",
       "                    <td>Nodes</td>\n",
       "                      <td>23348131</td>\n",
       "                      <td>623.5 MiB</td>\n",
       "                      <td style=\"text-align: center;\">\n",
       "                        \n",
       "                      </td>\n",
       "                    </tr>\n",
       "                \n",
       "                  <tr>\n",
       "                    <td>Populations</td>\n",
       "                      <td>0</td>\n",
       "                      <td>8 Bytes</td>\n",
       "                      <td style=\"text-align: center;\">\n",
       "                        \n",
       "                      </td>\n",
       "                    </tr>\n",
       "                \n",
       "                  <tr>\n",
       "                    <td>Provenances</td>\n",
       "                      <td>0</td>\n",
       "                      <td>16 Bytes</td>\n",
       "                      <td style=\"text-align: center;\">\n",
       "                        \n",
       "                      </td>\n",
       "                    </tr>\n",
       "                \n",
       "                  <tr>\n",
       "                    <td>Sites</td>\n",
       "                      <td>1637618</td>\n",
       "                      <td>39.0 MiB</td>\n",
       "                      <td style=\"text-align: center;\">\n",
       "                        \n",
       "                      </td>\n",
       "                    </tr>\n",
       "                \n",
       "                    </tbody>\n",
       "                  </table>\n",
       "                </div>\n",
       "              </div>\n",
       "            </div>\n",
       "            "
      ],
      "text/plain": [
       "<tskit.trees.TreeSequence at 0x2b283b77a350>"
      ]
     },
     "execution_count": 5,
     "metadata": {},
     "output_type": "execute_result"
    }
   ],
   "source": [
    "ts"
   ]
  },
  {
   "cell_type": "code",
   "execution_count": 6,
   "metadata": {},
   "outputs": [
    {
     "data": {
      "text/plain": [
       "<tskit.trees.SimpleContainerSequence at 0x2b283e620e50>"
      ]
     },
     "execution_count": 6,
     "metadata": {},
     "output_type": "execute_result"
    }
   ],
   "source": [
    "ts.nodes()"
   ]
  },
  {
   "cell_type": "code",
   "execution_count": 7,
   "metadata": {},
   "outputs": [
    {
     "name": "stdout",
     "output_type": "stream",
     "text": [
      "195 0\n"
     ]
    }
   ],
   "source": [
    "s_max, s_min = 0, 100\n",
    "for s in ts.at(136387268).samples():\n",
    "    #print(s)\n",
    "    if s > s_max:\n",
    "        s_max = s\n",
    "    if s < s_min:\n",
    "        s_min = s\n",
    "print(s_max, s_min)"
   ]
  },
  {
   "cell_type": "code",
   "execution_count": 8,
   "metadata": {},
   "outputs": [
    {
     "data": {
      "text/plain": [
       "196"
      ]
     },
     "execution_count": 8,
     "metadata": {},
     "output_type": "execute_result"
    }
   ],
   "source": [
    "98*2"
   ]
  },
  {
   "cell_type": "code",
   "execution_count": 9,
   "metadata": {},
   "outputs": [],
   "source": [
    "test_tree = ts.at(136174464)"
   ]
  },
  {
   "cell_type": "code",
   "execution_count": 10,
   "metadata": {},
   "outputs": [],
   "source": [
    "poplabels = pd.read_csv(\"../data/pops/all_females_8cluster.sample\", sep=\" \",\n",
    "                        names=[\"i\", \"ID\", \"POP\", \"GROUP\", \"SEX\"], header=0)"
   ]
  },
  {
   "cell_type": "code",
   "execution_count": 11,
   "metadata": {},
   "outputs": [
    {
     "data": {
      "text/html": [
       "<div>\n",
       "<style scoped>\n",
       "    .dataframe tbody tr th:only-of-type {\n",
       "        vertical-align: middle;\n",
       "    }\n",
       "\n",
       "    .dataframe tbody tr th {\n",
       "        vertical-align: top;\n",
       "    }\n",
       "\n",
       "    .dataframe thead th {\n",
       "        text-align: right;\n",
       "    }\n",
       "</style>\n",
       "<table border=\"1\" class=\"dataframe\">\n",
       "  <thead>\n",
       "    <tr style=\"text-align: right;\">\n",
       "      <th></th>\n",
       "      <th>i</th>\n",
       "      <th>ID</th>\n",
       "      <th>POP</th>\n",
       "      <th>GROUP</th>\n",
       "      <th>SEX</th>\n",
       "    </tr>\n",
       "  </thead>\n",
       "  <tbody>\n",
       "    <tr>\n",
       "      <th>0</th>\n",
       "      <td>0</td>\n",
       "      <td>Sci_16066</td>\n",
       "      <td>Eastern Yellow</td>\n",
       "      <td>Eastern Yellow</td>\n",
       "      <td>female</td>\n",
       "    </tr>\n",
       "    <tr>\n",
       "      <th>1</th>\n",
       "      <td>1</td>\n",
       "      <td>Sci_16098</td>\n",
       "      <td>Eastern Yellow</td>\n",
       "      <td>Eastern Yellow</td>\n",
       "      <td>female</td>\n",
       "    </tr>\n",
       "    <tr>\n",
       "      <th>2</th>\n",
       "      <td>4</td>\n",
       "      <td>Sci_34449</td>\n",
       "      <td>Kindae</td>\n",
       "      <td>Kindae</td>\n",
       "      <td>female</td>\n",
       "    </tr>\n",
       "    <tr>\n",
       "      <th>3</th>\n",
       "      <td>5</td>\n",
       "      <td>Sci_34474</td>\n",
       "      <td>Kindae</td>\n",
       "      <td>Kindae</td>\n",
       "      <td>female</td>\n",
       "    </tr>\n",
       "    <tr>\n",
       "      <th>4</th>\n",
       "      <td>7</td>\n",
       "      <td>Sci_97074</td>\n",
       "      <td>Hamadryas</td>\n",
       "      <td>Hamadryas</td>\n",
       "      <td>female</td>\n",
       "    </tr>\n",
       "    <tr>\n",
       "      <th>...</th>\n",
       "      <td>...</td>\n",
       "      <td>...</td>\n",
       "      <td>...</td>\n",
       "      <td>...</td>\n",
       "      <td>...</td>\n",
       "    </tr>\n",
       "    <tr>\n",
       "      <th>93</th>\n",
       "      <td>220</td>\n",
       "      <td>PD_0788</td>\n",
       "      <td>Kindae</td>\n",
       "      <td>Kindae</td>\n",
       "      <td>female</td>\n",
       "    </tr>\n",
       "    <tr>\n",
       "      <th>94</th>\n",
       "      <td>221</td>\n",
       "      <td>PD_0789</td>\n",
       "      <td>Kindae</td>\n",
       "      <td>Kindae</td>\n",
       "      <td>female</td>\n",
       "    </tr>\n",
       "    <tr>\n",
       "      <th>95</th>\n",
       "      <td>222</td>\n",
       "      <td>PD_0790</td>\n",
       "      <td>Kindae</td>\n",
       "      <td>Kindae</td>\n",
       "      <td>female</td>\n",
       "    </tr>\n",
       "    <tr>\n",
       "      <th>96</th>\n",
       "      <td>223</td>\n",
       "      <td>PD_0791</td>\n",
       "      <td>Kindae</td>\n",
       "      <td>Kindae</td>\n",
       "      <td>female</td>\n",
       "    </tr>\n",
       "    <tr>\n",
       "      <th>97</th>\n",
       "      <td>224</td>\n",
       "      <td>PD_0792</td>\n",
       "      <td>Kindae</td>\n",
       "      <td>Kindae</td>\n",
       "      <td>female</td>\n",
       "    </tr>\n",
       "  </tbody>\n",
       "</table>\n",
       "<p>98 rows × 5 columns</p>\n",
       "</div>"
      ],
      "text/plain": [
       "      i         ID             POP           GROUP     SEX\n",
       "0     0  Sci_16066  Eastern Yellow  Eastern Yellow  female\n",
       "1     1  Sci_16098  Eastern Yellow  Eastern Yellow  female\n",
       "2     4  Sci_34449          Kindae          Kindae  female\n",
       "3     5  Sci_34474          Kindae          Kindae  female\n",
       "4     7  Sci_97074       Hamadryas       Hamadryas  female\n",
       "..  ...        ...             ...             ...     ...\n",
       "93  220    PD_0788          Kindae          Kindae  female\n",
       "94  221    PD_0789          Kindae          Kindae  female\n",
       "95  222    PD_0790          Kindae          Kindae  female\n",
       "96  223    PD_0791          Kindae          Kindae  female\n",
       "97  224    PD_0792          Kindae          Kindae  female\n",
       "\n",
       "[98 rows x 5 columns]"
      ]
     },
     "execution_count": 11,
     "metadata": {},
     "output_type": "execute_result"
    }
   ],
   "source": [
    "poplabels"
   ]
  },
  {
   "cell_type": "code",
   "execution_count": 12,
   "metadata": {},
   "outputs": [],
   "source": [
    "d_west_mapping = {}\n",
    "for i, row in poplabels.iterrows():\n",
    "    if row.GROUP == \"Western Yellow\":\n",
    "        d_west_mapping[i*2] = \"W\"\n",
    "        d_west_mapping[i*2+1] = \"W\""
   ]
  },
  {
   "cell_type": "code",
   "execution_count": 13,
   "metadata": {},
   "outputs": [],
   "source": [
    "d_east_mapping = {}\n",
    "for i, row in poplabels.iterrows():\n",
    "    if row.GROUP == \"Eastern Yellow\":\n",
    "        d_east_mapping[i*2] = \"E\"\n",
    "        d_east_mapping[i*2+1] = \"E\""
   ]
  },
  {
   "cell_type": "code",
   "execution_count": 14,
   "metadata": {},
   "outputs": [],
   "source": [
    "d_to_mapping = {}\n",
    "for i, row in poplabels.iterrows():\n",
    "    if row.GROUP == \"Tanzanian Olive\":\n",
    "        d_to_mapping[i*2] = \"T\"\n",
    "        d_to_mapping[i*2+1] = \"T\""
   ]
  },
  {
   "cell_type": "code",
   "execution_count": 15,
   "metadata": {},
   "outputs": [],
   "source": [
    "d_k_mapping = {}\n",
    "for i, row in poplabels.iterrows():\n",
    "    if row.GROUP == \"Kindae\":\n",
    "        d_k_mapping[i*2] = \"K\"\n",
    "        d_k_mapping[i*2+1] = \"K\""
   ]
  },
  {
   "cell_type": "code",
   "execution_count": 16,
   "metadata": {},
   "outputs": [
    {
     "data": {
      "text/plain": [
       "{48: 'W', 49: 'W', 110: 'W', 111: 'W', 112: 'W', 113: 'W'}"
      ]
     },
     "execution_count": 16,
     "metadata": {},
     "output_type": "execute_result"
    }
   ],
   "source": [
    "d_west_mapping"
   ]
  },
  {
   "cell_type": "code",
   "execution_count": 17,
   "metadata": {},
   "outputs": [
    {
     "data": {
      "image/svg+xml": [
       "<svg baseProfile=\"full\" height=\"500\" version=\"1.1\" width=\"800\" xmlns=\"http://www.w3.org/2000/svg\" xmlns:ev=\"http://www.w3.org/2001/xml-events\" xmlns:xlink=\"http://www.w3.org/1999/xlink\"><defs><style type=\"text/css\"><![CDATA[.background path {fill: #808080; fill-opacity: 0}.background path:nth-child(odd) {fill-opacity: .1}.axes {font-size: 14px}.x-axis .tick .lab {font-weight: bold; dominant-baseline: hanging}.axes, .tree {font-size: 14px; text-anchor: middle}.axes line, .edge {stroke: black; fill: none}.y-axis .grid {stroke: #FAFAFA}.node > .sym {fill: black; stroke: none}.site > .sym {stroke: black}.mut text {fill: red; font-style: italic}.mut.extra text {fill: hotpink}.mut line {fill: none; stroke: none}.mut .sym {fill: none; stroke: red}.mut.extra .sym {stroke: hotpink}.node .mut .sym {stroke-width: 1.5px}.tree text, .tree-sequence text {dominant-baseline: central}.plotbox .lab.lft {text-anchor: end}.plotbox .lab.rgt {text-anchor: start}]]></style></defs><g class=\"tree t116421\"><g class=\"plotbox\"><g class=\"c2 node n22702485 root\" transform=\"translate(296.098 26.8)\"><g class=\"a22702485 c2 m1551413 node n22702455 s1579876\" transform=\"translate(-264.352 227.264)\"><g class=\"a22702455 i48 leaf m1551395 m1551400 m1551410 node n48 s1579858 s1579863 s1579873 sample\" transform=\"translate(-9.80653 214.136)\"><path class=\"edge\" d=\"M 0 0 V -214.136 H 9.80653\" /><g class=\"mut m1551395 s1579858 unknown_time\" transform=\"translate(0 -160.602)\"><line x1=\"0\" x2=\"0\" y1=\"0\" y2=\"160.602\" /><path class=\"sym\" d=\"M -3,-3 l 6,6 M -3,3 l 6,-6\" /><text class=\"lab lft\" transform=\"translate(-5 0)\">1551395</text></g><g class=\"mut m1551400 s1579863 unknown_time\" transform=\"translate(0 -107.068)\"><line x1=\"0\" x2=\"0\" y1=\"0\" y2=\"107.068\" /><path class=\"sym\" d=\"M -3,-3 l 6,6 M -3,3 l 6,-6\" /><text class=\"lab lft\" transform=\"translate(-5 0)\">1551400</text></g><g class=\"mut m1551410 s1579873 unknown_time\" transform=\"translate(0 -53.5341)\"><line x1=\"0\" x2=\"0\" y1=\"0\" y2=\"53.5341\" /><path class=\"sym\" d=\"M -3,-3 l 6,6 M -3,3 l 6,-6\" /><text class=\"lab lft\" transform=\"translate(-5 0)\">1551410</text></g><rect class=\"sym\" height=\"6\" width=\"6\" x=\"-3\" y=\"-3\" /><text class=\"lab\" transform=\"translate(0 11)\" /></g><g class=\"a22702455 c2 m1551391 m1551404 m1551415 m1551424 node n22702454 s1579853 s1579867 s1579878 s1579887\" transform=\"translate(9.80653 171.179)\"><g class=\"a22702454 c2 m1551409 node n22702303 s1579872\" transform=\"translate(-13.7967 34.5834)\"><g class=\"a22702303 i189 leaf node n189 sample\" transform=\"translate(-1.93878 8.37349)\"><path class=\"edge\" d=\"M 0 0 V -8.37349 H 1.93878\" /><rect class=\"sym\" height=\"6\" width=\"6\" x=\"-3\" y=\"-3\" /><text class=\"lab\" transform=\"translate(0 11)\" /></g><g class=\"a22702303 i194 leaf m1551429 node n194 s1579893 sample\" transform=\"translate(1.93878 8.37349)\"><path class=\"edge\" d=\"M 0 0 V -8.37349 H -1.93878\" /><g class=\"mut m1551429 s1579893 unknown_time\" transform=\"translate(0 -4.18675)\"><line x1=\"0\" x2=\"0\" y1=\"0\" y2=\"4.18675\" /><path class=\"sym\" d=\"M -3,-3 l 6,6 M -3,3 l 6,-6\" /><text class=\"lab rgt\" transform=\"translate(5 0)\">1551429</text></g><rect class=\"sym\" height=\"6\" width=\"6\" x=\"-3\" y=\"-3\" /><text class=\"lab\" transform=\"translate(0 11)\" /></g><path class=\"edge\" d=\"M 0 0 V -34.5834 H 13.7967\" /><g class=\"mut m1551409 s1579872 unknown_time\" transform=\"translate(0 -17.2917)\"><line x1=\"0\" x2=\"0\" y1=\"0\" y2=\"17.2917\" /><path class=\"sym\" d=\"M -3,-3 l 6,6 M -3,3 l 6,-6\" /><text class=\"lab lft\" transform=\"translate(-5 0)\">1551409</text></g><circle class=\"sym\" cx=\"0\" cy=\"0\" r=\"3\" /><text class=\"lab lft\" transform=\"translate(-3 -7.0)\" /></g><g class=\"a22702454 c2 node n22702446\" transform=\"translate(13.7967 24.9991)\"><g class=\"a22702446 i184 leaf node n184 sample\" transform=\"translate(-21.7771 17.9578)\"><path class=\"edge\" d=\"M 0 0 V -17.9578 H 21.7771\" /><rect class=\"sym\" height=\"6\" width=\"6\" x=\"-3\" y=\"-3\" /><text class=\"lab\" transform=\"translate(0 11)\" /></g><g class=\"a22702446 c2 node n22702445\" transform=\"translate(21.7771 2.46989)\"><g class=\"a22702445 c2 node n22702441\" transform=\"translate(-18.3654 2.49974)\"><g class=\"a22702441 c2 node n22702421\" transform=\"translate(-17.4641 2.41719)\"><g class=\"a22702421 i5 leaf node n5 sample\" transform=\"translate(-3.84726 10.571)\"><path class=\"edge\" d=\"M 0 0 V -10.571 H 3.84726\" /><rect class=\"sym\" height=\"6\" width=\"6\" x=\"-3\" y=\"-3\" /><text class=\"lab\" transform=\"translate(0 11)\" /></g><g class=\"a22702421 c2 node n22702420\" transform=\"translate(3.84726 2.70421)\"><g class=\"a22702420 i7 leaf node n7 sample\" transform=\"translate(-3.81696 7.86676)\"><path class=\"edge\" d=\"M 0 0 V -7.86676 H 3.81696\" /><rect class=\"sym\" height=\"6\" width=\"6\" x=\"-3\" y=\"-3\" /><text class=\"lab\" transform=\"translate(0 11)\" /></g><g class=\"a22702420 c2 node n22702397\" transform=\"translate(3.81696 3.29414)\"><g class=\"a22702397 i4 leaf node n4 sample\" transform=\"translate(-3.75638 4.57262)\"><path class=\"edge\" d=\"M 0 0 V -4.57262 H 3.75638\" /><rect class=\"sym\" height=\"6\" width=\"6\" x=\"-3\" y=\"-3\" /><text class=\"lab\" transform=\"translate(0 11)\" /></g><g class=\"a22702397 c2 node n22702396\" transform=\"translate(3.75638 0.933968)\"><g class=\"a22702396 i6 leaf m1551411 node n6 s1579874 sample\" transform=\"translate(-3.6352 3.63865)\"><path class=\"edge\" d=\"M 0 0 V -3.63865 H 3.6352\" /><g class=\"mut m1551411 s1579874 unknown_time\" transform=\"translate(0 -1.81932)\"><line x1=\"0\" x2=\"0\" y1=\"0\" y2=\"1.81932\" /><path class=\"sym\" d=\"M -3,-3 l 6,6 M -3,3 l 6,-6\" /><text class=\"lab lft\" transform=\"translate(-5 0)\">1551411</text></g><rect class=\"sym\" height=\"6\" width=\"6\" x=\"-3\" y=\"-3\" /><text class=\"lab\" transform=\"translate(0 11)\" /></g><g class=\"a22702396 c2 node n22702394\" transform=\"translate(3.6352 1.5969)\"><g class=\"a22702394 i191 leaf node n191 sample\" transform=\"translate(-3.39286 2.04175)\"><path class=\"edge\" d=\"M 0 0 V -2.04175 H 3.39286\" /><rect class=\"sym\" height=\"6\" width=\"6\" x=\"-3\" y=\"-3\" /><text class=\"lab\" transform=\"translate(0 11)\" /></g><g class=\"a22702394 c2 node n22702393\" transform=\"translate(3.39286 0.964836)\"><g class=\"a22702393 i110 leaf node n110 sample\" transform=\"translate(-2.90816 1.07692)\"><path class=\"edge\" d=\"M 0 0 V -1.07692 H 2.90816\" /><rect class=\"sym\" height=\"6\" width=\"6\" x=\"-3\" y=\"-3\" /><text class=\"lab\" transform=\"translate(0 11)\" /></g><g class=\"a22702393 c2 node n22702306\" transform=\"translate(2.90816 0.468436)\"><g class=\"a22702306 i171 leaf node n171 sample\" transform=\"translate(-1.93878 0.608482)\"><path class=\"edge\" d=\"M 0 0 V -0.608482 H 1.93878\" /><rect class=\"sym\" height=\"6\" width=\"6\" x=\"-3\" y=\"-3\" /><text class=\"lab\" transform=\"translate(0 11)\" /></g><g class=\"a22702306 i193 leaf node n193 sample\" transform=\"translate(1.93878 0.608482)\"><path class=\"edge\" d=\"M 0 0 V -0.608482 H -1.93878\" /><rect class=\"sym\" height=\"6\" width=\"6\" x=\"-3\" y=\"-3\" /><text class=\"lab\" transform=\"translate(0 11)\" /></g><path class=\"edge\" d=\"M 0 0 V -0.468436 H -2.90816\" /><circle class=\"sym\" cx=\"0\" cy=\"0\" r=\"3\" /><text class=\"lab rgt\" transform=\"translate(3 -7.0)\" /></g><path class=\"edge\" d=\"M 0 0 V -0.964836 H -3.39286\" /><circle class=\"sym\" cx=\"0\" cy=\"0\" r=\"3\" /><text class=\"lab rgt\" transform=\"translate(3 -7.0)\" /></g><path class=\"edge\" d=\"M 0 0 V -1.5969 H -3.6352\" /><circle class=\"sym\" cx=\"0\" cy=\"0\" r=\"3\" /><text class=\"lab rgt\" transform=\"translate(3 -7.0)\" /></g><path class=\"edge\" d=\"M 0 0 V -0.933968 H -3.75638\" /><circle class=\"sym\" cx=\"0\" cy=\"0\" r=\"3\" /><text class=\"lab rgt\" transform=\"translate(3 -7.0)\" /></g><path class=\"edge\" d=\"M 0 0 V -3.29414 H -3.81696\" /><circle class=\"sym\" cx=\"0\" cy=\"0\" r=\"3\" /><text class=\"lab rgt\" transform=\"translate(3 -7.0)\" /></g><path class=\"edge\" d=\"M 0 0 V -2.70421 H -3.84726\" /><circle class=\"sym\" cx=\"0\" cy=\"0\" r=\"3\" /><text class=\"lab rgt\" transform=\"translate(3 -7.0)\" /></g><path class=\"edge\" d=\"M 0 0 V -2.41719 H 17.4641\" /><circle class=\"sym\" cx=\"0\" cy=\"0\" r=\"3\" /><text class=\"lab lft\" transform=\"translate(-3 -7.0)\" /></g><g class=\"a22702441 c2 m1551420 node n22702422 s1579883\" transform=\"translate(17.4641 6.75601)\"><g class=\"a22702422 c2 node n22702334\" transform=\"translate(-5.81633 5.70043)\"><g class=\"a22702334 i170 leaf node n170 sample\" transform=\"translate(-1.93878 0.531716)\"><path class=\"edge\" d=\"M 0 0 V -0.531716 H 1.93878\" /><rect class=\"sym\" height=\"6\" width=\"6\" x=\"-3\" y=\"-3\" /><text class=\"lab\" transform=\"translate(0 11)\" /></g><g class=\"a22702334 i192 leaf node n192 sample\" transform=\"translate(1.93878 0.531716)\"><path class=\"edge\" d=\"M 0 0 V -0.531716 H -1.93878\" /><rect class=\"sym\" height=\"6\" width=\"6\" x=\"-3\" y=\"-3\" /><text class=\"lab\" transform=\"translate(0 11)\" /></g><path class=\"edge\" d=\"M 0 0 V -5.70043 H 5.81633\" /><circle class=\"sym\" cx=\"0\" cy=\"0\" r=\"3\" /><text class=\"lab lft\" transform=\"translate(-3 -7.0)\" /></g><g class=\"a22702422 c2 node n22702377\" transform=\"translate(5.81633 4.18898)\"><g class=\"a22702377 c2 node n22702320\" transform=\"translate(-3.87755 1.1)\"><g class=\"a22702320 i186 leaf node n186 sample\" transform=\"translate(-1.93878 0.943168)\"><path class=\"edge\" d=\"M 0 0 V -0.943168 H 1.93878\" /><rect class=\"sym\" height=\"6\" width=\"6\" x=\"-3\" y=\"-3\" /><text class=\"lab\" transform=\"translate(0 11)\" /></g><g class=\"a22702320 i188 leaf node n188 sample\" transform=\"translate(1.93878 0.943168)\"><path class=\"edge\" d=\"M 0 0 V -0.943168 H -1.93878\" /><rect class=\"sym\" height=\"6\" width=\"6\" x=\"-3\" y=\"-3\" /><text class=\"lab\" transform=\"translate(0 11)\" /></g><path class=\"edge\" d=\"M 0 0 V -1.1 H 3.87755\" /><circle class=\"sym\" cx=\"0\" cy=\"0\" r=\"3\" /><text class=\"lab lft\" transform=\"translate(-3 -7.0)\" /></g><g class=\"a22702377 c2 node n22702340\" transform=\"translate(3.87755 0.620524)\"><g class=\"a22702340 i187 leaf node n187 sample\" transform=\"translate(-1.93878 1.42264)\"><path class=\"edge\" d=\"M 0 0 V -1.42264 H 1.93878\" /><rect class=\"sym\" height=\"6\" width=\"6\" x=\"-3\" y=\"-3\" /><text class=\"lab\" transform=\"translate(0 11)\" /></g><g class=\"a22702340 i190 leaf node n190 sample\" transform=\"translate(1.93878 1.42264)\"><path class=\"edge\" d=\"M 0 0 V -1.42264 H -1.93878\" /><rect class=\"sym\" height=\"6\" width=\"6\" x=\"-3\" y=\"-3\" /><text class=\"lab\" transform=\"translate(0 11)\" /></g><path class=\"edge\" d=\"M 0 0 V -0.620524 H -3.87755\" /><circle class=\"sym\" cx=\"0\" cy=\"0\" r=\"3\" /><text class=\"lab rgt\" transform=\"translate(3 -7.0)\" /></g><path class=\"edge\" d=\"M 0 0 V -4.18898 H -5.81633\" /><circle class=\"sym\" cx=\"0\" cy=\"0\" r=\"3\" /><text class=\"lab rgt\" transform=\"translate(3 -7.0)\" /></g><path class=\"edge\" d=\"M 0 0 V -6.75601 H -17.4641\" /><g class=\"mut m1551420 s1579883 unknown_time\" transform=\"translate(0 -3.37801)\"><line x1=\"0\" x2=\"0\" y1=\"0\" y2=\"3.37801\" /><path class=\"sym\" d=\"M -3,-3 l 6,6 M -3,3 l 6,-6\" /><text class=\"lab rgt\" transform=\"translate(5 0)\">1551420</text></g><circle class=\"sym\" cx=\"0\" cy=\"0\" r=\"3\" /><text class=\"lab rgt\" transform=\"translate(3 -7.0)\" /></g><path class=\"edge\" d=\"M 0 0 V -2.49974 H 18.3654\" /><circle class=\"sym\" cx=\"0\" cy=\"0\" r=\"3\" /><text class=\"lab lft\" transform=\"translate(-3 -7.0)\" /></g><g class=\"a22702445 c2 node n22702442\" transform=\"translate(18.3654 6.37444)\"><g class=\"a22702442 i185 leaf node n185 sample\" transform=\"translate(-3.75638 9.11347)\"><path class=\"edge\" d=\"M 0 0 V -9.11347 H 3.75638\" /><rect class=\"sym\" height=\"6\" width=\"6\" x=\"-3\" y=\"-3\" /><text class=\"lab\" transform=\"translate(0 11)\" /></g><g class=\"a22702442 c2 m1551426 node n22702417 s1579889\" transform=\"translate(3.75638 4.07534)\"><g class=\"a22702417 i105 leaf node n105 sample\" transform=\"translate(-3.6352 5.03812)\"><path class=\"edge\" d=\"M 0 0 V -5.03812 H 3.6352\" /><rect class=\"sym\" height=\"6\" width=\"6\" x=\"-3\" y=\"-3\" /><text class=\"lab\" transform=\"translate(0 11)\" /></g><g class=\"a22702417 c2 node n22702395\" transform=\"translate(3.6352 1.20811)\"><g class=\"a22702395 i107 leaf node n107 sample\" transform=\"translate(-3.39286 3.83001)\"><path class=\"edge\" d=\"M 0 0 V -3.83001 H 3.39286\" /><rect class=\"sym\" height=\"6\" width=\"6\" x=\"-3\" y=\"-3\" /><text class=\"lab\" transform=\"translate(0 11)\" /></g><g class=\"a22702395 c2 node n22702365\" transform=\"translate(3.39286 2.97552)\"><g class=\"a22702365 i104 leaf node n104 sample\" transform=\"translate(-2.90816 0.85449)\"><path class=\"edge\" d=\"M 0 0 V -0.85449 H 2.90816\" /><rect class=\"sym\" height=\"6\" width=\"6\" x=\"-3\" y=\"-3\" /><text class=\"lab\" transform=\"translate(0 11)\" /></g><g class=\"a22702365 c2 node n22702326\" transform=\"translate(2.90816 0.552524)\"><g class=\"a22702326 i37 leaf node n37 sample\" transform=\"translate(-1.93878 0.301965)\"><path class=\"edge\" d=\"M 0 0 V -0.301965 H 1.93878\" /><rect class=\"sym\" height=\"6\" width=\"6\" x=\"-3\" y=\"-3\" /><text class=\"lab\" transform=\"translate(0 11)\" /></g><g class=\"a22702326 i41 leaf node n41 sample\" transform=\"translate(1.93878 0.301965)\"><path class=\"edge\" d=\"M 0 0 V -0.301965 H -1.93878\" /><rect class=\"sym\" height=\"6\" width=\"6\" x=\"-3\" y=\"-3\" /><text class=\"lab\" transform=\"translate(0 11)\" /></g><path class=\"edge\" d=\"M 0 0 V -0.552524 H -2.90816\" /><circle class=\"sym\" cx=\"0\" cy=\"0\" r=\"3\" /><text class=\"lab rgt\" transform=\"translate(3 -7.0)\" /></g><path class=\"edge\" d=\"M 0 0 V -2.97552 H -3.39286\" /><circle class=\"sym\" cx=\"0\" cy=\"0\" r=\"3\" /><text class=\"lab rgt\" transform=\"translate(3 -7.0)\" /></g><path class=\"edge\" d=\"M 0 0 V -1.20811 H -3.6352\" /><circle class=\"sym\" cx=\"0\" cy=\"0\" r=\"3\" /><text class=\"lab rgt\" transform=\"translate(3 -7.0)\" /></g><path class=\"edge\" d=\"M 0 0 V -4.07534 H -3.75638\" /><g class=\"mut m1551426 s1579889 unknown_time\" transform=\"translate(0 -2.03767)\"><line x1=\"0\" x2=\"0\" y1=\"0\" y2=\"2.03767\" /><path class=\"sym\" d=\"M -3,-3 l 6,6 M -3,3 l 6,-6\" /><text class=\"lab rgt\" transform=\"translate(5 0)\">1551426</text></g><circle class=\"sym\" cx=\"0\" cy=\"0\" r=\"3\" /><text class=\"lab rgt\" transform=\"translate(3 -7.0)\" /></g><path class=\"edge\" d=\"M 0 0 V -6.37444 H -18.3654\" /><circle class=\"sym\" cx=\"0\" cy=\"0\" r=\"3\" /><text class=\"lab rgt\" transform=\"translate(3 -7.0)\" /></g><path class=\"edge\" d=\"M 0 0 V -2.46989 H -21.7771\" /><circle class=\"sym\" cx=\"0\" cy=\"0\" r=\"3\" /><text class=\"lab rgt\" transform=\"translate(3 -7.0)\" /></g><path class=\"edge\" d=\"M 0 0 V -24.9991 H -13.7967\" /><circle class=\"sym\" cx=\"0\" cy=\"0\" r=\"3\" /><text class=\"lab rgt\" transform=\"translate(3 -7.0)\" /></g><path class=\"edge\" d=\"M 0 0 V -171.179 H -9.80653\" /><g class=\"mut m1551391 s1579853 unknown_time\" transform=\"translate(0 -136.944)\"><line x1=\"0\" x2=\"0\" y1=\"0\" y2=\"136.944\" /><path class=\"sym\" d=\"M -3,-3 l 6,6 M -3,3 l 6,-6\" /><text class=\"lab rgt\" transform=\"translate(5 0)\">1551391</text></g><g class=\"mut m1551404 s1579867 unknown_time\" transform=\"translate(0 -102.708)\"><line x1=\"0\" x2=\"0\" y1=\"0\" y2=\"102.708\" /><path class=\"sym\" d=\"M -3,-3 l 6,6 M -3,3 l 6,-6\" /><text class=\"lab rgt\" transform=\"translate(5 0)\">1551404</text></g><g class=\"mut m1551415 s1579878 unknown_time\" transform=\"translate(0 -68.4718)\"><line x1=\"0\" x2=\"0\" y1=\"0\" y2=\"68.4718\" /><path class=\"sym\" d=\"M -3,-3 l 6,6 M -3,3 l 6,-6\" /><text class=\"lab rgt\" transform=\"translate(5 0)\">1551415</text></g><g class=\"mut m1551424 s1579887 unknown_time\" transform=\"translate(0 -34.2359)\"><line x1=\"0\" x2=\"0\" y1=\"0\" y2=\"34.2359\" /><path class=\"sym\" d=\"M -3,-3 l 6,6 M -3,3 l 6,-6\" /><text class=\"lab rgt\" transform=\"translate(5 0)\">1551424</text></g><circle class=\"sym\" cx=\"0\" cy=\"0\" r=\"3\" /><text class=\"lab rgt\" transform=\"translate(3 -7.0)\" /></g><path class=\"edge\" d=\"M 0 0 V -227.264 H 264.352\" /><g class=\"mut m1551413 s1579876 unknown_time\" transform=\"translate(0 -113.632)\"><line x1=\"0\" x2=\"0\" y1=\"0\" y2=\"113.632\" /><path class=\"sym\" d=\"M -3,-3 l 6,6 M -3,3 l 6,-6\" /><text class=\"lab lft\" transform=\"translate(-5 0)\">1551413</text></g><circle class=\"sym\" cx=\"0\" cy=\"0\" r=\"3\" /><text class=\"lab lft\" transform=\"translate(-3 -7.0)\" /></g><g class=\"a22702485 c2 m1551386 node n22702484 s1579848\" transform=\"translate(264.352 200.49)\"><g class=\"a22702484 c2 node n22702479\" transform=\"translate(-191.316 53.4439)\"><g class=\"a22702479 c2 node n22702465\" transform=\"translate(-94.8019 18.4056)\"><g class=\"a22702465 c2 m1551408 node n22702461 s1579871\" transform=\"translate(-79.7284 68.5068)\"><g class=\"a22702461 c2 m1551405 node n22702453 s1579868\" transform=\"translate(-42.4183 46.3398)\"><g class=\"a22702453 c2 node n22702431\" transform=\"translate(-20.2208 27.2198)\"><g class=\"a22702431 c2 node n22702404\" transform=\"translate(-12.602 16.0023)\"><g class=\"a22702404 i180 leaf node n180 sample\" transform=\"translate(-4.36224 10.9919)\"><path class=\"edge\" d=\"M 0 0 V -10.9919 H 4.36224\" /><rect class=\"sym\" height=\"6\" width=\"6\" x=\"-3\" y=\"-3\" /><text class=\"lab\" transform=\"translate(0 11)\">E</text></g><g class=\"a22702404 c2 node n22702387\" transform=\"translate(4.36224 1.77902)\"><g class=\"a22702387 i51 leaf node n51 sample\" transform=\"translate(-4.84694 9.21293)\"><path class=\"edge\" d=\"M 0 0 V -9.21293 H 4.84694\" /><rect class=\"sym\" height=\"6\" width=\"6\" x=\"-3\" y=\"-3\" /><text class=\"lab\" transform=\"translate(0 11)\">E</text></g><g class=\"a22702387 c2 node n22702375\" transform=\"translate(4.84694 1.1041)\"><g class=\"a22702375 c2 node n22702310\" transform=\"translate(-3.87755 1.40225)\"><g class=\"a22702310 i35 leaf node n35 sample\" transform=\"translate(-1.93878 6.70657)\"><path class=\"edge\" d=\"M 0 0 V -6.70657 H 1.93878\" /><rect class=\"sym\" height=\"6\" width=\"6\" x=\"-3\" y=\"-3\" /><text class=\"lab\" transform=\"translate(0 11)\">E</text></g><g class=\"a22702310 i71 leaf node n71 sample\" transform=\"translate(1.93878 6.70657)\"><path class=\"edge\" d=\"M 0 0 V -6.70657 H -1.93878\" /><rect class=\"sym\" height=\"6\" width=\"6\" x=\"-3\" y=\"-3\" /><text class=\"lab\" transform=\"translate(0 11)\">E</text></g><path class=\"edge\" d=\"M 0 0 V -1.40225 H 3.87755\" /><circle class=\"sym\" cx=\"0\" cy=\"0\" r=\"3\" /><text class=\"lab lft\" transform=\"translate(-3 -7.0)\" /></g><g class=\"a22702375 c2 node n22702343\" transform=\"translate(3.87755 3.20063)\"><g class=\"a22702343 i2 leaf node n2 sample\" transform=\"translate(-1.93878 4.9082)\"><path class=\"edge\" d=\"M 0 0 V -4.9082 H 1.93878\" /><rect class=\"sym\" height=\"6\" width=\"6\" x=\"-3\" y=\"-3\" /><text class=\"lab\" transform=\"translate(0 11)\">E</text></g><g class=\"a22702343 i45 leaf node n45 sample\" transform=\"translate(1.93878 4.9082)\"><path class=\"edge\" d=\"M 0 0 V -4.9082 H -1.93878\" /><rect class=\"sym\" height=\"6\" width=\"6\" x=\"-3\" y=\"-3\" /><text class=\"lab\" transform=\"translate(0 11)\">E</text></g><path class=\"edge\" d=\"M 0 0 V -3.20063 H -3.87755\" /><circle class=\"sym\" cx=\"0\" cy=\"0\" r=\"3\" /><text class=\"lab rgt\" transform=\"translate(3 -7.0)\" /></g><path class=\"edge\" d=\"M 0 0 V -1.1041 H -4.84694\" /><circle class=\"sym\" cx=\"0\" cy=\"0\" r=\"3\" /><text class=\"lab rgt\" transform=\"translate(3 -7.0)\" /></g><path class=\"edge\" d=\"M 0 0 V -1.77902 H -4.36224\" /><circle class=\"sym\" cx=\"0\" cy=\"0\" r=\"3\" /><text class=\"lab rgt\" transform=\"translate(3 -7.0)\" /></g><path class=\"edge\" d=\"M 0 0 V -16.0023 H 12.602\" /><circle class=\"sym\" cx=\"0\" cy=\"0\" r=\"3\" /><text class=\"lab lft\" transform=\"translate(-3 -7.0)\" /></g><g class=\"a22702431 c2 node n22702418\" transform=\"translate(12.602 21.3206)\"><g class=\"a22702418 c2 node n22702337\" transform=\"translate(-4.36224 3.39921)\"><g class=\"a22702337 i1 leaf node n1 sample\" transform=\"translate(-1.93878 2.27443)\"><path class=\"edge\" d=\"M 0 0 V -2.27443 H 1.93878\" /><rect class=\"sym\" height=\"6\" width=\"6\" x=\"-3\" y=\"-3\" /><text class=\"lab\" transform=\"translate(0 11)\">E</text></g><g class=\"a22702337 i177 leaf node n177 sample\" transform=\"translate(1.93878 2.27443)\"><path class=\"edge\" d=\"M 0 0 V -2.27443 H -1.93878\" /><rect class=\"sym\" height=\"6\" width=\"6\" x=\"-3\" y=\"-3\" /><text class=\"lab\" transform=\"translate(0 11)\">E</text></g><path class=\"edge\" d=\"M 0 0 V -3.39921 H 4.36224\" /><circle class=\"sym\" cx=\"0\" cy=\"0\" r=\"3\" /><text class=\"lab lft\" transform=\"translate(-3 -7.0)\" /></g><g class=\"a22702418 c2 node n22702405\" transform=\"translate(4.36224 3.21873)\"><g class=\"a22702405 i93 leaf node n93 sample\" transform=\"translate(-2.90816 2.45491)\"><path class=\"edge\" d=\"M 0 0 V -2.45491 H 2.90816\" /><rect class=\"sym\" height=\"6\" width=\"6\" x=\"-3\" y=\"-3\" /><text class=\"lab\" transform=\"translate(0 11)\">E</text></g><g class=\"a22702405 c2 node n22702304\" transform=\"translate(2.90816 1.44468)\"><g class=\"a22702304 i66 leaf node n66 sample\" transform=\"translate(-1.93878 1.01023)\"><path class=\"edge\" d=\"M 0 0 V -1.01023 H 1.93878\" /><rect class=\"sym\" height=\"6\" width=\"6\" x=\"-3\" y=\"-3\" /><text class=\"lab\" transform=\"translate(0 11)\">E</text></g><g class=\"a22702304 i69 leaf node n69 sample\" transform=\"translate(1.93878 1.01023)\"><path class=\"edge\" d=\"M 0 0 V -1.01023 H -1.93878\" /><rect class=\"sym\" height=\"6\" width=\"6\" x=\"-3\" y=\"-3\" /><text class=\"lab\" transform=\"translate(0 11)\">E</text></g><path class=\"edge\" d=\"M 0 0 V -1.44468 H -2.90816\" /><circle class=\"sym\" cx=\"0\" cy=\"0\" r=\"3\" /><text class=\"lab rgt\" transform=\"translate(3 -7.0)\" /></g><path class=\"edge\" d=\"M 0 0 V -3.21873 H -4.36224\" /><circle class=\"sym\" cx=\"0\" cy=\"0\" r=\"3\" /><text class=\"lab rgt\" transform=\"translate(3 -7.0)\" /></g><path class=\"edge\" d=\"M 0 0 V -21.3206 H -12.602\" /><circle class=\"sym\" cx=\"0\" cy=\"0\" r=\"3\" /><text class=\"lab rgt\" transform=\"translate(3 -7.0)\" /></g><path class=\"edge\" d=\"M 0 0 V -27.2198 H 20.2208\" /><circle class=\"sym\" cx=\"0\" cy=\"0\" r=\"3\" /><text class=\"lab lft\" transform=\"translate(-3 -7.0)\" /></g><g class=\"a22702453 c2 node n22702434\" transform=\"translate(20.2208 15.161)\"><g class=\"a22702434 c2 node n22702410\" transform=\"translate(-11.8447 13.0126)\"><g class=\"a22702410 i46 leaf node n46 sample\" transform=\"translate(-2.90816 26.0405)\"><path class=\"edge\" d=\"M 0 0 V -26.0405 H 2.90816\" /><rect class=\"sym\" height=\"6\" width=\"6\" x=\"-3\" y=\"-3\" /><text class=\"lab\" transform=\"translate(0 11)\">E</text></g><g class=\"a22702410 c2 node n22702342\" transform=\"translate(2.90816 23.9803)\"><g class=\"a22702342 i3 leaf node n3 sample\" transform=\"translate(-1.93878 2.06012)\"><path class=\"edge\" d=\"M 0 0 V -2.06012 H 1.93878\" /><rect class=\"sym\" height=\"6\" width=\"6\" x=\"-3\" y=\"-3\" /><text class=\"lab\" transform=\"translate(0 11)\">E</text></g><g class=\"a22702342 i168 leaf node n168 sample\" transform=\"translate(1.93878 2.06012)\"><path class=\"edge\" d=\"M 0 0 V -2.06012 H -1.93878\" /><rect class=\"sym\" height=\"6\" width=\"6\" x=\"-3\" y=\"-3\" /><text class=\"lab\" transform=\"translate(0 11)\">E</text></g><path class=\"edge\" d=\"M 0 0 V -23.9803 H -2.90816\" /><circle class=\"sym\" cx=\"0\" cy=\"0\" r=\"3\" /><text class=\"lab rgt\" transform=\"translate(3 -7.0)\" /></g><path class=\"edge\" d=\"M 0 0 V -13.0126 H 11.8447\" /><circle class=\"sym\" cx=\"0\" cy=\"0\" r=\"3\" /><text class=\"lab lft\" transform=\"translate(-3 -7.0)\" /></g><g class=\"a22702434 c2 node n22702429\" transform=\"translate(11.8447 11.6575)\"><g class=\"a22702429 c2 node n22702382\" transform=\"translate(-11.2085 17.9397)\"><g class=\"a22702382 i178 leaf node n178 sample\" transform=\"translate(-3.75638 9.45586)\"><path class=\"edge\" d=\"M 0 0 V -9.45586 H 3.75638\" /><rect class=\"sym\" height=\"6\" width=\"6\" x=\"-3\" y=\"-3\" /><text class=\"lab\" transform=\"translate(0 11)\">E</text></g><g class=\"a22702382 c2 node n22702364\" transform=\"translate(3.75638 5.17624)\"><g class=\"a22702364 i181 leaf node n181 sample\" transform=\"translate(-3.6352 4.27962)\"><path class=\"edge\" d=\"M 0 0 V -4.27962 H 3.6352\" /><rect class=\"sym\" height=\"6\" width=\"6\" x=\"-3\" y=\"-3\" /><text class=\"lab\" transform=\"translate(0 11)\">E</text></g><g class=\"a22702364 c2 node n22702360\" transform=\"translate(3.6352 1.43622)\"><g class=\"a22702360 i182 leaf node n182 sample\" transform=\"translate(-3.39286 2.8434)\"><path class=\"edge\" d=\"M 0 0 V -2.8434 H 3.39286\" /><rect class=\"sym\" height=\"6\" width=\"6\" x=\"-3\" y=\"-3\" /><text class=\"lab\" transform=\"translate(0 11)\">E</text></g><g class=\"a22702360 c2 node n22702344\" transform=\"translate(3.39286 0.793769)\"><g class=\"a22702344 i70 leaf node n70 sample\" transform=\"translate(-2.90816 2.04963)\"><path class=\"edge\" d=\"M 0 0 V -2.04963 H 2.90816\" /><rect class=\"sym\" height=\"6\" width=\"6\" x=\"-3\" y=\"-3\" /><text class=\"lab\" transform=\"translate(0 11)\">E</text></g><g class=\"a22702344 c2 node n22702319\" transform=\"translate(2.90816 0.471202)\"><g class=\"a22702319 i173 leaf node n173 sample\" transform=\"translate(-1.93878 1.57842)\"><path class=\"edge\" d=\"M 0 0 V -1.57842 H 1.93878\" /><rect class=\"sym\" height=\"6\" width=\"6\" x=\"-3\" y=\"-3\" /><text class=\"lab\" transform=\"translate(0 11)\">E</text></g><g class=\"a22702319 i183 leaf node n183 sample\" transform=\"translate(1.93878 1.57842)\"><path class=\"edge\" d=\"M 0 0 V -1.57842 H -1.93878\" /><rect class=\"sym\" height=\"6\" width=\"6\" x=\"-3\" y=\"-3\" /><text class=\"lab\" transform=\"translate(0 11)\">E</text></g><path class=\"edge\" d=\"M 0 0 V -0.471202 H -2.90816\" /><circle class=\"sym\" cx=\"0\" cy=\"0\" r=\"3\" /><text class=\"lab rgt\" transform=\"translate(3 -7.0)\" /></g><path class=\"edge\" d=\"M 0 0 V -0.793769 H -3.39286\" /><circle class=\"sym\" cx=\"0\" cy=\"0\" r=\"3\" /><text class=\"lab rgt\" transform=\"translate(3 -7.0)\" /></g><path class=\"edge\" d=\"M 0 0 V -1.43622 H -3.6352\" /><circle class=\"sym\" cx=\"0\" cy=\"0\" r=\"3\" /><text class=\"lab rgt\" transform=\"translate(3 -7.0)\" /></g><path class=\"edge\" d=\"M 0 0 V -5.17624 H -3.75638\" /><circle class=\"sym\" cx=\"0\" cy=\"0\" r=\"3\" /><text class=\"lab rgt\" transform=\"translate(3 -7.0)\" /></g><path class=\"edge\" d=\"M 0 0 V -17.9397 H 11.2085\" /><circle class=\"sym\" cx=\"0\" cy=\"0\" r=\"3\" /><text class=\"lab lft\" transform=\"translate(-3 -7.0)\" /></g><g class=\"a22702429 c2 node n22702400\" transform=\"translate(11.2085 11.4127)\"><g class=\"a22702400 i50 leaf node n50 sample\" transform=\"translate(-2.90816 15.9828)\"><path class=\"edge\" d=\"M 0 0 V -15.9828 H 2.90816\" /><rect class=\"sym\" height=\"6\" width=\"6\" x=\"-3\" y=\"-3\" /><text class=\"lab\" transform=\"translate(0 11)\">E</text></g><g class=\"a22702400 c2 node n22702318\" transform=\"translate(2.90816 5.19767)\"><g class=\"a22702318 i175 leaf node n175 sample\" transform=\"translate(-1.93878 10.7852)\"><path class=\"edge\" d=\"M 0 0 V -10.7852 H 1.93878\" /><rect class=\"sym\" height=\"6\" width=\"6\" x=\"-3\" y=\"-3\" /><text class=\"lab\" transform=\"translate(0 11)\">E</text></g><g class=\"a22702318 i179 leaf node n179 sample\" transform=\"translate(1.93878 10.7852)\"><path class=\"edge\" d=\"M 0 0 V -10.7852 H -1.93878\" /><rect class=\"sym\" height=\"6\" width=\"6\" x=\"-3\" y=\"-3\" /><text class=\"lab\" transform=\"translate(0 11)\">E</text></g><path class=\"edge\" d=\"M 0 0 V -5.19767 H -2.90816\" /><circle class=\"sym\" cx=\"0\" cy=\"0\" r=\"3\" /><text class=\"lab rgt\" transform=\"translate(3 -7.0)\" /></g><path class=\"edge\" d=\"M 0 0 V -11.4127 H -11.2085\" /><circle class=\"sym\" cx=\"0\" cy=\"0\" r=\"3\" /><text class=\"lab rgt\" transform=\"translate(3 -7.0)\" /></g><path class=\"edge\" d=\"M 0 0 V -11.6575 H -11.8447\" /><circle class=\"sym\" cx=\"0\" cy=\"0\" r=\"3\" /><text class=\"lab rgt\" transform=\"translate(3 -7.0)\" /></g><path class=\"edge\" d=\"M 0 0 V -15.161 H -20.2208\" /><circle class=\"sym\" cx=\"0\" cy=\"0\" r=\"3\" /><text class=\"lab rgt\" transform=\"translate(3 -7.0)\" /></g><path class=\"edge\" d=\"M 0 0 V -46.3398 H 42.4183\" /><g class=\"mut m1551405 s1579868 unknown_time\" transform=\"translate(0 -23.1699)\"><line x1=\"0\" x2=\"0\" y1=\"0\" y2=\"23.1699\" /><path class=\"sym\" d=\"M -3,-3 l 6,6 M -3,3 l 6,-6\" /><text class=\"lab lft\" transform=\"translate(-5 0)\">1551405</text></g><circle class=\"sym\" cx=\"0\" cy=\"0\" r=\"3\" /><text class=\"lab lft\" transform=\"translate(-3 -7.0)\" /></g><g class=\"a22702461 c2 node n22702457\" transform=\"translate(42.4183 47.4626)\"><g class=\"a22702457 c2 node n22702451\" transform=\"translate(-22.4171 11.4486)\"><g class=\"a22702451 c2 m1551423 node n22702381 s1579886\" transform=\"translate(-7.51276 22.7034)\"><g class=\"a22702381 i174 leaf node n174 sample\" transform=\"translate(-2.90816 18.9392)\"><path class=\"edge\" d=\"M 0 0 V -18.9392 H 2.90816\" /><rect class=\"sym\" height=\"6\" width=\"6\" x=\"-3\" y=\"-3\" /><text class=\"lab\" transform=\"translate(0 11)\">E</text></g><g class=\"a22702381 c2 node n22702341\" transform=\"translate(2.90816 15.3859)\"><g class=\"a22702341 i0 leaf node n0 sample\" transform=\"translate(-1.93878 3.55323)\"><path class=\"edge\" d=\"M 0 0 V -3.55323 H 1.93878\" /><rect class=\"sym\" height=\"6\" width=\"6\" x=\"-3\" y=\"-3\" /><text class=\"lab\" transform=\"translate(0 11)\">E</text></g><g class=\"a22702341 i172 leaf node n172 sample\" transform=\"translate(1.93878 3.55323)\"><path class=\"edge\" d=\"M 0 0 V -3.55323 H -1.93878\" /><rect class=\"sym\" height=\"6\" width=\"6\" x=\"-3\" y=\"-3\" /><text class=\"lab\" transform=\"translate(0 11)\">E</text></g><path class=\"edge\" d=\"M 0 0 V -15.3859 H -2.90816\" /><circle class=\"sym\" cx=\"0\" cy=\"0\" r=\"3\" /><text class=\"lab rgt\" transform=\"translate(3 -7.0)\" /></g><path class=\"edge\" d=\"M 0 0 V -22.7034 H 7.51276\" /><g class=\"mut m1551423 s1579886 unknown_time\" transform=\"translate(0 -11.3517)\"><line x1=\"0\" x2=\"0\" y1=\"0\" y2=\"11.3517\" /><path class=\"sym\" d=\"M -3,-3 l 6,6 M -3,3 l 6,-6\" /><text class=\"lab lft\" transform=\"translate(-5 0)\">1551423</text></g><circle class=\"sym\" cx=\"0\" cy=\"0\" r=\"3\" /><text class=\"lab lft\" transform=\"translate(-3 -7.0)\" /></g><g class=\"a22702451 c2 node n22702450\" transform=\"translate(7.51276 27.74)\"><g class=\"a22702450 i44 leaf node n44 sample\" transform=\"translate(-6.30102 13.9026)\"><path class=\"edge\" d=\"M 0 0 V -13.9026 H 6.30102\" /><rect class=\"sym\" height=\"6\" width=\"6\" x=\"-3\" y=\"-3\" /><text class=\"lab\" transform=\"translate(0 11)\">E</text></g><g class=\"a22702450 c2 node n22702449\" transform=\"translate(6.30102 4.46775)\"><g class=\"a22702449 c2 m1551401 node n22702292 s1579864\" transform=\"translate(-6.78571 8.53912)\"><g class=\"a22702292 i67 leaf node n67 sample\" transform=\"translate(-1.93878 0.895711)\"><path class=\"edge\" d=\"M 0 0 V -0.895711 H 1.93878\" /><rect class=\"sym\" height=\"6\" width=\"6\" x=\"-3\" y=\"-3\" /><text class=\"lab\" transform=\"translate(0 11)\">E</text></g><g class=\"a22702292 i166 leaf node n166 sample\" transform=\"translate(1.93878 0.895711)\"><path class=\"edge\" d=\"M 0 0 V -0.895711 H -1.93878\" /><rect class=\"sym\" height=\"6\" width=\"6\" x=\"-3\" y=\"-3\" /><text class=\"lab\" transform=\"translate(0 11)\">E</text></g><path class=\"edge\" d=\"M 0 0 V -8.53912 H 6.78571\" /><g class=\"mut m1551401 s1579864 unknown_time\" transform=\"translate(0 -4.26956)\"><line x1=\"0\" x2=\"0\" y1=\"0\" y2=\"4.26956\" /><path class=\"sym\" d=\"M -3,-3 l 6,6 M -3,3 l 6,-6\" /><text class=\"lab lft\" transform=\"translate(-5 0)\">1551401</text></g><circle class=\"sym\" cx=\"0\" cy=\"0\" r=\"3\" /><text class=\"lab lft\" transform=\"translate(-3 -7.0)\" /></g><g class=\"a22702449 c2 node n22702440\" transform=\"translate(6.78571 2.29093)\"><g class=\"a22702440 c2 node n22702328\" transform=\"translate(-5.81633 1.5157)\"><g class=\"a22702328 i47 leaf node n47 sample\" transform=\"translate(-1.93878 5.62821)\"><path class=\"edge\" d=\"M 0 0 V -5.62821 H 1.93878\" /><rect class=\"sym\" height=\"6\" width=\"6\" x=\"-3\" y=\"-3\" /><text class=\"lab\" transform=\"translate(0 11)\">E</text></g><g class=\"a22702328 i167 leaf node n167 sample\" transform=\"translate(1.93878 5.62821)\"><path class=\"edge\" d=\"M 0 0 V -5.62821 H -1.93878\" /><rect class=\"sym\" height=\"6\" width=\"6\" x=\"-3\" y=\"-3\" /><text class=\"lab\" transform=\"translate(0 11)\">E</text></g><path class=\"edge\" d=\"M 0 0 V -1.5157 H 5.81633\" /><circle class=\"sym\" cx=\"0\" cy=\"0\" r=\"3\" /><text class=\"lab lft\" transform=\"translate(-3 -7.0)\" /></g><g class=\"a22702440 c2 node n22702416\" transform=\"translate(5.81633 4.82569)\"><g class=\"a22702416 c2 node n22702313\" transform=\"translate(-3.87755 1.56419)\"><g class=\"a22702313 i34 leaf node n34 sample\" transform=\"translate(-1.93878 0.754023)\"><path class=\"edge\" d=\"M 0 0 V -0.754023 H 1.93878\" /><rect class=\"sym\" height=\"6\" width=\"6\" x=\"-3\" y=\"-3\" /><text class=\"lab\" transform=\"translate(0 11)\">E</text></g><g class=\"a22702313 i169 leaf node n169 sample\" transform=\"translate(1.93878 0.754023)\"><path class=\"edge\" d=\"M 0 0 V -0.754023 H -1.93878\" /><rect class=\"sym\" height=\"6\" width=\"6\" x=\"-3\" y=\"-3\" /><text class=\"lab\" transform=\"translate(0 11)\">E</text></g><path class=\"edge\" d=\"M 0 0 V -1.56419 H 3.87755\" /><circle class=\"sym\" cx=\"0\" cy=\"0\" r=\"3\" /><text class=\"lab lft\" transform=\"translate(-3 -7.0)\" /></g><g class=\"a22702416 c2 node n22702335\" transform=\"translate(3.87755 1.78133)\"><g class=\"a22702335 i31 leaf node n31 sample\" transform=\"translate(-1.93878 0.536885)\"><path class=\"edge\" d=\"M 0 0 V -0.536885 H 1.93878\" /><rect class=\"sym\" height=\"6\" width=\"6\" x=\"-3\" y=\"-3\" /><text class=\"lab\" transform=\"translate(0 11)\">E</text></g><g class=\"a22702335 i32 leaf node n32 sample\" transform=\"translate(1.93878 0.536885)\"><path class=\"edge\" d=\"M 0 0 V -0.536885 H -1.93878\" /><rect class=\"sym\" height=\"6\" width=\"6\" x=\"-3\" y=\"-3\" /><text class=\"lab\" transform=\"translate(0 11)\">E</text></g><path class=\"edge\" d=\"M 0 0 V -1.78133 H -3.87755\" /><circle class=\"sym\" cx=\"0\" cy=\"0\" r=\"3\" /><text class=\"lab rgt\" transform=\"translate(3 -7.0)\" /></g><path class=\"edge\" d=\"M 0 0 V -4.82569 H -5.81633\" /><circle class=\"sym\" cx=\"0\" cy=\"0\" r=\"3\" /><text class=\"lab rgt\" transform=\"translate(3 -7.0)\" /></g><path class=\"edge\" d=\"M 0 0 V -2.29093 H -6.78571\" /><circle class=\"sym\" cx=\"0\" cy=\"0\" r=\"3\" /><text class=\"lab rgt\" transform=\"translate(3 -7.0)\" /></g><path class=\"edge\" d=\"M 0 0 V -4.46775 H -6.30102\" /><circle class=\"sym\" cx=\"0\" cy=\"0\" r=\"3\" /><text class=\"lab rgt\" transform=\"translate(3 -7.0)\" /></g><path class=\"edge\" d=\"M 0 0 V -27.74 H -7.51276\" /><circle class=\"sym\" cx=\"0\" cy=\"0\" r=\"3\" /><text class=\"lab rgt\" transform=\"translate(3 -7.0)\" /></g><path class=\"edge\" d=\"M 0 0 V -11.4486 H 22.4171\" /><circle class=\"sym\" cx=\"0\" cy=\"0\" r=\"3\" /><text class=\"lab lft\" transform=\"translate(-3 -7.0)\" /></g><g class=\"a22702457 c2 node n22702452\" transform=\"translate(22.4171 13.4065)\"><g class=\"a22702452 c2 node n22702398\" transform=\"translate(-5.81633 23.0075)\"><g class=\"a22702398 i92 leaf node n92 sample\" transform=\"translate(-2.90816 16.6772)\"><path class=\"edge\" d=\"M 0 0 V -16.6772 H 2.90816\" /><rect class=\"sym\" height=\"6\" width=\"6\" x=\"-3\" y=\"-3\" /><text class=\"lab\" transform=\"translate(0 11)\">E</text></g><g class=\"a22702398 c2 node n22702317\" transform=\"translate(2.90816 15.0637)\"><g class=\"a22702317 i30 leaf node n30 sample\" transform=\"translate(-1.93878 1.61356)\"><path class=\"edge\" d=\"M 0 0 V -1.61356 H 1.93878\" /><rect class=\"sym\" height=\"6\" width=\"6\" x=\"-3\" y=\"-3\" /><text class=\"lab\" transform=\"translate(0 11)\">E</text></g><g class=\"a22702317 i33 leaf node n33 sample\" transform=\"translate(1.93878 1.61356)\"><path class=\"edge\" d=\"M 0 0 V -1.61356 H -1.93878\" /><rect class=\"sym\" height=\"6\" width=\"6\" x=\"-3\" y=\"-3\" /><text class=\"lab\" transform=\"translate(0 11)\">E</text></g><path class=\"edge\" d=\"M 0 0 V -15.0637 H -2.90816\" /><circle class=\"sym\" cx=\"0\" cy=\"0\" r=\"3\" /><text class=\"lab rgt\" transform=\"translate(3 -7.0)\" /></g><path class=\"edge\" d=\"M 0 0 V -23.0075 H 5.81633\" /><circle class=\"sym\" cx=\"0\" cy=\"0\" r=\"3\" /><text class=\"lab lft\" transform=\"translate(-3 -7.0)\" /></g><g class=\"a22702452 c2 node n22702414\" transform=\"translate(5.81633 17.8842)\"><g class=\"a22702414 i43 leaf m1551431 node n43 s1579895 sample\" transform=\"translate(-2.90816 21.8005)\"><path class=\"edge\" d=\"M 0 0 V -21.8005 H 2.90816\" /><g class=\"mut m1551431 s1579895 unknown_time\" transform=\"translate(0 -10.9003)\"><line x1=\"0\" x2=\"0\" y1=\"0\" y2=\"10.9003\" /><path class=\"sym\" d=\"M -3,-3 l 6,6 M -3,3 l 6,-6\" /><text class=\"lab lft\" transform=\"translate(-5 0)\">1551431</text></g><rect class=\"sym\" height=\"6\" width=\"6\" x=\"-3\" y=\"-3\" /><text class=\"lab\" transform=\"translate(0 11)\">E</text></g><g class=\"a22702414 c2 m1551427 m1551430 m1551432 node n22702323 s1579890 s1579894 s1579896\" transform=\"translate(2.90816 20.3442)\"><g class=\"a22702323 i68 leaf node n68 sample\" transform=\"translate(-1.93878 1.45629)\"><path class=\"edge\" d=\"M 0 0 V -1.45629 H 1.93878\" /><rect class=\"sym\" height=\"6\" width=\"6\" x=\"-3\" y=\"-3\" /><text class=\"lab\" transform=\"translate(0 11)\">E</text></g><g class=\"a22702323 i176 leaf node n176 sample\" transform=\"translate(1.93878 1.45629)\"><path class=\"edge\" d=\"M 0 0 V -1.45629 H -1.93878\" /><rect class=\"sym\" height=\"6\" width=\"6\" x=\"-3\" y=\"-3\" /><text class=\"lab\" transform=\"translate(0 11)\">E</text></g><path class=\"edge\" d=\"M 0 0 V -20.3442 H -2.90816\" /><g class=\"mut m1551427 s1579890 unknown_time\" transform=\"translate(0 -15.2582)\"><line x1=\"0\" x2=\"0\" y1=\"0\" y2=\"15.2582\" /><path class=\"sym\" d=\"M -3,-3 l 6,6 M -3,3 l 6,-6\" /><text class=\"lab rgt\" transform=\"translate(5 0)\">1551427</text></g><g class=\"mut m1551430 s1579894 unknown_time\" transform=\"translate(0 -10.1721)\"><line x1=\"0\" x2=\"0\" y1=\"0\" y2=\"10.1721\" /><path class=\"sym\" d=\"M -3,-3 l 6,6 M -3,3 l 6,-6\" /><text class=\"lab rgt\" transform=\"translate(5 0)\">1551430</text></g><g class=\"mut m1551432 s1579896 unknown_time\" transform=\"translate(0 -5.08606)\"><line x1=\"0\" x2=\"0\" y1=\"0\" y2=\"5.08606\" /><path class=\"sym\" d=\"M -3,-3 l 6,6 M -3,3 l 6,-6\" /><text class=\"lab rgt\" transform=\"translate(5 0)\">1551432</text></g><circle class=\"sym\" cx=\"0\" cy=\"0\" r=\"3\" /><text class=\"lab rgt\" transform=\"translate(3 -7.0)\" /></g><path class=\"edge\" d=\"M 0 0 V -17.8842 H -5.81633\" /><circle class=\"sym\" cx=\"0\" cy=\"0\" r=\"3\" /><text class=\"lab rgt\" transform=\"translate(3 -7.0)\" /></g><path class=\"edge\" d=\"M 0 0 V -13.4065 H -22.4171\" /><circle class=\"sym\" cx=\"0\" cy=\"0\" r=\"3\" /><text class=\"lab rgt\" transform=\"translate(3 -7.0)\" /></g><path class=\"edge\" d=\"M 0 0 V -47.4626 H -42.4183\" /><circle class=\"sym\" cx=\"0\" cy=\"0\" r=\"3\" /><text class=\"lab rgt\" transform=\"translate(3 -7.0)\" /></g><path class=\"edge\" d=\"M 0 0 V -68.5068 H 79.7284\" /><g class=\"mut m1551408 s1579871 unknown_time\" transform=\"translate(0 -34.2534)\"><line x1=\"0\" x2=\"0\" y1=\"0\" y2=\"34.2534\" /><path class=\"sym\" d=\"M -3,-3 l 6,6 M -3,3 l 6,-6\" /><text class=\"lab lft\" transform=\"translate(-5 0)\">1551408</text></g><circle class=\"sym\" cx=\"0\" cy=\"0\" r=\"3\" /><text class=\"lab lft\" transform=\"translate(-3 -7.0)\" /></g><g class=\"a22702465 c2 node n22702464\" transform=\"translate(79.7284 20.8579)\"><g class=\"a22702464 c2 node n22702462\" transform=\"translate(-41.5776 10.7758)\"><g class=\"a22702462 c2 m1551394 m1551397 node n22702437 s1579857 s1579860\" transform=\"translate(-25.1738 75.5117)\"><g class=\"a22702437 c2 node n22702389\" transform=\"translate(-10.4209 20.0811)\"><g class=\"a22702389 i80 leaf node n80 sample\" transform=\"translate(-2.90816 41.8339)\"><path class=\"edge\" d=\"M 0 0 V -41.8339 H 2.90816\" /><rect class=\"sym\" height=\"6\" width=\"6\" x=\"-3\" y=\"-3\" /><text class=\"lab\" transform=\"translate(0 11)\" /></g><g class=\"a22702389 c2 node n22702299\" transform=\"translate(2.90816 23.0268)\"><g class=\"a22702299 i74 leaf node n74 sample\" transform=\"translate(-1.93878 18.8071)\"><path class=\"edge\" d=\"M 0 0 V -18.8071 H 1.93878\" /><rect class=\"sym\" height=\"6\" width=\"6\" x=\"-3\" y=\"-3\" /><text class=\"lab\" transform=\"translate(0 11)\" /></g><g class=\"a22702299 i77 leaf node n77 sample\" transform=\"translate(1.93878 18.8071)\"><path class=\"edge\" d=\"M 0 0 V -18.8071 H -1.93878\" /><rect class=\"sym\" height=\"6\" width=\"6\" x=\"-3\" y=\"-3\" /><text class=\"lab\" transform=\"translate(0 11)\" /></g><path class=\"edge\" d=\"M 0 0 V -23.0268 H -2.90816\" /><circle class=\"sym\" cx=\"0\" cy=\"0\" r=\"3\" /><text class=\"lab rgt\" transform=\"translate(3 -7.0)\" /></g><path class=\"edge\" d=\"M 0 0 V -20.0811 H 10.4209\" /><circle class=\"sym\" cx=\"0\" cy=\"0\" r=\"3\" /><text class=\"lab lft\" transform=\"translate(-3 -7.0)\" /></g><g class=\"a22702437 c2 m1551393 node n22702436 s1579856\" transform=\"translate(10.4209 45.4857)\"><g class=\"a22702436 c2 node n22702388\" transform=\"translate(-6.30102 12.7514)\"><g class=\"a22702388 c2 node n22702309\" transform=\"translate(-3.87755 2.54561)\"><g class=\"a22702309 i73 leaf node n73 sample\" transform=\"translate(-1.93878 1.13227)\"><path class=\"edge\" d=\"M 0 0 V -1.13227 H 1.93878\" /><rect class=\"sym\" height=\"6\" width=\"6\" x=\"-3\" y=\"-3\" /><text class=\"lab\" transform=\"translate(0 11)\" /></g><g class=\"a22702309 i78 leaf node n78 sample\" transform=\"translate(1.93878 1.13227)\"><path class=\"edge\" d=\"M 0 0 V -1.13227 H -1.93878\" /><rect class=\"sym\" height=\"6\" width=\"6\" x=\"-3\" y=\"-3\" /><text class=\"lab\" transform=\"translate(0 11)\" /></g><path class=\"edge\" d=\"M 0 0 V -2.54561 H 3.87755\" /><circle class=\"sym\" cx=\"0\" cy=\"0\" r=\"3\" /><text class=\"lab lft\" transform=\"translate(-3 -7.0)\" /></g><g class=\"a22702388 c2 node n22702324\" transform=\"translate(3.87755 0.856598)\"><g class=\"a22702324 i72 leaf node n72 sample\" transform=\"translate(-1.93878 2.82128)\"><path class=\"edge\" d=\"M 0 0 V -2.82128 H 1.93878\" /><rect class=\"sym\" height=\"6\" width=\"6\" x=\"-3\" y=\"-3\" /><text class=\"lab\" transform=\"translate(0 11)\" /></g><g class=\"a22702324 i75 leaf node n75 sample\" transform=\"translate(1.93878 2.82128)\"><path class=\"edge\" d=\"M 0 0 V -2.82128 H -1.93878\" /><rect class=\"sym\" height=\"6\" width=\"6\" x=\"-3\" y=\"-3\" /><text class=\"lab\" transform=\"translate(0 11)\" /></g><path class=\"edge\" d=\"M 0 0 V -0.856598 H -3.87755\" /><circle class=\"sym\" cx=\"0\" cy=\"0\" r=\"3\" /><text class=\"lab rgt\" transform=\"translate(3 -7.0)\" /></g><path class=\"edge\" d=\"M 0 0 V -12.7514 H 6.30102\" /><circle class=\"sym\" cx=\"0\" cy=\"0\" r=\"3\" /><text class=\"lab lft\" transform=\"translate(-3 -7.0)\" /></g><g class=\"a22702436 c2 node n22702392\" transform=\"translate(6.30102 7.69651)\"><g class=\"a22702392 i76 leaf node n76 sample\" transform=\"translate(-2.90816 8.73281)\"><path class=\"edge\" d=\"M 0 0 V -8.73281 H 2.90816\" /><rect class=\"sym\" height=\"6\" width=\"6\" x=\"-3\" y=\"-3\" /><text class=\"lab\" transform=\"translate(0 11)\" /></g><g class=\"a22702392 c2 node n22702298\" transform=\"translate(2.90816 4.28701)\"><g class=\"a22702298 i79 leaf node n79 sample\" transform=\"translate(-1.93878 4.4458)\"><path class=\"edge\" d=\"M 0 0 V -4.4458 H 1.93878\" /><rect class=\"sym\" height=\"6\" width=\"6\" x=\"-3\" y=\"-3\" /><text class=\"lab\" transform=\"translate(0 11)\" /></g><g class=\"a22702298 i81 leaf node n81 sample\" transform=\"translate(1.93878 4.4458)\"><path class=\"edge\" d=\"M 0 0 V -4.4458 H -1.93878\" /><rect class=\"sym\" height=\"6\" width=\"6\" x=\"-3\" y=\"-3\" /><text class=\"lab\" transform=\"translate(0 11)\" /></g><path class=\"edge\" d=\"M 0 0 V -4.28701 H -2.90816\" /><circle class=\"sym\" cx=\"0\" cy=\"0\" r=\"3\" /><text class=\"lab rgt\" transform=\"translate(3 -7.0)\" /></g><path class=\"edge\" d=\"M 0 0 V -7.69651 H -6.30102\" /><circle class=\"sym\" cx=\"0\" cy=\"0\" r=\"3\" /><text class=\"lab rgt\" transform=\"translate(3 -7.0)\" /></g><path class=\"edge\" d=\"M 0 0 V -45.4857 H -10.4209\" /><g class=\"mut m1551393 s1579856 unknown_time\" transform=\"translate(0 -22.7428)\"><line x1=\"0\" x2=\"0\" y1=\"0\" y2=\"22.7428\" /><path class=\"sym\" d=\"M -3,-3 l 6,6 M -3,3 l 6,-6\" /><text class=\"lab rgt\" transform=\"translate(5 0)\">1551393</text></g><circle class=\"sym\" cx=\"0\" cy=\"0\" r=\"3\" /><text class=\"lab rgt\" transform=\"translate(3 -7.0)\" /></g><path class=\"edge\" d=\"M 0 0 V -75.5117 H 25.1738\" /><g class=\"mut m1551394 s1579857 unknown_time\" transform=\"translate(0 -50.3412)\"><line x1=\"0\" x2=\"0\" y1=\"0\" y2=\"50.3412\" /><path class=\"sym\" d=\"M -3,-3 l 6,6 M -3,3 l 6,-6\" /><text class=\"lab lft\" transform=\"translate(-5 0)\">1551394</text></g><g class=\"mut m1551397 s1579860 unknown_time\" transform=\"translate(0 -25.1706)\"><line x1=\"0\" x2=\"0\" y1=\"0\" y2=\"25.1706\" /><path class=\"sym\" d=\"M -3,-3 l 6,6 M -3,3 l 6,-6\" /><text class=\"lab lft\" transform=\"translate(-5 0)\">1551397</text></g><circle class=\"sym\" cx=\"0\" cy=\"0\" r=\"3\" /><text class=\"lab lft\" transform=\"translate(-3 -7.0)\" /></g><g class=\"a22702462 c2 node n22702460\" transform=\"translate(25.1738 11.5904)\"><g class=\"a22702460 c2 m1551428 node n22702458 s1579891\" transform=\"translate(-16.9037 34.8908)\"><g class=\"a22702458 c2 m1551403 node n22702314 s1579866\" transform=\"translate(-6.05867 69.3213)\"><g class=\"a22702314 i140 leaf node n140 sample\" transform=\"translate(-1.93878 21.6242)\"><path class=\"edge\" d=\"M 0 0 V -21.6242 H 1.93878\" /><rect class=\"sym\" height=\"6\" width=\"6\" x=\"-3\" y=\"-3\" /><text class=\"lab\" transform=\"translate(0 11)\" /></g><g class=\"a22702314 i149 leaf node n149 sample\" transform=\"translate(1.93878 21.6242)\"><path class=\"edge\" d=\"M 0 0 V -21.6242 H -1.93878\" /><rect class=\"sym\" height=\"6\" width=\"6\" x=\"-3\" y=\"-3\" /><text class=\"lab\" transform=\"translate(0 11)\" /></g><path class=\"edge\" d=\"M 0 0 V -69.3213 H 6.05867\" /><g class=\"mut m1551403 s1579866 unknown_time\" transform=\"translate(0 -34.6606)\"><line x1=\"0\" x2=\"0\" y1=\"0\" y2=\"34.6606\" /><path class=\"sym\" d=\"M -3,-3 l 6,6 M -3,3 l 6,-6\" /><text class=\"lab lft\" transform=\"translate(-5 0)\">1551403</text></g><circle class=\"sym\" cx=\"0\" cy=\"0\" r=\"3\" /><text class=\"lab lft\" transform=\"translate(-3 -7.0)\" /></g><g class=\"a22702458 c2 node n22702433\" transform=\"translate(6.05867 22.8595)\"><g class=\"a22702433 c2 node n22702333\" transform=\"translate(-4.36224 9.19173)\"><g class=\"a22702333 i143 leaf node n143 sample\" transform=\"translate(-1.93878 58.8942)\"><path class=\"edge\" d=\"M 0 0 V -58.8942 H 1.93878\" /><rect class=\"sym\" height=\"6\" width=\"6\" x=\"-3\" y=\"-3\" /><text class=\"lab\" transform=\"translate(0 11)\" /></g><g class=\"a22702333 i145 leaf node n145 sample\" transform=\"translate(1.93878 58.8942)\"><path class=\"edge\" d=\"M 0 0 V -58.8942 H -1.93878\" /><rect class=\"sym\" height=\"6\" width=\"6\" x=\"-3\" y=\"-3\" /><text class=\"lab\" transform=\"translate(0 11)\" /></g><path class=\"edge\" d=\"M 0 0 V -9.19173 H 4.36224\" /><circle class=\"sym\" cx=\"0\" cy=\"0\" r=\"3\" /><text class=\"lab lft\" transform=\"translate(-3 -7.0)\" /></g><g class=\"a22702433 c2 node n22702399\" transform=\"translate(4.36224 51.0324)\"><g class=\"a22702399 i144 leaf m1551418 m1551419 node n144 s1579881 s1579882 sample\" transform=\"translate(-2.90816 17.0536)\"><path class=\"edge\" d=\"M 0 0 V -17.0536 H 2.90816\" /><g class=\"mut m1551418 s1579881 unknown_time\" transform=\"translate(0 -11.3691)\"><line x1=\"0\" x2=\"0\" y1=\"0\" y2=\"11.3691\" /><path class=\"sym\" d=\"M -3,-3 l 6,6 M -3,3 l 6,-6\" /><text class=\"lab lft\" transform=\"translate(-5 0)\">1551418</text></g><g class=\"mut m1551419 s1579882 unknown_time\" transform=\"translate(0 -5.68454)\"><line x1=\"0\" x2=\"0\" y1=\"0\" y2=\"5.68454\" /><path class=\"sym\" d=\"M -3,-3 l 6,6 M -3,3 l 6,-6\" /><text class=\"lab lft\" transform=\"translate(-5 0)\">1551419</text></g><rect class=\"sym\" height=\"6\" width=\"6\" x=\"-3\" y=\"-3\" /><text class=\"lab\" transform=\"translate(0 11)\" /></g><g class=\"a22702399 c2 node n22702302\" transform=\"translate(2.90816 14.7136)\"><g class=\"a22702302 i8 leaf node n8 sample\" transform=\"translate(-1.93878 2.34003)\"><path class=\"edge\" d=\"M 0 0 V -2.34003 H 1.93878\" /><rect class=\"sym\" height=\"6\" width=\"6\" x=\"-3\" y=\"-3\" /><text class=\"lab\" transform=\"translate(0 11)\" /></g><g class=\"a22702302 i9 leaf node n9 sample\" transform=\"translate(1.93878 2.34003)\"><path class=\"edge\" d=\"M 0 0 V -2.34003 H -1.93878\" /><rect class=\"sym\" height=\"6\" width=\"6\" x=\"-3\" y=\"-3\" /><text class=\"lab\" transform=\"translate(0 11)\" /></g><path class=\"edge\" d=\"M 0 0 V -14.7136 H -2.90816\" /><circle class=\"sym\" cx=\"0\" cy=\"0\" r=\"3\" /><text class=\"lab rgt\" transform=\"translate(3 -7.0)\" /></g><path class=\"edge\" d=\"M 0 0 V -51.0324 H -4.36224\" /><circle class=\"sym\" cx=\"0\" cy=\"0\" r=\"3\" /><text class=\"lab rgt\" transform=\"translate(3 -7.0)\" /></g><path class=\"edge\" d=\"M 0 0 V -22.8595 H -6.05867\" /><circle class=\"sym\" cx=\"0\" cy=\"0\" r=\"3\" /><text class=\"lab rgt\" transform=\"translate(3 -7.0)\" /></g><path class=\"edge\" d=\"M 0 0 V -34.8908 H 16.9037\" /><g class=\"mut m1551428 s1579891 unknown_time\" transform=\"translate(0 -17.4454)\"><line x1=\"0\" x2=\"0\" y1=\"0\" y2=\"17.4454\" /><path class=\"sym\" d=\"M -3,-3 l 6,6 M -3,3 l 6,-6\" /><text class=\"lab lft\" transform=\"translate(-5 0)\">1551428</text></g><circle class=\"sym\" cx=\"0\" cy=\"0\" r=\"3\" /><text class=\"lab lft\" transform=\"translate(-3 -7.0)\" /></g><g class=\"a22702460 c2 node n22702459\" transform=\"translate(16.9037 17.2075)\"><g class=\"a22702459 c2 node n22702401\" transform=\"translate(-11.0268 23.6331)\"><g class=\"a22702401 i195 leaf m1551389 node n195 s1579851 sample\" transform=\"translate(-3.6352 84.9957)\"><path class=\"edge\" d=\"M 0 0 V -84.9957 H 3.6352\" /><g class=\"mut m1551389 s1579851 unknown_time\" transform=\"translate(0 -42.4978)\"><line x1=\"0\" x2=\"0\" y1=\"0\" y2=\"42.4978\" /><path class=\"sym\" d=\"M -3,-3 l 6,6 M -3,3 l 6,-6\" /><text class=\"lab lft\" transform=\"translate(-5 0)\">1551389</text></g><rect class=\"sym\" height=\"6\" width=\"6\" x=\"-3\" y=\"-3\" /><text class=\"lab\" transform=\"translate(0 11)\" /></g><g class=\"a22702401 c2 m1551398 node n22702385 s1579861\" transform=\"translate(3.6352 55.3414)\"><g class=\"a22702385 i112 leaf node n112 sample\" transform=\"translate(-3.39286 29.6543)\"><path class=\"edge\" d=\"M 0 0 V -29.6543 H 3.39286\" /><rect class=\"sym\" height=\"6\" width=\"6\" x=\"-3\" y=\"-3\" /><text class=\"lab\" transform=\"translate(0 11)\" /></g><g class=\"a22702385 c2 node n22702366\" transform=\"translate(3.39286 2.95608)\"><g class=\"a22702366 i42 leaf node n42 sample\" transform=\"translate(-2.90816 26.6982)\"><path class=\"edge\" d=\"M 0 0 V -26.6982 H 2.90816\" /><rect class=\"sym\" height=\"6\" width=\"6\" x=\"-3\" y=\"-3\" /><text class=\"lab\" transform=\"translate(0 11)\">E</text></g><g class=\"a22702366 c2 node n22702321\" transform=\"translate(2.90816 1.67529)\"><g class=\"a22702321 i111 leaf node n111 sample\" transform=\"translate(-1.93878 25.0229)\"><path class=\"edge\" d=\"M 0 0 V -25.0229 H 1.93878\" /><rect class=\"sym\" height=\"6\" width=\"6\" x=\"-3\" y=\"-3\" /><text class=\"lab\" transform=\"translate(0 11)\" /></g><g class=\"a22702321 i113 leaf node n113 sample\" transform=\"translate(1.93878 25.0229)\"><path class=\"edge\" d=\"M 0 0 V -25.0229 H -1.93878\" /><rect class=\"sym\" height=\"6\" width=\"6\" x=\"-3\" y=\"-3\" /><text class=\"lab\" transform=\"translate(0 11)\" /></g><path class=\"edge\" d=\"M 0 0 V -1.67529 H -2.90816\" /><circle class=\"sym\" cx=\"0\" cy=\"0\" r=\"3\" /><text class=\"lab rgt\" transform=\"translate(3 -7.0)\" /></g><path class=\"edge\" d=\"M 0 0 V -2.95608 H -3.39286\" /><circle class=\"sym\" cx=\"0\" cy=\"0\" r=\"3\" /><text class=\"lab rgt\" transform=\"translate(3 -7.0)\" /></g><path class=\"edge\" d=\"M 0 0 V -55.3414 H -3.6352\" /><g class=\"mut m1551398 s1579861 unknown_time\" transform=\"translate(0 -27.6707)\"><line x1=\"0\" x2=\"0\" y1=\"0\" y2=\"27.6707\" /><path class=\"sym\" d=\"M -3,-3 l 6,6 M -3,3 l 6,-6\" /><text class=\"lab rgt\" transform=\"translate(5 0)\">1551398</text></g><circle class=\"sym\" cx=\"0\" cy=\"0\" r=\"3\" /><text class=\"lab rgt\" transform=\"translate(3 -7.0)\" /></g><path class=\"edge\" d=\"M 0 0 V -23.6331 H 11.0268\" /><circle class=\"sym\" cx=\"0\" cy=\"0\" r=\"3\" /><text class=\"lab lft\" transform=\"translate(-3 -7.0)\" /></g><g class=\"a22702459 c2 m1551406 node n22702448 s1579869\" transform=\"translate(11.0268 33.2564)\"><g class=\"a22702448 i49 leaf m1551412 node n49 s1579875 sample\" transform=\"translate(-6.30102 75.3724)\"><path class=\"edge\" d=\"M 0 0 V -75.3724 H 6.30102\" /><g class=\"mut m1551412 s1579875 unknown_time\" transform=\"translate(0 -37.6862)\"><line x1=\"0\" x2=\"0\" y1=\"0\" y2=\"37.6862\" /><path class=\"sym\" d=\"M -3,-3 l 6,6 M -3,3 l 6,-6\" /><text class=\"lab lft\" transform=\"translate(-5 0)\">1551412</text></g><rect class=\"sym\" height=\"6\" width=\"6\" x=\"-3\" y=\"-3\" /><text class=\"lab\" transform=\"translate(0 11)\" /></g><g class=\"a22702448 c2 node n22702447\" transform=\"translate(6.30102 25.4286)\"><g class=\"a22702447 c2 node n22702368\" transform=\"translate(-5.81633 32.099)\"><g class=\"a22702368 i137 leaf node n137 sample\" transform=\"translate(-2.90816 17.8448)\"><path class=\"edge\" d=\"M 0 0 V -17.8448 H 2.90816\" /><rect class=\"sym\" height=\"6\" width=\"6\" x=\"-3\" y=\"-3\" /><text class=\"lab\" transform=\"translate(0 11)\" /></g><g class=\"a22702368 c2 node n22702300\" transform=\"translate(2.90816 16.9357)\"><g class=\"a22702300 i134 leaf node n134 sample\" transform=\"translate(-1.93878 0.909093)\"><path class=\"edge\" d=\"M 0 0 V -0.909093 H 1.93878\" /><rect class=\"sym\" height=\"6\" width=\"6\" x=\"-3\" y=\"-3\" /><text class=\"lab\" transform=\"translate(0 11)\" /></g><g class=\"a22702300 i138 leaf node n138 sample\" transform=\"translate(1.93878 0.909093)\"><path class=\"edge\" d=\"M 0 0 V -0.909093 H -1.93878\" /><rect class=\"sym\" height=\"6\" width=\"6\" x=\"-3\" y=\"-3\" /><text class=\"lab\" transform=\"translate(0 11)\" /></g><path class=\"edge\" d=\"M 0 0 V -16.9357 H -2.90816\" /><circle class=\"sym\" cx=\"0\" cy=\"0\" r=\"3\" /><text class=\"lab rgt\" transform=\"translate(3 -7.0)\" /></g><path class=\"edge\" d=\"M 0 0 V -32.099 H 5.81633\" /><circle class=\"sym\" cx=\"0\" cy=\"0\" r=\"3\" /><text class=\"lab lft\" transform=\"translate(-3 -7.0)\" /></g><g class=\"a22702447 c2 node n22702373\" transform=\"translate(5.81633 46.4372)\"><g class=\"a22702373 i136 leaf node n136 sample\" transform=\"translate(-2.90816 3.50663)\"><path class=\"edge\" d=\"M 0 0 V -3.50663 H 2.90816\" /><rect class=\"sym\" height=\"6\" width=\"6\" x=\"-3\" y=\"-3\" /><text class=\"lab\" transform=\"translate(0 11)\" /></g><g class=\"a22702373 c2 node n22702293\" transform=\"translate(2.90816 2.55342)\"><g class=\"a22702293 i135 leaf node n135 sample\" transform=\"translate(-1.93878 0.953209)\"><path class=\"edge\" d=\"M 0 0 V -0.953209 H 1.93878\" /><rect class=\"sym\" height=\"6\" width=\"6\" x=\"-3\" y=\"-3\" /><text class=\"lab\" transform=\"translate(0 11)\" /></g><g class=\"a22702293 i139 leaf node n139 sample\" transform=\"translate(1.93878 0.953209)\"><path class=\"edge\" d=\"M 0 0 V -0.953209 H -1.93878\" /><rect class=\"sym\" height=\"6\" width=\"6\" x=\"-3\" y=\"-3\" /><text class=\"lab\" transform=\"translate(0 11)\" /></g><path class=\"edge\" d=\"M 0 0 V -2.55342 H -2.90816\" /><circle class=\"sym\" cx=\"0\" cy=\"0\" r=\"3\" /><text class=\"lab rgt\" transform=\"translate(3 -7.0)\" /></g><path class=\"edge\" d=\"M 0 0 V -46.4372 H -5.81633\" /><circle class=\"sym\" cx=\"0\" cy=\"0\" r=\"3\" /><text class=\"lab rgt\" transform=\"translate(3 -7.0)\" /></g><path class=\"edge\" d=\"M 0 0 V -25.4286 H -6.30102\" /><circle class=\"sym\" cx=\"0\" cy=\"0\" r=\"3\" /><text class=\"lab rgt\" transform=\"translate(3 -7.0)\" /></g><path class=\"edge\" d=\"M 0 0 V -33.2564 H -11.0268\" /><g class=\"mut m1551406 s1579869 unknown_time\" transform=\"translate(0 -16.6282)\"><line x1=\"0\" x2=\"0\" y1=\"0\" y2=\"16.6282\" /><path class=\"sym\" d=\"M -3,-3 l 6,6 M -3,3 l 6,-6\" /><text class=\"lab rgt\" transform=\"translate(5 0)\">1551406</text></g><circle class=\"sym\" cx=\"0\" cy=\"0\" r=\"3\" /><text class=\"lab rgt\" transform=\"translate(3 -7.0)\" /></g><path class=\"edge\" d=\"M 0 0 V -17.2075 H -16.9037\" /><circle class=\"sym\" cx=\"0\" cy=\"0\" r=\"3\" /><text class=\"lab rgt\" transform=\"translate(3 -7.0)\" /></g><path class=\"edge\" d=\"M 0 0 V -11.5904 H -25.1738\" /><circle class=\"sym\" cx=\"0\" cy=\"0\" r=\"3\" /><text class=\"lab rgt\" transform=\"translate(3 -7.0)\" /></g><path class=\"edge\" d=\"M 0 0 V -10.7758 H 41.5776\" /><circle class=\"sym\" cx=\"0\" cy=\"0\" r=\"3\" /><text class=\"lab lft\" transform=\"translate(-3 -7.0)\" /></g><g class=\"a22702464 c2 node n22702463\" transform=\"translate(41.5776 105.762)\"><g class=\"a22702463 c2 m1551390 node n22702336 s1579852\" transform=\"translate(-7.27041 22.0638)\"><g class=\"a22702336 i156 leaf node n156 sample\" transform=\"translate(-1.93878 20.3764)\"><path class=\"edge\" d=\"M 0 0 V -20.3764 H 1.93878\" /><rect class=\"sym\" height=\"6\" width=\"6\" x=\"-3\" y=\"-3\" /><text class=\"lab\" transform=\"translate(0 11)\" /></g><g class=\"a22702336 i160 leaf node n160 sample\" transform=\"translate(1.93878 20.3764)\"><path class=\"edge\" d=\"M 0 0 V -20.3764 H -1.93878\" /><rect class=\"sym\" height=\"6\" width=\"6\" x=\"-3\" y=\"-3\" /><text class=\"lab\" transform=\"translate(0 11)\" /></g><path class=\"edge\" d=\"M 0 0 V -22.0638 H 7.27041\" /><g class=\"mut m1551390 s1579852 unknown_time\" transform=\"translate(0 -11.0319)\"><line x1=\"0\" x2=\"0\" y1=\"0\" y2=\"11.0319\" /><path class=\"sym\" d=\"M -3,-3 l 6,6 M -3,3 l 6,-6\" /><text class=\"lab lft\" transform=\"translate(-5 0)\">1551390</text></g><circle class=\"sym\" cx=\"0\" cy=\"0\" r=\"3\" /><text class=\"lab lft\" transform=\"translate(-3 -7.0)\" /></g><g class=\"a22702463 c2 node n22702435\" transform=\"translate(7.27041 27.5868)\"><g class=\"a22702435 c2 node n22702350\" transform=\"translate(-5.81633 13.3173)\"><g class=\"a22702350 i25 leaf node n25 sample\" transform=\"translate(-2.90816 1.53611)\"><path class=\"edge\" d=\"M 0 0 V -1.53611 H 2.90816\" /><rect class=\"sym\" height=\"6\" width=\"6\" x=\"-3\" y=\"-3\" /><text class=\"lab\" transform=\"translate(0 11)\" /></g><g class=\"a22702350 c2 node n22702315\" transform=\"translate(2.90816 0.500851)\"><g class=\"a22702315 i23 leaf node n23 sample\" transform=\"translate(-1.93878 1.03526)\"><path class=\"edge\" d=\"M 0 0 V -1.03526 H 1.93878\" /><rect class=\"sym\" height=\"6\" width=\"6\" x=\"-3\" y=\"-3\" /><text class=\"lab\" transform=\"translate(0 11)\" /></g><g class=\"a22702315 i27 leaf node n27 sample\" transform=\"translate(1.93878 1.03526)\"><path class=\"edge\" d=\"M 0 0 V -1.03526 H -1.93878\" /><rect class=\"sym\" height=\"6\" width=\"6\" x=\"-3\" y=\"-3\" /><text class=\"lab\" transform=\"translate(0 11)\" /></g><path class=\"edge\" d=\"M 0 0 V -0.500851 H -2.90816\" /><circle class=\"sym\" cx=\"0\" cy=\"0\" r=\"3\" /><text class=\"lab rgt\" transform=\"translate(3 -7.0)\" /></g><path class=\"edge\" d=\"M 0 0 V -13.3173 H 5.81633\" /><circle class=\"sym\" cx=\"0\" cy=\"0\" r=\"3\" /><text class=\"lab lft\" transform=\"translate(-3 -7.0)\" /></g><g class=\"a22702435 c2 node n22702362\" transform=\"translate(5.81633 4.33829)\"><g class=\"a22702362 i122 leaf node n122 sample\" transform=\"translate(-2.90816 10.5151)\"><path class=\"edge\" d=\"M 0 0 V -10.5151 H 2.90816\" /><rect class=\"sym\" height=\"6\" width=\"6\" x=\"-3\" y=\"-3\" /><text class=\"lab\" transform=\"translate(0 11)\" /></g><g class=\"a22702362 c2 node n22702330\" transform=\"translate(2.90816 6.35104)\"><g class=\"a22702330 i61 leaf node n61 sample\" transform=\"translate(-1.93878 4.16408)\"><path class=\"edge\" d=\"M 0 0 V -4.16408 H 1.93878\" /><rect class=\"sym\" height=\"6\" width=\"6\" x=\"-3\" y=\"-3\" /><text class=\"lab\" transform=\"translate(0 11)\" /></g><g class=\"a22702330 i133 leaf node n133 sample\" transform=\"translate(1.93878 4.16408)\"><path class=\"edge\" d=\"M 0 0 V -4.16408 H -1.93878\" /><rect class=\"sym\" height=\"6\" width=\"6\" x=\"-3\" y=\"-3\" /><text class=\"lab\" transform=\"translate(0 11)\" /></g><path class=\"edge\" d=\"M 0 0 V -6.35104 H -2.90816\" /><circle class=\"sym\" cx=\"0\" cy=\"0\" r=\"3\" /><text class=\"lab rgt\" transform=\"translate(3 -7.0)\" /></g><path class=\"edge\" d=\"M 0 0 V -4.33829 H -5.81633\" /><circle class=\"sym\" cx=\"0\" cy=\"0\" r=\"3\" /><text class=\"lab rgt\" transform=\"translate(3 -7.0)\" /></g><path class=\"edge\" d=\"M 0 0 V -27.5868 H -7.27041\" /><circle class=\"sym\" cx=\"0\" cy=\"0\" r=\"3\" /><text class=\"lab rgt\" transform=\"translate(3 -7.0)\" /></g><path class=\"edge\" d=\"M 0 0 V -105.762 H -41.5776\" /><circle class=\"sym\" cx=\"0\" cy=\"0\" r=\"3\" /><text class=\"lab rgt\" transform=\"translate(3 -7.0)\" /></g><path class=\"edge\" d=\"M 0 0 V -20.8579 H -79.7284\" /><circle class=\"sym\" cx=\"0\" cy=\"0\" r=\"3\" /><text class=\"lab rgt\" transform=\"translate(3 -7.0)\" /></g><path class=\"edge\" d=\"M 0 0 V -18.4056 H 94.8019\" /><circle class=\"sym\" cx=\"0\" cy=\"0\" r=\"3\" /><text class=\"lab lft\" transform=\"translate(-3 -7.0)\" /></g><g class=\"a22702479 c2 node n22702478\" transform=\"translate(94.8019 50.09)\"><g class=\"a22702478 c2 m1551399 m1551417 m1551422 node n22702386 s1579862 s1579880 s1579885\" transform=\"translate(-43.5784 131.648)\"><g class=\"a22702386 i16 leaf node n16 sample\" transform=\"translate(-2.90816 5.72819)\"><path class=\"edge\" d=\"M 0 0 V -5.72819 H 2.90816\" /><rect class=\"sym\" height=\"6\" width=\"6\" x=\"-3\" y=\"-3\" /><text class=\"lab\" transform=\"translate(0 11)\" /></g><g class=\"a22702386 c2 node n22702338\" transform=\"translate(2.90816 1.161)\"><g class=\"a22702338 i17 leaf node n17 sample\" transform=\"translate(-1.93878 4.56719)\"><path class=\"edge\" d=\"M 0 0 V -4.56719 H 1.93878\" /><rect class=\"sym\" height=\"6\" width=\"6\" x=\"-3\" y=\"-3\" /><text class=\"lab\" transform=\"translate(0 11)\" /></g><g class=\"a22702338 i19 leaf node n19 sample\" transform=\"translate(1.93878 4.56719)\"><path class=\"edge\" d=\"M 0 0 V -4.56719 H -1.93878\" /><rect class=\"sym\" height=\"6\" width=\"6\" x=\"-3\" y=\"-3\" /><text class=\"lab\" transform=\"translate(0 11)\" /></g><path class=\"edge\" d=\"M 0 0 V -1.161 H -2.90816\" /><circle class=\"sym\" cx=\"0\" cy=\"0\" r=\"3\" /><text class=\"lab rgt\" transform=\"translate(3 -7.0)\" /></g><path class=\"edge\" d=\"M 0 0 V -131.648 H 43.5784\" /><g class=\"mut m1551399 s1579862 unknown_time\" transform=\"translate(0 -98.736)\"><line x1=\"0\" x2=\"0\" y1=\"0\" y2=\"98.736\" /><path class=\"sym\" d=\"M -3,-3 l 6,6 M -3,3 l 6,-6\" /><text class=\"lab lft\" transform=\"translate(-5 0)\">1551399</text></g><g class=\"mut m1551417 s1579880 unknown_time\" transform=\"translate(0 -65.824)\"><line x1=\"0\" x2=\"0\" y1=\"0\" y2=\"65.824\" /><path class=\"sym\" d=\"M -3,-3 l 6,6 M -3,3 l 6,-6\" /><text class=\"lab lft\" transform=\"translate(-5 0)\">1551417</text></g><g class=\"mut m1551422 s1579885 unknown_time\" transform=\"translate(0 -32.912)\"><line x1=\"0\" x2=\"0\" y1=\"0\" y2=\"32.912\" /><path class=\"sym\" d=\"M -3,-3 l 6,6 M -3,3 l 6,-6\" /><text class=\"lab lft\" transform=\"translate(-5 0)\">1551422</text></g><circle class=\"sym\" cx=\"0\" cy=\"0\" r=\"3\" /><text class=\"lab lft\" transform=\"translate(-3 -7.0)\" /></g><g class=\"a22702478 c2 node n22702477\" transform=\"translate(43.5784 51.8165)\"><g class=\"a22702477 c2 node n22702474\" transform=\"translate(-62.2633 54.3747)\"><g class=\"a22702474 i106 leaf m1551416 node n106 s1579879 sample\" transform=\"translate(-16.1691 31.185)\"><path class=\"edge\" d=\"M 0 0 V -31.185 H 16.1691\" /><g class=\"mut m1551416 s1579879 unknown_time\" transform=\"translate(0 -15.5925)\"><line x1=\"0\" x2=\"0\" y1=\"0\" y2=\"15.5925\" /><path class=\"sym\" d=\"M -3,-3 l 6,6 M -3,3 l 6,-6\" /><text class=\"lab lft\" transform=\"translate(-5 0)\">1551416</text></g><rect class=\"sym\" height=\"6\" width=\"6\" x=\"-3\" y=\"-3\" /><text class=\"lab\" transform=\"translate(0 11)\" /></g><g class=\"a22702474 c2 node n22702444\" transform=\"translate(16.1691 8.1805)\"><g class=\"a22702444 c2 node n22702430\" transform=\"translate(-19.3726 12.5817)\"><g class=\"a22702430 c2 node n22702356\" transform=\"translate(-6.17985 8.88982)\"><g class=\"a22702356 i52 leaf node n52 sample\" transform=\"translate(-2.90816 1.53296)\"><path class=\"edge\" d=\"M 0 0 V -1.53296 H 2.90816\" /><rect class=\"sym\" height=\"6\" width=\"6\" x=\"-3\" y=\"-3\" /><text class=\"lab\" transform=\"translate(0 11)\" /></g><g class=\"a22702356 c2 node n22702301\" transform=\"translate(2.90816 1.02176)\"><g class=\"a22702301 i28 leaf node n28 sample\" transform=\"translate(-1.93878 0.511196)\"><path class=\"edge\" d=\"M 0 0 V -0.511196 H 1.93878\" /><rect class=\"sym\" height=\"6\" width=\"6\" x=\"-3\" y=\"-3\" /><text class=\"lab\" transform=\"translate(0 11)\" /></g><g class=\"a22702301 i115 leaf node n115 sample\" transform=\"translate(1.93878 0.511196)\"><path class=\"edge\" d=\"M 0 0 V -0.511196 H -1.93878\" /><rect class=\"sym\" height=\"6\" width=\"6\" x=\"-3\" y=\"-3\" /><text class=\"lab\" transform=\"translate(0 11)\" /></g><path class=\"edge\" d=\"M 0 0 V -1.02176 H -2.90816\" /><circle class=\"sym\" cx=\"0\" cy=\"0\" r=\"3\" /><text class=\"lab rgt\" transform=\"translate(3 -7.0)\" /></g><path class=\"edge\" d=\"M 0 0 V -8.88982 H 6.17985\" /><circle class=\"sym\" cx=\"0\" cy=\"0\" r=\"3\" /><text class=\"lab lft\" transform=\"translate(-3 -7.0)\" /></g><g class=\"a22702430 c2 node n22702409\" transform=\"translate(6.17985 3.80866)\"><g class=\"a22702409 i99 leaf node n99 sample\" transform=\"translate(-3.6352 6.61412)\"><path class=\"edge\" d=\"M 0 0 V -6.61412 H 3.6352\" /><rect class=\"sym\" height=\"6\" width=\"6\" x=\"-3\" y=\"-3\" /><text class=\"lab\" transform=\"translate(0 11)\" /></g><g class=\"a22702409 c2 node n22702406\" transform=\"translate(3.6352 3.93635)\"><g class=\"a22702406 i65 leaf node n65 sample\" transform=\"translate(-3.39286 2.67777)\"><path class=\"edge\" d=\"M 0 0 V -2.67777 H 3.39286\" /><rect class=\"sym\" height=\"6\" width=\"6\" x=\"-3\" y=\"-3\" /><text class=\"lab\" transform=\"translate(0 11)\" /></g><g class=\"a22702406 c2 node n22702380\" transform=\"translate(3.39286 1.59288)\"><g class=\"a22702380 i96 leaf node n96 sample\" transform=\"translate(-2.90816 1.08489)\"><path class=\"edge\" d=\"M 0 0 V -1.08489 H 2.90816\" /><rect class=\"sym\" height=\"6\" width=\"6\" x=\"-3\" y=\"-3\" /><text class=\"lab\" transform=\"translate(0 11)\" /></g><g class=\"a22702380 c2 node n22702331\" transform=\"translate(2.90816 0.659872)\"><g class=\"a22702331 i21 leaf node n21 sample\" transform=\"translate(-1.93878 0.425021)\"><path class=\"edge\" d=\"M 0 0 V -0.425021 H 1.93878\" /><rect class=\"sym\" height=\"6\" width=\"6\" x=\"-3\" y=\"-3\" /><text class=\"lab\" transform=\"translate(0 11)\" /></g><g class=\"a22702331 i95 leaf node n95 sample\" transform=\"translate(1.93878 0.425021)\"><path class=\"edge\" d=\"M 0 0 V -0.425021 H -1.93878\" /><rect class=\"sym\" height=\"6\" width=\"6\" x=\"-3\" y=\"-3\" /><text class=\"lab\" transform=\"translate(0 11)\" /></g><path class=\"edge\" d=\"M 0 0 V -0.659872 H -2.90816\" /><circle class=\"sym\" cx=\"0\" cy=\"0\" r=\"3\" /><text class=\"lab rgt\" transform=\"translate(3 -7.0)\" /></g><path class=\"edge\" d=\"M 0 0 V -1.59288 H -3.39286\" /><circle class=\"sym\" cx=\"0\" cy=\"0\" r=\"3\" /><text class=\"lab rgt\" transform=\"translate(3 -7.0)\" /></g><path class=\"edge\" d=\"M 0 0 V -3.93635 H -3.6352\" /><circle class=\"sym\" cx=\"0\" cy=\"0\" r=\"3\" /><text class=\"lab rgt\" transform=\"translate(3 -7.0)\" /></g><path class=\"edge\" d=\"M 0 0 V -3.80866 H -6.17985\" /><circle class=\"sym\" cx=\"0\" cy=\"0\" r=\"3\" /><text class=\"lab rgt\" transform=\"translate(3 -7.0)\" /></g><path class=\"edge\" d=\"M 0 0 V -12.5817 H 19.3726\" /><circle class=\"sym\" cx=\"0\" cy=\"0\" r=\"3\" /><text class=\"lab lft\" transform=\"translate(-3 -7.0)\" /></g><g class=\"a22702444 c2 node n22702443\" transform=\"translate(19.3726 4.39405)\"><g class=\"a22702443 c2 m1551392 node n22702438 s1579855\" transform=\"translate(-10.2695 13.9746)\"><g class=\"a22702438 c2 node n22702311\" transform=\"translate(-4.60459 4.32165)\"><g class=\"a22702311 i26 leaf node n26 sample\" transform=\"translate(-1.93878 0.314168)\"><path class=\"edge\" d=\"M 0 0 V -0.314168 H 1.93878\" /><rect class=\"sym\" height=\"6\" width=\"6\" x=\"-3\" y=\"-3\" /><text class=\"lab\" transform=\"translate(0 11)\" /></g><g class=\"a22702311 i58 leaf node n58 sample\" transform=\"translate(1.93878 0.314168)\"><path class=\"edge\" d=\"M 0 0 V -0.314168 H -1.93878\" /><rect class=\"sym\" height=\"6\" width=\"6\" x=\"-3\" y=\"-3\" /><text class=\"lab\" transform=\"translate(0 11)\" /></g><path class=\"edge\" d=\"M 0 0 V -4.32165 H 4.60459\" /><circle class=\"sym\" cx=\"0\" cy=\"0\" r=\"3\" /><text class=\"lab lft\" transform=\"translate(-3 -7.0)\" /></g><g class=\"a22702438 c2 node n22702361\" transform=\"translate(4.60459 1.88906)\"><g class=\"a22702361 i90 leaf node n90 sample\" transform=\"translate(-3.39286 2.74676)\"><path class=\"edge\" d=\"M 0 0 V -2.74676 H 3.39286\" /><rect class=\"sym\" height=\"6\" width=\"6\" x=\"-3\" y=\"-3\" /><text class=\"lab\" transform=\"translate(0 11)\" /></g><g class=\"a22702361 c2 node n22702346\" transform=\"translate(3.39286 1.47825)\"><g class=\"a22702346 i13 leaf node n13 sample\" transform=\"translate(-2.90816 1.26851)\"><path class=\"edge\" d=\"M 0 0 V -1.26851 H 2.90816\" /><rect class=\"sym\" height=\"6\" width=\"6\" x=\"-3\" y=\"-3\" /><text class=\"lab\" transform=\"translate(0 11)\" /></g><g class=\"a22702346 c2 node n22702308\" transform=\"translate(2.90816 0.377653)\"><g class=\"a22702308 i12 leaf node n12 sample\" transform=\"translate(-1.93878 0.890856)\"><path class=\"edge\" d=\"M 0 0 V -0.890856 H 1.93878\" /><rect class=\"sym\" height=\"6\" width=\"6\" x=\"-3\" y=\"-3\" /><text class=\"lab\" transform=\"translate(0 11)\" /></g><g class=\"a22702308 i85 leaf node n85 sample\" transform=\"translate(1.93878 0.890856)\"><path class=\"edge\" d=\"M 0 0 V -0.890856 H -1.93878\" /><rect class=\"sym\" height=\"6\" width=\"6\" x=\"-3\" y=\"-3\" /><text class=\"lab\" transform=\"translate(0 11)\" /></g><path class=\"edge\" d=\"M 0 0 V -0.377653 H -2.90816\" /><circle class=\"sym\" cx=\"0\" cy=\"0\" r=\"3\" /><text class=\"lab rgt\" transform=\"translate(3 -7.0)\" /></g><path class=\"edge\" d=\"M 0 0 V -1.47825 H -3.39286\" /><circle class=\"sym\" cx=\"0\" cy=\"0\" r=\"3\" /><text class=\"lab rgt\" transform=\"translate(3 -7.0)\" /></g><path class=\"edge\" d=\"M 0 0 V -1.88906 H -4.60459\" /><circle class=\"sym\" cx=\"0\" cy=\"0\" r=\"3\" /><text class=\"lab rgt\" transform=\"translate(3 -7.0)\" /></g><path class=\"edge\" d=\"M 0 0 V -13.9746 H 10.2695\" /><g class=\"mut m1551392 s1579855 unknown_time\" transform=\"translate(0 -6.98729)\"><line x1=\"0\" x2=\"0\" y1=\"0\" y2=\"6.98729\" /><path class=\"sym\" d=\"M -3,-3 l 6,6 M -3,3 l 6,-6\" /><text class=\"lab lft\" transform=\"translate(-5 0)\">1551392</text></g><circle class=\"sym\" cx=\"0\" cy=\"0\" r=\"3\" /><text class=\"lab lft\" transform=\"translate(-3 -7.0)\" /></g><g class=\"a22702443 c2 node n22702439\" transform=\"translate(10.2695 5.07274)\"><g class=\"a22702439 i11 leaf node n11 sample\" transform=\"translate(-3.81696 13.5377)\"><path class=\"edge\" d=\"M 0 0 V -13.5377 H 3.81696\" /><rect class=\"sym\" height=\"6\" width=\"6\" x=\"-3\" y=\"-3\" /><text class=\"lab\" transform=\"translate(0 11)\" /></g><g class=\"a22702439 c2 m1551396 m1551421 node n22702408 s1579859 s1579884\" transform=\"translate(3.81696 9.3814)\"><g class=\"a22702408 i56 leaf node n56 sample\" transform=\"translate(-3.75638 4.15627)\"><path class=\"edge\" d=\"M 0 0 V -4.15627 H 3.75638\" /><rect class=\"sym\" height=\"6\" width=\"6\" x=\"-3\" y=\"-3\" /><text class=\"lab\" transform=\"translate(0 11)\" /></g><g class=\"a22702408 c2 node n22702407\" transform=\"translate(3.75638 2.38509)\"><g class=\"a22702407 i62 leaf node n62 sample\" transform=\"translate(-3.6352 1.77118)\"><path class=\"edge\" d=\"M 0 0 V -1.77118 H 3.6352\" /><rect class=\"sym\" height=\"6\" width=\"6\" x=\"-3\" y=\"-3\" /><text class=\"lab\" transform=\"translate(0 11)\" /></g><g class=\"a22702407 c2 node n22702359\" transform=\"translate(3.6352 0.514236)\"><g class=\"a22702359 i101 leaf node n101 sample\" transform=\"translate(-3.39286 1.25694)\"><path class=\"edge\" d=\"M 0 0 V -1.25694 H 3.39286\" /><rect class=\"sym\" height=\"6\" width=\"6\" x=\"-3\" y=\"-3\" /><text class=\"lab\" transform=\"translate(0 11)\" /></g><g class=\"a22702359 c2 node n22702352\" transform=\"translate(3.39286 0.404258)\"><g class=\"a22702352 i125 leaf node n125 sample\" transform=\"translate(-2.90816 0.852684)\"><path class=\"edge\" d=\"M 0 0 V -0.852684 H 2.90816\" /><rect class=\"sym\" height=\"6\" width=\"6\" x=\"-3\" y=\"-3\" /><text class=\"lab\" transform=\"translate(0 11)\" /></g><g class=\"a22702352 c2 node n22702332\" transform=\"translate(2.90816 0.521723)\"><g class=\"a22702332 i57 leaf node n57 sample\" transform=\"translate(-1.93878 0.330961)\"><path class=\"edge\" d=\"M 0 0 V -0.330961 H 1.93878\" /><rect class=\"sym\" height=\"6\" width=\"6\" x=\"-3\" y=\"-3\" /><text class=\"lab\" transform=\"translate(0 11)\" /></g><g class=\"a22702332 i127 leaf node n127 sample\" transform=\"translate(1.93878 0.330961)\"><path class=\"edge\" d=\"M 0 0 V -0.330961 H -1.93878\" /><rect class=\"sym\" height=\"6\" width=\"6\" x=\"-3\" y=\"-3\" /><text class=\"lab\" transform=\"translate(0 11)\" /></g><path class=\"edge\" d=\"M 0 0 V -0.521723 H -2.90816\" /><circle class=\"sym\" cx=\"0\" cy=\"0\" r=\"3\" /><text class=\"lab rgt\" transform=\"translate(3 -7.0)\" /></g><path class=\"edge\" d=\"M 0 0 V -0.404258 H -3.39286\" /><circle class=\"sym\" cx=\"0\" cy=\"0\" r=\"3\" /><text class=\"lab rgt\" transform=\"translate(3 -7.0)\" /></g><path class=\"edge\" d=\"M 0 0 V -0.514236 H -3.6352\" /><circle class=\"sym\" cx=\"0\" cy=\"0\" r=\"3\" /><text class=\"lab rgt\" transform=\"translate(3 -7.0)\" /></g><path class=\"edge\" d=\"M 0 0 V -2.38509 H -3.75638\" /><circle class=\"sym\" cx=\"0\" cy=\"0\" r=\"3\" /><text class=\"lab rgt\" transform=\"translate(3 -7.0)\" /></g><path class=\"edge\" d=\"M 0 0 V -9.3814 H -3.81696\" /><g class=\"mut m1551396 s1579859 unknown_time\" transform=\"translate(0 -6.25427)\"><line x1=\"0\" x2=\"0\" y1=\"0\" y2=\"6.25427\" /><path class=\"sym\" d=\"M -3,-3 l 6,6 M -3,3 l 6,-6\" /><text class=\"lab rgt\" transform=\"translate(5 0)\">1551396</text></g><g class=\"mut m1551421 s1579884 unknown_time\" transform=\"translate(0 -3.12713)\"><line x1=\"0\" x2=\"0\" y1=\"0\" y2=\"3.12713\" /><path class=\"sym\" d=\"M -3,-3 l 6,6 M -3,3 l 6,-6\" /><text class=\"lab rgt\" transform=\"translate(5 0)\">1551421</text></g><circle class=\"sym\" cx=\"0\" cy=\"0\" r=\"3\" /><text class=\"lab rgt\" transform=\"translate(3 -7.0)\" /></g><path class=\"edge\" d=\"M 0 0 V -5.07274 H -10.2695\" /><circle class=\"sym\" cx=\"0\" cy=\"0\" r=\"3\" /><text class=\"lab rgt\" transform=\"translate(3 -7.0)\" /></g><path class=\"edge\" d=\"M 0 0 V -4.39405 H -19.3726\" /><circle class=\"sym\" cx=\"0\" cy=\"0\" r=\"3\" /><text class=\"lab rgt\" transform=\"translate(3 -7.0)\" /></g><path class=\"edge\" d=\"M 0 0 V -8.1805 H -16.1691\" /><circle class=\"sym\" cx=\"0\" cy=\"0\" r=\"3\" /><text class=\"lab rgt\" transform=\"translate(3 -7.0)\" /></g><path class=\"edge\" d=\"M 0 0 V -54.3747 H 62.2633\" /><circle class=\"sym\" cx=\"0\" cy=\"0\" r=\"3\" /><text class=\"lab lft\" transform=\"translate(-3 -7.0)\" /></g><g class=\"a22702477 c2 node n22702476\" transform=\"translate(62.2633 27.5608)\"><g class=\"a22702476 c2 node n22702456\" transform=\"translate(-41.606 13.577)\"><g class=\"a22702456 c2 m1551414 node n22702402 s1579877\" transform=\"translate(-10.8753 20.2122)\"><g class=\"a22702402 i39 leaf node n39 sample\" transform=\"translate(-2.90816 24.2097)\"><path class=\"edge\" d=\"M 0 0 V -24.2097 H 2.90816\" /><rect class=\"sym\" height=\"6\" width=\"6\" x=\"-3\" y=\"-3\" /><text class=\"lab\" transform=\"translate(0 11)\" /></g><g class=\"a22702402 c2 m1551387 node n22702291 s1579849\" transform=\"translate(2.90816 22.0841)\"><g class=\"a22702291 i97 leaf m1551388 node n97 s1579850 sample\" transform=\"translate(-1.93878 2.12562)\"><path class=\"edge\" d=\"M 0 0 V -2.12562 H 1.93878\" /><g class=\"mut m1551388 s1579850 unknown_time\" transform=\"translate(0 -1.06281)\"><line x1=\"0\" x2=\"0\" y1=\"0\" y2=\"1.06281\" /><path class=\"sym\" d=\"M -3,-3 l 6,6 M -3,3 l 6,-6\" /><text class=\"lab lft\" transform=\"translate(-5 0)\">1551388</text></g><rect class=\"sym\" height=\"6\" width=\"6\" x=\"-3\" y=\"-3\" /><text class=\"lab\" transform=\"translate(0 11)\" /></g><g class=\"a22702291 i108 leaf node n108 sample\" transform=\"translate(1.93878 2.12562)\"><path class=\"edge\" d=\"M 0 0 V -2.12562 H -1.93878\" /><rect class=\"sym\" height=\"6\" width=\"6\" x=\"-3\" y=\"-3\" /><text class=\"lab\" transform=\"translate(0 11)\" /></g><path class=\"edge\" d=\"M 0 0 V -22.0841 H -2.90816\" /><g class=\"mut m1551387 s1579849 unknown_time\" transform=\"translate(0 -11.042)\"><line x1=\"0\" x2=\"0\" y1=\"0\" y2=\"11.042\" /><path class=\"sym\" d=\"M -3,-3 l 6,6 M -3,3 l 6,-6\" /><text class=\"lab rgt\" transform=\"translate(5 0)\">1551387</text></g><circle class=\"sym\" cx=\"0\" cy=\"0\" r=\"3\" /><text class=\"lab rgt\" transform=\"translate(3 -7.0)\" /></g><path class=\"edge\" d=\"M 0 0 V -20.2122 H 10.8753\" /><g class=\"mut m1551414 s1579877 unknown_time\" transform=\"translate(0 -10.1061)\"><line x1=\"0\" x2=\"0\" y1=\"0\" y2=\"10.1061\" /><path class=\"sym\" d=\"M -3,-3 l 6,6 M -3,3 l 6,-6\" /><text class=\"lab lft\" transform=\"translate(-5 0)\">1551414</text></g><circle class=\"sym\" cx=\"0\" cy=\"0\" r=\"3\" /><text class=\"lab lft\" transform=\"translate(-3 -7.0)\" /></g><g class=\"a22702456 c2 m1551402 node n22702432 s1579865\" transform=\"translate(10.8753 21.0007)\"><g class=\"a22702432 c2 node n22702423\" transform=\"translate(-9.63329 3.87185)\"><g class=\"a22702423 i150 leaf node n150 sample\" transform=\"translate(-3.39286 19.5493)\"><path class=\"edge\" d=\"M 0 0 V -19.5493 H 3.39286\" /><rect class=\"sym\" height=\"6\" width=\"6\" x=\"-3\" y=\"-3\" /><text class=\"lab\" transform=\"translate(0 11)\" /></g><g class=\"a22702423 c2 node n22702367\" transform=\"translate(3.39286 10.0456)\"><g class=\"a22702367 i157 leaf node n157 sample\" transform=\"translate(-2.90816 9.50366)\"><path class=\"edge\" d=\"M 0 0 V -9.50366 H 2.90816\" /><rect class=\"sym\" height=\"6\" width=\"6\" x=\"-3\" y=\"-3\" /><text class=\"lab\" transform=\"translate(0 11)\" /></g><g class=\"a22702367 c2 node n22702297\" transform=\"translate(2.90816 2.94949)\"><g class=\"a22702297 i151 leaf node n151 sample\" transform=\"translate(-1.93878 6.55417)\"><path class=\"edge\" d=\"M 0 0 V -6.55417 H 1.93878\" /><rect class=\"sym\" height=\"6\" width=\"6\" x=\"-3\" y=\"-3\" /><text class=\"lab\" transform=\"translate(0 11)\" /></g><g class=\"a22702297 i154 leaf node n154 sample\" transform=\"translate(1.93878 6.55417)\"><path class=\"edge\" d=\"M 0 0 V -6.55417 H -1.93878\" /><rect class=\"sym\" height=\"6\" width=\"6\" x=\"-3\" y=\"-3\" /><text class=\"lab\" transform=\"translate(0 11)\" /></g><path class=\"edge\" d=\"M 0 0 V -2.94949 H -2.90816\" /><circle class=\"sym\" cx=\"0\" cy=\"0\" r=\"3\" /><text class=\"lab rgt\" transform=\"translate(3 -7.0)\" /></g><path class=\"edge\" d=\"M 0 0 V -10.0456 H -3.39286\" /><circle class=\"sym\" cx=\"0\" cy=\"0\" r=\"3\" /><text class=\"lab rgt\" transform=\"translate(3 -7.0)\" /></g><path class=\"edge\" d=\"M 0 0 V -3.87185 H 9.63329\" /><circle class=\"sym\" cx=\"0\" cy=\"0\" r=\"3\" /><text class=\"lab lft\" transform=\"translate(-3 -7.0)\" /></g><g class=\"a22702432 c2 node n22702428\" transform=\"translate(9.63329 6.47834)\"><g class=\"a22702428 i162 leaf node n162 sample\" transform=\"translate(-7.14923 16.9428)\"><path class=\"edge\" d=\"M 0 0 V -16.9428 H 7.14923\" /><rect class=\"sym\" height=\"6\" width=\"6\" x=\"-3\" y=\"-3\" /><text class=\"lab\" transform=\"translate(0 11)\" /></g><g class=\"a22702428 c2 node n22702413\" transform=\"translate(7.14923 2.57907)\"><g class=\"a22702413 c2 node n22702355\" transform=\"translate(-7.51276 2.29127)\"><g class=\"a22702355 i165 leaf node n165 sample\" transform=\"translate(-2.90816 12.0725)\"><path class=\"edge\" d=\"M 0 0 V -12.0725 H 2.90816\" /><rect class=\"sym\" height=\"6\" width=\"6\" x=\"-3\" y=\"-3\" /><text class=\"lab\" transform=\"translate(0 11)\" /></g><g class=\"a22702355 c2 node n22702316\" transform=\"translate(2.90816 1.65021)\"><g class=\"a22702316 i152 leaf node n152 sample\" transform=\"translate(-1.93878 10.4223)\"><path class=\"edge\" d=\"M 0 0 V -10.4223 H 1.93878\" /><rect class=\"sym\" height=\"6\" width=\"6\" x=\"-3\" y=\"-3\" /><text class=\"lab\" transform=\"translate(0 11)\" /></g><g class=\"a22702316 i159 leaf node n159 sample\" transform=\"translate(1.93878 10.4223)\"><path class=\"edge\" d=\"M 0 0 V -10.4223 H -1.93878\" /><rect class=\"sym\" height=\"6\" width=\"6\" x=\"-3\" y=\"-3\" /><text class=\"lab\" transform=\"translate(0 11)\" /></g><path class=\"edge\" d=\"M 0 0 V -1.65021 H -2.90816\" /><circle class=\"sym\" cx=\"0\" cy=\"0\" r=\"3\" /><text class=\"lab rgt\" transform=\"translate(3 -7.0)\" /></g><path class=\"edge\" d=\"M 0 0 V -2.29127 H 7.51276\" /><circle class=\"sym\" cx=\"0\" cy=\"0\" r=\"3\" /><text class=\"lab lft\" transform=\"translate(-3 -7.0)\" /></g><g class=\"a22702413 c2 node n22702412\" transform=\"translate(7.51276 2.34887)\"><g class=\"a22702412 c2 node n22702379\" transform=\"translate(-4.36224 5.83336)\"><g class=\"a22702379 i146 leaf node n146 sample\" transform=\"translate(-1.93878 6.18151)\"><path class=\"edge\" d=\"M 0 0 V -6.18151 H 1.93878\" /><rect class=\"sym\" height=\"6\" width=\"6\" x=\"-3\" y=\"-3\" /><text class=\"lab\" transform=\"translate(0 11)\" /></g><g class=\"a22702379 i155 leaf node n155 sample\" transform=\"translate(1.93878 6.18151)\"><path class=\"edge\" d=\"M 0 0 V -6.18151 H -1.93878\" /><rect class=\"sym\" height=\"6\" width=\"6\" x=\"-3\" y=\"-3\" /><text class=\"lab\" transform=\"translate(0 11)\" /></g><path class=\"edge\" d=\"M 0 0 V -5.83336 H 4.36224\" /><circle class=\"sym\" cx=\"0\" cy=\"0\" r=\"3\" /><text class=\"lab lft\" transform=\"translate(-3 -7.0)\" /></g><g class=\"a22702412 c2 node n22702383\" transform=\"translate(4.36224 1.59061)\"><g class=\"a22702383 i161 leaf node n161 sample\" transform=\"translate(-2.90816 10.4243)\"><path class=\"edge\" d=\"M 0 0 V -10.4243 H 2.90816\" /><rect class=\"sym\" height=\"6\" width=\"6\" x=\"-3\" y=\"-3\" /><text class=\"lab\" transform=\"translate(0 11)\" /></g><g class=\"a22702383 c2 node n22702294\" transform=\"translate(2.90816 3.80823)\"><g class=\"a22702294 i153 leaf node n153 sample\" transform=\"translate(-1.93878 6.61603)\"><path class=\"edge\" d=\"M 0 0 V -6.61603 H 1.93878\" /><rect class=\"sym\" height=\"6\" width=\"6\" x=\"-3\" y=\"-3\" /><text class=\"lab\" transform=\"translate(0 11)\" /></g><g class=\"a22702294 i163 leaf node n163 sample\" transform=\"translate(1.93878 6.61603)\"><path class=\"edge\" d=\"M 0 0 V -6.61603 H -1.93878\" /><rect class=\"sym\" height=\"6\" width=\"6\" x=\"-3\" y=\"-3\" /><text class=\"lab\" transform=\"translate(0 11)\" /></g><path class=\"edge\" d=\"M 0 0 V -3.80823 H -2.90816\" /><circle class=\"sym\" cx=\"0\" cy=\"0\" r=\"3\" /><text class=\"lab rgt\" transform=\"translate(3 -7.0)\" /></g><path class=\"edge\" d=\"M 0 0 V -1.59061 H -4.36224\" /><circle class=\"sym\" cx=\"0\" cy=\"0\" r=\"3\" /><text class=\"lab rgt\" transform=\"translate(3 -7.0)\" /></g><path class=\"edge\" d=\"M 0 0 V -2.34887 H -7.51276\" /><circle class=\"sym\" cx=\"0\" cy=\"0\" r=\"3\" /><text class=\"lab rgt\" transform=\"translate(3 -7.0)\" /></g><path class=\"edge\" d=\"M 0 0 V -2.57907 H -7.14923\" /><circle class=\"sym\" cx=\"0\" cy=\"0\" r=\"3\" /><text class=\"lab rgt\" transform=\"translate(3 -7.0)\" /></g><path class=\"edge\" d=\"M 0 0 V -6.47834 H -9.63329\" /><circle class=\"sym\" cx=\"0\" cy=\"0\" r=\"3\" /><text class=\"lab rgt\" transform=\"translate(3 -7.0)\" /></g><path class=\"edge\" d=\"M 0 0 V -21.0007 H -10.8753\" /><g class=\"mut m1551402 s1579865 unknown_time\" transform=\"translate(0 -10.5004)\"><line x1=\"0\" x2=\"0\" y1=\"0\" y2=\"10.5004\" /><path class=\"sym\" d=\"M -3,-3 l 6,6 M -3,3 l 6,-6\" /><text class=\"lab rgt\" transform=\"translate(5 0)\">1551402</text></g><circle class=\"sym\" cx=\"0\" cy=\"0\" r=\"3\" /><text class=\"lab rgt\" transform=\"translate(3 -7.0)\" /></g><path class=\"edge\" d=\"M 0 0 V -13.577 H 41.606\" /><circle class=\"sym\" cx=\"0\" cy=\"0\" r=\"3\" /><text class=\"lab lft\" transform=\"translate(-3 -7.0)\" /></g><g class=\"a22702476 c2 node n22702475\" transform=\"translate(41.606 14.0736)\"><g class=\"a22702475 c2 node n22702471\" transform=\"translate(-31.5619 19.092)\"><g class=\"a22702471 i148 leaf node n148 sample\" transform=\"translate(-3.39286 24.8333)\"><path class=\"edge\" d=\"M 0 0 V -24.8333 H 3.39286\" /><rect class=\"sym\" height=\"6\" width=\"6\" x=\"-3\" y=\"-3\" /><text class=\"lab\" transform=\"translate(0 11)\" /></g><g class=\"a22702471 c2 node n22702411\" transform=\"translate(3.39286 2.849)\"><g class=\"a22702411 i158 leaf node n158 sample\" transform=\"translate(-2.90816 21.9842)\"><path class=\"edge\" d=\"M 0 0 V -21.9842 H 2.90816\" /><rect class=\"sym\" height=\"6\" width=\"6\" x=\"-3\" y=\"-3\" /><text class=\"lab\" transform=\"translate(0 11)\" /></g><g class=\"a22702411 c2 node n22702296\" transform=\"translate(2.90816 15.3563)\"><g class=\"a22702296 i141 leaf node n141 sample\" transform=\"translate(-1.93878 6.62799)\"><path class=\"edge\" d=\"M 0 0 V -6.62799 H 1.93878\" /><rect class=\"sym\" height=\"6\" width=\"6\" x=\"-3\" y=\"-3\" /><text class=\"lab\" transform=\"translate(0 11)\" /></g><g class=\"a22702296 i147 leaf node n147 sample\" transform=\"translate(1.93878 6.62799)\"><path class=\"edge\" d=\"M 0 0 V -6.62799 H -1.93878\" /><rect class=\"sym\" height=\"6\" width=\"6\" x=\"-3\" y=\"-3\" /><text class=\"lab\" transform=\"translate(0 11)\" /></g><path class=\"edge\" d=\"M 0 0 V -15.3563 H -2.90816\" /><circle class=\"sym\" cx=\"0\" cy=\"0\" r=\"3\" /><text class=\"lab rgt\" transform=\"translate(3 -7.0)\" /></g><path class=\"edge\" d=\"M 0 0 V -2.849 H -3.39286\" /><circle class=\"sym\" cx=\"0\" cy=\"0\" r=\"3\" /><text class=\"lab rgt\" transform=\"translate(3 -7.0)\" /></g><path class=\"edge\" d=\"M 0 0 V -19.092 H 31.5619\" /><circle class=\"sym\" cx=\"0\" cy=\"0\" r=\"3\" /><text class=\"lab lft\" transform=\"translate(-3 -7.0)\" /></g><g class=\"a22702475 c2 m1551407 node n22702473 s1579870\" transform=\"translate(31.5619 18.5977)\"><g class=\"a22702473 c2 node n22702427\" transform=\"translate(-41.7367 14.2813)\"><g class=\"a22702427 i10 leaf node n10 sample\" transform=\"translate(-9.26977 11.0463)\"><path class=\"edge\" d=\"M 0 0 V -11.0463 H 9.26977\" /><rect class=\"sym\" height=\"6\" width=\"6\" x=\"-3\" y=\"-3\" /><text class=\"lab\" transform=\"translate(0 11)\" /></g><g class=\"a22702427 c2 node n22702415\" transform=\"translate(9.26977 3.76384)\"><g class=\"a22702415 c2 node n22702358\" transform=\"translate(-11.0268 4.65733)\"><g class=\"a22702358 i83 leaf node n83 sample\" transform=\"translate(-3.6352 2.6251)\"><path class=\"edge\" d=\"M 0 0 V -2.6251 H 3.6352\" /><rect class=\"sym\" height=\"6\" width=\"6\" x=\"-3\" y=\"-3\" /><text class=\"lab\" transform=\"translate(0 11)\" /></g><g class=\"a22702358 c2 node n22702353\" transform=\"translate(3.6352 1.30116)\"><g class=\"a22702353 i114 leaf node n114 sample\" transform=\"translate(-3.39286 1.32394)\"><path class=\"edge\" d=\"M 0 0 V -1.32394 H 3.39286\" /><rect class=\"sym\" height=\"6\" width=\"6\" x=\"-3\" y=\"-3\" /><text class=\"lab\" transform=\"translate(0 11)\" /></g><g class=\"a22702353 c2 node n22702347\" transform=\"translate(3.39286 0.687086)\"><g class=\"a22702347 i131 leaf node n131 sample\" transform=\"translate(-2.90816 0.636852)\"><path class=\"edge\" d=\"M 0 0 V -0.636852 H 2.90816\" /><rect class=\"sym\" height=\"6\" width=\"6\" x=\"-3\" y=\"-3\" /><text class=\"lab\" transform=\"translate(0 11)\" /></g><g class=\"a22702347 c2 node n22702312\" transform=\"translate(2.90816 0.233824)\"><g class=\"a22702312 i117 leaf node n117 sample\" transform=\"translate(-1.93878 0.403028)\"><path class=\"edge\" d=\"M 0 0 V -0.403028 H 1.93878\" /><rect class=\"sym\" height=\"6\" width=\"6\" x=\"-3\" y=\"-3\" /><text class=\"lab\" transform=\"translate(0 11)\" /></g><g class=\"a22702312 i124 leaf node n124 sample\" transform=\"translate(1.93878 0.403028)\"><path class=\"edge\" d=\"M 0 0 V -0.403028 H -1.93878\" /><rect class=\"sym\" height=\"6\" width=\"6\" x=\"-3\" y=\"-3\" /><text class=\"lab\" transform=\"translate(0 11)\" /></g><path class=\"edge\" d=\"M 0 0 V -0.233824 H -2.90816\" /><circle class=\"sym\" cx=\"0\" cy=\"0\" r=\"3\" /><text class=\"lab rgt\" transform=\"translate(3 -7.0)\" /></g><path class=\"edge\" d=\"M 0 0 V -0.687086 H -3.39286\" /><circle class=\"sym\" cx=\"0\" cy=\"0\" r=\"3\" /><text class=\"lab rgt\" transform=\"translate(3 -7.0)\" /></g><path class=\"edge\" d=\"M 0 0 V -1.30116 H -3.6352\" /><circle class=\"sym\" cx=\"0\" cy=\"0\" r=\"3\" /><text class=\"lab rgt\" transform=\"translate(3 -7.0)\" /></g><path class=\"edge\" d=\"M 0 0 V -4.65733 H 11.0268\" /><circle class=\"sym\" cx=\"0\" cy=\"0\" r=\"3\" /><text class=\"lab lft\" transform=\"translate(-3 -7.0)\" /></g><g class=\"a22702415 c2 node n22702374\" transform=\"translate(11.0268 1.5119)\"><g class=\"a22702374 c2 node n22702349\" transform=\"translate(-4.36224 1.36118)\"><g class=\"a22702349 i86 leaf node n86 sample\" transform=\"translate(-1.93878 4.40935)\"><path class=\"edge\" d=\"M 0 0 V -4.40935 H 1.93878\" /><rect class=\"sym\" height=\"6\" width=\"6\" x=\"-3\" y=\"-3\" /><text class=\"lab\" transform=\"translate(0 11)\" /></g><g class=\"a22702349 i91 leaf node n91 sample\" transform=\"translate(1.93878 4.40935)\"><path class=\"edge\" d=\"M 0 0 V -4.40935 H -1.93878\" /><rect class=\"sym\" height=\"6\" width=\"6\" x=\"-3\" y=\"-3\" /><text class=\"lab\" transform=\"translate(0 11)\" /></g><path class=\"edge\" d=\"M 0 0 V -1.36118 H 4.36224\" /><circle class=\"sym\" cx=\"0\" cy=\"0\" r=\"3\" /><text class=\"lab lft\" transform=\"translate(-3 -7.0)\" /></g><g class=\"a22702374 c2 node n22702357\" transform=\"translate(4.36224 1.85382)\"><g class=\"a22702357 i14 leaf node n14 sample\" transform=\"translate(-2.90816 3.91671)\"><path class=\"edge\" d=\"M 0 0 V -3.91671 H 2.90816\" /><rect class=\"sym\" height=\"6\" width=\"6\" x=\"-3\" y=\"-3\" /><text class=\"lab\" transform=\"translate(0 11)\" /></g><g class=\"a22702357 c2 node n22702327\" transform=\"translate(2.90816 2.47803)\"><g class=\"a22702327 i84 leaf node n84 sample\" transform=\"translate(-1.93878 1.43868)\"><path class=\"edge\" d=\"M 0 0 V -1.43868 H 1.93878\" /><rect class=\"sym\" height=\"6\" width=\"6\" x=\"-3\" y=\"-3\" /><text class=\"lab\" transform=\"translate(0 11)\" /></g><g class=\"a22702327 i87 leaf node n87 sample\" transform=\"translate(1.93878 1.43868)\"><path class=\"edge\" d=\"M 0 0 V -1.43868 H -1.93878\" /><rect class=\"sym\" height=\"6\" width=\"6\" x=\"-3\" y=\"-3\" /><text class=\"lab\" transform=\"translate(0 11)\" /></g><path class=\"edge\" d=\"M 0 0 V -2.47803 H -2.90816\" /><circle class=\"sym\" cx=\"0\" cy=\"0\" r=\"3\" /><text class=\"lab rgt\" transform=\"translate(3 -7.0)\" /></g><path class=\"edge\" d=\"M 0 0 V -1.85382 H -4.36224\" /><circle class=\"sym\" cx=\"0\" cy=\"0\" r=\"3\" /><text class=\"lab rgt\" transform=\"translate(3 -7.0)\" /></g><path class=\"edge\" d=\"M 0 0 V -1.5119 H -11.0268\" /><circle class=\"sym\" cx=\"0\" cy=\"0\" r=\"3\" /><text class=\"lab rgt\" transform=\"translate(3 -7.0)\" /></g><path class=\"edge\" d=\"M 0 0 V -3.76384 H -9.26977\" /><circle class=\"sym\" cx=\"0\" cy=\"0\" r=\"3\" /><text class=\"lab rgt\" transform=\"translate(3 -7.0)\" /></g><path class=\"edge\" d=\"M 0 0 V -14.2813 H 41.7367\" /><circle class=\"sym\" cx=\"0\" cy=\"0\" r=\"3\" /><text class=\"lab lft\" transform=\"translate(-3 -7.0)\" /></g><g class=\"a22702473 c2 node n22702472\" transform=\"translate(41.7367 9.37583)\"><g class=\"a22702472 c2 node n22702426\" transform=\"translate(-40.063 3.20275)\"><g class=\"a22702426 i142 leaf node n142 sample\" transform=\"translate(-10.0271 12.749)\"><path class=\"edge\" d=\"M 0 0 V -12.749 H 10.0271\" /><rect class=\"sym\" height=\"6\" width=\"6\" x=\"-3\" y=\"-3\" /><text class=\"lab\" transform=\"translate(0 11)\" /></g><g class=\"a22702426 c2 node n22702425\" transform=\"translate(10.0271 1.59598)\"><g class=\"a22702425 i164 leaf node n164 sample\" transform=\"translate(-16.1767 11.153)\"><path class=\"edge\" d=\"M 0 0 V -11.153 H 16.1767\" /><rect class=\"sym\" height=\"6\" width=\"6\" x=\"-3\" y=\"-3\" /><text class=\"lab\" transform=\"translate(0 11)\" /></g><g class=\"a22702425 c2 m1551425 node n22702424 s1579888\" transform=\"translate(16.1767 3.24289)\"><g class=\"a22702424 c2 node n22702391\" transform=\"translate(-21.3265 2.5825)\"><g class=\"a22702391 i20 leaf node n20 sample\" transform=\"translate(-7.14923 5.3276)\"><path class=\"edge\" d=\"M 0 0 V -5.3276 H 7.14923\" /><rect class=\"sym\" height=\"6\" width=\"6\" x=\"-3\" y=\"-3\" /><text class=\"lab\" transform=\"translate(0 11)\" /></g><g class=\"a22702391 c2 node n22702390\" transform=\"translate(7.14923 1.63122)\"><g class=\"a22702390 c2 node n22702354\" transform=\"translate(-7.51276 1.51955)\"><g class=\"a22702354 i119 leaf node n119 sample\" transform=\"translate(-2.90816 2.17682)\"><path class=\"edge\" d=\"M 0 0 V -2.17682 H 2.90816\" /><rect class=\"sym\" height=\"6\" width=\"6\" x=\"-3\" y=\"-3\" /><text class=\"lab\" transform=\"translate(0 11)\" /></g><g class=\"a22702354 c2 node n22702348\" transform=\"translate(2.90816 0.885552)\"><g class=\"a22702348 i55 leaf node n55 sample\" transform=\"translate(-1.93878 1.29127)\"><path class=\"edge\" d=\"M 0 0 V -1.29127 H 1.93878\" /><rect class=\"sym\" height=\"6\" width=\"6\" x=\"-3\" y=\"-3\" /><text class=\"lab\" transform=\"translate(0 11)\" /></g><g class=\"a22702348 i121 leaf node n121 sample\" transform=\"translate(1.93878 1.29127)\"><path class=\"edge\" d=\"M 0 0 V -1.29127 H -1.93878\" /><rect class=\"sym\" height=\"6\" width=\"6\" x=\"-3\" y=\"-3\" /><text class=\"lab\" transform=\"translate(0 11)\" /></g><path class=\"edge\" d=\"M 0 0 V -0.885552 H -2.90816\" /><circle class=\"sym\" cx=\"0\" cy=\"0\" r=\"3\" /><text class=\"lab rgt\" transform=\"translate(3 -7.0)\" /></g><path class=\"edge\" d=\"M 0 0 V -1.51955 H 7.51276\" /><circle class=\"sym\" cx=\"0\" cy=\"0\" r=\"3\" /><text class=\"lab lft\" transform=\"translate(-3 -7.0)\" /></g><g class=\"a22702390 c2 node n22702376\" transform=\"translate(7.51276 1.13527)\"><g class=\"a22702376 c2 node n22702345\" transform=\"translate(-4.36224 1.20264)\"><g class=\"a22702345 i29 leaf node n29 sample\" transform=\"translate(-1.93878 1.35846)\"><path class=\"edge\" d=\"M 0 0 V -1.35846 H 1.93878\" /><rect class=\"sym\" height=\"6\" width=\"6\" x=\"-3\" y=\"-3\" /><text class=\"lab\" transform=\"translate(0 11)\" /></g><g class=\"a22702345 i100 leaf node n100 sample\" transform=\"translate(1.93878 1.35846)\"><path class=\"edge\" d=\"M 0 0 V -1.35846 H -1.93878\" /><rect class=\"sym\" height=\"6\" width=\"6\" x=\"-3\" y=\"-3\" /><text class=\"lab\" transform=\"translate(0 11)\" /></g><path class=\"edge\" d=\"M 0 0 V -1.20264 H 4.36224\" /><circle class=\"sym\" cx=\"0\" cy=\"0\" r=\"3\" /><text class=\"lab lft\" transform=\"translate(-3 -7.0)\" /></g><g class=\"a22702376 c2 node n22702369\" transform=\"translate(4.36224 1.11967)\"><g class=\"a22702369 i126 leaf node n126 sample\" transform=\"translate(-2.90816 1.44143)\"><path class=\"edge\" d=\"M 0 0 V -1.44143 H 2.90816\" /><rect class=\"sym\" height=\"6\" width=\"6\" x=\"-3\" y=\"-3\" /><text class=\"lab\" transform=\"translate(0 11)\" /></g><g class=\"a22702369 c2 node n22702305\" transform=\"translate(2.90816 0.750186)\"><g class=\"a22702305 i116 leaf node n116 sample\" transform=\"translate(-1.93878 0.691242)\"><path class=\"edge\" d=\"M 0 0 V -0.691242 H 1.93878\" /><rect class=\"sym\" height=\"6\" width=\"6\" x=\"-3\" y=\"-3\" /><text class=\"lab\" transform=\"translate(0 11)\" /></g><g class=\"a22702305 i132 leaf node n132 sample\" transform=\"translate(1.93878 0.691242)\"><path class=\"edge\" d=\"M 0 0 V -0.691242 H -1.93878\" /><rect class=\"sym\" height=\"6\" width=\"6\" x=\"-3\" y=\"-3\" /><text class=\"lab\" transform=\"translate(0 11)\" /></g><path class=\"edge\" d=\"M 0 0 V -0.750186 H -2.90816\" /><circle class=\"sym\" cx=\"0\" cy=\"0\" r=\"3\" /><text class=\"lab rgt\" transform=\"translate(3 -7.0)\" /></g><path class=\"edge\" d=\"M 0 0 V -1.11967 H -4.36224\" /><circle class=\"sym\" cx=\"0\" cy=\"0\" r=\"3\" /><text class=\"lab rgt\" transform=\"translate(3 -7.0)\" /></g><path class=\"edge\" d=\"M 0 0 V -1.13527 H -7.51276\" /><circle class=\"sym\" cx=\"0\" cy=\"0\" r=\"3\" /><text class=\"lab rgt\" transform=\"translate(3 -7.0)\" /></g><path class=\"edge\" d=\"M 0 0 V -1.63122 H -7.14923\" /><circle class=\"sym\" cx=\"0\" cy=\"0\" r=\"3\" /><text class=\"lab rgt\" transform=\"translate(3 -7.0)\" /></g><path class=\"edge\" d=\"M 0 0 V -2.5825 H 21.3265\" /><circle class=\"sym\" cx=\"0\" cy=\"0\" r=\"3\" /><text class=\"lab lft\" transform=\"translate(-3 -7.0)\" /></g><g class=\"a22702424 c2 node n22702419\" transform=\"translate(21.3265 2.17171)\"><g class=\"a22702419 c2 node n22702378\" transform=\"translate(-11.5115 3.83848)\"><g class=\"a22702378 i128 leaf node n128 sample\" transform=\"translate(-3.39286 1.89991)\"><path class=\"edge\" d=\"M 0 0 V -1.89991 H 3.39286\" /><rect class=\"sym\" height=\"6\" width=\"6\" x=\"-3\" y=\"-3\" /><text class=\"lab\" transform=\"translate(0 11)\" /></g><g class=\"a22702378 c2 node n22702351\" transform=\"translate(3.39286 1.10275)\"><g class=\"a22702351 i120 leaf node n120 sample\" transform=\"translate(-2.90816 0.79716)\"><path class=\"edge\" d=\"M 0 0 V -0.79716 H 2.90816\" /><rect class=\"sym\" height=\"6\" width=\"6\" x=\"-3\" y=\"-3\" /><text class=\"lab\" transform=\"translate(0 11)\" /></g><g class=\"a22702351 c2 node n22702329\" transform=\"translate(2.90816 0.608908)\"><g class=\"a22702329 i59 leaf node n59 sample\" transform=\"translate(-1.93878 0.188253)\"><path class=\"edge\" d=\"M 0 0 V -0.188253 H 1.93878\" /><rect class=\"sym\" height=\"6\" width=\"6\" x=\"-3\" y=\"-3\" /><text class=\"lab\" transform=\"translate(0 11)\" /></g><g class=\"a22702329 i129 leaf node n129 sample\" transform=\"translate(1.93878 0.188253)\"><path class=\"edge\" d=\"M 0 0 V -0.188253 H -1.93878\" /><rect class=\"sym\" height=\"6\" width=\"6\" x=\"-3\" y=\"-3\" /><text class=\"lab\" transform=\"translate(0 11)\" /></g><path class=\"edge\" d=\"M 0 0 V -0.608908 H -2.90816\" /><circle class=\"sym\" cx=\"0\" cy=\"0\" r=\"3\" /><text class=\"lab rgt\" transform=\"translate(3 -7.0)\" /></g><path class=\"edge\" d=\"M 0 0 V -1.10275 H -3.39286\" /><circle class=\"sym\" cx=\"0\" cy=\"0\" r=\"3\" /><text class=\"lab rgt\" transform=\"translate(3 -7.0)\" /></g><path class=\"edge\" d=\"M 0 0 V -3.83848 H 11.5115\" /><circle class=\"sym\" cx=\"0\" cy=\"0\" r=\"3\" /><text class=\"lab lft\" transform=\"translate(-3 -7.0)\" /></g><g class=\"a22702419 c2 node n22702384\" transform=\"translate(11.5115 1.57979)\"><g class=\"a22702384 c2 node n22702370\" transform=\"translate(-7.51276 1.9514)\"><g class=\"a22702370 i60 leaf node n60 sample\" transform=\"translate(-3.39286 2.20719)\"><path class=\"edge\" d=\"M 0 0 V -2.20719 H 3.39286\" /><rect class=\"sym\" height=\"6\" width=\"6\" x=\"-3\" y=\"-3\" /><text class=\"lab\" transform=\"translate(0 11)\" /></g><g class=\"a22702370 c2 node n22702363\" transform=\"translate(3.39286 1.0352)\"><g class=\"a22702363 i53 leaf node n53 sample\" transform=\"translate(-2.90816 1.17199)\"><path class=\"edge\" d=\"M 0 0 V -1.17199 H 2.90816\" /><rect class=\"sym\" height=\"6\" width=\"6\" x=\"-3\" y=\"-3\" /><text class=\"lab\" transform=\"translate(0 11)\" /></g><g class=\"a22702363 c2 node n22702307\" transform=\"translate(2.90816 0.611464)\"><g class=\"a22702307 i22 leaf node n22 sample\" transform=\"translate(-1.93878 0.560527)\"><path class=\"edge\" d=\"M 0 0 V -0.560527 H 1.93878\" /><rect class=\"sym\" height=\"6\" width=\"6\" x=\"-3\" y=\"-3\" /><text class=\"lab\" transform=\"translate(0 11)\" /></g><g class=\"a22702307 i130 leaf node n130 sample\" transform=\"translate(1.93878 0.560527)\"><path class=\"edge\" d=\"M 0 0 V -0.560527 H -1.93878\" /><rect class=\"sym\" height=\"6\" width=\"6\" x=\"-3\" y=\"-3\" /><text class=\"lab\" transform=\"translate(0 11)\" /></g><path class=\"edge\" d=\"M 0 0 V -0.611464 H -2.90816\" /><circle class=\"sym\" cx=\"0\" cy=\"0\" r=\"3\" /><text class=\"lab rgt\" transform=\"translate(3 -7.0)\" /></g><path class=\"edge\" d=\"M 0 0 V -1.0352 H -3.39286\" /><circle class=\"sym\" cx=\"0\" cy=\"0\" r=\"3\" /><text class=\"lab rgt\" transform=\"translate(3 -7.0)\" /></g><path class=\"edge\" d=\"M 0 0 V -1.9514 H 7.51276\" /><circle class=\"sym\" cx=\"0\" cy=\"0\" r=\"3\" /><text class=\"lab lft\" transform=\"translate(-3 -7.0)\" /></g><g class=\"a22702384 c2 node n22702372\" transform=\"translate(7.51276 1.12813)\"><g class=\"a22702372 i123 leaf node n123 sample\" transform=\"translate(-2.90816 3.03047)\"><path class=\"edge\" d=\"M 0 0 V -3.03047 H 2.90816\" /><rect class=\"sym\" height=\"6\" width=\"6\" x=\"-3\" y=\"-3\" /><text class=\"lab\" transform=\"translate(0 11)\" /></g><g class=\"a22702372 c2 node n22702371\" transform=\"translate(2.90816 0.684738)\"><g class=\"a22702371 i18 leaf node n18 sample\" transform=\"translate(-1.93878 2.34573)\"><path class=\"edge\" d=\"M 0 0 V -2.34573 H 1.93878\" /><rect class=\"sym\" height=\"6\" width=\"6\" x=\"-3\" y=\"-3\" /><text class=\"lab\" transform=\"translate(0 11)\" /></g><g class=\"a22702371 i24 leaf node n24 sample\" transform=\"translate(1.93878 2.34573)\"><path class=\"edge\" d=\"M 0 0 V -2.34573 H -1.93878\" /><rect class=\"sym\" height=\"6\" width=\"6\" x=\"-3\" y=\"-3\" /><text class=\"lab\" transform=\"translate(0 11)\" /></g><path class=\"edge\" d=\"M 0 0 V -0.684738 H -2.90816\" /><circle class=\"sym\" cx=\"0\" cy=\"0\" r=\"3\" /><text class=\"lab rgt\" transform=\"translate(3 -7.0)\" /></g><path class=\"edge\" d=\"M 0 0 V -1.12813 H -7.51276\" /><circle class=\"sym\" cx=\"0\" cy=\"0\" r=\"3\" /><text class=\"lab rgt\" transform=\"translate(3 -7.0)\" /></g><path class=\"edge\" d=\"M 0 0 V -1.57979 H -11.5115\" /><circle class=\"sym\" cx=\"0\" cy=\"0\" r=\"3\" /><text class=\"lab rgt\" transform=\"translate(3 -7.0)\" /></g><path class=\"edge\" d=\"M 0 0 V -2.17171 H -21.3265\" /><circle class=\"sym\" cx=\"0\" cy=\"0\" r=\"3\" /><text class=\"lab rgt\" transform=\"translate(3 -7.0)\" /></g><path class=\"edge\" d=\"M 0 0 V -3.24289 H -16.1767\" /><g class=\"mut m1551425 s1579888 unknown_time\" transform=\"translate(0 -1.62145)\"><line x1=\"0\" x2=\"0\" y1=\"0\" y2=\"1.62145\" /><path class=\"sym\" d=\"M -3,-3 l 6,6 M -3,3 l 6,-6\" /><text class=\"lab rgt\" transform=\"translate(5 0)\">1551425</text></g><circle class=\"sym\" cx=\"0\" cy=\"0\" r=\"3\" /><text class=\"lab rgt\" transform=\"translate(3 -7.0)\" /></g><path class=\"edge\" d=\"M 0 0 V -1.59598 H -10.0271\" /><circle class=\"sym\" cx=\"0\" cy=\"0\" r=\"3\" /><text class=\"lab rgt\" transform=\"translate(3 -7.0)\" /></g><path class=\"edge\" d=\"M 0 0 V -3.20275 H 40.063\" /><circle class=\"sym\" cx=\"0\" cy=\"0\" r=\"3\" /><text class=\"lab lft\" transform=\"translate(-3 -7.0)\" /></g><g class=\"a22702472 c2 node n22702470\" transform=\"translate(40.063 11.346)\"><g class=\"a22702470 i64 leaf node n64 sample\" transform=\"translate(-4.84694 4.60571)\"><path class=\"edge\" d=\"M 0 0 V -4.60571 H 4.84694\" /><rect class=\"sym\" height=\"6\" width=\"6\" x=\"-3\" y=\"-3\" /><text class=\"lab\" transform=\"translate(0 11)\" /></g><g class=\"a22702470 c2 node n22702469\" transform=\"translate(4.84694 1.26441)\"><g class=\"a22702469 c2 node n22702295\" transform=\"translate(-3.87755 2.60355)\"><g class=\"a22702295 i54 leaf node n54 sample\" transform=\"translate(-1.93878 0.737752)\"><path class=\"edge\" d=\"M 0 0 V -0.737752 H 1.93878\" /><rect class=\"sym\" height=\"6\" width=\"6\" x=\"-3\" y=\"-3\" /><text class=\"lab\" transform=\"translate(0 11)\" /></g><g class=\"a22702295 i118 leaf node n118 sample\" transform=\"translate(1.93878 0.737752)\"><path class=\"edge\" d=\"M 0 0 V -0.737752 H -1.93878\" /><rect class=\"sym\" height=\"6\" width=\"6\" x=\"-3\" y=\"-3\" /><text class=\"lab\" transform=\"translate(0 11)\" /></g><path class=\"edge\" d=\"M 0 0 V -2.60355 H 3.87755\" /><circle class=\"sym\" cx=\"0\" cy=\"0\" r=\"3\" /><text class=\"lab lft\" transform=\"translate(-3 -7.0)\" /></g><g class=\"a22702469 c2 node n22702468\" transform=\"translate(3.87755 1.72257)\"><g class=\"a22702468 i63 leaf node n63 sample\" transform=\"translate(-1.93878 1.61873)\"><path class=\"edge\" d=\"M 0 0 V -1.61873 H 1.93878\" /><rect class=\"sym\" height=\"6\" width=\"6\" x=\"-3\" y=\"-3\" /><text class=\"lab\" transform=\"translate(0 11)\" /></g><g class=\"a22702468 i82 leaf node n82 sample\" transform=\"translate(1.93878 1.61873)\"><path class=\"edge\" d=\"M 0 0 V -1.61873 H -1.93878\" /><rect class=\"sym\" height=\"6\" width=\"6\" x=\"-3\" y=\"-3\" /><text class=\"lab\" transform=\"translate(0 11)\" /></g><path class=\"edge\" d=\"M 0 0 V -1.72257 H -3.87755\" /><circle class=\"sym\" cx=\"0\" cy=\"0\" r=\"3\" /><text class=\"lab rgt\" transform=\"translate(3 -7.0)\" /></g><path class=\"edge\" d=\"M 0 0 V -1.26441 H -4.84694\" /><circle class=\"sym\" cx=\"0\" cy=\"0\" r=\"3\" /><text class=\"lab rgt\" transform=\"translate(3 -7.0)\" /></g><path class=\"edge\" d=\"M 0 0 V -11.346 H -40.063\" /><circle class=\"sym\" cx=\"0\" cy=\"0\" r=\"3\" /><text class=\"lab rgt\" transform=\"translate(3 -7.0)\" /></g><path class=\"edge\" d=\"M 0 0 V -9.37583 H -41.7367\" /><circle class=\"sym\" cx=\"0\" cy=\"0\" r=\"3\" /><text class=\"lab rgt\" transform=\"translate(3 -7.0)\" /></g><path class=\"edge\" d=\"M 0 0 V -18.5977 H -31.5619\" /><g class=\"mut m1551407 s1579870 unknown_time\" transform=\"translate(0 -9.29884)\"><line x1=\"0\" x2=\"0\" y1=\"0\" y2=\"9.29884\" /><path class=\"sym\" d=\"M -3,-3 l 6,6 M -3,3 l 6,-6\" /><text class=\"lab rgt\" transform=\"translate(5 0)\">1551407</text></g><circle class=\"sym\" cx=\"0\" cy=\"0\" r=\"3\" /><text class=\"lab rgt\" transform=\"translate(3 -7.0)\" /></g><path class=\"edge\" d=\"M 0 0 V -14.0736 H -41.606\" /><circle class=\"sym\" cx=\"0\" cy=\"0\" r=\"3\" /><text class=\"lab rgt\" transform=\"translate(3 -7.0)\" /></g><path class=\"edge\" d=\"M 0 0 V -27.5608 H -62.2633\" /><circle class=\"sym\" cx=\"0\" cy=\"0\" r=\"3\" /><text class=\"lab rgt\" transform=\"translate(3 -7.0)\" /></g><path class=\"edge\" d=\"M 0 0 V -51.8165 H -43.5784\" /><circle class=\"sym\" cx=\"0\" cy=\"0\" r=\"3\" /><text class=\"lab rgt\" transform=\"translate(3 -7.0)\" /></g><path class=\"edge\" d=\"M 0 0 V -50.09 H -94.8019\" /><circle class=\"sym\" cx=\"0\" cy=\"0\" r=\"3\" /><text class=\"lab rgt\" transform=\"translate(3 -7.0)\" /></g><path class=\"edge\" d=\"M 0 0 V -53.4439 H 191.316\" /><circle class=\"sym\" cx=\"0\" cy=\"0\" r=\"3\" /><text class=\"lab lft\" transform=\"translate(-3 -7.0)\" /></g><g class=\"a22702484 c2 node n22702483\" transform=\"translate(191.316 223.792)\"><g class=\"a22702483 c2 node n22702403\" transform=\"translate(-9.5727 11.6993)\"><g class=\"a22702403 i88 leaf node n88 sample\" transform=\"translate(-2.90816 5.41825)\"><path class=\"edge\" d=\"M 0 0 V -5.41825 H 2.90816\" /><rect class=\"sym\" height=\"6\" width=\"6\" x=\"-3\" y=\"-3\" /><text class=\"lab\" transform=\"translate(0 11)\" /></g><g class=\"a22702403 c2 node n22702322\" transform=\"translate(2.90816 1.43123)\"><g class=\"a22702322 i15 leaf node n15 sample\" transform=\"translate(-1.93878 3.98702)\"><path class=\"edge\" d=\"M 0 0 V -3.98702 H 1.93878\" /><rect class=\"sym\" height=\"6\" width=\"6\" x=\"-3\" y=\"-3\" /><text class=\"lab\" transform=\"translate(0 11)\" /></g><g class=\"a22702322 i89 leaf node n89 sample\" transform=\"translate(1.93878 3.98702)\"><path class=\"edge\" d=\"M 0 0 V -3.98702 H -1.93878\" /><rect class=\"sym\" height=\"6\" width=\"6\" x=\"-3\" y=\"-3\" /><text class=\"lab\" transform=\"translate(0 11)\" /></g><path class=\"edge\" d=\"M 0 0 V -1.43123 H -2.90816\" /><circle class=\"sym\" cx=\"0\" cy=\"0\" r=\"3\" /><text class=\"lab rgt\" transform=\"translate(3 -7.0)\" /></g><path class=\"edge\" d=\"M 0 0 V -11.6993 H 9.5727\" /><circle class=\"sym\" cx=\"0\" cy=\"0\" r=\"3\" /><text class=\"lab lft\" transform=\"translate(-3 -7.0)\" /></g><g class=\"a22702483 c2 node n22702482\" transform=\"translate(9.5727 7.64118)\"><g class=\"a22702482 c2 node n22702467\" transform=\"translate(-7.51276 6.93987)\"><g class=\"a22702467 i102 leaf node n102 sample\" transform=\"translate(-2.90816 2.53652)\"><path class=\"edge\" d=\"M 0 0 V -2.53652 H 2.90816\" /><rect class=\"sym\" height=\"6\" width=\"6\" x=\"-3\" y=\"-3\" /><text class=\"lab\" transform=\"translate(0 11)\" /></g><g class=\"a22702467 c2 node n22702339\" transform=\"translate(2.90816 1.79065)\"><g class=\"a22702339 i36 leaf node n36 sample\" transform=\"translate(-1.93878 0.74587)\"><path class=\"edge\" d=\"M 0 0 V -0.74587 H 1.93878\" /><rect class=\"sym\" height=\"6\" width=\"6\" x=\"-3\" y=\"-3\" /><text class=\"lab\" transform=\"translate(0 11)\" /></g><g class=\"a22702339 i40 leaf node n40 sample\" transform=\"translate(1.93878 0.74587)\"><path class=\"edge\" d=\"M 0 0 V -0.74587 H -1.93878\" /><rect class=\"sym\" height=\"6\" width=\"6\" x=\"-3\" y=\"-3\" /><text class=\"lab\" transform=\"translate(0 11)\" /></g><path class=\"edge\" d=\"M 0 0 V -1.79065 H -2.90816\" /><circle class=\"sym\" cx=\"0\" cy=\"0\" r=\"3\" /><text class=\"lab rgt\" transform=\"translate(3 -7.0)\" /></g><path class=\"edge\" d=\"M 0 0 V -6.93987 H 7.51276\" /><circle class=\"sym\" cx=\"0\" cy=\"0\" r=\"3\" /><text class=\"lab lft\" transform=\"translate(-3 -7.0)\" /></g><g class=\"a22702482 c2 node n22702481\" transform=\"translate(7.51276 3.96987)\"><g class=\"a22702481 c2 node n22702325\" transform=\"translate(-4.36224 0.889303)\"><g class=\"a22702325 i38 leaf node n38 sample\" transform=\"translate(-1.93878 4.61722)\"><path class=\"edge\" d=\"M 0 0 V -4.61722 H 1.93878\" /><rect class=\"sym\" height=\"6\" width=\"6\" x=\"-3\" y=\"-3\" /><text class=\"lab\" transform=\"translate(0 11)\" /></g><g class=\"a22702325 i103 leaf node n103 sample\" transform=\"translate(1.93878 4.61722)\"><path class=\"edge\" d=\"M 0 0 V -4.61722 H -1.93878\" /><rect class=\"sym\" height=\"6\" width=\"6\" x=\"-3\" y=\"-3\" /><text class=\"lab\" transform=\"translate(0 11)\" /></g><path class=\"edge\" d=\"M 0 0 V -0.889303 H 4.36224\" /><circle class=\"sym\" cx=\"0\" cy=\"0\" r=\"3\" /><text class=\"lab lft\" transform=\"translate(-3 -7.0)\" /></g><g class=\"a22702481 c2 node n22702480\" transform=\"translate(4.36224 1.5694)\"><g class=\"a22702480 i109 leaf node n109 sample\" transform=\"translate(-2.90816 3.93712)\"><path class=\"edge\" d=\"M 0 0 V -3.93712 H 2.90816\" /><rect class=\"sym\" height=\"6\" width=\"6\" x=\"-3\" y=\"-3\" /><text class=\"lab\" transform=\"translate(0 11)\" /></g><g class=\"a22702480 c2 node n22702466\" transform=\"translate(2.90816 1.46561)\"><g class=\"a22702466 i94 leaf node n94 sample\" transform=\"translate(-1.93878 2.47151)\"><path class=\"edge\" d=\"M 0 0 V -2.47151 H 1.93878\" /><rect class=\"sym\" height=\"6\" width=\"6\" x=\"-3\" y=\"-3\" /><text class=\"lab\" transform=\"translate(0 11)\" /></g><g class=\"a22702466 i98 leaf node n98 sample\" transform=\"translate(1.93878 2.47151)\"><path class=\"edge\" d=\"M 0 0 V -2.47151 H -1.93878\" /><rect class=\"sym\" height=\"6\" width=\"6\" x=\"-3\" y=\"-3\" /><text class=\"lab\" transform=\"translate(0 11)\" /></g><path class=\"edge\" d=\"M 0 0 V -1.46561 H -2.90816\" /><circle class=\"sym\" cx=\"0\" cy=\"0\" r=\"3\" /><text class=\"lab rgt\" transform=\"translate(3 -7.0)\" /></g><path class=\"edge\" d=\"M 0 0 V -1.5694 H -4.36224\" /><circle class=\"sym\" cx=\"0\" cy=\"0\" r=\"3\" /><text class=\"lab rgt\" transform=\"translate(3 -7.0)\" /></g><path class=\"edge\" d=\"M 0 0 V -3.96987 H -7.51276\" /><circle class=\"sym\" cx=\"0\" cy=\"0\" r=\"3\" /><text class=\"lab rgt\" transform=\"translate(3 -7.0)\" /></g><path class=\"edge\" d=\"M 0 0 V -7.64118 H -9.5727\" /><circle class=\"sym\" cx=\"0\" cy=\"0\" r=\"3\" /><text class=\"lab rgt\" transform=\"translate(3 -7.0)\" /></g><path class=\"edge\" d=\"M 0 0 V -223.792 H -191.316\" /><circle class=\"sym\" cx=\"0\" cy=\"0\" r=\"3\" /><text class=\"lab rgt\" transform=\"translate(3 -7.0)\" /></g><path class=\"edge\" d=\"M 0 0 V -200.49 H -264.352\" /><g class=\"mut m1551386 s1579848 unknown_time\" transform=\"translate(0 -100.245)\"><line x1=\"0\" x2=\"0\" y1=\"0\" y2=\"100.245\" /><path class=\"sym\" d=\"M -3,-3 l 6,6 M -3,3 l 6,-6\" /><text class=\"lab rgt\" transform=\"translate(5 0)\">1551386</text></g><circle class=\"sym\" cx=\"0\" cy=\"0\" r=\"3\" /><text class=\"lab rgt\" transform=\"translate(3 -7.0)\" /></g><circle class=\"sym\" cx=\"0\" cy=\"0\" r=\"3\" /><text class=\"lab\" transform=\"translate(0 -11)\" /></g></g></g></svg>"
      ],
      "text/plain": [
       "'<svg baseProfile=\"full\" height=\"500\" version=\"1.1\" width=\"800\" xmlns=\"http://www.w3.org/2000/svg\" xmlns:ev=\"http://www.w3.org/2001/xml-events\" xmlns:xlink=\"http://www.w3.org/1999/xlink\"><defs><style type=\"text/css\"><![CDATA[.background path {fill: #808080; fill-opacity: 0}.background path:nth-child(odd) {fill-opacity: .1}.axes {font-size: 14px}.x-axis .tick .lab {font-weight: bold; dominant-baseline: hanging}.axes, .tree {font-size: 14px; text-anchor: middle}.axes line, .edge {stroke: black; fill: none}.y-axis .grid {stroke: #FAFAFA}.node > .sym {fill: black; stroke: none}.site > .sym {stroke: black}.mut text {fill: red; font-style: italic}.mut.extra text {fill: hotpink}.mut line {fill: none; stroke: none}.mut .sym {fill: none; stroke: red}.mut.extra .sym {stroke: hotpink}.node .mut .sym {stroke-width: 1.5px}.tree text, .tree-sequence text {dominant-baseline: central}.plotbox .lab.lft {text-anchor: end}.plotbox .lab.rgt {text-anchor: start}]]></style></defs><g class=\"tree t116421\"><g class=\"plotbox\"><g class=\"c2 node n22702485 root\" transform=\"translate(296.098 26.8)\"><g class=\"a22702485 c2 m1551413 node n22702455 s1579876\" transform=\"translate(-264.352 227.264)\"><g class=\"a22702455 i48 leaf m1551395 m1551400 m1551410 node n48 s1579858 s1579863 s1579873 sample\" transform=\"translate(-9.80653 214.136)\"><path class=\"edge\" d=\"M 0 0 V -214.136 H 9.80653\" /><g class=\"mut m1551395 s1579858 unknown_time\" transform=\"translate(0 -160.602)\"><line x1=\"0\" x2=\"0\" y1=\"0\" y2=\"160.602\" /><path class=\"sym\" d=\"M -3,-3 l 6,6 M -3,3 l 6,-6\" /><text class=\"lab lft\" transform=\"translate(-5 0)\">1551395</text></g><g class=\"mut m1551400 s1579863 unknown_time\" transform=\"translate(0 -107.068)\"><line x1=\"0\" x2=\"0\" y1=\"0\" y2=\"107.068\" /><path class=\"sym\" d=\"M -3,-3 l 6,6 M -3,3 l 6,-6\" /><text class=\"lab lft\" transform=\"translate(-5 0)\">1551400</text></g><g class=\"mut m1551410 s1579873 unknown_time\" transform=\"translate(0 -53.5341)\"><line x1=\"0\" x2=\"0\" y1=\"0\" y2=\"53.5341\" /><path class=\"sym\" d=\"M -3,-3 l 6,6 M -3,3 l 6,-6\" /><text class=\"lab lft\" transform=\"translate(-5 0)\">1551410</text></g><rect class=\"sym\" height=\"6\" width=\"6\" x=\"-3\" y=\"-3\" /><text class=\"lab\" transform=\"translate(0 11)\" /></g><g class=\"a22702455 c2 m1551391 m1551404 m1551415 m1551424 node n22702454 s1579853 s1579867 s1579878 s1579887\" transform=\"translate(9.80653 171.179)\"><g class=\"a22702454 c2 m1551409 node n22702303 s1579872\" transform=\"translate(-13.7967 34.5834)\"><g class=\"a22702303 i189 leaf node n189 sample\" transform=\"translate(-1.93878 8.37349)\"><path class=\"edge\" d=\"M 0 0 V -8.37349 H 1.93878\" /><rect class=\"sym\" height=\"6\" width=\"6\" x=\"-3\" y=\"-3\" /><text class=\"lab\" transform=\"translate(0 11)\" /></g><g class=\"a22702303 i194 leaf m1551429 node n194 s1579893 sample\" transform=\"translate(1.93878 8.37349)\"><path class=\"edge\" d=\"M 0 0 V -8.37349 H -1.93878\" /><g class=\"mut m1551429 s1579893 unknown_time\" transform=\"translate(0 -4.18675)\"><line x1=\"0\" x2=\"0\" y1=\"0\" y2=\"4.18675\" /><path class=\"sym\" d=\"M -3,-3 l 6,6 M -3,3 l 6,-6\" /><text class=\"lab rgt\" transform=\"translate(5 0)\">1551429</text></g><rect class=\"sym\" height=\"6\" width=\"6\" x=\"-3\" y=\"-3\" /><text class=\"lab\" transform=\"translate(0 11)\" /></g><path class=\"edge\" d=\"M 0 0 V -34.5834 H 13.7967\" /><g class=\"mut m1551409 s1579872 unknown_time\" transform=\"translate(0 -17.2917)\"><line x1=\"0\" x2=\"0\" y1=\"0\" y2=\"17.2917\" /><path class=\"sym\" d=\"M -3,-3 l 6,6 M -3,3 l 6,-6\" /><text class=\"lab lft\" transform=\"translate(-5 0)\">1551409</text></g><circle class=\"sym\" cx=\"0\" cy=\"0\" r=\"3\" /><text class=\"lab lft\" transform=\"translate(-3 -7.0)\" /></g><g class=\"a22702454 c2 node n22702446\" transform=\"translate(13.7967 24.9991)\"><g class=\"a22702446 i184 leaf node n184 sample\" transform=\"translate(-21.7771 17.9578)\"><path class=\"edge\" d=\"M 0 0 V -17.9578 H 21.7771\" /><rect class=\"sym\" height=\"6\" width=\"6\" x=\"-3\" y=\"-3\" /><text class=\"lab\" transform=\"translate(0 11)\" /></g><g class=\"a22702446 c2 node n22702445\" transform=\"translate(21.7771 2.46989)\"><g class=\"a22702445 c2 node n22702441\" transform=\"translate(-18.3654 2.49974)\"><g class=\"a22702441 c2 node n22702421\" transform=\"translate(-17.4641 2.41719)\"><g class=\"a22702421 i5 leaf node n5 sample\" transform=\"translate(-3.84726 10.571)\"><path class=\"edge\" d=\"M 0 0 V -10.571 H 3.84726\" /><rect class=\"sym\" height=\"6\" width=\"6\" x=\"-3\" y=\"-3\" /><text class=\"lab\" transform=\"translate(0 11)\" /></g><g class=\"a22702421 c2 node n22702420\" transform=\"translate(3.84726 2.70421)\"><g class=\"a22702420 i7 leaf node n7 sample\" transform=\"translate(-3.81696 7.86676)\"><path class=\"edge\" d=\"M 0 0 V -7.86676 H 3.81696\" /><rect class=\"sym\" height=\"6\" width=\"6\" x=\"-3\" y=\"-3\" /><text class=\"lab\" transform=\"translate(0 11)\" /></g><g class=\"a22702420 c2 node n22702397\" transform=\"translate(3.81696 3.29414)\"><g class=\"a22702397 i4 leaf node n4 sample\" transform=\"translate(-3.75638 4.57262)\"><path class=\"edge\" d=\"M 0 0 V -4.57262 H 3.75638\" /><rect class=\"sym\" height=\"6\" width=\"6\" x=\"-3\" y=\"-3\" /><text class=\"lab\" transform=\"translate(0 11)\" /></g><g class=\"a22702397 c2 node n22702396\" transform=\"translate(3.75638 0.933968)\"><g class=\"a22702396 i6 leaf m1551411 node n6 s1579874 sample\" transform=\"translate(-3.6352 3.63865)\"><path class=\"edge\" d=\"M 0 0 V -3.63865 H 3.6352\" /><g class=\"mut m1551411 s1579874 unknown_time\" transform=\"translate(0 -1.81932)\"><line x1=\"0\" x2=\"0\" y1=\"0\" y2=\"1.81932\" /><path class=\"sym\" d=\"M -3,-3 l 6,6 M -3,3 l 6,-6\" /><text class=\"lab lft\" transform=\"translate(-5 0)\">1551411</text></g><rect class=\"sym\" height=\"6\" width=\"6\" x=\"-3\" y=\"-3\" /><text class=\"lab\" transform=\"translate(0 11)\" /></g><g class=\"a22702396 c2 node n22702394\" transform=\"translate(3.6352 1.5969)\"><g class=\"a22702394 i191 leaf node n191 sample\" transform=\"translate(-3.39286 2.04175)\"><path class=\"edge\" d=\"M 0 0 V -2.04175 H 3.39286\" /><rect class=\"sym\" height=\"6\" width=\"6\" x=\"-3\" y=\"-3\" /><text class=\"lab\" transform=\"translate(0 11)\" /></g><g class=\"a22702394 c2 node n22702393\" transform=\"translate(3.39286 0.964836)\"><g class=\"a22702393 i110 leaf node n110 sample\" transform=\"translate(-2.90816 1.07692)\"><path class=\"edge\" d=\"M 0 0 V -1.07692 H 2.90816\" /><rect class=\"sym\" height=\"6\" width=\"6\" x=\"-3\" y=\"-3\" /><text class=\"lab\" transform=\"translate(0 11)\" /></g><g class=\"a22702393 c2 node n22702306\" transform=\"translate(2.90816 0.468436)\"><g class=\"a22702306 i171 leaf node n171 sample\" transform=\"translate(-1.93878 0.608482)\"><path class=\"edge\" d=\"M 0 0 V -0.608482 H 1.93878\" /><rect class=\"sym\" height=\"6\" width=\"6\" x=\"-3\" y=\"-3\" /><text class=\"lab\" transform=\"translate(0 11)\" /></g><g class=\"a22702306 i193 leaf node n193 sample\" transform=\"translate(1.93878 0.608482)\"><path class=\"edge\" d=\"M 0 0 V -0.608482 H -1.93878\" /><rect class=\"sym\" height=\"6\" width=\"6\" x=\"-3\" y=\"-3\" /><text class=\"lab\" transform=\"translate(0 11)\" /></g><path class=\"edge\" d=\"M 0 0 V -0.468436 H -2.90816\" /><circle class=\"sym\" cx=\"0\" cy=\"0\" r=\"3\" /><text class=\"lab rgt\" transform=\"translate(3 -7.0)\" /></g><path class=\"edge\" d=\"M 0 0 V -0.964836 H -3.39286\" /><circle class=\"sym\" cx=\"0\" cy=\"0\" r=\"3\" /><text class=\"lab rgt\" transform=\"translate(3 -7.0)\" /></g><path class=\"edge\" d=\"M 0 0 V -1.5969 H -3.6352\" /><circle class=\"sym\" cx=\"0\" cy=\"0\" r=\"3\" /><text class=\"lab rgt\" transform=\"translate(3 -7.0)\" /></g><path class=\"edge\" d=\"M 0 0 V -0.933968 H -3.75638\" /><circle class=\"sym\" cx=\"0\" cy=\"0\" r=\"3\" /><text class=\"lab rgt\" transform=\"translate(3 -7.0)\" /></g><path class=\"edge\" d=\"M 0 0 V -3.29414 H -3.81696\" /><circle class=\"sym\" cx=\"0\" cy=\"0\" r=\"3\" /><text class=\"lab rgt\" transform=\"translate(3 -7.0)\" /></g><path class=\"edge\" d=\"M 0 0 V -2.70421 H -3.84726\" /><circle class=\"sym\" cx=\"0\" cy=\"0\" r=\"3\" /><text class=\"lab rgt\" transform=\"translate(3 -7.0)\" /></g><path class=\"edge\" d=\"M 0 0 V -2.41719 H 17.4641\" /><circle class=\"sym\" cx=\"0\" cy=\"0\" r=\"3\" /><text class=\"lab lft\" transform=\"translate(-3 -7.0)\" /></g><g class=\"a22702441 c2 m1551420 node n22702422 s1579883\" transform=\"translate(17.4641 6.75601)\"><g class=\"a22702422 c2 node n22702334\" transform=\"translate(-5.81633 5.70043)\"><g class=\"a22702334 i170 leaf node n170 sample\" transform=\"translate(-1.93878 0.531716)\"><path class=\"edge\" d=\"M 0 0 V -0.531716 H 1.93878\" /><rect class=\"sym\" height=\"6\" width=\"6\" x=\"-3\" y=\"-3\" /><text class=\"lab\" transform=\"translate(0 11)\" /></g><g class=\"a22702334 i192 leaf node n192 sample\" transform=\"translate(1.93878 0.531716)\"><path class=\"edge\" d=\"M 0 0 V -0.531716 H -1.93878\" /><rect class=\"sym\" height=\"6\" width=\"6\" x=\"-3\" y=\"-3\" /><text class=\"lab\" transform=\"translate(0 11)\" /></g><path class=\"edge\" d=\"M 0 0 V -5.70043 H 5.81633\" /><circle class=\"sym\" cx=\"0\" cy=\"0\" r=\"3\" /><text class=\"lab lft\" transform=\"translate(-3 -7.0)\" /></g><g class=\"a22702422 c2 node n22702377\" transform=\"translate(5.81633 4.18898)\"><g class=\"a22702377 c2 node n22702320\" transform=\"translate(-3.87755 1.1)\"><g class=\"a22702320 i186 leaf node n186 sample\" transform=\"translate(-1.93878 0.943168)\"><path class=\"edge\" d=\"M 0 0 V -0.943168 H 1.93878\" /><rect class=\"sym\" height=\"6\" width=\"6\" x=\"-3\" y=\"-3\" /><text class=\"lab\" transform=\"translate(0 11)\" /></g><g class=\"a22702320 i188 leaf node n188 sample\" transform=\"translate(1.93878 0.943168)\"><path class=\"edge\" d=\"M 0 0 V -0.943168 H -1.93878\" /><rect class=\"sym\" height=\"6\" width=\"6\" x=\"-3\" y=\"-3\" /><text class=\"lab\" transform=\"translate(0 11)\" /></g><path class=\"edge\" d=\"M 0 0 V -1.1 H 3.87755\" /><circle class=\"sym\" cx=\"0\" cy=\"0\" r=\"3\" /><text class=\"lab lft\" transform=\"translate(-3 -7.0)\" /></g><g class=\"a22702377 c2 node n22702340\" transform=\"translate(3.87755 0.620524)\"><g class=\"a22702340 i187 leaf node n187 sample\" transform=\"translate(-1.93878 1.42264)\"><path class=\"edge\" d=\"M 0 0 V -1.42264 H 1.93878\" /><rect class=\"sym\" height=\"6\" width=\"6\" x=\"-3\" y=\"-3\" /><text class=\"lab\" transform=\"translate(0 11)\" /></g><g class=\"a22702340 i190 leaf node n190 sample\" transform=\"translate(1.93878 1.42264)\"><path class=\"edge\" d=\"M 0 0 V -1.42264 H -1.93878\" /><rect class=\"sym\" height=\"6\" width=\"6\" x=\"-3\" y=\"-3\" /><text class=\"lab\" transform=\"translate(0 11)\" /></g><path class=\"edge\" d=\"M 0 0 V -0.620524 H -3.87755\" /><circle class=\"sym\" cx=\"0\" cy=\"0\" r=\"3\" /><text class=\"lab rgt\" transform=\"translate(3 -7.0)\" /></g><path class=\"edge\" d=\"M 0 0 V -4.18898 H -5.81633\" /><circle class=\"sym\" cx=\"0\" cy=\"0\" r=\"3\" /><text class=\"lab rgt\" transform=\"translate(3 -7.0)\" /></g><path class=\"edge\" d=\"M 0 0 V -6.75601 H -17.4641\" /><g class=\"mut m1551420 s1579883 unknown_time\" transform=\"translate(0 -3.37801)\"><line x1=\"0\" x2=\"0\" y1=\"0\" y2=\"3.37801\" /><path class=\"sym\" d=\"M -3,-3 l 6,6 M -3,3 l 6,-6\" /><text class=\"lab rgt\" transform=\"translate(5 0)\">1551420</text></g><circle class=\"sym\" cx=\"0\" cy=\"0\" r=\"3\" /><text class=\"lab rgt\" transform=\"translate(3 -7.0)\" /></g><path class=\"edge\" d=\"M 0 0 V -2.49974 H 18.3654\" /><circle class=\"sym\" cx=\"0\" cy=\"0\" r=\"3\" /><text class=\"lab lft\" transform=\"translate(-3 -7.0)\" /></g><g class=\"a22702445 c2 node n22702442\" transform=\"translate(18.3654 6.37444)\"><g class=\"a22702442 i185 leaf node n185 sample\" transform=\"translate(-3.75638 9.11347)\"><path class=\"edge\" d=\"M 0 0 V -9.11347 H 3.75638\" /><rect class=\"sym\" height=\"6\" width=\"6\" x=\"-3\" y=\"-3\" /><text class=\"lab\" transform=\"translate(0 11)\" /></g><g class=\"a22702442 c2 m1551426 node n22702417 s1579889\" transform=\"translate(3.75638 4.07534)\"><g class=\"a22702417 i105 leaf node n105 sample\" transform=\"translate(-3.6352 5.03812)\"><path class=\"edge\" d=\"M 0 0 V -5.03812 H 3.6352\" /><rect class=\"sym\" height=\"6\" width=\"6\" x=\"-3\" y=\"-3\" /><text class=\"lab\" transform=\"translate(0 11)\" /></g><g class=\"a22702417 c2 node n22702395\" transform=\"translate(3.6352 1.20811)\"><g class=\"a22702395 i107 leaf node n107 sample\" transform=\"translate(-3.39286 3.83001)\"><path class=\"edge\" d=\"M 0 0 V -3.83001 H 3.39286\" /><rect class=\"sym\" height=\"6\" width=\"6\" x=\"-3\" y=\"-3\" /><text class=\"lab\" transform=\"translate(0 11)\" /></g><g class=\"a22702395 c2 node n22702365\" transform=\"translate(3.39286 2.97552)\"><g class=\"a22702365 i104 leaf node n104 sample\" transform=\"translate(-2.90816 0.85449)\"><path class=\"edge\" d=\"M 0 0 V -0.85449 H 2.90816\" /><rect class=\"sym\" height=\"6\" width=\"6\" x=\"-3\" y=\"-3\" /><text class=\"lab\" transform=\"translate(0 11)\" /></g><g class=\"a22702365 c2 node n22702326\" transform=\"translate(2.90816 0.552524)\"><g class=\"a22702326 i37 leaf node n37 sample\" transform=\"translate(-1.93878 0.301965)\"><path class=\"edge\" d=\"M 0 0 V -0.301965 H 1.93878\" /><rect class=\"sym\" height=\"6\" width=\"6\" x=\"-3\" y=\"-3\" /><text class=\"lab\" transform=\"translate(0 11)\" /></g><g class=\"a22702326 i41 leaf node n41 sample\" transform=\"translate(1.93878 0.301965)\"><path class=\"edge\" d=\"M 0 0 V -0.301965 H -1.93878\" /><rect class=\"sym\" height=\"6\" width=\"6\" x=\"-3\" y=\"-3\" /><text class=\"lab\" transform=\"translate(0 11)\" /></g><path class=\"edge\" d=\"M 0 0 V -0.552524 H -2.90816\" /><circle class=\"sym\" cx=\"0\" cy=\"0\" r=\"3\" /><text class=\"lab rgt\" transform=\"translate(3 -7.0)\" /></g><path class=\"edge\" d=\"M 0 0 V -2.97552 H -3.39286\" /><circle class=\"sym\" cx=\"0\" cy=\"0\" r=\"3\" /><text class=\"lab rgt\" transform=\"translate(3 -7.0)\" /></g><path class=\"edge\" d=\"M 0 0 V -1.20811 H -3.6352\" /><circle class=\"sym\" cx=\"0\" cy=\"0\" r=\"3\" /><text class=\"lab rgt\" transform=\"translate(3 -7.0)\" /></g><path class=\"edge\" d=\"M 0 0 V -4.07534 H -3.75638\" /><g class=\"mut m1551426 s1579889 unknown_time\" transform=\"translate(0 -2.03767)\"><line x1=\"0\" x2=\"0\" y1=\"0\" y2=\"2.03767\" /><path class=\"sym\" d=\"M -3,-3 l 6,6 M -3,3 l 6,-6\" /><text class=\"lab rgt\" transform=\"translate(5 0)\">1551426</text></g><circle class=\"sym\" cx=\"0\" cy=\"0\" r=\"3\" /><text class=\"lab rgt\" transform=\"translate(3 -7.0)\" /></g><path class=\"edge\" d=\"M 0 0 V -6.37444 H -18.3654\" /><circle class=\"sym\" cx=\"0\" cy=\"0\" r=\"3\" /><text class=\"lab rgt\" transform=\"translate(3 -7.0)\" /></g><path class=\"edge\" d=\"M 0 0 V -2.46989 H -21.7771\" /><circle class=\"sym\" cx=\"0\" cy=\"0\" r=\"3\" /><text class=\"lab rgt\" transform=\"translate(3 -7.0)\" /></g><path class=\"edge\" d=\"M 0 0 V -24.9991 H -13.7967\" /><circle class=\"sym\" cx=\"0\" cy=\"0\" r=\"3\" /><text class=\"lab rgt\" transform=\"translate(3 -7.0)\" /></g><path class=\"edge\" d=\"M 0 0 V -171.179 H -9.80653\" /><g class=\"mut m1551391 s1579853 unknown_time\" transform=\"translate(0 -136.944)\"><line x1=\"0\" x2=\"0\" y1=\"0\" y2=\"136.944\" /><path class=\"sym\" d=\"M -3,-3 l 6,6 M -3,3 l 6,-6\" /><text class=\"lab rgt\" transform=\"translate(5 0)\">1551391</text></g><g class=\"mut m1551404 s1579867 unknown_time\" transform=\"translate(0 -102.708)\"><line x1=\"0\" x2=\"0\" y1=\"0\" y2=\"102.708\" /><path class=\"sym\" d=\"M -3,-3 l 6,6 M -3,3 l 6,-6\" /><text class=\"lab rgt\" transform=\"translate(5 0)\">1551404</text></g><g class=\"mut m1551415 s1579878 unknown_time\" transform=\"translate(0 -68.4718)\"><line x1=\"0\" x2=\"0\" y1=\"0\" y2=\"68.4718\" /><path class=\"sym\" d=\"M -3,-3 l 6,6 M -3,3 l 6,-6\" /><text class=\"lab rgt\" transform=\"translate(5 0)\">1551415</text></g><g class=\"mut m1551424 s1579887 unknown_time\" transform=\"translate(0 -34.2359)\"><line x1=\"0\" x2=\"0\" y1=\"0\" y2=\"34.2359\" /><path class=\"sym\" d=\"M -3,-3 l 6,6 M -3,3 l 6,-6\" /><text class=\"lab rgt\" transform=\"translate(5 0)\">1551424</text></g><circle class=\"sym\" cx=\"0\" cy=\"0\" r=\"3\" /><text class=\"lab rgt\" transform=\"translate(3 -7.0)\" /></g><path class=\"edge\" d=\"M 0 0 V -227.264 H 264.352\" /><g class=\"mut m1551413 s1579876 unknown_time\" transform=\"translate(0 -113.632)\"><line x1=\"0\" x2=\"0\" y1=\"0\" y2=\"113.632\" /><path class=\"sym\" d=\"M -3,-3 l 6,6 M -3,3 l 6,-6\" /><text class=\"lab lft\" transform=\"translate(-5 0)\">1551413</text></g><circle class=\"sym\" cx=\"0\" cy=\"0\" r=\"3\" /><text class=\"lab lft\" transform=\"translate(-3 -7.0)\" /></g><g class=\"a22702485 c2 m1551386 node n22702484 s1579848\" transform=\"translate(264.352 200.49)\"><g class=\"a22702484 c2 node n22702479\" transform=\"translate(-191.316 53.4439)\"><g class=\"a22702479 c2 node n22702465\" transform=\"translate(-94.8019 18.4056)\"><g class=\"a22702465 c2 m1551408 node n22702461 s1579871\" transform=\"translate(-79.7284 68.5068)\"><g class=\"a22702461 c2 m1551405 node n22702453 s1579868\" transform=\"translate(-42.4183 46.3398)\"><g class=\"a22702453 c2 node n22702431\" transform=\"translate(-20.2208 27.2198)\"><g class=\"a22702431 c2 node n22702404\" transform=\"translate(-12.602 16.0023)\"><g class=\"a22702404 i180 leaf node n180 sample\" transform=\"translate(-4.36224 10.9919)\"><path class=\"edge\" d=\"M 0 0 V -10.9919 H 4.36224\" /><rect class=\"sym\" height=\"6\" width=\"6\" x=\"-3\" y=\"-3\" /><text class=\"lab\" transform=\"translate(0 11)\">E</text></g><g class=\"a22702404 c2 node n22702387\" transform=\"translate(4.36224 1.77902)\"><g class=\"a22702387 i51 leaf node n51 sample\" transform=\"translate(-4.84694 9.21293)\"><path class=\"edge\" d=\"M 0 0 V -9.21293 H 4.84694\" /><rect class=\"sym\" height=\"6\" width=\"6\" x=\"-3\" y=\"-3\" /><text class=\"lab\" transform=\"translate(0 11)\">E</text></g><g class=\"a22702387 c2 node n22702375\" transform=\"translate(4.84694 1.1041)\"><g class=\"a22702375 c2 node n22702310\" transform=\"translate(-3.87755 1.40225)\"><g class=\"a22702310 i35 leaf node n35 sample\" transform=\"translate(-1.93878 6.70657)\"><path class=\"edge\" d=\"M 0 0 V -6.70657 H 1.93878\" /><rect class=\"sym\" height=\"6\" width=\"6\" x=\"-3\" y=\"-3\" /><text class=\"lab\" transform=\"translate(0 11)\">E</text></g><g class=\"a22702310 i71 leaf node n71 sample\" transform=\"translate(1.93878 6.70657)\"><path class=\"edge\" d=\"M 0 0 V -6.70657 H -1.93878\" /><rect class=\"sym\" height=\"6\" width=\"6\" x=\"-3\" y=\"-3\" /><text class=\"lab\" transform=\"translate(0 11)\">E</text></g><path class=\"edge\" d=\"M 0 0 V -1.40225 H 3.87755\" /><circle class=\"sym\" cx=\"0\" cy=\"0\" r=\"3\" /><text class=\"lab lft\" transform=\"translate(-3 -7.0)\" /></g><g class=\"a22702375 c2 node n22702343\" transform=\"translate(3.87755 3.20063)\"><g class=\"a22702343 i2 leaf node n2 sample\" transform=\"translate(-1.93878 4.9082)\"><path class=\"edge\" d=\"M 0 0 V -4.9082 H 1.93878\" /><rect class=\"sym\" height=\"6\" width=\"6\" x=\"-3\" y=\"-3\" /><text class=\"lab\" transform=\"translate(0 11)\">E</text></g><g class=\"a22702343 i45 leaf node n45 sample\" transform=\"translate(1.93878 4.9082)\"><path class=\"edge\" d=\"M 0 0 V -4.9082 H -1.93878\" /><rect class=\"sym\" height=\"6\" width=\"6\" x=\"-3\" y=\"-3\" /><text class=\"lab\" transform=\"translate(0 11)\">E</text></g><path class=\"edge\" d=\"M 0 0 V -3.20063 H -3.87755\" /><circle class=\"sym\" cx=\"0\" cy=\"0\" r=\"3\" /><text class=\"lab rgt\" transform=\"translate(3 -7.0)\" /></g><path class=\"edge\" d=\"M 0 0 V -1.1041 H -4.84694\" /><circle class=\"sym\" cx=\"0\" cy=\"0\" r=\"3\" /><text class=\"lab rgt\" transform=\"translate(3 -7.0)\" /></g><path class=\"edge\" d=\"M 0 0 V -1.77902 H -4.36224\" /><circle class=\"sym\" cx=\"0\" cy=\"0\" r=\"3\" /><text class=\"lab rgt\" transform=\"translate(3 -7.0)\" /></g><path class=\"edge\" d=\"M 0 0 V -16.0023 H 12.602\" /><circle class=\"sym\" cx=\"0\" cy=\"0\" r=\"3\" /><text class=\"lab lft\" transform=\"translate(-3 -7.0)\" /></g><g class=\"a22702431 c2 node n22702418\" transform=\"translate(12.602 21.3206)\"><g class=\"a22702418 c2 node n22702337\" transform=\"translate(-4.36224 3.39921)\"><g class=\"a22702337 i1 leaf node n1 sample\" transform=\"translate(-1.93878 2.27443)\"><path class=\"edge\" d=\"M 0 0 V -2.27443 H 1.93878\" /><rect class=\"sym\" height=\"6\" width=\"6\" x=\"-3\" y=\"-3\" /><text class=\"lab\" transform=\"translate(0 11)\">E</text></g><g class=\"a22702337 i177 leaf node n177 sample\" transform=\"translate(1.93878 2.27443)\"><path class=\"edge\" d=\"M 0 0 V -2.27443 H -1.93878\" /><rect class=\"sym\" height=\"6\" width=\"6\" x=\"-3\" y=\"-3\" /><text class=\"lab\" transform=\"translate(0 11)\">E</text></g><path class=\"edge\" d=\"M 0 0 V -3.39921 H 4.36224\" /><circle class=\"sym\" cx=\"0\" cy=\"0\" r=\"3\" /><text class=\"lab lft\" transform=\"translate(-3 -7.0)\" /></g><g class=\"a22702418 c2 node n22702405\" transform=\"translate(4.36224 3.21873)\"><g class=\"a22702405 i93 leaf node n93 sample\" transform=\"translate(-2.90816 2.45491)\"><path class=\"edge\" d=\"M 0 0 V -2.45491 H 2.90816\" /><rect class=\"sym\" height=\"6\" width=\"6\" x=\"-3\" y=\"-3\" /><text class=\"lab\" transform=\"translate(0 11)\">E</text></g><g class=\"a22702405 c2 node n22702304\" transform=\"translate(2.90816 1.44468)\"><g class=\"a22702304 i66 leaf node n66 sample\" transform=\"translate(-1.93878 1.01023)\"><path class=\"edge\" d=\"M 0 0 V -1.01023 H 1.93878\" /><rect class=\"sym\" height=\"6\" width=\"6\" x=\"-3\" y=\"-3\" /><text class=\"lab\" transform=\"translate(0 11)\">E</text></g><g class=\"a22702304 i69 leaf node n69 sample\" transform=\"translate(1.93878 1.01023)\"><path class=\"edge\" d=\"M 0 0 V -1.01023 H -1.93878\" /><rect class=\"sym\" height=\"6\" width=\"6\" x=\"-3\" y=\"-3\" /><text class=\"lab\" transform=\"translate(0 11)\">E</text></g><path class=\"edge\" d=\"M 0 0 V -1.44468 H -2.90816\" /><circle class=\"sym\" cx=\"0\" cy=\"0\" r=\"3\" /><text class=\"lab rgt\" transform=\"translate(3 -7.0)\" /></g><path class=\"edge\" d=\"M 0 0 V -3.21873 H -4.36224\" /><circle class=\"sym\" cx=\"0\" cy=\"0\" r=\"3\" /><text class=\"lab rgt\" transform=\"translate(3 -7.0)\" /></g><path class=\"edge\" d=\"M 0 0 V -21.3206 H -12.602\" /><circle class=\"sym\" cx=\"0\" cy=\"0\" r=\"3\" /><text class=\"lab rgt\" transform=\"translate(3 -7.0)\" /></g><path class=\"edge\" d=\"M 0 0 V -27.2198 H 20.2208\" /><circle class=\"sym\" cx=\"0\" cy=\"0\" r=\"3\" /><text class=\"lab lft\" transform=\"translate(-3 -7.0)\" /></g><g class=\"a22702453 c2 node n22702434\" transform=\"translate(20.2208 15.161)\"><g class=\"a22702434 c2 node n22702410\" transform=\"translate(-11.8447 13.0126)\"><g class=\"a22702410 i46 leaf node n46 sample\" transform=\"translate(-2.90816 26.0405)\"><path class=\"edge\" d=\"M 0 0 V -26.0405 H 2.90816\" /><rect class=\"sym\" height=\"6\" width=\"6\" x=\"-3\" y=\"-3\" /><text class=\"lab\" transform=\"translate(0 11)\">E</text></g><g class=\"a22702410 c2 node n22702342\" transform=\"translate(2.90816 23.9803)\"><g class=\"a22702342 i3 leaf node n3 sample\" transform=\"translate(-1.93878 2.06012)\"><path class=\"edge\" d=\"M 0 0 V -2.06012 H 1.93878\" /><rect class=\"sym\" height=\"6\" width=\"6\" x=\"-3\" y=\"-3\" /><text class=\"lab\" transform=\"translate(0 11)\">E</text></g><g class=\"a22702342 i168 leaf node n168 sample\" transform=\"translate(1.93878 2.06012)\"><path class=\"edge\" d=\"M 0 0 V -2.06012 H -1.93878\" /><rect class=\"sym\" height=\"6\" width=\"6\" x=\"-3\" y=\"-3\" /><text class=\"lab\" transform=\"translate(0 11)\">E</text></g><path class=\"edge\" d=\"M 0 0 V -23.9803 H -2.90816\" /><circle class=\"sym\" cx=\"0\" cy=\"0\" r=\"3\" /><text class=\"lab rgt\" transform=\"translate(3 -7.0)\" /></g><path class=\"edge\" d=\"M 0 0 V -13.0126 H 11.8447\" /><circle class=\"sym\" cx=\"0\" cy=\"0\" r=\"3\" /><text class=\"lab lft\" transform=\"translate(-3 -7.0)\" /></g><g class=\"a22702434 c2 node n22702429\" transform=\"translate(11.8447 11.6575)\"><g class=\"a22702429 c2 node n22702382\" transform=\"translate(-11.2085 17.9397)\"><g class=\"a22702382 i178 leaf node n178 sample\" transform=\"translate(-3.75638 9.45586)\"><path class=\"edge\" d=\"M 0 0 V -9.45586 H 3.75638\" /><rect class=\"sym\" height=\"6\" width=\"6\" x=\"-3\" y=\"-3\" /><text class=\"lab\" transform=\"translate(0 11)\">E</text></g><g class=\"a22702382 c2 node n22702364\" transform=\"translate(3.75638 5.17624)\"><g class=\"a22702364 i181 leaf node n181 sample\" transform=\"translate(-3.6352 4.27962)\"><path class=\"edge\" d=\"M 0 0 V -4.27962 H 3.6352\" /><rect class=\"sym\" height=\"6\" width=\"6\" x=\"-3\" y=\"-3\" /><text class=\"lab\" transform=\"translate(0 11)\">E</text></g><g class=\"a22702364 c2 node n22702360\" transform=\"translate(3.6352 1.43622)\"><g class=\"a22702360 i182 leaf node n182 sample\" transform=\"translate(-3.39286 2.8434)\"><path class=\"edge\" d=\"M 0 0 V -2.8434 H 3.39286\" /><rect class=\"sym\" height=\"6\" width=\"6\" x=\"-3\" y=\"-3\" /><text class=\"lab\" transform=\"translate(0 11)\">E</text></g><g class=\"a22702360 c2 node n22702344\" transform=\"translate(3.39286 0.793769)\"><g class=\"a22702344 i70 leaf node n70 sample\" transform=\"translate(-2.90816 2.04963)\"><path class=\"edge\" d=\"M 0 0 V -2.04963 H 2.90816\" /><rect class=\"sym\" height=\"6\" width=\"6\" x=\"-3\" y=\"-3\" /><text class=\"lab\" transform=\"translate(0 11)\">E</text></g><g class=\"a22702344 c2 node n22702319\" transform=\"translate(2.90816 0.471202)\"><g class=\"a22702319 i173 leaf node n173 sample\" transform=\"translate(-1.93878 1.57842)\"><path class=\"edge\" d=\"M 0 0 V -1.57842 H 1.93878\" /><rect class=\"sym\" height=\"6\" width=\"6\" x=\"-3\" y=\"-3\" /><text class=\"lab\" transform=\"translate(0 11)\">E</text></g><g class=\"a22702319 i183 leaf node n183 sample\" transform=\"translate(1.93878 1.57842)\"><path class=\"edge\" d=\"M 0 0 V -1.57842 H -1.93878\" /><rect class=\"sym\" height=\"6\" width=\"6\" x=\"-3\" y=\"-3\" /><text class=\"lab\" transform=\"translate(0 11)\">E</text></g><path class=\"edge\" d=\"M 0 0 V -0.471202 H -2.90816\" /><circle class=\"sym\" cx=\"0\" cy=\"0\" r=\"3\" /><text class=\"lab rgt\" transform=\"translate(3 -7.0)\" /></g><path class=\"edge\" d=\"M 0 0 V -0.793769 H -3.39286\" /><circle class=\"sym\" cx=\"0\" cy=\"0\" r=\"3\" /><text class=\"lab rgt\" transform=\"translate(3 -7.0)\" /></g><path class=\"edge\" d=\"M 0 0 V -1.43622 H -3.6352\" /><circle class=\"sym\" cx=\"0\" cy=\"0\" r=\"3\" /><text class=\"lab rgt\" transform=\"translate(3 -7.0)\" /></g><path class=\"edge\" d=\"M 0 0 V -5.17624 H -3.75638\" /><circle class=\"sym\" cx=\"0\" cy=\"0\" r=\"3\" /><text class=\"lab rgt\" transform=\"translate(3 -7.0)\" /></g><path class=\"edge\" d=\"M 0 0 V -17.9397 H 11.2085\" /><circle class=\"sym\" cx=\"0\" cy=\"0\" r=\"3\" /><text class=\"lab lft\" transform=\"translate(-3 -7.0)\" /></g><g class=\"a22702429 c2 node n22702400\" transform=\"translate(11.2085 11.4127)\"><g class=\"a22702400 i50 leaf node n50 sample\" transform=\"translate(-2.90816 15.9828)\"><path class=\"edge\" d=\"M 0 0 V -15.9828 H 2.90816\" /><rect class=\"sym\" height=\"6\" width=\"6\" x=\"-3\" y=\"-3\" /><text class=\"lab\" transform=\"translate(0 11)\">E</text></g><g class=\"a22702400 c2 node n22702318\" transform=\"translate(2.90816 5.19767)\"><g class=\"a22702318 i175 leaf node n175 sample\" transform=\"translate(-1.93878 10.7852)\"><path class=\"edge\" d=\"M 0 0 V -10.7852 H 1.93878\" /><rect class=\"sym\" height=\"6\" width=\"6\" x=\"-3\" y=\"-3\" /><text class=\"lab\" transform=\"translate(0 11)\">E</text></g><g class=\"a22702318 i179 leaf node n179 sample\" transform=\"translate(1.93878 10.7852)\"><path class=\"edge\" d=\"M 0 0 V -10.7852 H -1.93878\" /><rect class=\"sym\" height=\"6\" width=\"6\" x=\"-3\" y=\"-3\" /><text class=\"lab\" transform=\"translate(0 11)\">E</text></g><path class=\"edge\" d=\"M 0 0 V -5.19767 H -2.90816\" /><circle class=\"sym\" cx=\"0\" cy=\"0\" r=\"3\" /><text class=\"lab rgt\" transform=\"translate(3 -7.0)\" /></g><path class=\"edge\" d=\"M 0 0 V -11.4127 H -11.2085\" /><circle class=\"sym\" cx=\"0\" cy=\"0\" r=\"3\" /><text class=\"lab rgt\" transform=\"translate(3 -7.0)\" /></g><path class=\"edge\" d=\"M 0 0 V -11.6575 H -11.8447\" /><circle class=\"sym\" cx=\"0\" cy=\"0\" r=\"3\" /><text class=\"lab rgt\" transform=\"translate(3 -7.0)\" /></g><path class=\"edge\" d=\"M 0 0 V -15.161 H -20.2208\" /><circle class=\"sym\" cx=\"0\" cy=\"0\" r=\"3\" /><text class=\"lab rgt\" transform=\"translate(3 -7.0)\" /></g><path class=\"edge\" d=\"M 0 0 V -46.3398 H 42.4183\" /><g class=\"mut m1551405 s1579868 unknown_time\" transform=\"translate(0 -23.1699)\"><line x1=\"0\" x2=\"0\" y1=\"0\" y2=\"23.1699\" /><path class=\"sym\" d=\"M -3,-3 l 6,6 M -3,3 l 6,-6\" /><text class=\"lab lft\" transform=\"translate(-5 0)\">1551405</text></g><circle class=\"sym\" cx=\"0\" cy=\"0\" r=\"3\" /><text class=\"lab lft\" transform=\"translate(-3 -7.0)\" /></g><g class=\"a22702461 c2 node n22702457\" transform=\"translate(42.4183 47.4626)\"><g class=\"a22702457 c2 node n22702451\" transform=\"translate(-22.4171 11.4486)\"><g class=\"a22702451 c2 m1551423 node n22702381 s1579886\" transform=\"translate(-7.51276 22.7034)\"><g class=\"a22702381 i174 leaf node n174 sample\" transform=\"translate(-2.90816 18.9392)\"><path class=\"edge\" d=\"M 0 0 V -18.9392 H 2.90816\" /><rect class=\"sym\" height=\"6\" width=\"6\" x=\"-3\" y=\"-3\" /><text class=\"lab\" transform=\"translate(0 11)\">E</text></g><g class=\"a22702381 c2 node n22702341\" transform=\"translate(2.90816 15.3859)\"><g class=\"a22702341 i0 leaf node n0 sample\" transform=\"translate(-1.93878 3.55323)\"><path class=\"edge\" d=\"M 0 0 V -3.55323 H 1.93878\" /><rect class=\"sym\" height=\"6\" width=\"6\" x=\"-3\" y=\"-3\" /><text class=\"lab\" transform=\"translate(0 11)\">E</text></g><g class=\"a22702341 i172 leaf node n172 sample\" transform=\"translate(1.93878 3.55323)\"><path class=\"edge\" d=\"M 0 0 V -3.55323 H -1.93878\" /><rect class=\"sym\" height=\"6\" width=\"6\" x=\"-3\" y=\"-3\" /><text class=\"lab\" transform=\"translate(0 11)\">E</text></g><path class=\"edge\" d=\"M 0 0 V -15.3859 H -2.90816\" /><circle class=\"sym\" cx=\"0\" cy=\"0\" r=\"3\" /><text class=\"lab rgt\" transform=\"translate(3 -7.0)\" /></g><path class=\"edge\" d=\"M 0 0 V -22.7034 H 7.51276\" /><g class=\"mut m1551423 s1579886 unknown_time\" transform=\"translate(0 -11.3517)\"><line x1=\"0\" x2=\"0\" y1=\"0\" y2=\"11.3517\" /><path class=\"sym\" d=\"M -3,-3 l 6,6 M -3,3 l 6,-6\" /><text class=\"lab lft\" transform=\"translate(-5 0)\">1551423</text></g><circle class=\"sym\" cx=\"0\" cy=\"0\" r=\"3\" /><text class=\"lab lft\" transform=\"translate(-3 -7.0)\" /></g><g class=\"a22702451 c2 node n22702450\" transform=\"translate(7.51276 27.74)\"><g class=\"a22702450 i44 leaf node n44 sample\" transform=\"translate(-6.30102 13.9026)\"><path class=\"edge\" d=\"M 0 0 V -13.9026 H 6.30102\" /><rect class=\"sym\" height=\"6\" width=\"6\" x=\"-3\" y=\"-3\" /><text class=\"lab\" transform=\"translate(0 11)\">E</text></g><g class=\"a22702450 c2 node n22702449\" transform=\"translate(6.30102 4.46775)\"><g class=\"a22702449 c2 m1551401 node n22702292 s1579864\" transform=\"translate(-6.78571 8.53912)\"><g class=\"a22702292 i67 leaf node n67 sample\" transform=\"translate(-1.93878 0.895711)\"><path class=\"edge\" d=\"M 0 0 V -0.895711 H 1.93878\" /><rect class=\"sym\" height=\"6\" width=\"6\" x=\"-3\" y=\"-3\" /><text class=\"lab\" transform=\"translate(0 11)\">E</text></g><g class=\"a22702292 i166 leaf node n166 sample\" transform=\"translate(1.93878 0.895711)\"><path class=\"edge\" d=\"M 0 0 V -0.895711 H -1.93878\" /><rect class=\"sym\" height=\"6\" width=\"6\" x=\"-3\" y=\"-3\" /><text class=\"lab\" transform=\"translate(0 11)\">E</text></g><path class=\"edge\" d=\"M 0 0 V -8.53912 H 6.78571\" /><g class=\"mut m1551401 s1579864 unknown_time\" transform=\"translate(0 -4.26956)\"><line x1=\"0\" x2=\"0\" y1=\"0\" y2=\"4.26956\" /><path class=\"sym\" d=\"M -3,-3 l 6,6 M -3,3 l 6,-6\" /><text class=\"lab lft\" transform=\"translate(-5 0)\">1551401</text></g><circle class=\"sym\" cx=\"0\" cy=\"0\" r=\"3\" /><text class=\"lab lft\" transform=\"translate(-3 -7.0)\" /></g><g class=\"a22702449 c2 node n22702440\" transform=\"translate(6.78571 2.29093)\"><g class=\"a22702440 c2 node n22702328\" transform=\"translate(-5.81633 1.5157)\"><g class=\"a22702328 i47 leaf node n47 sample\" transform=\"translate(-1.93878 5.62821)\"><path class=\"edge\" d=\"M 0 0 V -5.62821 H 1.93878\" /><rect class=\"sym\" height=\"6\" width=\"6\" x=\"-3\" y=\"-3\" /><text class=\"lab\" transform=\"translate(0 11)\">E</text></g><g class=\"a22702328 i167 leaf node n167 sample\" transform=\"translate(1.93878 5.62821)\"><path class=\"edge\" d=\"M 0 0 V -5.62821 H -1.93878\" /><rect class=\"sym\" height=\"6\" width=\"6\" x=\"-3\" y=\"-3\" /><text class=\"lab\" transform=\"translate(0 11)\">E</text></g><path class=\"edge\" d=\"M 0 0 V -1.5157 H 5.81633\" /><circle class=\"sym\" cx=\"0\" cy=\"0\" r=\"3\" /><text class=\"lab lft\" transform=\"translate(-3 -7.0)\" /></g><g class=\"a22702440 c2 node n22702416\" transform=\"translate(5.81633 4.82569)\"><g class=\"a22702416 c2 node n22702313\" transform=\"translate(-3.87755 1.56419)\"><g class=\"a22702313 i34 leaf node n34 sample\" transform=\"translate(-1.93878 0.754023)\"><path class=\"edge\" d=\"M 0 0 V -0.754023 H 1.93878\" /><rect class=\"sym\" height=\"6\" width=\"6\" x=\"-3\" y=\"-3\" /><text class=\"lab\" transform=\"translate(0 11)\">E</text></g><g class=\"a22702313 i169 leaf node n169 sample\" transform=\"translate(1.93878 0.754023)\"><path class=\"edge\" d=\"M 0 0 V -0.754023 H -1.93878\" /><rect class=\"sym\" height=\"6\" width=\"6\" x=\"-3\" y=\"-3\" /><text class=\"lab\" transform=\"translate(0 11)\">E</text></g><path class=\"edge\" d=\"M 0 0 V -1.56419 H 3.87755\" /><circle class=\"sym\" cx=\"0\" cy=\"0\" r=\"3\" /><text class=\"lab lft\" transform=\"translate(-3 -7.0)\" /></g><g class=\"a22702416 c2 node n22702335\" transform=\"translate(3.87755 1.78133)\"><g class=\"a22702335 i31 leaf node n31 sample\" transform=\"translate(-1.93878 0.536885)\"><path class=\"edge\" d=\"M 0 0 V -0.536885 H 1.93878\" /><rect class=\"sym\" height=\"6\" width=\"6\" x=\"-3\" y=\"-3\" /><text class=\"lab\" transform=\"translate(0 11)\">E</text></g><g class=\"a22702335 i32 leaf node n32 sample\" transform=\"translate(1.93878 0.536885)\"><path class=\"edge\" d=\"M 0 0 V -0.536885 H -1.93878\" /><rect class=\"sym\" height=\"6\" width=\"6\" x=\"-3\" y=\"-3\" /><text class=\"lab\" transform=\"translate(0 11)\">E</text></g><path class=\"edge\" d=\"M 0 0 V -1.78133 H -3.87755\" /><circle class=\"sym\" cx=\"0\" cy=\"0\" r=\"3\" /><text class=\"lab rgt\" transform=\"translate(3 -7.0)\" /></g><path class=\"edge\" d=\"M 0 0 V -4.82569 H -5.81633\" /><circle class=\"sym\" cx=\"0\" cy=\"0\" r=\"3\" /><text class=\"lab rgt\" transform=\"translate(3 -7.0)\" /></g><path class=\"edge\" d=\"M 0 0 V -2.29093 H -6.78571\" /><circle class=\"sym\" cx=\"0\" cy=\"0\" r=\"3\" /><text class=\"lab rgt\" transform=\"translate(3 -7.0)\" /></g><path class=\"edge\" d=\"M 0 0 V -4.46775 H -6.30102\" /><circle class=\"sym\" cx=\"0\" cy=\"0\" r=\"3\" /><text class=\"lab rgt\" transform=\"translate(3 -7.0)\" /></g><path class=\"edge\" d=\"M 0 0 V -27.74 H -7.51276\" /><circle class=\"sym\" cx=\"0\" cy=\"0\" r=\"3\" /><text class=\"lab rgt\" transform=\"translate(3 -7.0)\" /></g><path class=\"edge\" d=\"M 0 0 V -11.4486 H 22.4171\" /><circle class=\"sym\" cx=\"0\" cy=\"0\" r=\"3\" /><text class=\"lab lft\" transform=\"translate(-3 -7.0)\" /></g><g class=\"a22702457 c2 node n22702452\" transform=\"translate(22.4171 13.4065)\"><g class=\"a22702452 c2 node n22702398\" transform=\"translate(-5.81633 23.0075)\"><g class=\"a22702398 i92 leaf node n92 sample\" transform=\"translate(-2.90816 16.6772)\"><path class=\"edge\" d=\"M 0 0 V -16.6772 H 2.90816\" /><rect class=\"sym\" height=\"6\" width=\"6\" x=\"-3\" y=\"-3\" /><text class=\"lab\" transform=\"translate(0 11)\">E</text></g><g class=\"a22702398 c2 node n22702317\" transform=\"translate(2.90816 15.0637)\"><g class=\"a22702317 i30 leaf node n30 sample\" transform=\"translate(-1.93878 1.61356)\"><path class=\"edge\" d=\"M 0 0 V -1.61356 H 1.93878\" /><rect class=\"sym\" height=\"6\" width=\"6\" x=\"-3\" y=\"-3\" /><text class=\"lab\" transform=\"translate(0 11)\">E</text></g><g class=\"a22702317 i33 leaf node n33 sample\" transform=\"translate(1.93878 1.61356)\"><path class=\"edge\" d=\"M 0 0 V -1.61356 H -1.93878\" /><rect class=\"sym\" height=\"6\" width=\"6\" x=\"-3\" y=\"-3\" /><text class=\"lab\" transform=\"translate(0 11)\">E</text></g><path class=\"edge\" d=\"M 0 0 V -15.0637 H -2.90816\" /><circle class=\"sym\" cx=\"0\" cy=\"0\" r=\"3\" /><text class=\"lab rgt\" transform=\"translate(3 -7.0)\" /></g><path class=\"edge\" d=\"M 0 0 V -23.0075 H 5.81633\" /><circle class=\"sym\" cx=\"0\" cy=\"0\" r=\"3\" /><text class=\"lab lft\" transform=\"translate(-3 -7.0)\" /></g><g class=\"a22702452 c2 node n22702414\" transform=\"translate(5.81633 17.8842)\"><g class=\"a22702414 i43 leaf m1551431 node n43 s1579895 sample\" transform=\"translate(-2.90816 21.8005)\"><path class=\"edge\" d=\"M 0 0 V -21.8005 H 2.90816\" /><g class=\"mut m1551431 s1579895 unknown_time\" transform=\"translate(0 -10.9003)\"><line x1=\"0\" x2=\"0\" y1=\"0\" y2=\"10.9003\" /><path class=\"sym\" d=\"M -3,-3 l 6,6 M -3,3 l 6,-6\" /><text class=\"lab lft\" transform=\"translate(-5 0)\">1551431</text></g><rect class=\"sym\" height=\"6\" width=\"6\" x=\"-3\" y=\"-3\" /><text class=\"lab\" transform=\"translate(0 11)\">E</text></g><g class=\"a22702414 c2 m1551427 m1551430 m1551432 node n22702323 s1579890 s1579894 s1579896\" transform=\"translate(2.90816 20.3442)\"><g class=\"a22702323 i68 leaf node n68 sample\" transform=\"translate(-1.93878 1.45629)\"><path class=\"edge\" d=\"M 0 0 V -1.45629 H 1.93878\" /><rect class=\"sym\" height=\"6\" width=\"6\" x=\"-3\" y=\"-3\" /><text class=\"lab\" transform=\"translate(0 11)\">E</text></g><g class=\"a22702323 i176 leaf node n176 sample\" transform=\"translate(1.93878 1.45629)\"><path class=\"edge\" d=\"M 0 0 V -1.45629 H -1.93878\" /><rect class=\"sym\" height=\"6\" width=\"6\" x=\"-3\" y=\"-3\" /><text class=\"lab\" transform=\"translate(0 11)\">E</text></g><path class=\"edge\" d=\"M 0 0 V -20.3442 H -2.90816\" /><g class=\"mut m1551427 s1579890 unknown_time\" transform=\"translate(0 -15.2582)\"><line x1=\"0\" x2=\"0\" y1=\"0\" y2=\"15.2582\" /><path class=\"sym\" d=\"M -3,-3 l 6,6 M -3,3 l 6,-6\" /><text class=\"lab rgt\" transform=\"translate(5 0)\">1551427</text></g><g class=\"mut m1551430 s1579894 unknown_time\" transform=\"translate(0 -10.1721)\"><line x1=\"0\" x2=\"0\" y1=\"0\" y2=\"10.1721\" /><path class=\"sym\" d=\"M -3,-3 l 6,6 M -3,3 l 6,-6\" /><text class=\"lab rgt\" transform=\"translate(5 0)\">1551430</text></g><g class=\"mut m1551432 s1579896 unknown_time\" transform=\"translate(0 -5.08606)\"><line x1=\"0\" x2=\"0\" y1=\"0\" y2=\"5.08606\" /><path class=\"sym\" d=\"M -3,-3 l 6,6 M -3,3 l 6,-6\" /><text class=\"lab rgt\" transform=\"translate(5 0)\">1551432</text></g><circle class=\"sym\" cx=\"0\" cy=\"0\" r=\"3\" /><text class=\"lab rgt\" transform=\"translate(3 -7.0)\" /></g><path class=\"edge\" d=\"M 0 0 V -17.8842 H -5.81633\" /><circle class=\"sym\" cx=\"0\" cy=\"0\" r=\"3\" /><text class=\"lab rgt\" transform=\"translate(3 -7.0)\" /></g><path class=\"edge\" d=\"M 0 0 V -13.4065 H -22.4171\" /><circle class=\"sym\" cx=\"0\" cy=\"0\" r=\"3\" /><text class=\"lab rgt\" transform=\"translate(3 -7.0)\" /></g><path class=\"edge\" d=\"M 0 0 V -47.4626 H -42.4183\" /><circle class=\"sym\" cx=\"0\" cy=\"0\" r=\"3\" /><text class=\"lab rgt\" transform=\"translate(3 -7.0)\" /></g><path class=\"edge\" d=\"M 0 0 V -68.5068 H 79.7284\" /><g class=\"mut m1551408 s1579871 unknown_time\" transform=\"translate(0 -34.2534)\"><line x1=\"0\" x2=\"0\" y1=\"0\" y2=\"34.2534\" /><path class=\"sym\" d=\"M -3,-3 l 6,6 M -3,3 l 6,-6\" /><text class=\"lab lft\" transform=\"translate(-5 0)\">1551408</text></g><circle class=\"sym\" cx=\"0\" cy=\"0\" r=\"3\" /><text class=\"lab lft\" transform=\"translate(-3 -7.0)\" /></g><g class=\"a22702465 c2 node n22702464\" transform=\"translate(79.7284 20.8579)\"><g class=\"a22702464 c2 node n22702462\" transform=\"translate(-41.5776 10.7758)\"><g class=\"a22702462 c2 m1551394 m1551397 node n22702437 s1579857 s1579860\" transform=\"translate(-25.1738 75.5117)\"><g class=\"a22702437 c2 node n22702389\" transform=\"translate(-10.4209 20.0811)\"><g class=\"a22702389 i80 leaf node n80 sample\" transform=\"translate(-2.90816 41.8339)\"><path class=\"edge\" d=\"M 0 0 V -41.8339 H 2.90816\" /><rect class=\"sym\" height=\"6\" width=\"6\" x=\"-3\" y=\"-3\" /><text class=\"lab\" transform=\"translate(0 11)\" /></g><g class=\"a22702389 c2 node n22702299\" transform=\"translate(2.90816 23.0268)\"><g class=\"a22702299 i74 leaf node n74 sample\" transform=\"translate(-1.93878 18.8071)\"><path class=\"edge\" d=\"M 0 0 V -18.8071 H 1.93878\" /><rect class=\"sym\" height=\"6\" width=\"6\" x=\"-3\" y=\"-3\" /><text class=\"lab\" transform=\"translate(0 11)\" /></g><g class=\"a22702299 i77 leaf node n77 sample\" transform=\"translate(1.93878 18.8071)\"><path class=\"edge\" d=\"M 0 0 V -18.8071 H -1.93878\" /><rect class=\"sym\" height=\"6\" width=\"6\" x=\"-3\" y=\"-3\" /><text class=\"lab\" transform=\"translate(0 11)\" /></g><path class=\"edge\" d=\"M 0 0 V -23.0268 H -2.90816\" /><circle class=\"sym\" cx=\"0\" cy=\"0\" r=\"3\" /><text class=\"lab rgt\" transform=\"translate(3 -7.0)\" /></g><path class=\"edge\" d=\"M 0 0 V -20.0811 H 10.4209\" /><circle class=\"sym\" cx=\"0\" cy=\"0\" r=\"3\" /><text class=\"lab lft\" transform=\"translate(-3 -7.0)\" /></g><g class=\"a22702437 c2 m1551393 node n22702436 s1579856\" transform=\"translate(10.4209 45.4857)\"><g class=\"a22702436 c2 node n22702388\" transform=\"translate(-6.30102 12.7514)\"><g class=\"a22702388 c2 node n22702309\" transform=\"translate(-3.87755 2.54561)\"><g class=\"a22702309 i73 leaf node n73 sample\" transform=\"translate(-1.93878 1.13227)\"><path class=\"edge\" d=\"M 0 0 V -1.13227 H 1.93878\" /><rect class=\"sym\" height=\"6\" width=\"6\" x=\"-3\" y=\"-3\" /><text class=\"lab\" transform=\"translate(0 11)\" /></g><g class=\"a22702309 i78 leaf node n78 sample\" transform=\"translate(1.93878 1.13227)\"><path class=\"edge\" d=\"M 0 0 V -1.13227 H -1.93878\" /><rect class=\"sym\" height=\"6\" width=\"6\" x=\"-3\" y=\"-3\" /><text class=\"lab\" transform=\"translate(0 11)\" /></g><path class=\"edge\" d=\"M 0 0 V -2.54561 H 3.87755\" /><circle class=\"sym\" cx=\"0\" cy=\"0\" r=\"3\" /><text class=\"lab lft\" transform=\"translate(-3 -7.0)\" /></g><g class=\"a22702388 c2 node n22702324\" transform=\"translate(3.87755 0.856598)\"><g class=\"a22702324 i72 leaf node n72 sample\" transform=\"translate(-1.93878 2.82128)\"><path class=\"edge\" d=\"M 0 0 V -2.82128 H 1.93878\" /><rect class=\"sym\" height=\"6\" width=\"6\" x=\"-3\" y=\"-3\" /><text class=\"lab\" transform=\"translate(0 11)\" /></g><g class=\"a22702324 i75 leaf node n75 sample\" transform=\"translate(1.93878 2.82128)\"><path class=\"edge\" d=\"M 0 0 V -2.82128 H -1.93878\" /><rect class=\"sym\" height=\"6\" width=\"6\" x=\"-3\" y=\"-3\" /><text class=\"lab\" transform=\"translate(0 11)\" /></g><path class=\"edge\" d=\"M 0 0 V -0.856598 H -3.87755\" /><circle class=\"sym\" cx=\"0\" cy=\"0\" r=\"3\" /><text class=\"lab rgt\" transform=\"translate(3 -7.0)\" /></g><path class=\"edge\" d=\"M 0 0 V -12.7514 H 6.30102\" /><circle class=\"sym\" cx=\"0\" cy=\"0\" r=\"3\" /><text class=\"lab lft\" transform=\"translate(-3 -7.0)\" /></g><g class=\"a22702436 c2 node n22702392\" transform=\"translate(6.30102 7.69651)\"><g class=\"a22702392 i76 leaf node n76 sample\" transform=\"translate(-2.90816 8.73281)\"><path class=\"edge\" d=\"M 0 0 V -8.73281 H 2.90816\" /><rect class=\"sym\" height=\"6\" width=\"6\" x=\"-3\" y=\"-3\" /><text class=\"lab\" transform=\"translate(0 11)\" /></g><g class=\"a22702392 c2 node n22702298\" transform=\"translate(2.90816 4.28701)\"><g class=\"a22702298 i79 leaf node n79 sample\" transform=\"translate(-1.93878 4.4458)\"><path class=\"edge\" d=\"M 0 0 V -4.4458 H 1.93878\" /><rect class=\"sym\" height=\"6\" width=\"6\" x=\"-3\" y=\"-3\" /><text class=\"lab\" transform=\"translate(0 11)\" /></g><g class=\"a22702298 i81 leaf node n81 sample\" transform=\"translate(1.93878 4.4458)\"><path class=\"edge\" d=\"M 0 0 V -4.4458 H -1.93878\" /><rect class=\"sym\" height=\"6\" width=\"6\" x=\"-3\" y=\"-3\" /><text class=\"lab\" transform=\"translate(0 11)\" /></g><path class=\"edge\" d=\"M 0 0 V -4.28701 H -2.90816\" /><circle class=\"sym\" cx=\"0\" cy=\"0\" r=\"3\" /><text class=\"lab rgt\" transform=\"translate(3 -7.0)\" /></g><path class=\"edge\" d=\"M 0 0 V -7.69651 H -6.30102\" /><circle class=\"sym\" cx=\"0\" cy=\"0\" r=\"3\" /><text class=\"lab rgt\" transform=\"translate(3 -7.0)\" /></g><path class=\"edge\" d=\"M 0 0 V -45.4857 H -10.4209\" /><g class=\"mut m1551393 s1579856 unknown_time\" transform=\"translate(0 -22.7428)\"><line x1=\"0\" x2=\"0\" y1=\"0\" y2=\"22.7428\" /><path class=\"sym\" d=\"M -3,-3 l 6,6 M -3,3 l 6,-6\" /><text class=\"lab rgt\" transform=\"translate(5 0)\">1551393</text></g><circle class=\"sym\" cx=\"0\" cy=\"0\" r=\"3\" /><text class=\"lab rgt\" transform=\"translate(3 -7.0)\" /></g><path class=\"edge\" d=\"M 0 0 V -75.5117 H 25.1738\" /><g class=\"mut m1551394 s1579857 unknown_time\" transform=\"translate(0 -50.3412)\"><line x1=\"0\" x2=\"0\" y1=\"0\" y2=\"50.3412\" /><path class=\"sym\" d=\"M -3,-3 l 6,6 M -3,3 l 6,-6\" /><text class=\"lab lft\" transform=\"translate(-5 0)\">1551394</text></g><g class=\"mut m1551397 s1579860 unknown_time\" transform=\"translate(0 -25.1706)\"><line x1=\"0\" x2=\"0\" y1=\"0\" y2=\"25.1706\" /><path class=\"sym\" d=\"M -3,-3 l 6,6 M -3,3 l 6,-6\" /><text class=\"lab lft\" transform=\"translate(-5 0)\">1551397</text></g><circle class=\"sym\" cx=\"0\" cy=\"0\" r=\"3\" /><text class=\"lab lft\" transform=\"translate(-3 -7.0)\" /></g><g class=\"a22702462 c2 node n22702460\" transform=\"translate(25.1738 11.5904)\"><g class=\"a22702460 c2 m1551428 node n22702458 s1579891\" transform=\"translate(-16.9037 34.8908)\"><g class=\"a22702458 c2 m1551403 node n22702314 s1579866\" transform=\"translate(-6.05867 69.3213)\"><g class=\"a22702314 i140 leaf node n140 sample\" transform=\"translate(-1.93878 21.6242)\"><path class=\"edge\" d=\"M 0 0 V -21.6242 H 1.93878\" /><rect class=\"sym\" height=\"6\" width=\"6\" x=\"-3\" y=\"-3\" /><text class=\"lab\" transform=\"translate(0 11)\" /></g><g class=\"a22702314 i149 leaf node n149 sample\" transform=\"translate(1.93878 21.6242)\"><path class=\"edge\" d=\"M 0 0 V -21.6242 H -1.93878\" /><rect class=\"sym\" height=\"6\" width=\"6\" x=\"-3\" y=\"-3\" /><text class=\"lab\" transform=\"translate(0 11)\" /></g><path class=\"edge\" d=\"M 0 0 V -69.3213 H 6.05867\" /><g class=\"mut m1551403 s1579866 unknown_time\" transform=\"translate(0 -34.6606)\"><line x1=\"0\" x2=\"0\" y1=\"0\" y2=\"34.6606\" /><path class=\"sym\" d=\"M -3,-3 l 6,6 M -3,3 l 6,-6\" /><text class=\"lab lft\" transform=\"translate(-5 0)\">1551403</text></g><circle class=\"sym\" cx=\"0\" cy=\"0\" r=\"3\" /><text class=\"lab lft\" transform=\"translate(-3 -7.0)\" /></g><g class=\"a22702458 c2 node n22702433\" transform=\"translate(6.05867 22.8595)\"><g class=\"a22702433 c2 node n22702333\" transform=\"translate(-4.36224 9.19173)\"><g class=\"a22702333 i143 leaf node n143 sample\" transform=\"translate(-1.93878 58.8942)\"><path class=\"edge\" d=\"M 0 0 V -58.8942 H 1.93878\" /><rect class=\"sym\" height=\"6\" width=\"6\" x=\"-3\" y=\"-3\" /><text class=\"lab\" transform=\"translate(0 11)\" /></g><g class=\"a22702333 i145 leaf node n145 sample\" transform=\"translate(1.93878 58.8942)\"><path class=\"edge\" d=\"M 0 0 V -58.8942 H -1.93878\" /><rect class=\"sym\" height=\"6\" width=\"6\" x=\"-3\" y=\"-3\" /><text class=\"lab\" transform=\"translate(0 11)\" /></g><path class=\"edge\" d=\"M 0 0 V -9.19173 H 4.36224\" /><circle class=\"sym\" cx=\"0\" cy=\"0\" r=\"3\" /><text class=\"lab lft\" transform=\"translate(-3 -7.0)\" /></g><g class=\"a22702433 c2 node n22702399\" transform=\"translate(4.36224 51.0324)\"><g class=\"a22702399 i144 leaf m1551418 m1551419 node n144 s1579881 s1579882 sample\" transform=\"translate(-2.90816 17.0536)\"><path class=\"edge\" d=\"M 0 0 V -17.0536 H 2.90816\" /><g class=\"mut m1551418 s1579881 unknown_time\" transform=\"translate(0 -11.3691)\"><line x1=\"0\" x2=\"0\" y1=\"0\" y2=\"11.3691\" /><path class=\"sym\" d=\"M -3,-3 l 6,6 M -3,3 l 6,-6\" /><text class=\"lab lft\" transform=\"translate(-5 0)\">1551418</text></g><g class=\"mut m1551419 s1579882 unknown_time\" transform=\"translate(0 -5.68454)\"><line x1=\"0\" x2=\"0\" y1=\"0\" y2=\"5.68454\" /><path class=\"sym\" d=\"M -3,-3 l 6,6 M -3,3 l 6,-6\" /><text class=\"lab lft\" transform=\"translate(-5 0)\">1551419</text></g><rect class=\"sym\" height=\"6\" width=\"6\" x=\"-3\" y=\"-3\" /><text class=\"lab\" transform=\"translate(0 11)\" /></g><g class=\"a22702399 c2 node n22702302\" transform=\"translate(2.90816 14.7136)\"><g class=\"a22702302 i8 leaf node n8 sample\" transform=\"translate(-1.93878 2.34003)\"><path class=\"edge\" d=\"M 0 0 V -2.34003 H 1.93878\" /><rect class=\"sym\" height=\"6\" width=\"6\" x=\"-3\" y=\"-3\" /><text class=\"lab\" transform=\"translate(0 11)\" /></g><g class=\"a22702302 i9 leaf node n9 sample\" transform=\"translate(1.93878 2.34003)\"><path class=\"edge\" d=\"M 0 0 V -2.34003 H -1.93878\" /><rect class=\"sym\" height=\"6\" width=\"6\" x=\"-3\" y=\"-3\" /><text class=\"lab\" transform=\"translate(0 11)\" /></g><path class=\"edge\" d=\"M 0 0 V -14.7136 H -2.90816\" /><circle class=\"sym\" cx=\"0\" cy=\"0\" r=\"3\" /><text class=\"lab rgt\" transform=\"translate(3 -7.0)\" /></g><path class=\"edge\" d=\"M 0 0 V -51.0324 H -4.36224\" /><circle class=\"sym\" cx=\"0\" cy=\"0\" r=\"3\" /><text class=\"lab rgt\" transform=\"translate(3 -7.0)\" /></g><path class=\"edge\" d=\"M 0 0 V -22.8595 H -6.05867\" /><circle class=\"sym\" cx=\"0\" cy=\"0\" r=\"3\" /><text class=\"lab rgt\" transform=\"translate(3 -7.0)\" /></g><path class=\"edge\" d=\"M 0 0 V -34.8908 H 16.9037\" /><g class=\"mut m1551428 s1579891 unknown_time\" transform=\"translate(0 -17.4454)\"><line x1=\"0\" x2=\"0\" y1=\"0\" y2=\"17.4454\" /><path class=\"sym\" d=\"M -3,-3 l 6,6 M -3,3 l 6,-6\" /><text class=\"lab lft\" transform=\"translate(-5 0)\">1551428</text></g><circle class=\"sym\" cx=\"0\" cy=\"0\" r=\"3\" /><text class=\"lab lft\" transform=\"translate(-3 -7.0)\" /></g><g class=\"a22702460 c2 node n22702459\" transform=\"translate(16.9037 17.2075)\"><g class=\"a22702459 c2 node n22702401\" transform=\"translate(-11.0268 23.6331)\"><g class=\"a22702401 i195 leaf m1551389 node n195 s1579851 sample\" transform=\"translate(-3.6352 84.9957)\"><path class=\"edge\" d=\"M 0 0 V -84.9957 H 3.6352\" /><g class=\"mut m1551389 s1579851 unknown_time\" transform=\"translate(0 -42.4978)\"><line x1=\"0\" x2=\"0\" y1=\"0\" y2=\"42.4978\" /><path class=\"sym\" d=\"M -3,-3 l 6,6 M -3,3 l 6,-6\" /><text class=\"lab lft\" transform=\"translate(-5 0)\">1551389</text></g><rect class=\"sym\" height=\"6\" width=\"6\" x=\"-3\" y=\"-3\" /><text class=\"lab\" transform=\"translate(0 11)\" /></g><g class=\"a22702401 c2 m1551398 node n22702385 s1579861\" transform=\"translate(3.6352 55.3414)\"><g class=\"a22702385 i112 leaf node n112 sample\" transform=\"translate(-3.39286 29.6543)\"><path class=\"edge\" d=\"M 0 0 V -29.6543 H 3.39286\" /><rect class=\"sym\" height=\"6\" width=\"6\" x=\"-3\" y=\"-3\" /><text class=\"lab\" transform=\"translate(0 11)\" /></g><g class=\"a22702385 c2 node n22702366\" transform=\"translate(3.39286 2.95608)\"><g class=\"a22702366 i42 leaf node n42 sample\" transform=\"translate(-2.90816 26.6982)\"><path class=\"edge\" d=\"M 0 0 V -26.6982 H 2.90816\" /><rect class=\"sym\" height=\"6\" width=\"6\" x=\"-3\" y=\"-3\" /><text class=\"lab\" transform=\"translate(0 11)\">E</text></g><g class=\"a22702366 c2 node n22702321\" transform=\"translate(2.90816 1.67529)\"><g class=\"a22702321 i111 leaf node n111 sample\" transform=\"translate(-1.93878 25.0229)\"><path class=\"edge\" d=\"M 0 0 V -25.0229 H 1.93878\" /><rect class=\"sym\" height=\"6\" width=\"6\" x=\"-3\" y=\"-3\" /><text class=\"lab\" transform=\"translate(0 11)\" /></g><g class=\"a22702321 i113 leaf node n113 sample\" transform=\"translate(1.93878 25.0229)\"><path class=\"edge\" d=\"M 0 0 V -25.0229 H -1.93878\" /><rect class=\"sym\" height=\"6\" width=\"6\" x=\"-3\" y=\"-3\" /><text class=\"lab\" transform=\"translate(0 11)\" /></g><path class=\"edge\" d=\"M 0 0 V -1.67529 H -2.90816\" /><circle class=\"sym\" cx=\"0\" cy=\"0\" r=\"3\" /><text class=\"lab rgt\" transform=\"translate(3 -7.0)\" /></g><path class=\"edge\" d=\"M 0 0 V -2.95608 H -3.39286\" /><circle class=\"sym\" cx=\"0\" cy=\"0\" r=\"3\" /><text class=\"lab rgt\" transform=\"translate(3 -7.0)\" /></g><path class=\"edge\" d=\"M 0 0 V -55.3414 H -3.6352\" /><g class=\"mut m1551398 s1579861 unknown_time\" transform=\"translate(0 -27.6707)\"><line x1=\"0\" x2=\"0\" y1=\"0\" y2=\"27.6707\" /><path class=\"sym\" d=\"M -3,-3 l 6,6 M -3,3 l 6,-6\" /><text class=\"lab rgt\" transform=\"translate(5 0)\">1551398</text></g><circle class=\"sym\" cx=\"0\" cy=\"0\" r=\"3\" /><text class=\"lab rgt\" transform=\"translate(3 -7.0)\" /></g><path class=\"edge\" d=\"M 0 0 V -23.6331 H 11.0268\" /><circle class=\"sym\" cx=\"0\" cy=\"0\" r=\"3\" /><text class=\"lab lft\" transform=\"translate(-3 -7.0)\" /></g><g class=\"a22702459 c2 m1551406 node n22702448 s1579869\" transform=\"translate(11.0268 33.2564)\"><g class=\"a22702448 i49 leaf m1551412 node n49 s1579875 sample\" transform=\"translate(-6.30102 75.3724)\"><path class=\"edge\" d=\"M 0 0 V -75.3724 H 6.30102\" /><g class=\"mut m1551412 s1579875 unknown_time\" transform=\"translate(0 -37.6862)\"><line x1=\"0\" x2=\"0\" y1=\"0\" y2=\"37.6862\" /><path class=\"sym\" d=\"M -3,-3 l 6,6 M -3,3 l 6,-6\" /><text class=\"lab lft\" transform=\"translate(-5 0)\">1551412</text></g><rect class=\"sym\" height=\"6\" width=\"6\" x=\"-3\" y=\"-3\" /><text class=\"lab\" transform=\"translate(0 11)\" /></g><g class=\"a22702448 c2 node n22702447\" transform=\"translate(6.30102 25.4286)\"><g class=\"a22702447 c2 node n22702368\" transform=\"translate(-5.81633 32.099)\"><g class=\"a22702368 i137 leaf node n137 sample\" transform=\"translate(-2.90816 17.8448)\"><path class=\"edge\" d=\"M 0 0 V -17.8448 H 2.90816\" /><rect class=\"sym\" height=\"6\" width=\"6\" x=\"-3\" y=\"-3\" /><text class=\"lab\" transform=\"translate(0 11)\" /></g><g class=\"a22702368 c2 node n22702300\" transform=\"translate(2.90816 16.9357)\"><g class=\"a22702300 i134 leaf node n134 sample\" transform=\"translate(-1.93878 0.909093)\"><path class=\"edge\" d=\"M 0 0 V -0.909093 H 1.93878\" /><rect class=\"sym\" height=\"6\" width=\"6\" x=\"-3\" y=\"-3\" /><text class=\"lab\" transform=\"translate(0 11)\" /></g><g class=\"a22702300 i138 leaf node n138 sample\" transform=\"translate(1.93878 0.909093)\"><path class=\"edge\" d=\"M 0 0 V -0.909093 H -1.93878\" /><rect class=\"sym\" height=\"6\" width=\"6\" x=\"-3\" y=\"-3\" /><text class=\"lab\" transform=\"translate(0 11)\" /></g><path class=\"edge\" d=\"M 0 0 V -16.9357 H -2.90816\" /><circle class=\"sym\" cx=\"0\" cy=\"0\" r=\"3\" /><text class=\"lab rgt\" transform=\"translate(3 -7.0)\" /></g><path class=\"edge\" d=\"M 0 0 V -32.099 H 5.81633\" /><circle class=\"sym\" cx=\"0\" cy=\"0\" r=\"3\" /><text class=\"lab lft\" transform=\"translate(-3 -7.0)\" /></g><g class=\"a22702447 c2 node n22702373\" transform=\"translate(5.81633 46.4372)\"><g class=\"a22702373 i136 leaf node n136 sample\" transform=\"translate(-2.90816 3.50663)\"><path class=\"edge\" d=\"M 0 0 V -3.50663 H 2.90816\" /><rect class=\"sym\" height=\"6\" width=\"6\" x=\"-3\" y=\"-3\" /><text class=\"lab\" transform=\"translate(0 11)\" /></g><g class=\"a22702373 c2 node n22702293\" transform=\"translate(2.90816 2.55342)\"><g class=\"a22702293 i135 leaf node n135 sample\" transform=\"translate(-1.93878 0.953209)\"><path class=\"edge\" d=\"M 0 0 V -0.953209 H 1.93878\" /><rect class=\"sym\" height=\"6\" width=\"6\" x=\"-3\" y=\"-3\" /><text class=\"lab\" transform=\"translate(0 11)\" /></g><g class=\"a22702293 i139 leaf node n139 sample\" transform=\"translate(1.93878 0.953209)\"><path class=\"edge\" d=\"M 0 0 V -0.953209 H -1.93878\" /><rect class=\"sym\" height=\"6\" width=\"6\" x=\"-3\" y=\"-3\" /><text class=\"lab\" transform=\"translate(0 11)\" /></g><path class=\"edge\" d=\"M 0 0 V -2.55342 H -2.90816\" /><circle class=\"sym\" cx=\"0\" cy=\"0\" r=\"3\" /><text class=\"lab rgt\" transform=\"translate(3 -7.0)\" /></g><path class=\"edge\" d=\"M 0 0 V -46.4372 H -5.81633\" /><circle class=\"sym\" cx=\"0\" cy=\"0\" r=\"3\" /><text class=\"lab rgt\" transform=\"translate(3 -7.0)\" /></g><path class=\"edge\" d=\"M 0 0 V -25.4286 H -6.30102\" /><circle class=\"sym\" cx=\"0\" cy=\"0\" r=\"3\" /><text class=\"lab rgt\" transform=\"translate(3 -7.0)\" /></g><path class=\"edge\" d=\"M 0 0 V -33.2564 H -11.0268\" /><g class=\"mut m1551406 s1579869 unknown_time\" transform=\"translate(0 -16.6282)\"><line x1=\"0\" x2=\"0\" y1=\"0\" y2=\"16.6282\" /><path class=\"sym\" d=\"M -3,-3 l 6,6 M -3,3 l 6,-6\" /><text class=\"lab rgt\" transform=\"translate(5 0)\">1551406</text></g><circle class=\"sym\" cx=\"0\" cy=\"0\" r=\"3\" /><text class=\"lab rgt\" transform=\"translate(3 -7.0)\" /></g><path class=\"edge\" d=\"M 0 0 V -17.2075 H -16.9037\" /><circle class=\"sym\" cx=\"0\" cy=\"0\" r=\"3\" /><text class=\"lab rgt\" transform=\"translate(3 -7.0)\" /></g><path class=\"edge\" d=\"M 0 0 V -11.5904 H -25.1738\" /><circle class=\"sym\" cx=\"0\" cy=\"0\" r=\"3\" /><text class=\"lab rgt\" transform=\"translate(3 -7.0)\" /></g><path class=\"edge\" d=\"M 0 0 V -10.7758 H 41.5776\" /><circle class=\"sym\" cx=\"0\" cy=\"0\" r=\"3\" /><text class=\"lab lft\" transform=\"translate(-3 -7.0)\" /></g><g class=\"a22702464 c2 node n22702463\" transform=\"translate(41.5776 105.762)\"><g class=\"a22702463 c2 m1551390 node n22702336 s1579852\" transform=\"translate(-7.27041 22.0638)\"><g class=\"a22702336 i156 leaf node n156 sample\" transform=\"translate(-1.93878 20.3764)\"><path class=\"edge\" d=\"M 0 0 V -20.3764 H 1.93878\" /><rect class=\"sym\" height=\"6\" width=\"6\" x=\"-3\" y=\"-3\" /><text class=\"lab\" transform=\"translate(0 11)\" /></g><g class=\"a22702336 i160 leaf node n160 sample\" transform=\"translate(1.93878 20.3764)\"><path class=\"edge\" d=\"M 0 0 V -20.3764 H -1.93878\" /><rect class=\"sym\" height=\"6\" width=\"6\" x=\"-3\" y=\"-3\" /><text class=\"lab\" transform=\"translate(0 11)\" /></g><path class=\"edge\" d=\"M 0 0 V -22.0638 H 7.27041\" /><g class=\"mut m1551390 s1579852 unknown_time\" transform=\"translate(0 -11.0319)\"><line x1=\"0\" x2=\"0\" y1=\"0\" y2=\"11.0319\" /><path class=\"sym\" d=\"M -3,-3 l 6,6 M -3,3 l 6,-6\" /><text class=\"lab lft\" transform=\"translate(-5 0)\">1551390</text></g><circle class=\"sym\" cx=\"0\" cy=\"0\" r=\"3\" /><text class=\"lab lft\" transform=\"translate(-3 -7.0)\" /></g><g class=\"a22702463 c2 node n22702435\" transform=\"translate(7.27041 27.5868)\"><g class=\"a22702435 c2 node n22702350\" transform=\"translate(-5.81633 13.3173)\"><g class=\"a22702350 i25 leaf node n25 sample\" transform=\"translate(-2.90816 1.53611)\"><path class=\"edge\" d=\"M 0 0 V -1.53611 H 2.90816\" /><rect class=\"sym\" height=\"6\" width=\"6\" x=\"-3\" y=\"-3\" /><text class=\"lab\" transform=\"translate(0 11)\" /></g><g class=\"a22702350 c2 node n22702315\" transform=\"translate(2.90816 0.500851)\"><g class=\"a22702315 i23 leaf node n23 sample\" transform=\"translate(-1.93878 1.03526)\"><path class=\"edge\" d=\"M 0 0 V -1.03526 H 1.93878\" /><rect class=\"sym\" height=\"6\" width=\"6\" x=\"-3\" y=\"-3\" /><text class=\"lab\" transform=\"translate(0 11)\" /></g><g class=\"a22702315 i27 leaf node n27 sample\" transform=\"translate(1.93878 1.03526)\"><path class=\"edge\" d=\"M 0 0 V -1.03526 H -1.93878\" /><rect class=\"sym\" height=\"6\" width=\"6\" x=\"-3\" y=\"-3\" /><text class=\"lab\" transform=\"translate(0 11)\" /></g><path class=\"edge\" d=\"M 0 0 V -0.500851 H -2.90816\" /><circle class=\"sym\" cx=\"0\" cy=\"0\" r=\"3\" /><text class=\"lab rgt\" transform=\"translate(3 -7.0)\" /></g><path class=\"edge\" d=\"M 0 0 V -13.3173 H 5.81633\" /><circle class=\"sym\" cx=\"0\" cy=\"0\" r=\"3\" /><text class=\"lab lft\" transform=\"translate(-3 -7.0)\" /></g><g class=\"a22702435 c2 node n22702362\" transform=\"translate(5.81633 4.33829)\"><g class=\"a22702362 i122 leaf node n122 sample\" transform=\"translate(-2.90816 10.5151)\"><path class=\"edge\" d=\"M 0 0 V -10.5151 H 2.90816\" /><rect class=\"sym\" height=\"6\" width=\"6\" x=\"-3\" y=\"-3\" /><text class=\"lab\" transform=\"translate(0 11)\" /></g><g class=\"a22702362 c2 node n22702330\" transform=\"translate(2.90816 6.35104)\"><g class=\"a22702330 i61 leaf node n61 sample\" transform=\"translate(-1.93878 4.16408)\"><path class=\"edge\" d=\"M 0 0 V -4.16408 H 1.93878\" /><rect class=\"sym\" height=\"6\" width=\"6\" x=\"-3\" y=\"-3\" /><text class=\"lab\" transform=\"translate(0 11)\" /></g><g class=\"a22702330 i133 leaf node n133 sample\" transform=\"translate(1.93878 4.16408)\"><path class=\"edge\" d=\"M 0 0 V -4.16408 H -1.93878\" /><rect class=\"sym\" height=\"6\" width=\"6\" x=\"-3\" y=\"-3\" /><text class=\"lab\" transform=\"translate(0 11)\" /></g><path class=\"edge\" d=\"M 0 0 V -6.35104 H -2.90816\" /><circle class=\"sym\" cx=\"0\" cy=\"0\" r=\"3\" /><text class=\"lab rgt\" transform=\"translate(3 -7.0)\" /></g><path class=\"edge\" d=\"M 0 0 V -4.33829 H -5.81633\" /><circle class=\"sym\" cx=\"0\" cy=\"0\" r=\"3\" /><text class=\"lab rgt\" transform=\"translate(3 -7.0)\" /></g><path class=\"edge\" d=\"M 0 0 V -27.5868 H -7.27041\" /><circle class=\"sym\" cx=\"0\" cy=\"0\" r=\"3\" /><text class=\"lab rgt\" transform=\"translate(3 -7.0)\" /></g><path class=\"edge\" d=\"M 0 0 V -105.762 H -41.5776\" /><circle class=\"sym\" cx=\"0\" cy=\"0\" r=\"3\" /><text class=\"lab rgt\" transform=\"translate(3 -7.0)\" /></g><path class=\"edge\" d=\"M 0 0 V -20.8579 H -79.7284\" /><circle class=\"sym\" cx=\"0\" cy=\"0\" r=\"3\" /><text class=\"lab rgt\" transform=\"translate(3 -7.0)\" /></g><path class=\"edge\" d=\"M 0 0 V -18.4056 H 94.8019\" /><circle class=\"sym\" cx=\"0\" cy=\"0\" r=\"3\" /><text class=\"lab lft\" transform=\"translate(-3 -7.0)\" /></g><g class=\"a22702479 c2 node n22702478\" transform=\"translate(94.8019 50.09)\"><g class=\"a22702478 c2 m1551399 m1551417 m1551422 node n22702386 s1579862 s1579880 s1579885\" transform=\"translate(-43.5784 131.648)\"><g class=\"a22702386 i16 leaf node n16 sample\" transform=\"translate(-2.90816 5.72819)\"><path class=\"edge\" d=\"M 0 0 V -5.72819 H 2.90816\" /><rect class=\"sym\" height=\"6\" width=\"6\" x=\"-3\" y=\"-3\" /><text class=\"lab\" transform=\"translate(0 11)\" /></g><g class=\"a22702386 c2 node n22702338\" transform=\"translate(2.90816 1.161)\"><g class=\"a22702338 i17 leaf node n17 sample\" transform=\"translate(-1.93878 4.56719)\"><path class=\"edge\" d=\"M 0 0 V -4.56719 H 1.93878\" /><rect class=\"sym\" height=\"6\" width=\"6\" x=\"-3\" y=\"-3\" /><text class=\"lab\" transform=\"translate(0 11)\" /></g><g class=\"a22702338 i19 leaf node n19 sample\" transform=\"translate(1.93878 4.56719)\"><path class=\"edge\" d=\"M 0 0 V -4.56719 H -1.93878\" /><rect class=\"sym\" height=\"6\" width=\"6\" x=\"-3\" y=\"-3\" /><text class=\"lab\" transform=\"translate(0 11)\" /></g><path class=\"edge\" d=\"M 0 0 V -1.161 H -2.90816\" /><circle class=\"sym\" cx=\"0\" cy=\"0\" r=\"3\" /><text class=\"lab rgt\" transform=\"translate(3 -7.0)\" /></g><path class=\"edge\" d=\"M 0 0 V -131.648 H 43.5784\" /><g class=\"mut m1551399 s1579862 unknown_time\" transform=\"translate(0 -98.736)\"><line x1=\"0\" x2=\"0\" y1=\"0\" y2=\"98.736\" /><path class=\"sym\" d=\"M -3,-3 l 6,6 M -3,3 l 6,-6\" /><text class=\"lab lft\" transform=\"translate(-5 0)\">1551399</text></g><g class=\"mut m1551417 s1579880 unknown_time\" transform=\"translate(0 -65.824)\"><line x1=\"0\" x2=\"0\" y1=\"0\" y2=\"65.824\" /><path class=\"sym\" d=\"M -3,-3 l 6,6 M -3,3 l 6,-6\" /><text class=\"lab lft\" transform=\"translate(-5 0)\">1551417</text></g><g class=\"mut m1551422 s1579885 unknown_time\" transform=\"translate(0 -32.912)\"><line x1=\"0\" x2=\"0\" y1=\"0\" y2=\"32.912\" /><path class=\"sym\" d=\"M -3,-3 l 6,6 M -3,3 l 6,-6\" /><text class=\"lab lft\" transform=\"translate(-5 0)\">1551422</text></g><circle class=\"sym\" cx=\"0\" cy=\"0\" r=\"3\" /><text class=\"lab lft\" transform=\"translate(-3 -7.0)\" /></g><g class=\"a22702478 c2 node n22702477\" transform=\"translate(43.5784 51.8165)\"><g class=\"a22702477 c2 node n22702474\" transform=\"translate(-62.2633 54.3747)\"><g class=\"a22702474 i106 leaf m1551416 node n106 s1579879 sample\" transform=\"translate(-16.1691 31.185)\"><path class=\"edge\" d=\"M 0 0 V -31.185 H 16.1691\" /><g class=\"mut m1551416 s1579879 unknown_time\" transform=\"translate(0 -15.5925)\"><line x1=\"0\" x2=\"0\" y1=\"0\" y2=\"15.5925\" /><path class=\"sym\" d=\"M -3,-3 l 6,6 M -3,3 l 6,-6\" /><text class=\"lab lft\" transform=\"translate(-5 0)\">1551416</text></g><rect class=\"sym\" height=\"6\" width=\"6\" x=\"-3\" y=\"-3\" /><text class=\"lab\" transform=\"translate(0 11)\" /></g><g class=\"a22702474 c2 node n22702444\" transform=\"translate(16.1691 8.1805)\"><g class=\"a22702444 c2 node n22702430\" transform=\"translate(-19.3726 12.5817)\"><g class=\"a22702430 c2 node n22702356\" transform=\"translate(-6.17985 8.88982)\"><g class=\"a22702356 i52 leaf node n52 sample\" transform=\"translate(-2.90816 1.53296)\"><path class=\"edge\" d=\"M 0 0 V -1.53296 H 2.90816\" /><rect class=\"sym\" height=\"6\" width=\"6\" x=\"-3\" y=\"-3\" /><text class=\"lab\" transform=\"translate(0 11)\" /></g><g class=\"a22702356 c2 node n22702301\" transform=\"translate(2.90816 1.02176)\"><g class=\"a22702301 i28 leaf node n28 sample\" transform=\"translate(-1.93878 0.511196)\"><path class=\"edge\" d=\"M 0 0 V -0.511196 H 1.93878\" /><rect class=\"sym\" height=\"6\" width=\"6\" x=\"-3\" y=\"-3\" /><text class=\"lab\" transform=\"translate(0 11)\" /></g><g class=\"a22702301 i115 leaf node n115 sample\" transform=\"translate(1.93878 0.511196)\"><path class=\"edge\" d=\"M 0 0 V -0.511196 H -1.93878\" /><rect class=\"sym\" height=\"6\" width=\"6\" x=\"-3\" y=\"-3\" /><text class=\"lab\" transform=\"translate(0 11)\" /></g><path class=\"edge\" d=\"M 0 0 V -1.02176 H -2.90816\" /><circle class=\"sym\" cx=\"0\" cy=\"0\" r=\"3\" /><text class=\"lab rgt\" transform=\"translate(3 -7.0)\" /></g><path class=\"edge\" d=\"M 0 0 V -8.88982 H 6.17985\" /><circle class=\"sym\" cx=\"0\" cy=\"0\" r=\"3\" /><text class=\"lab lft\" transform=\"translate(-3 -7.0)\" /></g><g class=\"a22702430 c2 node n22702409\" transform=\"translate(6.17985 3.80866)\"><g class=\"a22702409 i99 leaf node n99 sample\" transform=\"translate(-3.6352 6.61412)\"><path class=\"edge\" d=\"M 0 0 V -6.61412 H 3.6352\" /><rect class=\"sym\" height=\"6\" width=\"6\" x=\"-3\" y=\"-3\" /><text class=\"lab\" transform=\"translate(0 11)\" /></g><g class=\"a22702409 c2 node n22702406\" transform=\"translate(3.6352 3.93635)\"><g class=\"a22702406 i65 leaf node n65 sample\" transform=\"translate(-3.39286 2.67777)\"><path class=\"edge\" d=\"M 0 0 V -2.67777 H 3.39286\" /><rect class=\"sym\" height=\"6\" width=\"6\" x=\"-3\" y=\"-3\" /><text class=\"lab\" transform=\"translate(0 11)\" /></g><g class=\"a22702406 c2 node n22702380\" transform=\"translate(3.39286 1.59288)\"><g class=\"a22702380 i96 leaf node n96 sample\" transform=\"translate(-2.90816 1.08489)\"><path class=\"edge\" d=\"M 0 0 V -1.08489 H 2.90816\" /><rect class=\"sym\" height=\"6\" width=\"6\" x=\"-3\" y=\"-3\" /><text class=\"lab\" transform=\"translate(0 11)\" /></g><g class=\"a22702380 c2 node n22702331\" transform=\"translate(2.90816 0.659872)\"><g class=\"a22702331 i21 leaf node n21 sample\" transform=\"translate(-1.93878 0.425021)\"><path class=\"edge\" d=\"M 0 0 V -0.425021 H 1.93878\" /><rect class=\"sym\" height=\"6\" width=\"6\" x=\"-3\" y=\"-3\" /><text class=\"lab\" transform=\"translate(0 11)\" /></g><g class=\"a22702331 i95 leaf node n95 sample\" transform=\"translate(1.93878 0.425021)\"><path class=\"edge\" d=\"M 0 0 V -0.425021 H -1.93878\" /><rect class=\"sym\" height=\"6\" width=\"6\" x=\"-3\" y=\"-3\" /><text class=\"lab\" transform=\"translate(0 11)\" /></g><path class=\"edge\" d=\"M 0 0 V -0.659872 H -2.90816\" /><circle class=\"sym\" cx=\"0\" cy=\"0\" r=\"3\" /><text class=\"lab rgt\" transform=\"translate(3 -7.0)\" /></g><path class=\"edge\" d=\"M 0 0 V -1.59288 H -3.39286\" /><circle class=\"sym\" cx=\"0\" cy=\"0\" r=\"3\" /><text class=\"lab rgt\" transform=\"translate(3 -7.0)\" /></g><path class=\"edge\" d=\"M 0 0 V -3.93635 H -3.6352\" /><circle class=\"sym\" cx=\"0\" cy=\"0\" r=\"3\" /><text class=\"lab rgt\" transform=\"translate(3 -7.0)\" /></g><path class=\"edge\" d=\"M 0 0 V -3.80866 H -6.17985\" /><circle class=\"sym\" cx=\"0\" cy=\"0\" r=\"3\" /><text class=\"lab rgt\" transform=\"translate(3 -7.0)\" /></g><path class=\"edge\" d=\"M 0 0 V -12.5817 H 19.3726\" /><circle class=\"sym\" cx=\"0\" cy=\"0\" r=\"3\" /><text class=\"lab lft\" transform=\"translate(-3 -7.0)\" /></g><g class=\"a22702444 c2 node n22702443\" transform=\"translate(19.3726 4.39405)\"><g class=\"a22702443 c2 m1551392 node n22702438 s1579855\" transform=\"translate(-10.2695 13.9746)\"><g class=\"a22702438 c2 node n22702311\" transform=\"translate(-4.60459 4.32165)\"><g class=\"a22702311 i26 leaf node n26 sample\" transform=\"translate(-1.93878 0.314168)\"><path class=\"edge\" d=\"M 0 0 V -0.314168 H 1.93878\" /><rect class=\"sym\" height=\"6\" width=\"6\" x=\"-3\" y=\"-3\" /><text class=\"lab\" transform=\"translate(0 11)\" /></g><g class=\"a22702311 i58 leaf node n58 sample\" transform=\"translate(1.93878 0.314168)\"><path class=\"edge\" d=\"M 0 0 V -0.314168 H -1.93878\" /><rect class=\"sym\" height=\"6\" width=\"6\" x=\"-3\" y=\"-3\" /><text class=\"lab\" transform=\"translate(0 11)\" /></g><path class=\"edge\" d=\"M 0 0 V -4.32165 H 4.60459\" /><circle class=\"sym\" cx=\"0\" cy=\"0\" r=\"3\" /><text class=\"lab lft\" transform=\"translate(-3 -7.0)\" /></g><g class=\"a22702438 c2 node n22702361\" transform=\"translate(4.60459 1.88906)\"><g class=\"a22702361 i90 leaf node n90 sample\" transform=\"translate(-3.39286 2.74676)\"><path class=\"edge\" d=\"M 0 0 V -2.74676 H 3.39286\" /><rect class=\"sym\" height=\"6\" width=\"6\" x=\"-3\" y=\"-3\" /><text class=\"lab\" transform=\"translate(0 11)\" /></g><g class=\"a22702361 c2 node n22702346\" transform=\"translate(3.39286 1.47825)\"><g class=\"a22702346 i13 leaf node n13 sample\" transform=\"translate(-2.90816 1.26851)\"><path class=\"edge\" d=\"M 0 0 V -1.26851 H 2.90816\" /><rect class=\"sym\" height=\"6\" width=\"6\" x=\"-3\" y=\"-3\" /><text class=\"lab\" transform=\"translate(0 11)\" /></g><g class=\"a22702346 c2 node n22702308\" transform=\"translate(2.90816 0.377653)\"><g class=\"a22702308 i12 leaf node n12 sample\" transform=\"translate(-1.93878 0.890856)\"><path class=\"edge\" d=\"M 0 0 V -0.890856 H 1.93878\" /><rect class=\"sym\" height=\"6\" width=\"6\" x=\"-3\" y=\"-3\" /><text class=\"lab\" transform=\"translate(0 11)\" /></g><g class=\"a22702308 i85 leaf node n85 sample\" transform=\"translate(1.93878 0.890856)\"><path class=\"edge\" d=\"M 0 0 V -0.890856 H -1.93878\" /><rect class=\"sym\" height=\"6\" width=\"6\" x=\"-3\" y=\"-3\" /><text class=\"lab\" transform=\"translate(0 11)\" /></g><path class=\"edge\" d=\"M 0 0 V -0.377653 H -2.90816\" /><circle class=\"sym\" cx=\"0\" cy=\"0\" r=\"3\" /><text class=\"lab rgt\" transform=\"translate(3 -7.0)\" /></g><path class=\"edge\" d=\"M 0 0 V -1.47825 H -3.39286\" /><circle class=\"sym\" cx=\"0\" cy=\"0\" r=\"3\" /><text class=\"lab rgt\" transform=\"translate(3 -7.0)\" /></g><path class=\"edge\" d=\"M 0 0 V -1.88906 H -4.60459\" /><circle class=\"sym\" cx=\"0\" cy=\"0\" r=\"3\" /><text class=\"lab rgt\" transform=\"translate(3 -7.0)\" /></g><path class=\"edge\" d=\"M 0 0 V -13.9746 H 10.2695\" /><g class=\"mut m1551392 s1579855 unknown_time\" transform=\"translate(0 -6.98729)\"><line x1=\"0\" x2=\"0\" y1=\"0\" y2=\"6.98729\" /><path class=\"sym\" d=\"M -3,-3 l 6,6 M -3,3 l 6,-6\" /><text class=\"lab lft\" transform=\"translate(-5 0)\">1551392</text></g><circle class=\"sym\" cx=\"0\" cy=\"0\" r=\"3\" /><text class=\"lab lft\" transform=\"translate(-3 -7.0)\" /></g><g class=\"a22702443 c2 node n22702439\" transform=\"translate(10.2695 5.07274)\"><g class=\"a22702439 i11 leaf node n11 sample\" transform=\"translate(-3.81696 13.5377)\"><path class=\"edge\" d=\"M 0 0 V -13.5377 H 3.81696\" /><rect class=\"sym\" height=\"6\" width=\"6\" x=\"-3\" y=\"-3\" /><text class=\"lab\" transform=\"translate(0 11)\" /></g><g class=\"a22702439 c2 m1551396 m1551421 node n22702408 s1579859 s1579884\" transform=\"translate(3.81696 9.3814)\"><g class=\"a22702408 i56 leaf node n56 sample\" transform=\"translate(-3.75638 4.15627)\"><path class=\"edge\" d=\"M 0 0 V -4.15627 H 3.75638\" /><rect class=\"sym\" height=\"6\" width=\"6\" x=\"-3\" y=\"-3\" /><text class=\"lab\" transform=\"translate(0 11)\" /></g><g class=\"a22702408 c2 node n22702407\" transform=\"translate(3.75638 2.38509)\"><g class=\"a22702407 i62 leaf node n62 sample\" transform=\"translate(-3.6352 1.77118)\"><path class=\"edge\" d=\"M 0 0 V -1.77118 H 3.6352\" /><rect class=\"sym\" height=\"6\" width=\"6\" x=\"-3\" y=\"-3\" /><text class=\"lab\" transform=\"translate(0 11)\" /></g><g class=\"a22702407 c2 node n22702359\" transform=\"translate(3.6352 0.514236)\"><g class=\"a22702359 i101 leaf node n101 sample\" transform=\"translate(-3.39286 1.25694)\"><path class=\"edge\" d=\"M 0 0 V -1.25694 H 3.39286\" /><rect class=\"sym\" height=\"6\" width=\"6\" x=\"-3\" y=\"-3\" /><text class=\"lab\" transform=\"translate(0 11)\" /></g><g class=\"a22702359 c2 node n22702352\" transform=\"translate(3.39286 0.404258)\"><g class=\"a22702352 i125 leaf node n125 sample\" transform=\"translate(-2.90816 0.852684)\"><path class=\"edge\" d=\"M 0 0 V -0.852684 H 2.90816\" /><rect class=\"sym\" height=\"6\" width=\"6\" x=\"-3\" y=\"-3\" /><text class=\"lab\" transform=\"translate(0 11)\" /></g><g class=\"a22702352 c2 node n22702332\" transform=\"translate(2.90816 0.521723)\"><g class=\"a22702332 i57 leaf node n57 sample\" transform=\"translate(-1.93878 0.330961)\"><path class=\"edge\" d=\"M 0 0 V -0.330961 H 1.93878\" /><rect class=\"sym\" height=\"6\" width=\"6\" x=\"-3\" y=\"-3\" /><text class=\"lab\" transform=\"translate(0 11)\" /></g><g class=\"a22702332 i127 leaf node n127 sample\" transform=\"translate(1.93878 0.330961)\"><path class=\"edge\" d=\"M 0 0 V -0.330961 H -1.93878\" /><rect class=\"sym\" height=\"6\" width=\"6\" x=\"-3\" y=\"-3\" /><text class=\"lab\" transform=\"translate(0 11)\" /></g><path class=\"edge\" d=\"M 0 0 V -0.521723 H -2.90816\" /><circle class=\"sym\" cx=\"0\" cy=\"0\" r=\"3\" /><text class=\"lab rgt\" transform=\"translate(3 -7.0)\" /></g><path class=\"edge\" d=\"M 0 0 V -0.404258 H -3.39286\" /><circle class=\"sym\" cx=\"0\" cy=\"0\" r=\"3\" /><text class=\"lab rgt\" transform=\"translate(3 -7.0)\" /></g><path class=\"edge\" d=\"M 0 0 V -0.514236 H -3.6352\" /><circle class=\"sym\" cx=\"0\" cy=\"0\" r=\"3\" /><text class=\"lab rgt\" transform=\"translate(3 -7.0)\" /></g><path class=\"edge\" d=\"M 0 0 V -2.38509 H -3.75638\" /><circle class=\"sym\" cx=\"0\" cy=\"0\" r=\"3\" /><text class=\"lab rgt\" transform=\"translate(3 -7.0)\" /></g><path class=\"edge\" d=\"M 0 0 V -9.3814 H -3.81696\" /><g class=\"mut m1551396 s1579859 unknown_time\" transform=\"translate(0 -6.25427)\"><line x1=\"0\" x2=\"0\" y1=\"0\" y2=\"6.25427\" /><path class=\"sym\" d=\"M -3,-3 l 6,6 M -3,3 l 6,-6\" /><text class=\"lab rgt\" transform=\"translate(5 0)\">1551396</text></g><g class=\"mut m1551421 s1579884 unknown_time\" transform=\"translate(0 -3.12713)\"><line x1=\"0\" x2=\"0\" y1=\"0\" y2=\"3.12713\" /><path class=\"sym\" d=\"M -3,-3 l 6,6 M -3,3 l 6,-6\" /><text class=\"lab rgt\" transform=\"translate(5 0)\">1551421</text></g><circle class=\"sym\" cx=\"0\" cy=\"0\" r=\"3\" /><text class=\"lab rgt\" transform=\"translate(3 -7.0)\" /></g><path class=\"edge\" d=\"M 0 0 V -5.07274 H -10.2695\" /><circle class=\"sym\" cx=\"0\" cy=\"0\" r=\"3\" /><text class=\"lab rgt\" transform=\"translate(3 -7.0)\" /></g><path class=\"edge\" d=\"M 0 0 V -4.39405 H -19.3726\" /><circle class=\"sym\" cx=\"0\" cy=\"0\" r=\"3\" /><text class=\"lab rgt\" transform=\"translate(3 -7.0)\" /></g><path class=\"edge\" d=\"M 0 0 V -8.1805 H -16.1691\" /><circle class=\"sym\" cx=\"0\" cy=\"0\" r=\"3\" /><text class=\"lab rgt\" transform=\"translate(3 -7.0)\" /></g><path class=\"edge\" d=\"M 0 0 V -54.3747 H 62.2633\" /><circle class=\"sym\" cx=\"0\" cy=\"0\" r=\"3\" /><text class=\"lab lft\" transform=\"translate(-3 -7.0)\" /></g><g class=\"a22702477 c2 node n22702476\" transform=\"translate(62.2633 27.5608)\"><g class=\"a22702476 c2 node n22702456\" transform=\"translate(-41.606 13.577)\"><g class=\"a22702456 c2 m1551414 node n22702402 s1579877\" transform=\"translate(-10.8753 20.2122)\"><g class=\"a22702402 i39 leaf node n39 sample\" transform=\"translate(-2.90816 24.2097)\"><path class=\"edge\" d=\"M 0 0 V -24.2097 H 2.90816\" /><rect class=\"sym\" height=\"6\" width=\"6\" x=\"-3\" y=\"-3\" /><text class=\"lab\" transform=\"translate(0 11)\" /></g><g class=\"a22702402 c2 m1551387 node n22702291 s1579849\" transform=\"translate(2.90816 22.0841)\"><g class=\"a22702291 i97 leaf m1551388 node n97 s1579850 sample\" transform=\"translate(-1.93878 2.12562)\"><path class=\"edge\" d=\"M 0 0 V -2.12562 H 1.93878\" /><g class=\"mut m1551388 s1579850 unknown_time\" transform=\"translate(0 -1.06281)\"><line x1=\"0\" x2=\"0\" y1=\"0\" y2=\"1.06281\" /><path class=\"sym\" d=\"M -3,-3 l 6,6 M -3,3 l 6,-6\" /><text class=\"lab lft\" transform=\"translate(-5 0)\">1551388</text></g><rect class=\"sym\" height=\"6\" width=\"6\" x=\"-3\" y=\"-3\" /><text class=\"lab\" transform=\"translate(0 11)\" /></g><g class=\"a22702291 i108 leaf node n108 sample\" transform=\"translate(1.93878 2.12562)\"><path class=\"edge\" d=\"M 0 0 V -2.12562 H -1.93878\" /><rect class=\"sym\" height=\"6\" width=\"6\" x=\"-3\" y=\"-3\" /><text class=\"lab\" transform=\"translate(0 11)\" /></g><path class=\"edge\" d=\"M 0 0 V -22.0841 H -2.90816\" /><g class=\"mut m1551387 s1579849 unknown_time\" transform=\"translate(0 -11.042)\"><line x1=\"0\" x2=\"0\" y1=\"0\" y2=\"11.042\" /><path class=\"sym\" d=\"M -3,-3 l 6,6 M -3,3 l 6,-6\" /><text class=\"lab rgt\" transform=\"translate(5 0)\">1551387</text></g><circle class=\"sym\" cx=\"0\" cy=\"0\" r=\"3\" /><text class=\"lab rgt\" transform=\"translate(3 -7.0)\" /></g><path class=\"edge\" d=\"M 0 0 V -20.2122 H 10.8753\" /><g class=\"mut m1551414 s1579877 unknown_time\" transform=\"translate(0 -10.1061)\"><line x1=\"0\" x2=\"0\" y1=\"0\" y2=\"10.1061\" /><path class=\"sym\" d=\"M -3,-3 l 6,6 M -3,3 l 6,-6\" /><text class=\"lab lft\" transform=\"translate(-5 0)\">1551414</text></g><circle class=\"sym\" cx=\"0\" cy=\"0\" r=\"3\" /><text class=\"lab lft\" transform=\"translate(-3 -7.0)\" /></g><g class=\"a22702456 c2 m1551402 node n22702432 s1579865\" transform=\"translate(10.8753 21.0007)\"><g class=\"a22702432 c2 node n22702423\" transform=\"translate(-9.63329 3.87185)\"><g class=\"a22702423 i150 leaf node n150 sample\" transform=\"translate(-3.39286 19.5493)\"><path class=\"edge\" d=\"M 0 0 V -19.5493 H 3.39286\" /><rect class=\"sym\" height=\"6\" width=\"6\" x=\"-3\" y=\"-3\" /><text class=\"lab\" transform=\"translate(0 11)\" /></g><g class=\"a22702423 c2 node n22702367\" transform=\"translate(3.39286 10.0456)\"><g class=\"a22702367 i157 leaf node n157 sample\" transform=\"translate(-2.90816 9.50366)\"><path class=\"edge\" d=\"M 0 0 V -9.50366 H 2.90816\" /><rect class=\"sym\" height=\"6\" width=\"6\" x=\"-3\" y=\"-3\" /><text class=\"lab\" transform=\"translate(0 11)\" /></g><g class=\"a22702367 c2 node n22702297\" transform=\"translate(2.90816 2.94949)\"><g class=\"a22702297 i151 leaf node n151 sample\" transform=\"translate(-1.93878 6.55417)\"><path class=\"edge\" d=\"M 0 0 V -6.55417 H 1.93878\" /><rect class=\"sym\" height=\"6\" width=\"6\" x=\"-3\" y=\"-3\" /><text class=\"lab\" transform=\"translate(0 11)\" /></g><g class=\"a22702297 i154 leaf node n154 sample\" transform=\"translate(1.93878 6.55417)\"><path class=\"edge\" d=\"M 0 0 V -6.55417 H -1.93878\" /><rect class=\"sym\" height=\"6\" width=\"6\" x=\"-3\" y=\"-3\" /><text class=\"lab\" transform=\"translate(0 11)\" /></g><path class=\"edge\" d=\"M 0 0 V -2.94949 H -2.90816\" /><circle class=\"sym\" cx=\"0\" cy=\"0\" r=\"3\" /><text class=\"lab rgt\" transform=\"translate(3 -7.0)\" /></g><path class=\"edge\" d=\"M 0 0 V -10.0456 H -3.39286\" /><circle class=\"sym\" cx=\"0\" cy=\"0\" r=\"3\" /><text class=\"lab rgt\" transform=\"translate(3 -7.0)\" /></g><path class=\"edge\" d=\"M 0 0 V -3.87185 H 9.63329\" /><circle class=\"sym\" cx=\"0\" cy=\"0\" r=\"3\" /><text class=\"lab lft\" transform=\"translate(-3 -7.0)\" /></g><g class=\"a22702432 c2 node n22702428\" transform=\"translate(9.63329 6.47834)\"><g class=\"a22702428 i162 leaf node n162 sample\" transform=\"translate(-7.14923 16.9428)\"><path class=\"edge\" d=\"M 0 0 V -16.9428 H 7.14923\" /><rect class=\"sym\" height=\"6\" width=\"6\" x=\"-3\" y=\"-3\" /><text class=\"lab\" transform=\"translate(0 11)\" /></g><g class=\"a22702428 c2 node n22702413\" transform=\"translate(7.14923 2.57907)\"><g class=\"a22702413 c2 node n22702355\" transform=\"translate(-7.51276 2.29127)\"><g class=\"a22702355 i165 leaf node n165 sample\" transform=\"translate(-2.90816 12.0725)\"><path class=\"edge\" d=\"M 0 0 V -12.0725 H 2.90816\" /><rect class=\"sym\" height=\"6\" width=\"6\" x=\"-3\" y=\"-3\" /><text class=\"lab\" transform=\"translate(0 11)\" /></g><g class=\"a22702355 c2 node n22702316\" transform=\"translate(2.90816 1.65021)\"><g class=\"a22702316 i152 leaf node n152 sample\" transform=\"translate(-1.93878 10.4223)\"><path class=\"edge\" d=\"M 0 0 V -10.4223 H 1.93878\" /><rect class=\"sym\" height=\"6\" width=\"6\" x=\"-3\" y=\"-3\" /><text class=\"lab\" transform=\"translate(0 11)\" /></g><g class=\"a22702316 i159 leaf node n159 sample\" transform=\"translate(1.93878 10.4223)\"><path class=\"edge\" d=\"M 0 0 V -10.4223 H -1.93878\" /><rect class=\"sym\" height=\"6\" width=\"6\" x=\"-3\" y=\"-3\" /><text class=\"lab\" transform=\"translate(0 11)\" /></g><path class=\"edge\" d=\"M 0 0 V -1.65021 H -2.90816\" /><circle class=\"sym\" cx=\"0\" cy=\"0\" r=\"3\" /><text class=\"lab rgt\" transform=\"translate(3 -7.0)\" /></g><path class=\"edge\" d=\"M 0 0 V -2.29127 H 7.51276\" /><circle class=\"sym\" cx=\"0\" cy=\"0\" r=\"3\" /><text class=\"lab lft\" transform=\"translate(-3 -7.0)\" /></g><g class=\"a22702413 c2 node n22702412\" transform=\"translate(7.51276 2.34887)\"><g class=\"a22702412 c2 node n22702379\" transform=\"translate(-4.36224 5.83336)\"><g class=\"a22702379 i146 leaf node n146 sample\" transform=\"translate(-1.93878 6.18151)\"><path class=\"edge\" d=\"M 0 0 V -6.18151 H 1.93878\" /><rect class=\"sym\" height=\"6\" width=\"6\" x=\"-3\" y=\"-3\" /><text class=\"lab\" transform=\"translate(0 11)\" /></g><g class=\"a22702379 i155 leaf node n155 sample\" transform=\"translate(1.93878 6.18151)\"><path class=\"edge\" d=\"M 0 0 V -6.18151 H -1.93878\" /><rect class=\"sym\" height=\"6\" width=\"6\" x=\"-3\" y=\"-3\" /><text class=\"lab\" transform=\"translate(0 11)\" /></g><path class=\"edge\" d=\"M 0 0 V -5.83336 H 4.36224\" /><circle class=\"sym\" cx=\"0\" cy=\"0\" r=\"3\" /><text class=\"lab lft\" transform=\"translate(-3 -7.0)\" /></g><g class=\"a22702412 c2 node n22702383\" transform=\"translate(4.36224 1.59061)\"><g class=\"a22702383 i161 leaf node n161 sample\" transform=\"translate(-2.90816 10.4243)\"><path class=\"edge\" d=\"M 0 0 V -10.4243 H 2.90816\" /><rect class=\"sym\" height=\"6\" width=\"6\" x=\"-3\" y=\"-3\" /><text class=\"lab\" transform=\"translate(0 11)\" /></g><g class=\"a22702383 c2 node n22702294\" transform=\"translate(2.90816 3.80823)\"><g class=\"a22702294 i153 leaf node n153 sample\" transform=\"translate(-1.93878 6.61603)\"><path class=\"edge\" d=\"M 0 0 V -6.61603 H 1.93878\" /><rect class=\"sym\" height=\"6\" width=\"6\" x=\"-3\" y=\"-3\" /><text class=\"lab\" transform=\"translate(0 11)\" /></g><g class=\"a22702294 i163 leaf node n163 sample\" transform=\"translate(1.93878 6.61603)\"><path class=\"edge\" d=\"M 0 0 V -6.61603 H -1.93878\" /><rect class=\"sym\" height=\"6\" width=\"6\" x=\"-3\" y=\"-3\" /><text class=\"lab\" transform=\"translate(0 11)\" /></g><path class=\"edge\" d=\"M 0 0 V -3.80823 H -2.90816\" /><circle class=\"sym\" cx=\"0\" cy=\"0\" r=\"3\" /><text class=\"lab rgt\" transform=\"translate(3 -7.0)\" /></g><path class=\"edge\" d=\"M 0 0 V -1.59061 H -4.36224\" /><circle class=\"sym\" cx=\"0\" cy=\"0\" r=\"3\" /><text class=\"lab rgt\" transform=\"translate(3 -7.0)\" /></g><path class=\"edge\" d=\"M 0 0 V -2.34887 H -7.51276\" /><circle class=\"sym\" cx=\"0\" cy=\"0\" r=\"3\" /><text class=\"lab rgt\" transform=\"translate(3 -7.0)\" /></g><path class=\"edge\" d=\"M 0 0 V -2.57907 H -7.14923\" /><circle class=\"sym\" cx=\"0\" cy=\"0\" r=\"3\" /><text class=\"lab rgt\" transform=\"translate(3 -7.0)\" /></g><path class=\"edge\" d=\"M 0 0 V -6.47834 H -9.63329\" /><circle class=\"sym\" cx=\"0\" cy=\"0\" r=\"3\" /><text class=\"lab rgt\" transform=\"translate(3 -7.0)\" /></g><path class=\"edge\" d=\"M 0 0 V -21.0007 H -10.8753\" /><g class=\"mut m1551402 s1579865 unknown_time\" transform=\"translate(0 -10.5004)\"><line x1=\"0\" x2=\"0\" y1=\"0\" y2=\"10.5004\" /><path class=\"sym\" d=\"M -3,-3 l 6,6 M -3,3 l 6,-6\" /><text class=\"lab rgt\" transform=\"translate(5 0)\">1551402</text></g><circle class=\"sym\" cx=\"0\" cy=\"0\" r=\"3\" /><text class=\"lab rgt\" transform=\"translate(3 -7.0)\" /></g><path class=\"edge\" d=\"M 0 0 V -13.577 H 41.606\" /><circle class=\"sym\" cx=\"0\" cy=\"0\" r=\"3\" /><text class=\"lab lft\" transform=\"translate(-3 -7.0)\" /></g><g class=\"a22702476 c2 node n22702475\" transform=\"translate(41.606 14.0736)\"><g class=\"a22702475 c2 node n22702471\" transform=\"translate(-31.5619 19.092)\"><g class=\"a22702471 i148 leaf node n148 sample\" transform=\"translate(-3.39286 24.8333)\"><path class=\"edge\" d=\"M 0 0 V -24.8333 H 3.39286\" /><rect class=\"sym\" height=\"6\" width=\"6\" x=\"-3\" y=\"-3\" /><text class=\"lab\" transform=\"translate(0 11)\" /></g><g class=\"a22702471 c2 node n22702411\" transform=\"translate(3.39286 2.849)\"><g class=\"a22702411 i158 leaf node n158 sample\" transform=\"translate(-2.90816 21.9842)\"><path class=\"edge\" d=\"M 0 0 V -21.9842 H 2.90816\" /><rect class=\"sym\" height=\"6\" width=\"6\" x=\"-3\" y=\"-3\" /><text class=\"lab\" transform=\"translate(0 11)\" /></g><g class=\"a22702411 c2 node n22702296\" transform=\"translate(2.90816 15.3563)\"><g class=\"a22702296 i141 leaf node n141 sample\" transform=\"translate(-1.93878 6.62799)\"><path class=\"edge\" d=\"M 0 0 V -6.62799 H 1.93878\" /><rect class=\"sym\" height=\"6\" width=\"6\" x=\"-3\" y=\"-3\" /><text class=\"lab\" transform=\"translate(0 11)\" /></g><g class=\"a22702296 i147 leaf node n147 sample\" transform=\"translate(1.93878 6.62799)\"><path class=\"edge\" d=\"M 0 0 V -6.62799 H -1.93878\" /><rect class=\"sym\" height=\"6\" width=\"6\" x=\"-3\" y=\"-3\" /><text class=\"lab\" transform=\"translate(0 11)\" /></g><path class=\"edge\" d=\"M 0 0 V -15.3563 H -2.90816\" /><circle class=\"sym\" cx=\"0\" cy=\"0\" r=\"3\" /><text class=\"lab rgt\" transform=\"translate(3 -7.0)\" /></g><path class=\"edge\" d=\"M 0 0 V -2.849 H -3.39286\" /><circle class=\"sym\" cx=\"0\" cy=\"0\" r=\"3\" /><text class=\"lab rgt\" transform=\"translate(3 -7.0)\" /></g><path class=\"edge\" d=\"M 0 0 V -19.092 H 31.5619\" /><circle class=\"sym\" cx=\"0\" cy=\"0\" r=\"3\" /><text class=\"lab lft\" transform=\"translate(-3 -7.0)\" /></g><g class=\"a22702475 c2 m1551407 node n22702473 s1579870\" transform=\"translate(31.5619 18.5977)\"><g class=\"a22702473 c2 node n22702427\" transform=\"translate(-41.7367 14.2813)\"><g class=\"a22702427 i10 leaf node n10 sample\" transform=\"translate(-9.26977 11.0463)\"><path class=\"edge\" d=\"M 0 0 V -11.0463 H 9.26977\" /><rect class=\"sym\" height=\"6\" width=\"6\" x=\"-3\" y=\"-3\" /><text class=\"lab\" transform=\"translate(0 11)\" /></g><g class=\"a22702427 c2 node n22702415\" transform=\"translate(9.26977 3.76384)\"><g class=\"a22702415 c2 node n22702358\" transform=\"translate(-11.0268 4.65733)\"><g class=\"a22702358 i83 leaf node n83 sample\" transform=\"translate(-3.6352 2.6251)\"><path class=\"edge\" d=\"M 0 0 V -2.6251 H 3.6352\" /><rect class=\"sym\" height=\"6\" width=\"6\" x=\"-3\" y=\"-3\" /><text class=\"lab\" transform=\"translate(0 11)\" /></g><g class=\"a22702358 c2 node n22702353\" transform=\"translate(3.6352 1.30116)\"><g class=\"a22702353 i114 leaf node n114 sample\" transform=\"translate(-3.39286 1.32394)\"><path class=\"edge\" d=\"M 0 0 V -1.32394 H 3.39286\" /><rect class=\"sym\" height=\"6\" width=\"6\" x=\"-3\" y=\"-3\" /><text class=\"lab\" transform=\"translate(0 11)\" /></g><g class=\"a22702353 c2 node n22702347\" transform=\"translate(3.39286 0.687086)\"><g class=\"a22702347 i131 leaf node n131 sample\" transform=\"translate(-2.90816 0.636852)\"><path class=\"edge\" d=\"M 0 0 V -0.636852 H 2.90816\" /><rect class=\"sym\" height=\"6\" width=\"6\" x=\"-3\" y=\"-3\" /><text class=\"lab\" transform=\"translate(0 11)\" /></g><g class=\"a22702347 c2 node n22702312\" transform=\"translate(2.90816 0.233824)\"><g class=\"a22702312 i117 leaf node n117 sample\" transform=\"translate(-1.93878 0.403028)\"><path class=\"edge\" d=\"M 0 0 V -0.403028 H 1.93878\" /><rect class=\"sym\" height=\"6\" width=\"6\" x=\"-3\" y=\"-3\" /><text class=\"lab\" transform=\"translate(0 11)\" /></g><g class=\"a22702312 i124 leaf node n124 sample\" transform=\"translate(1.93878 0.403028)\"><path class=\"edge\" d=\"M 0 0 V -0.403028 H -1.93878\" /><rect class=\"sym\" height=\"6\" width=\"6\" x=\"-3\" y=\"-3\" /><text class=\"lab\" transform=\"translate(0 11)\" /></g><path class=\"edge\" d=\"M 0 0 V -0.233824 H -2.90816\" /><circle class=\"sym\" cx=\"0\" cy=\"0\" r=\"3\" /><text class=\"lab rgt\" transform=\"translate(3 -7.0)\" /></g><path class=\"edge\" d=\"M 0 0 V -0.687086 H -3.39286\" /><circle class=\"sym\" cx=\"0\" cy=\"0\" r=\"3\" /><text class=\"lab rgt\" transform=\"translate(3 -7.0)\" /></g><path class=\"edge\" d=\"M 0 0 V -1.30116 H -3.6352\" /><circle class=\"sym\" cx=\"0\" cy=\"0\" r=\"3\" /><text class=\"lab rgt\" transform=\"translate(3 -7.0)\" /></g><path class=\"edge\" d=\"M 0 0 V -4.65733 H 11.0268\" /><circle class=\"sym\" cx=\"0\" cy=\"0\" r=\"3\" /><text class=\"lab lft\" transform=\"translate(-3 -7.0)\" /></g><g class=\"a22702415 c2 node n22702374\" transform=\"translate(11.0268 1.5119)\"><g class=\"a22702374 c2 node n22702349\" transform=\"translate(-4.36224 1.36118)\"><g class=\"a22702349 i86 leaf node n86 sample\" transform=\"translate(-1.93878 4.40935)\"><path class=\"edge\" d=\"M 0 0 V -4.40935 H 1.93878\" /><rect class=\"sym\" height=\"6\" width=\"6\" x=\"-3\" y=\"-3\" /><text class=\"lab\" transform=\"translate(0 11)\" /></g><g class=\"a22702349 i91 leaf node n91 sample\" transform=\"translate(1.93878 4.40935)\"><path class=\"edge\" d=\"M 0 0 V -4.40935 H -1.93878\" /><rect class=\"sym\" height=\"6\" width=\"6\" x=\"-3\" y=\"-3\" /><text class=\"lab\" transform=\"translate(0 11)\" /></g><path class=\"edge\" d=\"M 0 0 V -1.36118 H 4.36224\" /><circle class=\"sym\" cx=\"0\" cy=\"0\" r=\"3\" /><text class=\"lab lft\" transform=\"translate(-3 -7.0)\" /></g><g class=\"a22702374 c2 node n22702357\" transform=\"translate(4.36224 1.85382)\"><g class=\"a22702357 i14 leaf node n14 sample\" transform=\"translate(-2.90816 3.91671)\"><path class=\"edge\" d=\"M 0 0 V -3.91671 H 2.90816\" /><rect class=\"sym\" height=\"6\" width=\"6\" x=\"-3\" y=\"-3\" /><text class=\"lab\" transform=\"translate(0 11)\" /></g><g class=\"a22702357 c2 node n22702327\" transform=\"translate(2.90816 2.47803)\"><g class=\"a22702327 i84 leaf node n84 sample\" transform=\"translate(-1.93878 1.43868)\"><path class=\"edge\" d=\"M 0 0 V -1.43868 H 1.93878\" /><rect class=\"sym\" height=\"6\" width=\"6\" x=\"-3\" y=\"-3\" /><text class=\"lab\" transform=\"translate(0 11)\" /></g><g class=\"a22702327 i87 leaf node n87 sample\" transform=\"translate(1.93878 1.43868)\"><path class=\"edge\" d=\"M 0 0 V -1.43868 H -1.93878\" /><rect class=\"sym\" height=\"6\" width=\"6\" x=\"-3\" y=\"-3\" /><text class=\"lab\" transform=\"translate(0 11)\" /></g><path class=\"edge\" d=\"M 0 0 V -2.47803 H -2.90816\" /><circle class=\"sym\" cx=\"0\" cy=\"0\" r=\"3\" /><text class=\"lab rgt\" transform=\"translate(3 -7.0)\" /></g><path class=\"edge\" d=\"M 0 0 V -1.85382 H -4.36224\" /><circle class=\"sym\" cx=\"0\" cy=\"0\" r=\"3\" /><text class=\"lab rgt\" transform=\"translate(3 -7.0)\" /></g><path class=\"edge\" d=\"M 0 0 V -1.5119 H -11.0268\" /><circle class=\"sym\" cx=\"0\" cy=\"0\" r=\"3\" /><text class=\"lab rgt\" transform=\"translate(3 -7.0)\" /></g><path class=\"edge\" d=\"M 0 0 V -3.76384 H -9.26977\" /><circle class=\"sym\" cx=\"0\" cy=\"0\" r=\"3\" /><text class=\"lab rgt\" transform=\"translate(3 -7.0)\" /></g><path class=\"edge\" d=\"M 0 0 V -14.2813 H 41.7367\" /><circle class=\"sym\" cx=\"0\" cy=\"0\" r=\"3\" /><text class=\"lab lft\" transform=\"translate(-3 -7.0)\" /></g><g class=\"a22702473 c2 node n22702472\" transform=\"translate(41.7367 9.37583)\"><g class=\"a22702472 c2 node n22702426\" transform=\"translate(-40.063 3.20275)\"><g class=\"a22702426 i142 leaf node n142 sample\" transform=\"translate(-10.0271 12.749)\"><path class=\"edge\" d=\"M 0 0 V -12.749 H 10.0271\" /><rect class=\"sym\" height=\"6\" width=\"6\" x=\"-3\" y=\"-3\" /><text class=\"lab\" transform=\"translate(0 11)\" /></g><g class=\"a22702426 c2 node n22702425\" transform=\"translate(10.0271 1.59598)\"><g class=\"a22702425 i164 leaf node n164 sample\" transform=\"translate(-16.1767 11.153)\"><path class=\"edge\" d=\"M 0 0 V -11.153 H 16.1767\" /><rect class=\"sym\" height=\"6\" width=\"6\" x=\"-3\" y=\"-3\" /><text class=\"lab\" transform=\"translate(0 11)\" /></g><g class=\"a22702425 c2 m1551425 node n22702424 s1579888\" transform=\"translate(16.1767 3.24289)\"><g class=\"a22702424 c2 node n22702391\" transform=\"translate(-21.3265 2.5825)\"><g class=\"a22702391 i20 leaf node n20 sample\" transform=\"translate(-7.14923 5.3276)\"><path class=\"edge\" d=\"M 0 0 V -5.3276 H 7.14923\" /><rect class=\"sym\" height=\"6\" width=\"6\" x=\"-3\" y=\"-3\" /><text class=\"lab\" transform=\"translate(0 11)\" /></g><g class=\"a22702391 c2 node n22702390\" transform=\"translate(7.14923 1.63122)\"><g class=\"a22702390 c2 node n22702354\" transform=\"translate(-7.51276 1.51955)\"><g class=\"a22702354 i119 leaf node n119 sample\" transform=\"translate(-2.90816 2.17682)\"><path class=\"edge\" d=\"M 0 0 V -2.17682 H 2.90816\" /><rect class=\"sym\" height=\"6\" width=\"6\" x=\"-3\" y=\"-3\" /><text class=\"lab\" transform=\"translate(0 11)\" /></g><g class=\"a22702354 c2 node n22702348\" transform=\"translate(2.90816 0.885552)\"><g class=\"a22702348 i55 leaf node n55 sample\" transform=\"translate(-1.93878 1.29127)\"><path class=\"edge\" d=\"M 0 0 V -1.29127 H 1.93878\" /><rect class=\"sym\" height=\"6\" width=\"6\" x=\"-3\" y=\"-3\" /><text class=\"lab\" transform=\"translate(0 11)\" /></g><g class=\"a22702348 i121 leaf node n121 sample\" transform=\"translate(1.93878 1.29127)\"><path class=\"edge\" d=\"M 0 0 V -1.29127 H -1.93878\" /><rect class=\"sym\" height=\"6\" width=\"6\" x=\"-3\" y=\"-3\" /><text class=\"lab\" transform=\"translate(0 11)\" /></g><path class=\"edge\" d=\"M 0 0 V -0.885552 H -2.90816\" /><circle class=\"sym\" cx=\"0\" cy=\"0\" r=\"3\" /><text class=\"lab rgt\" transform=\"translate(3 -7.0)\" /></g><path class=\"edge\" d=\"M 0 0 V -1.51955 H 7.51276\" /><circle class=\"sym\" cx=\"0\" cy=\"0\" r=\"3\" /><text class=\"lab lft\" transform=\"translate(-3 -7.0)\" /></g><g class=\"a22702390 c2 node n22702376\" transform=\"translate(7.51276 1.13527)\"><g class=\"a22702376 c2 node n22702345\" transform=\"translate(-4.36224 1.20264)\"><g class=\"a22702345 i29 leaf node n29 sample\" transform=\"translate(-1.93878 1.35846)\"><path class=\"edge\" d=\"M 0 0 V -1.35846 H 1.93878\" /><rect class=\"sym\" height=\"6\" width=\"6\" x=\"-3\" y=\"-3\" /><text class=\"lab\" transform=\"translate(0 11)\" /></g><g class=\"a22702345 i100 leaf node n100 sample\" transform=\"translate(1.93878 1.35846)\"><path class=\"edge\" d=\"M 0 0 V -1.35846 H -1.93878\" /><rect class=\"sym\" height=\"6\" width=\"6\" x=\"-3\" y=\"-3\" /><text class=\"lab\" transform=\"translate(0 11)\" /></g><path class=\"edge\" d=\"M 0 0 V -1.20264 H 4.36224\" /><circle class=\"sym\" cx=\"0\" cy=\"0\" r=\"3\" /><text class=\"lab lft\" transform=\"translate(-3 -7.0)\" /></g><g class=\"a22702376 c2 node n22702369\" transform=\"translate(4.36224 1.11967)\"><g class=\"a22702369 i126 leaf node n126 sample\" transform=\"translate(-2.90816 1.44143)\"><path class=\"edge\" d=\"M 0 0 V -1.44143 H 2.90816\" /><rect class=\"sym\" height=\"6\" width=\"6\" x=\"-3\" y=\"-3\" /><text class=\"lab\" transform=\"translate(0 11)\" /></g><g class=\"a22702369 c2 node n22702305\" transform=\"translate(2.90816 0.750186)\"><g class=\"a22702305 i116 leaf node n116 sample\" transform=\"translate(-1.93878 0.691242)\"><path class=\"edge\" d=\"M 0 0 V -0.691242 H 1.93878\" /><rect class=\"sym\" height=\"6\" width=\"6\" x=\"-3\" y=\"-3\" /><text class=\"lab\" transform=\"translate(0 11)\" /></g><g class=\"a22702305 i132 leaf node n132 sample\" transform=\"translate(1.93878 0.691242)\"><path class=\"edge\" d=\"M 0 0 V -0.691242 H -1.93878\" /><rect class=\"sym\" height=\"6\" width=\"6\" x=\"-3\" y=\"-3\" /><text class=\"lab\" transform=\"translate(0 11)\" /></g><path class=\"edge\" d=\"M 0 0 V -0.750186 H -2.90816\" /><circle class=\"sym\" cx=\"0\" cy=\"0\" r=\"3\" /><text class=\"lab rgt\" transform=\"translate(3 -7.0)\" /></g><path class=\"edge\" d=\"M 0 0 V -1.11967 H -4.36224\" /><circle class=\"sym\" cx=\"0\" cy=\"0\" r=\"3\" /><text class=\"lab rgt\" transform=\"translate(3 -7.0)\" /></g><path class=\"edge\" d=\"M 0 0 V -1.13527 H -7.51276\" /><circle class=\"sym\" cx=\"0\" cy=\"0\" r=\"3\" /><text class=\"lab rgt\" transform=\"translate(3 -7.0)\" /></g><path class=\"edge\" d=\"M 0 0 V -1.63122 H -7.14923\" /><circle class=\"sym\" cx=\"0\" cy=\"0\" r=\"3\" /><text class=\"lab rgt\" transform=\"translate(3 -7.0)\" /></g><path class=\"edge\" d=\"M 0 0 V -2.5825 H 21.3265\" /><circle class=\"sym\" cx=\"0\" cy=\"0\" r=\"3\" /><text class=\"lab lft\" transform=\"translate(-3 -7.0)\" /></g><g class=\"a22702424 c2 node n22702419\" transform=\"translate(21.3265 2.17171)\"><g class=\"a22702419 c2 node n22702378\" transform=\"translate(-11.5115 3.83848)\"><g class=\"a22702378 i128 leaf node n128 sample\" transform=\"translate(-3.39286 1.89991)\"><path class=\"edge\" d=\"M 0 0 V -1.89991 H 3.39286\" /><rect class=\"sym\" height=\"6\" width=\"6\" x=\"-3\" y=\"-3\" /><text class=\"lab\" transform=\"translate(0 11)\" /></g><g class=\"a22702378 c2 node n22702351\" transform=\"translate(3.39286 1.10275)\"><g class=\"a22702351 i120 leaf node n120 sample\" transform=\"translate(-2.90816 0.79716)\"><path class=\"edge\" d=\"M 0 0 V -0.79716 H 2.90816\" /><rect class=\"sym\" height=\"6\" width=\"6\" x=\"-3\" y=\"-3\" /><text class=\"lab\" transform=\"translate(0 11)\" /></g><g class=\"a22702351 c2 node n22702329\" transform=\"translate(2.90816 0.608908)\"><g class=\"a22702329 i59 leaf node n59 sample\" transform=\"translate(-1.93878 0.188253)\"><path class=\"edge\" d=\"M 0 0 V -0.188253 H 1.93878\" /><rect class=\"sym\" height=\"6\" width=\"6\" x=\"-3\" y=\"-3\" /><text class=\"lab\" transform=\"translate(0 11)\" /></g><g class=\"a22702329 i129 leaf node n129 sample\" transform=\"translate(1.93878 0.188253)\"><path class=\"edge\" d=\"M 0 0 V -0.188253 H -1.93878\" /><rect class=\"sym\" height=\"6\" width=\"6\" x=\"-3\" y=\"-3\" /><text class=\"lab\" transform=\"translate(0 11)\" /></g><path class=\"edge\" d=\"M 0 0 V -0.608908 H -2.90816\" /><circle class=\"sym\" cx=\"0\" cy=\"0\" r=\"3\" /><text class=\"lab rgt\" transform=\"translate(3 -7.0)\" /></g><path class=\"edge\" d=\"M 0 0 V -1.10275 H -3.39286\" /><circle class=\"sym\" cx=\"0\" cy=\"0\" r=\"3\" /><text class=\"lab rgt\" transform=\"translate(3 -7.0)\" /></g><path class=\"edge\" d=\"M 0 0 V -3.83848 H 11.5115\" /><circle class=\"sym\" cx=\"0\" cy=\"0\" r=\"3\" /><text class=\"lab lft\" transform=\"translate(-3 -7.0)\" /></g><g class=\"a22702419 c2 node n22702384\" transform=\"translate(11.5115 1.57979)\"><g class=\"a22702384 c2 node n22702370\" transform=\"translate(-7.51276 1.9514)\"><g class=\"a22702370 i60 leaf node n60 sample\" transform=\"translate(-3.39286 2.20719)\"><path class=\"edge\" d=\"M 0 0 V -2.20719 H 3.39286\" /><rect class=\"sym\" height=\"6\" width=\"6\" x=\"-3\" y=\"-3\" /><text class=\"lab\" transform=\"translate(0 11)\" /></g><g class=\"a22702370 c2 node n22702363\" transform=\"translate(3.39286 1.0352)\"><g class=\"a22702363 i53 leaf node n53 sample\" transform=\"translate(-2.90816 1.17199)\"><path class=\"edge\" d=\"M 0 0 V -1.17199 H 2.90816\" /><rect class=\"sym\" height=\"6\" width=\"6\" x=\"-3\" y=\"-3\" /><text class=\"lab\" transform=\"translate(0 11)\" /></g><g class=\"a22702363 c2 node n22702307\" transform=\"translate(2.90816 0.611464)\"><g class=\"a22702307 i22 leaf node n22 sample\" transform=\"translate(-1.93878 0.560527)\"><path class=\"edge\" d=\"M 0 0 V -0.560527 H 1.93878\" /><rect class=\"sym\" height=\"6\" width=\"6\" x=\"-3\" y=\"-3\" /><text class=\"lab\" transform=\"translate(0 11)\" /></g><g class=\"a22702307 i130 leaf node n130 sample\" transform=\"translate(1.93878 0.560527)\"><path class=\"edge\" d=\"M 0 0 V -0.560527 H -1.93878\" /><rect class=\"sym\" height=\"6\" width=\"6\" x=\"-3\" y=\"-3\" /><text class=\"lab\" transform=\"translate(0 11)\" /></g><path class=\"edge\" d=\"M 0 0 V -0.611464 H -2.90816\" /><circle class=\"sym\" cx=\"0\" cy=\"0\" r=\"3\" /><text class=\"lab rgt\" transform=\"translate(3 -7.0)\" /></g><path class=\"edge\" d=\"M 0 0 V -1.0352 H -3.39286\" /><circle class=\"sym\" cx=\"0\" cy=\"0\" r=\"3\" /><text class=\"lab rgt\" transform=\"translate(3 -7.0)\" /></g><path class=\"edge\" d=\"M 0 0 V -1.9514 H 7.51276\" /><circle class=\"sym\" cx=\"0\" cy=\"0\" r=\"3\" /><text class=\"lab lft\" transform=\"translate(-3 -7.0)\" /></g><g class=\"a22702384 c2 node n22702372\" transform=\"translate(7.51276 1.12813)\"><g class=\"a22702372 i123 leaf node n123 sample\" transform=\"translate(-2.90816 3.03047)\"><path class=\"edge\" d=\"M 0 0 V -3.03047 H 2.90816\" /><rect class=\"sym\" height=\"6\" width=\"6\" x=\"-3\" y=\"-3\" /><text class=\"lab\" transform=\"translate(0 11)\" /></g><g class=\"a22702372 c2 node n22702371\" transform=\"translate(2.90816 0.684738)\"><g class=\"a22702371 i18 leaf node n18 sample\" transform=\"translate(-1.93878 2.34573)\"><path class=\"edge\" d=\"M 0 0 V -2.34573 H 1.93878\" /><rect class=\"sym\" height=\"6\" width=\"6\" x=\"-3\" y=\"-3\" /><text class=\"lab\" transform=\"translate(0 11)\" /></g><g class=\"a22702371 i24 leaf node n24 sample\" transform=\"translate(1.93878 2.34573)\"><path class=\"edge\" d=\"M 0 0 V -2.34573 H -1.93878\" /><rect class=\"sym\" height=\"6\" width=\"6\" x=\"-3\" y=\"-3\" /><text class=\"lab\" transform=\"translate(0 11)\" /></g><path class=\"edge\" d=\"M 0 0 V -0.684738 H -2.90816\" /><circle class=\"sym\" cx=\"0\" cy=\"0\" r=\"3\" /><text class=\"lab rgt\" transform=\"translate(3 -7.0)\" /></g><path class=\"edge\" d=\"M 0 0 V -1.12813 H -7.51276\" /><circle class=\"sym\" cx=\"0\" cy=\"0\" r=\"3\" /><text class=\"lab rgt\" transform=\"translate(3 -7.0)\" /></g><path class=\"edge\" d=\"M 0 0 V -1.57979 H -11.5115\" /><circle class=\"sym\" cx=\"0\" cy=\"0\" r=\"3\" /><text class=\"lab rgt\" transform=\"translate(3 -7.0)\" /></g><path class=\"edge\" d=\"M 0 0 V -2.17171 H -21.3265\" /><circle class=\"sym\" cx=\"0\" cy=\"0\" r=\"3\" /><text class=\"lab rgt\" transform=\"translate(3 -7.0)\" /></g><path class=\"edge\" d=\"M 0 0 V -3.24289 H -16.1767\" /><g class=\"mut m1551425 s1579888 unknown_time\" transform=\"translate(0 -1.62145)\"><line x1=\"0\" x2=\"0\" y1=\"0\" y2=\"1.62145\" /><path class=\"sym\" d=\"M -3,-3 l 6,6 M -3,3 l 6,-6\" /><text class=\"lab rgt\" transform=\"translate(5 0)\">1551425</text></g><circle class=\"sym\" cx=\"0\" cy=\"0\" r=\"3\" /><text class=\"lab rgt\" transform=\"translate(3 -7.0)\" /></g><path class=\"edge\" d=\"M 0 0 V -1.59598 H -10.0271\" /><circle class=\"sym\" cx=\"0\" cy=\"0\" r=\"3\" /><text class=\"lab rgt\" transform=\"translate(3 -7.0)\" /></g><path class=\"edge\" d=\"M 0 0 V -3.20275 H 40.063\" /><circle class=\"sym\" cx=\"0\" cy=\"0\" r=\"3\" /><text class=\"lab lft\" transform=\"translate(-3 -7.0)\" /></g><g class=\"a22702472 c2 node n22702470\" transform=\"translate(40.063 11.346)\"><g class=\"a22702470 i64 leaf node n64 sample\" transform=\"translate(-4.84694 4.60571)\"><path class=\"edge\" d=\"M 0 0 V -4.60571 H 4.84694\" /><rect class=\"sym\" height=\"6\" width=\"6\" x=\"-3\" y=\"-3\" /><text class=\"lab\" transform=\"translate(0 11)\" /></g><g class=\"a22702470 c2 node n22702469\" transform=\"translate(4.84694 1.26441)\"><g class=\"a22702469 c2 node n22702295\" transform=\"translate(-3.87755 2.60355)\"><g class=\"a22702295 i54 leaf node n54 sample\" transform=\"translate(-1.93878 0.737752)\"><path class=\"edge\" d=\"M 0 0 V -0.737752 H 1.93878\" /><rect class=\"sym\" height=\"6\" width=\"6\" x=\"-3\" y=\"-3\" /><text class=\"lab\" transform=\"translate(0 11)\" /></g><g class=\"a22702295 i118 leaf node n118 sample\" transform=\"translate(1.93878 0.737752)\"><path class=\"edge\" d=\"M 0 0 V -0.737752 H -1.93878\" /><rect class=\"sym\" height=\"6\" width=\"6\" x=\"-3\" y=\"-3\" /><text class=\"lab\" transform=\"translate(0 11)\" /></g><path class=\"edge\" d=\"M 0 0 V -2.60355 H 3.87755\" /><circle class=\"sym\" cx=\"0\" cy=\"0\" r=\"3\" /><text class=\"lab lft\" transform=\"translate(-3 -7.0)\" /></g><g class=\"a22702469 c2 node n22702468\" transform=\"translate(3.87755 1.72257)\"><g class=\"a22702468 i63 leaf node n63 sample\" transform=\"translate(-1.93878 1.61873)\"><path class=\"edge\" d=\"M 0 0 V -1.61873 H 1.93878\" /><rect class=\"sym\" height=\"6\" width=\"6\" x=\"-3\" y=\"-3\" /><text class=\"lab\" transform=\"translate(0 11)\" /></g><g class=\"a22702468 i82 leaf node n82 sample\" transform=\"translate(1.93878 1.61873)\"><path class=\"edge\" d=\"M 0 0 V -1.61873 H -1.93878\" /><rect class=\"sym\" height=\"6\" width=\"6\" x=\"-3\" y=\"-3\" /><text class=\"lab\" transform=\"translate(0 11)\" /></g><path class=\"edge\" d=\"M 0 0 V -1.72257 H -3.87755\" /><circle class=\"sym\" cx=\"0\" cy=\"0\" r=\"3\" /><text class=\"lab rgt\" transform=\"translate(3 -7.0)\" /></g><path class=\"edge\" d=\"M 0 0 V -1.26441 H -4.84694\" /><circle class=\"sym\" cx=\"0\" cy=\"0\" r=\"3\" /><text class=\"lab rgt\" transform=\"translate(3 -7.0)\" /></g><path class=\"edge\" d=\"M 0 0 V -11.346 H -40.063\" /><circle class=\"sym\" cx=\"0\" cy=\"0\" r=\"3\" /><text class=\"lab rgt\" transform=\"translate(3 -7.0)\" /></g><path class=\"edge\" d=\"M 0 0 V -9.37583 H -41.7367\" /><circle class=\"sym\" cx=\"0\" cy=\"0\" r=\"3\" /><text class=\"lab rgt\" transform=\"translate(3 -7.0)\" /></g><path class=\"edge\" d=\"M 0 0 V -18.5977 H -31.5619\" /><g class=\"mut m1551407 s1579870 unknown_time\" transform=\"translate(0 -9.29884)\"><line x1=\"0\" x2=\"0\" y1=\"0\" y2=\"9.29884\" /><path class=\"sym\" d=\"M -3,-3 l 6,6 M -3,3 l 6,-6\" /><text class=\"lab rgt\" transform=\"translate(5 0)\">1551407</text></g><circle class=\"sym\" cx=\"0\" cy=\"0\" r=\"3\" /><text class=\"lab rgt\" transform=\"translate(3 -7.0)\" /></g><path class=\"edge\" d=\"M 0 0 V -14.0736 H -41.606\" /><circle class=\"sym\" cx=\"0\" cy=\"0\" r=\"3\" /><text class=\"lab rgt\" transform=\"translate(3 -7.0)\" /></g><path class=\"edge\" d=\"M 0 0 V -27.5608 H -62.2633\" /><circle class=\"sym\" cx=\"0\" cy=\"0\" r=\"3\" /><text class=\"lab rgt\" transform=\"translate(3 -7.0)\" /></g><path class=\"edge\" d=\"M 0 0 V -51.8165 H -43.5784\" /><circle class=\"sym\" cx=\"0\" cy=\"0\" r=\"3\" /><text class=\"lab rgt\" transform=\"translate(3 -7.0)\" /></g><path class=\"edge\" d=\"M 0 0 V -50.09 H -94.8019\" /><circle class=\"sym\" cx=\"0\" cy=\"0\" r=\"3\" /><text class=\"lab rgt\" transform=\"translate(3 -7.0)\" /></g><path class=\"edge\" d=\"M 0 0 V -53.4439 H 191.316\" /><circle class=\"sym\" cx=\"0\" cy=\"0\" r=\"3\" /><text class=\"lab lft\" transform=\"translate(-3 -7.0)\" /></g><g class=\"a22702484 c2 node n22702483\" transform=\"translate(191.316 223.792)\"><g class=\"a22702483 c2 node n22702403\" transform=\"translate(-9.5727 11.6993)\"><g class=\"a22702403 i88 leaf node n88 sample\" transform=\"translate(-2.90816 5.41825)\"><path class=\"edge\" d=\"M 0 0 V -5.41825 H 2.90816\" /><rect class=\"sym\" height=\"6\" width=\"6\" x=\"-3\" y=\"-3\" /><text class=\"lab\" transform=\"translate(0 11)\" /></g><g class=\"a22702403 c2 node n22702322\" transform=\"translate(2.90816 1.43123)\"><g class=\"a22702322 i15 leaf node n15 sample\" transform=\"translate(-1.93878 3.98702)\"><path class=\"edge\" d=\"M 0 0 V -3.98702 H 1.93878\" /><rect class=\"sym\" height=\"6\" width=\"6\" x=\"-3\" y=\"-3\" /><text class=\"lab\" transform=\"translate(0 11)\" /></g><g class=\"a22702322 i89 leaf node n89 sample\" transform=\"translate(1.93878 3.98702)\"><path class=\"edge\" d=\"M 0 0 V -3.98702 H -1.93878\" /><rect class=\"sym\" height=\"6\" width=\"6\" x=\"-3\" y=\"-3\" /><text class=\"lab\" transform=\"translate(0 11)\" /></g><path class=\"edge\" d=\"M 0 0 V -1.43123 H -2.90816\" /><circle class=\"sym\" cx=\"0\" cy=\"0\" r=\"3\" /><text class=\"lab rgt\" transform=\"translate(3 -7.0)\" /></g><path class=\"edge\" d=\"M 0 0 V -11.6993 H 9.5727\" /><circle class=\"sym\" cx=\"0\" cy=\"0\" r=\"3\" /><text class=\"lab lft\" transform=\"translate(-3 -7.0)\" /></g><g class=\"a22702483 c2 node n22702482\" transform=\"translate(9.5727 7.64118)\"><g class=\"a22702482 c2 node n22702467\" transform=\"translate(-7.51276 6.93987)\"><g class=\"a22702467 i102 leaf node n102 sample\" transform=\"translate(-2.90816 2.53652)\"><path class=\"edge\" d=\"M 0 0 V -2.53652 H 2.90816\" /><rect class=\"sym\" height=\"6\" width=\"6\" x=\"-3\" y=\"-3\" /><text class=\"lab\" transform=\"translate(0 11)\" /></g><g class=\"a22702467 c2 node n22702339\" transform=\"translate(2.90816 1.79065)\"><g class=\"a22702339 i36 leaf node n36 sample\" transform=\"translate(-1.93878 0.74587)\"><path class=\"edge\" d=\"M 0 0 V -0.74587 H 1.93878\" /><rect class=\"sym\" height=\"6\" width=\"6\" x=\"-3\" y=\"-3\" /><text class=\"lab\" transform=\"translate(0 11)\" /></g><g class=\"a22702339 i40 leaf node n40 sample\" transform=\"translate(1.93878 0.74587)\"><path class=\"edge\" d=\"M 0 0 V -0.74587 H -1.93878\" /><rect class=\"sym\" height=\"6\" width=\"6\" x=\"-3\" y=\"-3\" /><text class=\"lab\" transform=\"translate(0 11)\" /></g><path class=\"edge\" d=\"M 0 0 V -1.79065 H -2.90816\" /><circle class=\"sym\" cx=\"0\" cy=\"0\" r=\"3\" /><text class=\"lab rgt\" transform=\"translate(3 -7.0)\" /></g><path class=\"edge\" d=\"M 0 0 V -6.93987 H 7.51276\" /><circle class=\"sym\" cx=\"0\" cy=\"0\" r=\"3\" /><text class=\"lab lft\" transform=\"translate(-3 -7.0)\" /></g><g class=\"a22702482 c2 node n22702481\" transform=\"translate(7.51276 3.96987)\"><g class=\"a22702481 c2 node n22702325\" transform=\"translate(-4.36224 0.889303)\"><g class=\"a22702325 i38 leaf node n38 sample\" transform=\"translate(-1.93878 4.61722)\"><path class=\"edge\" d=\"M 0 0 V -4.61722 H 1.93878\" /><rect class=\"sym\" height=\"6\" width=\"6\" x=\"-3\" y=\"-3\" /><text class=\"lab\" transform=\"translate(0 11)\" /></g><g class=\"a22702325 i103 leaf node n103 sample\" transform=\"translate(1.93878 4.61722)\"><path class=\"edge\" d=\"M 0 0 V -4.61722 H -1.93878\" /><rect class=\"sym\" height=\"6\" width=\"6\" x=\"-3\" y=\"-3\" /><text class=\"lab\" transform=\"translate(0 11)\" /></g><path class=\"edge\" d=\"M 0 0 V -0.889303 H 4.36224\" /><circle class=\"sym\" cx=\"0\" cy=\"0\" r=\"3\" /><text class=\"lab lft\" transform=\"translate(-3 -7.0)\" /></g><g class=\"a22702481 c2 node n22702480\" transform=\"translate(4.36224 1.5694)\"><g class=\"a22702480 i109 leaf node n109 sample\" transform=\"translate(-2.90816 3.93712)\"><path class=\"edge\" d=\"M 0 0 V -3.93712 H 2.90816\" /><rect class=\"sym\" height=\"6\" width=\"6\" x=\"-3\" y=\"-3\" /><text class=\"lab\" transform=\"translate(0 11)\" /></g><g class=\"a22702480 c2 node n22702466\" transform=\"translate(2.90816 1.46561)\"><g class=\"a22702466 i94 leaf node n94 sample\" transform=\"translate(-1.93878 2.47151)\"><path class=\"edge\" d=\"M 0 0 V -2.47151 H 1.93878\" /><rect class=\"sym\" height=\"6\" width=\"6\" x=\"-3\" y=\"-3\" /><text class=\"lab\" transform=\"translate(0 11)\" /></g><g class=\"a22702466 i98 leaf node n98 sample\" transform=\"translate(1.93878 2.47151)\"><path class=\"edge\" d=\"M 0 0 V -2.47151 H -1.93878\" /><rect class=\"sym\" height=\"6\" width=\"6\" x=\"-3\" y=\"-3\" /><text class=\"lab\" transform=\"translate(0 11)\" /></g><path class=\"edge\" d=\"M 0 0 V -1.46561 H -2.90816\" /><circle class=\"sym\" cx=\"0\" cy=\"0\" r=\"3\" /><text class=\"lab rgt\" transform=\"translate(3 -7.0)\" /></g><path class=\"edge\" d=\"M 0 0 V -1.5694 H -4.36224\" /><circle class=\"sym\" cx=\"0\" cy=\"0\" r=\"3\" /><text class=\"lab rgt\" transform=\"translate(3 -7.0)\" /></g><path class=\"edge\" d=\"M 0 0 V -3.96987 H -7.51276\" /><circle class=\"sym\" cx=\"0\" cy=\"0\" r=\"3\" /><text class=\"lab rgt\" transform=\"translate(3 -7.0)\" /></g><path class=\"edge\" d=\"M 0 0 V -7.64118 H -9.5727\" /><circle class=\"sym\" cx=\"0\" cy=\"0\" r=\"3\" /><text class=\"lab rgt\" transform=\"translate(3 -7.0)\" /></g><path class=\"edge\" d=\"M 0 0 V -223.792 H -191.316\" /><circle class=\"sym\" cx=\"0\" cy=\"0\" r=\"3\" /><text class=\"lab rgt\" transform=\"translate(3 -7.0)\" /></g><path class=\"edge\" d=\"M 0 0 V -200.49 H -264.352\" /><g class=\"mut m1551386 s1579848 unknown_time\" transform=\"translate(0 -100.245)\"><line x1=\"0\" x2=\"0\" y1=\"0\" y2=\"100.245\" /><path class=\"sym\" d=\"M -3,-3 l 6,6 M -3,3 l 6,-6\" /><text class=\"lab rgt\" transform=\"translate(5 0)\">1551386</text></g><circle class=\"sym\" cx=\"0\" cy=\"0\" r=\"3\" /><text class=\"lab rgt\" transform=\"translate(3 -7.0)\" /></g><circle class=\"sym\" cx=\"0\" cy=\"0\" r=\"3\" /><text class=\"lab\" transform=\"translate(0 -11)\" /></g></g></g></svg>'"
      ]
     },
     "execution_count": 17,
     "metadata": {},
     "output_type": "execute_result"
    }
   ],
   "source": [
    "test_tree.draw_svg(size=(800,500), node_labels=d_east_mapping, order=\"tree\")"
   ]
  },
  {
   "cell_type": "code",
   "execution_count": 18,
   "metadata": {},
   "outputs": [],
   "source": [
    "# Setup based on poplabels\n",
    "i_mapping = {}\n",
    "for i, row in poplabels.iterrows():\n",
    "    i_mapping[i*2] = row.GROUP\n",
    "    i_mapping[i*2+1] = row.GROUP\n",
    "poplabel_counts = poplabels[\"GROUP\"].value_counts().to_dict()\n",
    "highest_ID = poplabels.index.max()*2+1"
   ]
  },
  {
   "cell_type": "code",
   "execution_count": 19,
   "metadata": {},
   "outputs": [
    {
     "data": {
      "text/plain": [
       "93"
      ]
     },
     "execution_count": 19,
     "metadata": {},
     "output_type": "execute_result"
    }
   ],
   "source": [
    "poplabels.loc[poplabels.ID == \"PD_0788\"].index.values[0]"
   ]
  },
  {
   "cell_type": "code",
   "execution_count": 20,
   "metadata": {},
   "outputs": [
    {
     "data": {
      "text/plain": [
       "{0: 'Eastern Yellow',\n",
       " 1: 'Eastern Yellow',\n",
       " 2: 'Eastern Yellow',\n",
       " 3: 'Eastern Yellow',\n",
       " 4: 'Kindae',\n",
       " 5: 'Kindae',\n",
       " 6: 'Kindae',\n",
       " 7: 'Kindae',\n",
       " 8: 'Hamadryas',\n",
       " 9: 'Hamadryas',\n",
       " 10: 'Tanzanian Olive',\n",
       " 11: 'Tanzanian Olive',\n",
       " 12: 'Tanzanian Olive',\n",
       " 13: 'Tanzanian Olive',\n",
       " 14: 'Tanzanian Olive',\n",
       " 15: 'Tanzanian Olive',\n",
       " 16: 'Tanzanian Olive',\n",
       " 17: 'Tanzanian Olive',\n",
       " 18: 'Tanzanian Olive',\n",
       " 19: 'Tanzanian Olive',\n",
       " 20: 'Tanzanian Olive',\n",
       " 21: 'Tanzanian Olive',\n",
       " 22: 'Tanzanian Olive',\n",
       " 23: 'Tanzanian Olive',\n",
       " 24: 'Tanzanian Olive',\n",
       " 25: 'Tanzanian Olive',\n",
       " 26: 'Tanzanian Olive',\n",
       " 27: 'Tanzanian Olive',\n",
       " 28: 'Tanzanian Olive',\n",
       " 29: 'Tanzanian Olive',\n",
       " 30: 'Eastern Yellow',\n",
       " 31: 'Eastern Yellow',\n",
       " 32: 'Eastern Yellow',\n",
       " 33: 'Eastern Yellow',\n",
       " 34: 'Eastern Yellow',\n",
       " 35: 'Eastern Yellow',\n",
       " 36: 'Tanzanian Olive',\n",
       " 37: 'Tanzanian Olive',\n",
       " 38: 'Tanzanian Olive',\n",
       " 39: 'Tanzanian Olive',\n",
       " 40: 'Tanzanian Olive',\n",
       " 41: 'Tanzanian Olive',\n",
       " 42: 'Eastern Yellow',\n",
       " 43: 'Eastern Yellow',\n",
       " 44: 'Eastern Yellow',\n",
       " 45: 'Eastern Yellow',\n",
       " 46: 'Eastern Yellow',\n",
       " 47: 'Eastern Yellow',\n",
       " 48: 'Western Yellow',\n",
       " 49: 'Western Yellow',\n",
       " 50: 'Eastern Yellow',\n",
       " 51: 'Eastern Yellow',\n",
       " 52: 'Tanzanian Olive',\n",
       " 53: 'Tanzanian Olive',\n",
       " 54: 'Tanzanian Olive',\n",
       " 55: 'Tanzanian Olive',\n",
       " 56: 'Tanzanian Olive',\n",
       " 57: 'Tanzanian Olive',\n",
       " 58: 'Tanzanian Olive',\n",
       " 59: 'Tanzanian Olive',\n",
       " 60: 'Tanzanian Olive',\n",
       " 61: 'Tanzanian Olive',\n",
       " 62: 'Tanzanian Olive',\n",
       " 63: 'Tanzanian Olive',\n",
       " 64: 'Tanzanian Olive',\n",
       " 65: 'Tanzanian Olive',\n",
       " 66: 'Eastern Yellow',\n",
       " 67: 'Eastern Yellow',\n",
       " 68: 'Eastern Yellow',\n",
       " 69: 'Eastern Yellow',\n",
       " 70: 'Eastern Yellow',\n",
       " 71: 'Eastern Yellow',\n",
       " 72: 'Papio',\n",
       " 73: 'Papio',\n",
       " 74: 'Papio',\n",
       " 75: 'Papio',\n",
       " 76: 'Papio',\n",
       " 77: 'Papio',\n",
       " 78: 'Papio',\n",
       " 79: 'Papio',\n",
       " 80: 'Papio',\n",
       " 81: 'Papio',\n",
       " 82: 'Tanzanian Olive',\n",
       " 83: 'Tanzanian Olive',\n",
       " 84: 'Tanzanian Olive',\n",
       " 85: 'Tanzanian Olive',\n",
       " 86: 'Tanzanian Olive',\n",
       " 87: 'Tanzanian Olive',\n",
       " 88: 'Tanzanian Olive',\n",
       " 89: 'Tanzanian Olive',\n",
       " 90: 'Tanzanian Olive',\n",
       " 91: 'Tanzanian Olive',\n",
       " 92: 'Eastern Yellow',\n",
       " 93: 'Eastern Yellow',\n",
       " 94: 'Tanzanian Olive',\n",
       " 95: 'Tanzanian Olive',\n",
       " 96: 'Tanzanian Olive',\n",
       " 97: 'Tanzanian Olive',\n",
       " 98: 'Tanzanian Olive',\n",
       " 99: 'Tanzanian Olive',\n",
       " 100: 'Tanzanian Olive',\n",
       " 101: 'Tanzanian Olive',\n",
       " 102: 'Tanzanian Olive',\n",
       " 103: 'Tanzanian Olive',\n",
       " 104: 'Tanzanian Olive',\n",
       " 105: 'Tanzanian Olive',\n",
       " 106: 'Tanzanian Olive',\n",
       " 107: 'Tanzanian Olive',\n",
       " 108: 'Tanzanian Olive',\n",
       " 109: 'Tanzanian Olive',\n",
       " 110: 'Western Yellow',\n",
       " 111: 'Western Yellow',\n",
       " 112: 'Western Yellow',\n",
       " 113: 'Western Yellow',\n",
       " 114: 'Tanzanian Olive',\n",
       " 115: 'Tanzanian Olive',\n",
       " 116: 'Tanzanian Olive',\n",
       " 117: 'Tanzanian Olive',\n",
       " 118: 'Tanzanian Olive',\n",
       " 119: 'Tanzanian Olive',\n",
       " 120: 'Tanzanian Olive',\n",
       " 121: 'Tanzanian Olive',\n",
       " 122: 'Tanzanian Olive',\n",
       " 123: 'Tanzanian Olive',\n",
       " 124: 'Tanzanian Olive',\n",
       " 125: 'Tanzanian Olive',\n",
       " 126: 'Tanzanian Olive',\n",
       " 127: 'Tanzanian Olive',\n",
       " 128: 'Tanzanian Olive',\n",
       " 129: 'Tanzanian Olive',\n",
       " 130: 'Tanzanian Olive',\n",
       " 131: 'Tanzanian Olive',\n",
       " 132: 'Tanzanian Olive',\n",
       " 133: 'Tanzanian Olive',\n",
       " 134: 'Chacma',\n",
       " 135: 'Chacma',\n",
       " 136: 'Chacma',\n",
       " 137: 'Chacma',\n",
       " 138: 'Chacma',\n",
       " 139: 'Chacma',\n",
       " 140: 'Hamadryas',\n",
       " 141: 'Hamadryas',\n",
       " 142: 'Hamadryas',\n",
       " 143: 'Hamadryas',\n",
       " 144: 'Hamadryas',\n",
       " 145: 'Hamadryas',\n",
       " 146: 'Hamadryas',\n",
       " 147: 'Hamadryas',\n",
       " 148: 'Hamadryas',\n",
       " 149: 'Hamadryas',\n",
       " 150: 'Ethiopian Olive',\n",
       " 151: 'Ethiopian Olive',\n",
       " 152: 'Ethiopian Olive',\n",
       " 153: 'Ethiopian Olive',\n",
       " 154: 'Ethiopian Olive',\n",
       " 155: 'Ethiopian Olive',\n",
       " 156: 'Ethiopian Olive',\n",
       " 157: 'Ethiopian Olive',\n",
       " 158: 'Ethiopian Olive',\n",
       " 159: 'Ethiopian Olive',\n",
       " 160: 'Ethiopian Olive',\n",
       " 161: 'Ethiopian Olive',\n",
       " 162: 'Ethiopian Olive',\n",
       " 163: 'Ethiopian Olive',\n",
       " 164: 'Ethiopian Olive',\n",
       " 165: 'Ethiopian Olive',\n",
       " 166: 'Eastern Yellow',\n",
       " 167: 'Eastern Yellow',\n",
       " 168: 'Eastern Yellow',\n",
       " 169: 'Eastern Yellow',\n",
       " 170: 'Kindae',\n",
       " 171: 'Kindae',\n",
       " 172: 'Eastern Yellow',\n",
       " 173: 'Eastern Yellow',\n",
       " 174: 'Eastern Yellow',\n",
       " 175: 'Eastern Yellow',\n",
       " 176: 'Eastern Yellow',\n",
       " 177: 'Eastern Yellow',\n",
       " 178: 'Eastern Yellow',\n",
       " 179: 'Eastern Yellow',\n",
       " 180: 'Eastern Yellow',\n",
       " 181: 'Eastern Yellow',\n",
       " 182: 'Eastern Yellow',\n",
       " 183: 'Eastern Yellow',\n",
       " 184: 'Kindae',\n",
       " 185: 'Kindae',\n",
       " 186: 'Kindae',\n",
       " 187: 'Kindae',\n",
       " 188: 'Kindae',\n",
       " 189: 'Kindae',\n",
       " 190: 'Kindae',\n",
       " 191: 'Kindae',\n",
       " 192: 'Kindae',\n",
       " 193: 'Kindae',\n",
       " 194: 'Kindae',\n",
       " 195: 'Kindae'}"
      ]
     },
     "execution_count": 20,
     "metadata": {},
     "output_type": "execute_result"
    }
   ],
   "source": [
    "i_mapping"
   ]
  },
  {
   "cell_type": "code",
   "execution_count": 23,
   "metadata": {},
   "outputs": [],
   "source": [
    "highest_ID = poplabels.index.max()*2+1"
   ]
  },
  {
   "cell_type": "code",
   "execution_count": 24,
   "metadata": {},
   "outputs": [
    {
     "name": "stdout",
     "output_type": "stream",
     "text": [
      "7\n",
      "5\n",
      "2\n"
     ]
    }
   ],
   "source": [
    "lowest_depth = test_tree.depth(0)\n",
    "for i in range(highest_ID):\n",
    "    current_node = i\n",
    "    if lowest_depth > test_tree.depth(current_node):\n",
    "        lowest_depth = test_tree.depth(current_node)\n",
    "        print(lowest_depth)"
   ]
  },
  {
   "cell_type": "code",
   "execution_count": 25,
   "metadata": {},
   "outputs": [],
   "source": [
    "# Version which uses first coalescence\n",
    "def naive_coalescence_ordering(tree, IDs, sample_counts):\n",
    "    df_list = []\n",
    "    for i in IDs:\n",
    "        pop_list = []\n",
    "        gen_list = []\n",
    "        current_node = i\n",
    "        while test_tree.depth(current_node) > 0:\n",
    "            # Find parent node\n",
    "            parent_node = test_tree.parent(current_node)\n",
    "            # Determine children, and then pick alternate\n",
    "            # cannot find a method for this, so I use an explicit if/else\n",
    "            children = test_tree.children(parent_node)\n",
    "            if current_node == children[0]:\n",
    "                alt_node = children[1]\n",
    "            else:\n",
    "                alt_node = children[0]\n",
    "            # Determine which populations are present under the alternate node\n",
    "            alt_samples = pd.Series([x for x in test_tree.samples(alt_node)])\n",
    "            set_of_pops = set(alt_samples.map(i_mapping))\n",
    "            # If pop is not already added to list, add pop and note coal time\n",
    "            for p in set_of_pops:\n",
    "                if p  not in pop_list:\n",
    "                    pop_list.append(p)\n",
    "                    gen_list.append(test_tree.time(current_node))\n",
    "            current_node = parent_node\n",
    "        d = {\"ID\": i, \"sites\": tree.num_sites, \"span\": tree.span, \"start\": tree.interval[0]}\n",
    "        for i in range(len(pop_list)):\n",
    "            d[\"coal_{}\".format(i)] = pop_list[i]\n",
    "        for i in range(len(gen_list)):\n",
    "            d[\"coal_date_{}\".format(i)] = gen_list[i]\n",
    "        df_list.append(pd.DataFrame(d, index=[i]))\n",
    "    return pd.concat(df_list)"
   ]
  },
  {
   "cell_type": "code",
   "execution_count": 26,
   "metadata": {},
   "outputs": [],
   "source": [
    "# Version which counts number of samples, and only notes as coalescence if over 50 % of pop is coalesced.\n",
    "def coalescence_ordering(tree, IDs, sample_counts):\n",
    "    df_list = []\n",
    "    for i in IDs:\n",
    "        pop_list = []\n",
    "        gen_list = []\n",
    "        coal_counts = {}\n",
    "        for p in sample_counts.index:\n",
    "            coal_counts[p] = 0\n",
    "        current_node = i\n",
    "        while tree.depth(current_node) > 0:\n",
    "            # Find parent node\n",
    "            parent_node = tree.parent(current_node)\n",
    "            # Determine children, and then pick alternate\n",
    "            # cannot find a method for this, so I use an explicit if/else\n",
    "            children = tree.children(parent_node)\n",
    "            if current_node == children[0]:\n",
    "                alt_node = children[1]\n",
    "            else:\n",
    "                alt_node = children[0]\n",
    "            # Determine which populations are present under the alternate node\n",
    "            alt_samples = pd.Series([x for x in tree.samples(alt_node)])\n",
    "            alt_sample_counts = alt_samples.map(i_mapping).value_counts()\n",
    "            for p in alt_sample_counts.index:\n",
    "                coal_counts[p] += alt_sample_counts[p]\n",
    "            # If pop is not already added to list, add pop and note coal time\n",
    "            for p in alt_sample_counts.index:\n",
    "                if p  not in pop_list and coal_counts[p] > sample_counts[p]/2:\n",
    "                    pop_list.append(p)\n",
    "                    gen_list.append(tree.time(current_node))\n",
    "            current_node = parent_node\n",
    "        d = {\"ID\": i, \"sites\": tree.num_sites, \"span\": tree.span, \"start\": tree.interval[0]}\n",
    "        for i in range(len(pop_list)):\n",
    "            d[\"coal_{}\".format(i)] = pop_list[i]\n",
    "        for i in range(len(gen_list)):\n",
    "            d[\"coal_date_{}\".format(i)] = gen_list[i]\n",
    "        df_list.append(pd.DataFrame(d, index=[i]))\n",
    "    return pd.concat(df_list)"
   ]
  },
  {
   "cell_type": "code",
   "execution_count": 27,
   "metadata": {},
   "outputs": [
    {
     "data": {
      "text/plain": [
       "[100, 101]"
      ]
     },
     "execution_count": 27,
     "metadata": {},
     "output_type": "execute_result"
    }
   ],
   "source": [
    "list(i_mapping.keys())[100:102]"
   ]
  },
  {
   "cell_type": "code",
   "execution_count": 28,
   "metadata": {},
   "outputs": [
    {
     "name": "stdout",
     "output_type": "stream",
     "text": [
      "305 ms ± 4.13 ms per loop (mean ± std. dev. of 7 runs, 10 loops each)\n"
     ]
    }
   ],
   "source": [
    "%%timeit -n 10\n",
    "c = 0\n",
    "ID_list = list(i_mapping.keys())[10:12]\n",
    "sample_counts = poplabels[\"GROUP\"].value_counts()*2\n",
    "for tree in ts.trees():\n",
    "    if c >= 1:\n",
    "        break\n",
    "    df = naive_coalescence_ordering(tree, ID_list, sample_counts)\n",
    "    c += 1"
   ]
  },
  {
   "cell_type": "code",
   "execution_count": 29,
   "metadata": {},
   "outputs": [
    {
     "name": "stdout",
     "output_type": "stream",
     "text": [
      "308 ms ± 2.09 ms per loop (mean ± std. dev. of 7 runs, 10 loops each)\n"
     ]
    }
   ],
   "source": [
    "%%timeit -n 10\n",
    "c = 0\n",
    "ID_list = list(i_mapping.keys())[10:12]\n",
    "sample_counts = poplabels[\"GROUP\"].value_counts()*2\n",
    "for tree in ts.trees():\n",
    "    if c >= 1:\n",
    "        break\n",
    "    df = coalescence_ordering(tree, ID_list, sample_counts)\n",
    "    c += 1"
   ]
  },
  {
   "cell_type": "code",
   "execution_count": 31,
   "metadata": {},
   "outputs": [
    {
     "name": "stdout",
     "output_type": "stream",
     "text": [
      "0\n",
      "2500\n",
      "5000\n",
      "7500\n",
      "10000\n",
      "12500\n",
      "15000\n",
      "17500\n",
      "20000\n",
      "22500\n",
      "25000\n",
      "27500\n",
      "30000\n",
      "32500\n",
      "35000\n",
      "37500\n",
      "40000\n",
      "42500\n",
      "45000\n",
      "47500\n",
      "50000\n",
      "52500\n",
      "55000\n",
      "57500\n",
      "60000\n",
      "62500\n",
      "65000\n",
      "67500\n",
      "70000\n",
      "72500\n",
      "75000\n",
      "77500\n",
      "80000\n",
      "82500\n",
      "85000\n",
      "87500\n",
      "90000\n",
      "92500\n",
      "95000\n",
      "97500\n",
      "100000\n",
      "102500\n",
      "105000\n",
      "107500\n",
      "110000\n",
      "112500\n",
      "115000\n",
      "117500\n"
     ]
    }
   ],
   "source": [
    "c = 0\n",
    "ID_list = list(i_mapping.keys())[10:12]\n",
    "sample_counts = poplabels[\"GROUP\"].value_counts()*2\n",
    "df_list = []\n",
    "for tree in ts.trees():\n",
    "    df = coalescence_ordering(tree, ID_list, sample_counts)\n",
    "    if c % 2500 == 0:\n",
    "        print(c)\n",
    "    c += 1\n",
    "    df_list.append(df)\n",
    "test_df = pd.concat(df_list)"
   ]
  },
  {
   "cell_type": "markdown",
   "metadata": {},
   "source": [
    "Reading in the df from the analysis workflow."
   ]
  },
  {
   "cell_type": "code",
   "execution_count": null,
   "metadata": {},
   "outputs": [
    {
     "name": "stdout",
     "output_type": "stream",
     "text": [
      "../steps/relate_coal_ordering/PD_0272.txt\n",
      "../steps/relate_coal_ordering/PD_0737.txt\n",
      "../steps/relate_coal_ordering/PD_0730.txt\n",
      "../steps/relate_coal_ordering/PD_0209.txt\n",
      "../steps/relate_coal_ordering/PD_0503.txt\n",
      "../steps/relate_coal_ordering/PD_0745.txt\n",
      "../steps/relate_coal_ordering/PD_0200.txt\n",
      "../steps/relate_coal_ordering/PD_0770.txt\n",
      "../steps/relate_coal_ordering/PD_0685.txt\n",
      "../steps/relate_coal_ordering/PD_0232.txt\n",
      "../steps/relate_coal_ordering/PD_0653.txt\n",
      "../steps/relate_coal_ordering/PD_0682.txt\n",
      "../steps/relate_coal_ordering/PD_0240.txt\n",
      "../steps/relate_coal_ordering/PD_0693.txt\n",
      "../steps/relate_coal_ordering/PD_0199.txt\n",
      "../steps/relate_coal_ordering/PD_0694.txt\n",
      "../steps/relate_coal_ordering/PD_0224.txt\n"
     ]
    }
   ],
   "source": [
    "import glob\n",
    "df_l = []\n",
    "for p in glob.glob(\"../steps/relate_coal_ordering/PD*\"):\n",
    "    print(p)\n",
    "    df_l.append(pd.read_csv(p))\n",
    "full_df = pd.concat(df_l)"
   ]
  },
  {
   "cell_type": "code",
   "execution_count": null,
   "metadata": {},
   "outputs": [],
   "source": [
    "full_df"
   ]
  },
  {
   "cell_type": "code",
   "execution_count": null,
   "metadata": {},
   "outputs": [],
   "source": [
    "full_df.loc[full_df.sites == full_df.sites.max()]"
   ]
  },
  {
   "cell_type": "code",
   "execution_count": null,
   "metadata": {},
   "outputs": [],
   "source": [
    "ts.at(140195283).draw_svg(size=(800,500), node_labels=d_to_mapping, order=\"tree\")"
   ]
  },
  {
   "cell_type": "code",
   "execution_count": null,
   "metadata": {},
   "outputs": [],
   "source": [
    "sns.histplot(data=full_df, x=\"coal_date_0\", hue=\"coal_0\")"
   ]
  },
  {
   "cell_type": "code",
   "execution_count": null,
   "metadata": {},
   "outputs": [],
   "source": [
    "sns.histplot(data=full_df, x=\"sites\")"
   ]
  },
  {
   "cell_type": "code",
   "execution_count": null,
   "metadata": {},
   "outputs": [],
   "source": [
    "subset_df = full_df.loc[(full_df.sites > 30) & (full_df.ID == 10)]\n",
    "id_df = full_df.loc[(full_df.ID == 10)]"
   ]
  },
  {
   "cell_type": "code",
   "execution_count": null,
   "metadata": {},
   "outputs": [],
   "source": [
    "id_df"
   ]
  },
  {
   "cell_type": "code",
   "execution_count": null,
   "metadata": {},
   "outputs": [],
   "source": [
    "subset_df"
   ]
  },
  {
   "cell_type": "code",
   "execution_count": null,
   "metadata": {},
   "outputs": [],
   "source": [
    "sns.scatterplot(data=subset_df, y=\"coal_date_0\", x=\"start\", hue=\"coal_0\")"
   ]
  },
  {
   "cell_type": "code",
   "execution_count": null,
   "metadata": {
    "scrolled": true
   },
   "outputs": [],
   "source": [
    "tree.draw_svg(size=(800,500), node_labels=d_k_mapping, order=\"tree\")"
   ]
  },
  {
   "cell_type": "code",
   "execution_count": null,
   "metadata": {},
   "outputs": [],
   "source": [
    "for current_node in test_tree.nodes(i):\n",
    "    print(current_node)"
   ]
  }
 ],
 "metadata": {
  "kernelspec": {
   "display_name": "Python 3 (ipykernel)",
   "language": "python",
   "name": "python3"
  },
  "language_info": {
   "codemirror_mode": {
    "name": "ipython",
    "version": 3
   },
   "file_extension": ".py",
   "mimetype": "text/x-python",
   "name": "python",
   "nbconvert_exporter": "python",
   "pygments_lexer": "ipython3",
   "version": "3.8.17"
  }
 },
 "nbformat": 4,
 "nbformat_minor": 4
}
